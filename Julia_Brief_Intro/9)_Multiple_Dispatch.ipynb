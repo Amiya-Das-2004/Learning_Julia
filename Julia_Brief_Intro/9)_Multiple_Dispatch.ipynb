{
 "cells": [
  {
   "cell_type": "markdown",
   "id": "65d8d9b0",
   "metadata": {},
   "source": [
    "### MULTIPLE DISPATCH\n",
    "\n",
    "In this notebook we'll explore multiple dispatch, which is a key feature of Julia.\n",
    "\n",
    "multiple dispatch makes softwares:\n",
    "    fast\n",
    "    extensible\n",
    "    programmable\n",
    "    fun to play with\n",
    "\n",
    "To understand and illustrate multiple dispatch in Julia, let's take a look at the + operator.\n",
    "\n",
    "By calling meathods() on +, we can see how many existing definitions we have for +"
   ]
  },
  {
   "cell_type": "code",
   "execution_count": null,
   "id": "b5cf8f52",
   "metadata": {},
   "outputs": [],
   "source": [
    "methods(+)"
   ]
  },
  {
   "cell_type": "markdown",
   "id": "83fd9ade",
   "metadata": {},
   "source": [
    "We can use the @which macro to learn which meathod we are using when we call +.\n",
    "\n",
    "Different meathods are used in each of the next three example"
   ]
  },
  {
   "cell_type": "code",
   "execution_count": 2,
   "id": "671e2b22",
   "metadata": {},
   "outputs": [
    {
     "data": {
      "text/html": [
       "+(x::<b>T</b>, y::<b>T</b>)<i> where T<:Union{Int128, Int16, Int32, Int64, Int8, UInt128, UInt16, UInt32, UInt64, UInt8}</i> in Base at <a href=\"https://github.com/JuliaLang/julia/tree/0b4590a5507d3f3046e5bafc007cacbbfc9b310b/base/int.jl#L87\" target=\"_blank\">int.jl:87</a>"
      ],
      "text/plain": [
       "+(\u001b[90mx\u001b[39m::\u001b[1mT\u001b[22m, \u001b[90my\u001b[39m::\u001b[1mT\u001b[22m) where T<:Union{Int128, Int16, Int32, Int64, Int8, UInt128, UInt16, UInt32, UInt64, UInt8}\n",
       "\u001b[90m     @\u001b[39m \u001b[90mBase\u001b[39m \u001b[90m\u001b[4mint.jl:87\u001b[24m\u001b[39m"
      ]
     },
     "metadata": {},
     "output_type": "display_data"
    }
   ],
   "source": [
    "@which 3 + 3"
   ]
  },
  {
   "cell_type": "code",
   "execution_count": 3,
   "id": "5ebb6a88",
   "metadata": {},
   "outputs": [
    {
     "data": {
      "text/html": [
       "+(x::<b>T</b>, y::<b>T</b>)<i> where T<:Union{Float16, Float32, Float64}</i> in Base at <a href=\"https://github.com/JuliaLang/julia/tree/0b4590a5507d3f3046e5bafc007cacbbfc9b310b/base/float.jl#L409\" target=\"_blank\">float.jl:409</a>"
      ],
      "text/plain": [
       "+(\u001b[90mx\u001b[39m::\u001b[1mT\u001b[22m, \u001b[90my\u001b[39m::\u001b[1mT\u001b[22m) where T<:Union{Float16, Float32, Float64}\n",
       "\u001b[90m     @\u001b[39m \u001b[90mBase\u001b[39m \u001b[90m\u001b[4mfloat.jl:409\u001b[24m\u001b[39m"
      ]
     },
     "metadata": {},
     "output_type": "display_data"
    }
   ],
   "source": [
    "@which 0.3 + 0.3"
   ]
  },
  {
   "cell_type": "code",
   "execution_count": 4,
   "id": "44d3f9bc",
   "metadata": {},
   "outputs": [
    {
     "data": {
      "text/html": [
       "+(x::<b>Number</b>, y::<b>Number</b>) in Base at <a href=\"https://github.com/JuliaLang/julia/tree/0b4590a5507d3f3046e5bafc007cacbbfc9b310b/base/promotion.jl#L422\" target=\"_blank\">promotion.jl:422</a>"
      ],
      "text/plain": [
       "+(\u001b[90mx\u001b[39m::\u001b[1mNumber\u001b[22m, \u001b[90my\u001b[39m::\u001b[1mNumber\u001b[22m)\n",
       "\u001b[90m     @\u001b[39m \u001b[90mBase\u001b[39m \u001b[90m\u001b[4mpromotion.jl:422\u001b[24m\u001b[39m"
      ]
     },
     "metadata": {},
     "output_type": "display_data"
    }
   ],
   "source": [
    "@which 3 + 0.3"
   ]
  },
  {
   "cell_type": "markdown",
   "id": "72adbf44",
   "metadata": {},
   "source": [
    "Furthermore, we can extend + by defining new methods for it.\n",
    "\n",
    "First we need to import + from Base."
   ]
  },
  {
   "cell_type": "code",
   "execution_count": 1,
   "id": "7033a5e2",
   "metadata": {},
   "outputs": [],
   "source": [
    "import Base: +"
   ]
  },
  {
   "cell_type": "markdown",
   "id": "0f52b098",
   "metadata": {},
   "source": [
    "Let's say we want to concatenate strings using +. Without extention, this dosen't work."
   ]
  },
  {
   "cell_type": "code",
   "execution_count": 6,
   "id": "f8c8a388",
   "metadata": {},
   "outputs": [],
   "source": [
    "# @which \"hello \" + \"world!\""
   ]
  },
  {
   "cell_type": "markdown",
   "id": "b2ec5313",
   "metadata": {},
   "source": [
    "So we add a method for + that makes two string as input and concatenates them."
   ]
  },
  {
   "cell_type": "code",
   "execution_count": 7,
   "id": "cd8c5587",
   "metadata": {},
   "outputs": [
    {
     "data": {
      "text/plain": [
       "+ (generic function with 190 methods)"
      ]
     },
     "metadata": {},
     "output_type": "display_data"
    }
   ],
   "source": [
    "+(x::String, y::String) = string(x, y)"
   ]
  },
  {
   "cell_type": "code",
   "execution_count": 8,
   "id": "51409c68",
   "metadata": {},
   "outputs": [
    {
     "data": {
      "text/plain": [
       "\"hello world!\""
      ]
     },
     "metadata": {},
     "output_type": "display_data"
    }
   ],
   "source": [
    "\"hello \" + \"world!\""
   ]
  },
  {
   "cell_type": "markdown",
   "id": "d22abeb1",
   "metadata": {},
   "source": [
    "It works! And any further now we can prove to ourselves that Julia has dispatched on the type of \"hello\" and \"world!\" to choose the method we've just added."
   ]
  },
  {
   "cell_type": "code",
   "execution_count": 9,
   "id": "2bb5121e",
   "metadata": {},
   "outputs": [
    {
     "data": {
      "text/html": [
       "+(x::<b>String</b>, y::<b>String</b>) in Main at <a href=\"file://c:/Users/AMIYA DAS/Desktop/JULIA/LEARNING_JULIA/jl_notebook_cell_df34fa98e69747e1a8f8a730347b8e2f_X14sZmlsZQ==.jl\" target=\"_blank\">c:\\Users\\AMIYA DAS\\Desktop\\JULIA\\LEARNING_JULIA\\jl_notebook_cell_df34fa98e69747e1a8f8a730347b8e2f_X14sZmlsZQ==.jl:1</a>"
      ],
      "text/plain": [
       "+(\u001b[90mx\u001b[39m::\u001b[1mString\u001b[22m, \u001b[90my\u001b[39m::\u001b[1mString\u001b[22m)\n",
       "\u001b[90m     @\u001b[39m \u001b[90mMain\u001b[39m \u001b[90mc:\\Users\\AMIYA DAS\\Desktop\\JULIA\\LEARNING_JULIA\\\u001b[39m\u001b[90m\u001b[4mjl_notebook_cell_df34fa98e69747e1a8f8a730347b8e2f_X14sZmlsZQ==.jl:1\u001b[24m\u001b[39m"
      ]
     },
     "metadata": {},
     "output_type": "display_data"
    }
   ],
   "source": [
    "@which \"hello \" + \"world!\""
   ]
  },
  {
   "cell_type": "markdown",
   "id": "05e4c6b7",
   "metadata": {},
   "source": [
    "let's do one more example!"
   ]
  },
  {
   "cell_type": "code",
   "execution_count": 10,
   "id": "48f029b7",
   "metadata": {},
   "outputs": [
    {
     "data": {
      "text/plain": [
       "foo (generic function with 4 methods)"
      ]
     },
     "metadata": {},
     "output_type": "display_data"
    }
   ],
   "source": [
    "foo(x, y) = println(\"duck-typed foo!\")\n",
    "foo(x::Int, y::Float64) = println(\"foo with an integer and a float!\")\n",
    "foo(x::Float64, y::Float64) = println(\"foo with two floats!\")\n",
    "foo(x::Int, y::Int) = println(\"foo with two integers!\")"
   ]
  },
  {
   "cell_type": "code",
   "execution_count": 11,
   "id": "9631b20b",
   "metadata": {},
   "outputs": [
    {
     "name": "stdout",
     "output_type": "stream",
     "text": [
      "foo with two integers!\n"
     ]
    }
   ],
   "source": [
    "foo(1, 1)"
   ]
  },
  {
   "cell_type": "code",
   "execution_count": 12,
   "id": "7cb6bbca",
   "metadata": {},
   "outputs": [
    {
     "name": "stdout",
     "output_type": "stream",
     "text": [
      "foo with two floats!\n"
     ]
    }
   ],
   "source": [
    "foo(1., 1.)"
   ]
  },
  {
   "cell_type": "code",
   "execution_count": 13,
   "id": "5140df15",
   "metadata": {},
   "outputs": [
    {
     "name": "stdout",
     "output_type": "stream",
     "text": [
      "foo with an integer and a float!\n"
     ]
    }
   ],
   "source": [
    "foo(1, 1.)"
   ]
  },
  {
   "cell_type": "code",
   "execution_count": 14,
   "id": "4af4d8b6",
   "metadata": {},
   "outputs": [
    {
     "name": "stdout",
     "output_type": "stream",
     "text": [
      "duck-typed foo!\n"
     ]
    }
   ],
   "source": [
    "foo(true, false)"
   ]
  },
  {
   "cell_type": "markdown",
   "id": "3f443b39",
   "metadata": {},
   "source": [
    "Note that this last example falls back to the general 'duck-typed foo' because there was no method for foo explicity defined with boolean!"
   ]
  }
 ],
 "metadata": {
  "kernelspec": {
   "display_name": "Julia 1.11.6",
   "language": "julia",
   "name": "julia-1.11"
  },
  "language_info": {
   "file_extension": ".jl",
   "mimetype": "application/julia",
   "name": "julia",
   "version": "1.11.6"
  }
 },
 "nbformat": 4,
 "nbformat_minor": 5
}
