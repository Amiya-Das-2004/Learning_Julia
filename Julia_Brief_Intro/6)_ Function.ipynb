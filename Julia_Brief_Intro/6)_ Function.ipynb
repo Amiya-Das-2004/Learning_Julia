{
 "cells": [
  {
   "cell_type": "markdown",
   "id": "36d60983",
   "metadata": {},
   "source": [
    "### FUNCTIONS\n",
    "\n",
    "Topics:\n",
    "    1. How to declare a function\n",
    "    2. Duck-typing in Julia\n",
    "    3. Mutating vs. non-mutating functions\n",
    "    4. Broadcasting"
   ]
  },
  {
   "cell_type": "markdown",
   "id": "bce60fc3",
   "metadata": {},
   "source": [
    "1. How to declare a function:\n",
    "\n",
    "Julia gives us a few different ways to write a function. The first requires the function and end keywords"
   ]
  },
  {
   "cell_type": "code",
   "execution_count": null,
   "id": "c7cd7867",
   "metadata": {},
   "outputs": [],
   "source": [
    "function sayhi(name)\n",
    "    println(\"hi $name, its great to see you!\")\n",
    "end"
   ]
  },
  {
   "cell_type": "code",
   "execution_count": 10,
   "id": "8979d668",
   "metadata": {},
   "outputs": [
    {
     "data": {
      "text/plain": [
       "f (generic function with 1 method)"
      ]
     },
     "metadata": {},
     "output_type": "display_data"
    }
   ],
   "source": [
    "function f(x)\n",
    "    x^2\n",
    "end"
   ]
  },
  {
   "cell_type": "markdown",
   "id": "e8252fb9",
   "metadata": {},
   "source": [
    "we can call either of this function as shown bellow:"
   ]
  },
  {
   "cell_type": "code",
   "execution_count": null,
   "id": "9d250591",
   "metadata": {},
   "outputs": [],
   "source": [
    "sayhi(\"cs30\")"
   ]
  },
  {
   "cell_type": "code",
   "execution_count": null,
   "id": "c543e22f",
   "metadata": {},
   "outputs": [],
   "source": [
    "f(3)"
   ]
  },
  {
   "cell_type": "markdown",
   "id": "87e7f3b8",
   "metadata": {},
   "source": [
    "Alternatively, we could have declared either of these function in a single line."
   ]
  },
  {
   "cell_type": "code",
   "execution_count": null,
   "id": "0476c8db",
   "metadata": {},
   "outputs": [],
   "source": [
    "sayhi2(name) = println(\"Hi $name, how are you!\")"
   ]
  },
  {
   "cell_type": "code",
   "execution_count": 9,
   "id": "0759c3b2",
   "metadata": {},
   "outputs": [
    {
     "data": {
      "text/plain": [
       "f2 (generic function with 1 method)"
      ]
     },
     "metadata": {},
     "output_type": "display_data"
    }
   ],
   "source": [
    "f2(x) = x^3"
   ]
  },
  {
   "cell_type": "code",
   "execution_count": null,
   "id": "738c0a69",
   "metadata": {},
   "outputs": [],
   "source": [
    "sayhi2(\"RD10\")"
   ]
  },
  {
   "cell_type": "code",
   "execution_count": null,
   "id": "2771d461",
   "metadata": {},
   "outputs": [],
   "source": [
    "f2(2)"
   ]
  },
  {
   "cell_type": "markdown",
   "id": "29aa5ab4",
   "metadata": {},
   "source": [
    "Finally, we could have declared these as 'anonymous' functions"
   ]
  },
  {
   "cell_type": "code",
   "execution_count": null,
   "id": "f2e57da8",
   "metadata": {},
   "outputs": [],
   "source": [
    "sayhi3 = name -> println(\"hi $name.\")"
   ]
  },
  {
   "cell_type": "code",
   "execution_count": null,
   "id": "b5bb9a66",
   "metadata": {},
   "outputs": [],
   "source": [
    "f3 = x -> x^4"
   ]
  },
  {
   "cell_type": "code",
   "execution_count": null,
   "id": "551670e0",
   "metadata": {},
   "outputs": [],
   "source": [
    "sayhi3(\"check\")"
   ]
  },
  {
   "cell_type": "code",
   "execution_count": null,
   "id": "b8806c0b",
   "metadata": {},
   "outputs": [],
   "source": [
    "f3(99)"
   ]
  },
  {
   "cell_type": "markdown",
   "id": "26dab686",
   "metadata": {},
   "source": [
    "2. Duck-typing in Julia\n",
    "\n",
    "\"If it quacks like a duck it's a duck\"\n",
    "\n",
    "Julia functions will just work on whatever inputs make sense\n",
    "\n",
    "For example, sayhi works on the name of this minor tv character, written as an integer..."
   ]
  },
  {
   "cell_type": "code",
   "execution_count": 6,
   "id": "4721059f",
   "metadata": {},
   "outputs": [
    {
     "name": "stdout",
     "output_type": "stream",
     "text": [
      "hi 889900, its great to see you!\n"
     ]
    }
   ],
   "source": [
    "sayhi(889900)"
   ]
  },
  {
   "cell_type": "markdown",
   "id": "5be9f56c",
   "metadata": {},
   "source": [
    "And f will work on a matrix"
   ]
  },
  {
   "cell_type": "code",
   "execution_count": 7,
   "id": "7695a86f",
   "metadata": {},
   "outputs": [
    {
     "data": {
      "text/plain": [
       "3×3 Matrix{Float64}:\n",
       " 0.647341  0.745296  0.225086\n",
       " 0.42787   0.331987  0.0902239\n",
       " 0.684613  0.234035  0.528588"
      ]
     },
     "metadata": {},
     "output_type": "display_data"
    }
   ],
   "source": [
    "A = rand(3, 3)\n",
    "A"
   ]
  },
  {
   "cell_type": "code",
   "execution_count": 11,
   "id": "fcc28ba8",
   "metadata": {},
   "outputs": [
    {
     "data": {
      "text/plain": [
       "3×3 Matrix{Float64}:\n",
       " 0.892038  0.782567  0.331929\n",
       " 0.480794  0.450221  0.173952\n",
       " 0.905194  0.711644  0.454618"
      ]
     },
     "metadata": {},
     "output_type": "display_data"
    }
   ],
   "source": [
    "f(A)"
   ]
  },
  {
   "cell_type": "markdown",
   "id": "d926aeb6",
   "metadata": {},
   "source": [
    "On the other hand, f will not work on a vector. Unlike A^2, which is well-defined, the meaning of v^2 for a vector, v, is ambigious."
   ]
  },
  {
   "cell_type": "code",
   "execution_count": 12,
   "id": "3df17554",
   "metadata": {},
   "outputs": [
    {
     "data": {
      "text/plain": [
       "3-element Vector{Float64}:\n",
       " 0.5149566396114735\n",
       " 0.6366462563936748\n",
       " 0.8598202062172705"
      ]
     },
     "metadata": {},
     "output_type": "display_data"
    }
   ],
   "source": [
    "v = rand(3)"
   ]
  },
  {
   "cell_type": "code",
   "execution_count": null,
   "id": "21c43a26",
   "metadata": {},
   "outputs": [],
   "source": [
    "#f(v)  #is not defined"
   ]
  },
  {
   "cell_type": "markdown",
   "id": "2e88ad84",
   "metadata": {},
   "source": [
    "3. Mutating vs non-mutating function\n",
    "\n",
    "By convention, functions followed by ! after their contents and functions lacking ! do not.\n",
    "\n",
    "For example, let's look at the difference between sort and sort! ."
   ]
  },
  {
   "cell_type": "code",
   "execution_count": 13,
   "id": "937d7693",
   "metadata": {},
   "outputs": [
    {
     "data": {
      "text/plain": [
       "3-element Vector{Int64}:\n",
       " 3\n",
       " 5\n",
       " 4"
      ]
     },
     "metadata": {},
     "output_type": "display_data"
    }
   ],
   "source": [
    "v = [3, 5, 4]"
   ]
  },
  {
   "cell_type": "code",
   "execution_count": 14,
   "id": "ad9a9733",
   "metadata": {},
   "outputs": [
    {
     "data": {
      "text/plain": [
       "3-element Vector{Int64}:\n",
       " 3\n",
       " 4\n",
       " 5"
      ]
     },
     "metadata": {},
     "output_type": "display_data"
    }
   ],
   "source": [
    "sort(v)"
   ]
  },
  {
   "cell_type": "code",
   "execution_count": 15,
   "id": "e1019b0c",
   "metadata": {},
   "outputs": [
    {
     "data": {
      "text/plain": [
       "3-element Vector{Int64}:\n",
       " 3\n",
       " 5\n",
       " 4"
      ]
     },
     "metadata": {},
     "output_type": "display_data"
    }
   ],
   "source": [
    "v"
   ]
  },
  {
   "cell_type": "markdown",
   "id": "b550adc6",
   "metadata": {},
   "source": [
    "sort(v) returns a sorted array that contains the same elements as v, but v is left unchanged. <br>\n",
    "9<br>\n",
    "On the other hand, when we run sort!(v), the contents of v are sorted within the array v."
   ]
  },
  {
   "cell_type": "code",
   "execution_count": 16,
   "id": "9da341db",
   "metadata": {},
   "outputs": [
    {
     "data": {
      "text/plain": [
       "3-element Vector{Int64}:\n",
       " 3\n",
       " 4\n",
       " 5"
      ]
     },
     "metadata": {},
     "output_type": "display_data"
    }
   ],
   "source": [
    "sort!(v)"
   ]
  },
  {
   "cell_type": "code",
   "execution_count": 17,
   "id": "7eb1880d",
   "metadata": {},
   "outputs": [
    {
     "data": {
      "text/plain": [
       "3-element Vector{Int64}:\n",
       " 3\n",
       " 4\n",
       " 5"
      ]
     },
     "metadata": {},
     "output_type": "display_data"
    }
   ],
   "source": [
    "v"
   ]
  },
  {
   "cell_type": "markdown",
   "id": "74afcaea",
   "metadata": {},
   "source": [
    "4. Broadcasting\n",
    "\n",
    "By placing a . between any function name and its argument list, we tell that function to broadcast over the elements of the input objects.\n",
    "\n",
    "Let's look at the difference in behaviour between f() and f.()\n",
    "\n",
    "First we'll define a new matrix A that will make the difference eaiser to illustrate."
   ]
  },
  {
   "cell_type": "code",
   "execution_count": 18,
   "id": "945f7343",
   "metadata": {},
   "outputs": [
    {
     "data": {
      "text/plain": [
       "3×3 Matrix{Int64}:\n",
       " 1  2  3\n",
       " 4  5  6\n",
       " 7  8  9"
      ]
     },
     "metadata": {},
     "output_type": "display_data"
    }
   ],
   "source": [
    " A = [i + 3*j for j in 0:2, i in 1:3]"
   ]
  },
  {
   "cell_type": "code",
   "execution_count": 19,
   "id": "432457d6",
   "metadata": {},
   "outputs": [
    {
     "data": {
      "text/plain": [
       "3×3 Matrix{Int64}:\n",
       "  30   36   42\n",
       "  66   81   96\n",
       " 102  126  150"
      ]
     },
     "metadata": {},
     "output_type": "display_data"
    }
   ],
   "source": [
    "f(A)"
   ]
  },
  {
   "cell_type": "markdown",
   "id": "c01b0624",
   "metadata": {},
   "source": [
    "As before we see that for a matrix. A,\n",
    "\n",
    "    f(A) = A^2 = A*A\n",
    "\n",
    "f.(A) on the other hand will return an object that holds the square of A[i, j] at its corresponding entry."
   ]
  },
  {
   "cell_type": "code",
   "execution_count": 20,
   "id": "095605b2",
   "metadata": {},
   "outputs": [
    {
     "data": {
      "text/plain": [
       "3×3 Matrix{Int64}:\n",
       "  1   4   9\n",
       " 16  25  36\n",
       " 49  64  81"
      ]
     },
     "metadata": {},
     "output_type": "display_data"
    }
   ],
   "source": [
    "B = f.(A)"
   ]
  },
  {
   "cell_type": "code",
   "execution_count": 21,
   "id": "f59cb6e2",
   "metadata": {},
   "outputs": [
    {
     "data": {
      "text/plain": [
       "5"
      ]
     },
     "metadata": {},
     "output_type": "display_data"
    }
   ],
   "source": [
    "A[2, 2]"
   ]
  },
  {
   "cell_type": "code",
   "execution_count": 22,
   "id": "4bf41d70",
   "metadata": {},
   "outputs": [
    {
     "data": {
      "text/plain": [
       "25"
      ]
     },
     "metadata": {},
     "output_type": "display_data"
    }
   ],
   "source": [
    "A[2, 2]^2"
   ]
  },
  {
   "cell_type": "code",
   "execution_count": 23,
   "id": "25ef6093",
   "metadata": {},
   "outputs": [
    {
     "data": {
      "text/plain": [
       "25"
      ]
     },
     "metadata": {},
     "output_type": "display_data"
    }
   ],
   "source": [
    "B[2, 2]"
   ]
  },
  {
   "cell_type": "markdown",
   "id": "6ecaf293",
   "metadata": {},
   "source": [
    "This means that, for a vector v, f.(v) is defined, through f(v) is not:"
   ]
  },
  {
   "cell_type": "code",
   "execution_count": 24,
   "id": "fdc5723c",
   "metadata": {},
   "outputs": [
    {
     "data": {
      "text/plain": [
       "3-element Vector{Int64}:\n",
       " 1\n",
       " 2\n",
       " 3"
      ]
     },
     "metadata": {},
     "output_type": "display_data"
    }
   ],
   "source": [
    "v = [1, 2, 3]"
   ]
  },
  {
   "cell_type": "code",
   "execution_count": 25,
   "id": "90f26237",
   "metadata": {},
   "outputs": [
    {
     "data": {
      "text/plain": [
       "3-element Vector{Int64}:\n",
       " 1\n",
       " 4\n",
       " 9"
      ]
     },
     "metadata": {},
     "output_type": "display_data"
    }
   ],
   "source": [
    "f.(v)"
   ]
  }
 ],
 "metadata": {
  "kernelspec": {
   "display_name": "Julia 1.11.6",
   "language": "julia",
   "name": "julia-1.11"
  },
  "language_info": {
   "file_extension": ".jl",
   "mimetype": "application/julia",
   "name": "julia",
   "version": "1.11.6"
  }
 },
 "nbformat": 4,
 "nbformat_minor": 5
}
