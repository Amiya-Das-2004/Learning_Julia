{
 "cells": [
  {
   "cell_type": "markdown",
   "id": "e7546032",
   "metadata": {},
   "source": [
    "LOOPS\n",
    "\n",
    "Topics:\n",
    "1. While loops\n",
    "2. For loops"
   ]
  },
  {
   "cell_type": "markdown",
   "id": "61ff91c1",
   "metadata": {},
   "source": [
    "1. WHILE LOOPS\n",
    "\n",
    "the syntax for while loop is\n",
    "    while *condition*\n",
    "        * loop body*\n",
    "    end\n",
    "\n",
    "For example, we could use while to count or to itterate over an array"
   ]
  },
  {
   "cell_type": "code",
   "execution_count": 1,
   "id": "b98d4304",
   "metadata": {},
   "outputs": [
    {
     "name": "stdout",
     "output_type": "stream",
     "text": [
      "1\n",
      "2\n",
      "3\n",
      "4\n",
      "5\n",
      "6\n",
      "7\n",
      "8\n",
      "9\n",
      "10\n"
     ]
    }
   ],
   "source": [
    "n = 0\n",
    "while n < 10\n",
    "    n += 1\n",
    "    println(n)\n",
    "end"
   ]
  },
  {
   "cell_type": "code",
   "execution_count": 2,
   "id": "8e5cde76",
   "metadata": {},
   "outputs": [
    {
     "name": "stdout",
     "output_type": "stream",
     "text": [
      "Hi! Ted.\n",
      "Hi! Robin.\n"
     ]
    }
   ],
   "source": [
    "myfriend = [\"Ted\", \"Robin\"]\n",
    "\n",
    "i = 1\n",
    "while i <= length(myfriend)\n",
    "    friend = myfriend[i]\n",
    "    println(\"Hi! $friend.\")\n",
    "    i += 1\n",
    "end"
   ]
  },
  {
   "cell_type": "markdown",
   "id": "279c96dd",
   "metadata": {},
   "source": [
    "2. FOR LOOP\n",
    "\n",
    "the syntax for a For Loop is\n",
    "    for *variable* in *loop iterable*\n",
    "        *loop body*\n",
    "    end\n",
    "\n",
    "we could use a for loop to generate the same result as either of the examples above:"
   ]
  },
  {
   "cell_type": "code",
   "execution_count": 3,
   "id": "da357e9b",
   "metadata": {},
   "outputs": [
    {
     "name": "stdout",
     "output_type": "stream",
     "text": [
      "1\n",
      "2\n",
      "3\n",
      "4\n",
      "5\n",
      "6\n",
      "7\n",
      "8\n",
      "9\n",
      "10\n"
     ]
    }
   ],
   "source": [
    "for n in 1:10\n",
    "    println(n)\n",
    "end"
   ]
  },
  {
   "cell_type": "code",
   "execution_count": 4,
   "id": "654f817f",
   "metadata": {},
   "outputs": [
    {
     "name": "stdout",
     "output_type": "stream",
     "text": [
      "hi! Ted.\n",
      "hi! Robin.\n"
     ]
    }
   ],
   "source": [
    "myfriend = [\"Ted\", \"Robin\"]\n",
    "\n",
    "for friend in myfriend\n",
    "    println(\"hi! $friend.\")\n",
    "end"
   ]
  },
  {
   "cell_type": "markdown",
   "id": "0878cc4c",
   "metadata": {},
   "source": [
    "NOTE: we canewplace *in* with either *=* or *epsylon symbol*"
   ]
  },
  {
   "cell_type": "code",
   "execution_count": 5,
   "id": "d6239ab9",
   "metadata": {},
   "outputs": [
    {
     "name": "stdout",
     "output_type": "stream",
     "text": [
      "1\n",
      "2\n",
      "3\n",
      "4\n",
      "5\n",
      "6\n",
      "7\n",
      "8\n",
      "9\n",
      "10\n"
     ]
    }
   ],
   "source": [
    "for n = 1:10\n",
    "    println(n)\n",
    "end"
   ]
  },
  {
   "cell_type": "markdown",
   "id": "1ca90120",
   "metadata": {},
   "source": [
    "Now let us use for loop to create some addition tables, where the value of every is the sum of its row and column indices.\n",
    "\n",
    "First, we initialize an array with zeros."
   ]
  },
  {
   "cell_type": "code",
   "execution_count": 6,
   "id": "94d17e88",
   "metadata": {},
   "outputs": [
    {
     "data": {
      "text/plain": [
       "5×5 Matrix{Float64}:\n",
       " 0.0  0.0  0.0  0.0  0.0\n",
       " 0.0  0.0  0.0  0.0  0.0\n",
       " 0.0  0.0  0.0  0.0  0.0\n",
       " 0.0  0.0  0.0  0.0  0.0\n",
       " 0.0  0.0  0.0  0.0  0.0"
      ]
     },
     "metadata": {},
     "output_type": "display_data"
    }
   ],
   "source": [
    "m, n = 5, 5\n",
    "A = zeros(m, n)"
   ]
  },
  {
   "cell_type": "code",
   "execution_count": null,
   "id": "6e341e4a",
   "metadata": {},
   "outputs": [
    {
     "data": {
      "text/plain": [
       "5×5 Matrix{Float64}:\n",
       " 2.0  3.0  4.0  5.0   6.0\n",
       " 3.0  4.0  5.0  6.0   7.0\n",
       " 4.0  5.0  6.0  7.0   8.0\n",
       " 5.0  6.0  7.0  8.0   9.0\n",
       " 6.0  7.0  8.0  9.0  10.0"
      ]
     },
     "metadata": {},
     "output_type": "display_data"
    }
   ],
   "source": [
    "for i in 1:m\n",
    "    for j in 1:n\n",
    "        A[i, j] = i + j\n",
    "    end\n",
    "end\n",
    "A"
   ]
  },
  {
   "cell_type": "markdown",
   "id": "8460358f",
   "metadata": {},
   "source": [
    "NOW The more \"Julia\" way to create this additional table would have been with an array comphrension."
   ]
  },
  {
   "cell_type": "code",
   "execution_count": 8,
   "id": "9b3c37eb",
   "metadata": {},
   "outputs": [
    {
     "data": {
      "text/plain": [
       "5×5 Matrix{Int64}:\n",
       " 2  3  4  5   6\n",
       " 3  4  5  6   7\n",
       " 4  5  6  7   8\n",
       " 5  6  7  8   9\n",
       " 6  7  8  9  10"
      ]
     },
     "metadata": {},
     "output_type": "display_data"
    }
   ],
   "source": [
    "C = [i + j for i in 1:m, j in 1:n]"
   ]
  },
  {
   "cell_type": "markdown",
   "id": "07baa312",
   "metadata": {},
   "source": [
    "In the next example, we embeded an array chomprension in a for loop generating additonal tables of growing size."
   ]
  },
  {
   "cell_type": "code",
   "execution_count": 9,
   "id": "ce057f58",
   "metadata": {},
   "outputs": [
    {
     "data": {
      "text/plain": [
       "1×1 Matrix{Int64}:\n",
       " 2"
      ]
     },
     "metadata": {},
     "output_type": "display_data"
    },
    {
     "data": {
      "text/plain": [
       "2×2 Matrix{Int64}:\n",
       " 2  3\n",
       " 3  4"
      ]
     },
     "metadata": {},
     "output_type": "display_data"
    },
    {
     "data": {
      "text/plain": [
       "3×3 Matrix{Int64}:\n",
       " 2  3  4\n",
       " 3  4  5\n",
       " 4  5  6"
      ]
     },
     "metadata": {},
     "output_type": "display_data"
    },
    {
     "data": {
      "text/plain": [
       "4×4 Matrix{Int64}:\n",
       " 2  3  4  5\n",
       " 3  4  5  6\n",
       " 4  5  6  7\n",
       " 5  6  7  8"
      ]
     },
     "metadata": {},
     "output_type": "display_data"
    },
    {
     "data": {
      "text/plain": [
       "5×5 Matrix{Int64}:\n",
       " 2  3  4  5   6\n",
       " 3  4  5  6   7\n",
       " 4  5  6  7   8\n",
       " 5  6  7  8   9\n",
       " 6  7  8  9  10"
      ]
     },
     "metadata": {},
     "output_type": "display_data"
    },
    {
     "data": {
      "text/plain": [
       "6×6 Matrix{Int64}:\n",
       " 2  3  4   5   6   7\n",
       " 3  4  5   6   7   8\n",
       " 4  5  6   7   8   9\n",
       " 5  6  7   8   9  10\n",
       " 6  7  8   9  10  11\n",
       " 7  8  9  10  11  12"
      ]
     },
     "metadata": {},
     "output_type": "display_data"
    },
    {
     "data": {
      "text/plain": [
       "7×7 Matrix{Int64}:\n",
       " 2  3   4   5   6   7   8\n",
       " 3  4   5   6   7   8   9\n",
       " 4  5   6   7   8   9  10\n",
       " 5  6   7   8   9  10  11\n",
       " 6  7   8   9  10  11  12\n",
       " 7  8   9  10  11  12  13\n",
       " 8  9  10  11  12  13  14"
      ]
     },
     "metadata": {},
     "output_type": "display_data"
    },
    {
     "data": {
      "text/plain": [
       "8×8 Matrix{Int64}:\n",
       " 2   3   4   5   6   7   8   9\n",
       " 3   4   5   6   7   8   9  10\n",
       " 4   5   6   7   8   9  10  11\n",
       " 5   6   7   8   9  10  11  12\n",
       " 6   7   8   9  10  11  12  13\n",
       " 7   8   9  10  11  12  13  14\n",
       " 8   9  10  11  12  13  14  15\n",
       " 9  10  11  12  13  14  15  16"
      ]
     },
     "metadata": {},
     "output_type": "display_data"
    },
    {
     "data": {
      "text/plain": [
       "9×9 Matrix{Int64}:\n",
       "  2   3   4   5   6   7   8   9  10\n",
       "  3   4   5   6   7   8   9  10  11\n",
       "  4   5   6   7   8   9  10  11  12\n",
       "  5   6   7   8   9  10  11  12  13\n",
       "  6   7   8   9  10  11  12  13  14\n",
       "  7   8   9  10  11  12  13  14  15\n",
       "  8   9  10  11  12  13  14  15  16\n",
       "  9  10  11  12  13  14  15  16  17\n",
       " 10  11  12  13  14  15  16  17  18"
      ]
     },
     "metadata": {},
     "output_type": "display_data"
    },
    {
     "data": {
      "text/plain": [
       "10×10 Matrix{Int64}:\n",
       "  2   3   4   5   6   7   8   9  10  11\n",
       "  3   4   5   6   7   8   9  10  11  12\n",
       "  4   5   6   7   8   9  10  11  12  13\n",
       "  5   6   7   8   9  10  11  12  13  14\n",
       "  6   7   8   9  10  11  12  13  14  15\n",
       "  7   8   9  10  11  12  13  14  15  16\n",
       "  8   9  10  11  12  13  14  15  16  17\n",
       "  9  10  11  12  13  14  15  16  17  18\n",
       " 10  11  12  13  14  15  16  17  18  19\n",
       " 11  12  13  14  15  16  17  18  19  20"
      ]
     },
     "metadata": {},
     "output_type": "display_data"
    }
   ],
   "source": [
    "for n in 1:10 \n",
    "    A = [i + j for i in 1:n, j in 1:n]\n",
    "    display(A)\n",
    "end"
   ]
  }
 ],
 "metadata": {
  "kernelspec": {
   "display_name": "Julia 1.10.3",
   "language": "julia",
   "name": "julia-1.10"
  },
  "language_info": {
   "file_extension": ".jl",
   "mimetype": "application/julia",
   "name": "julia",
   "version": "1.10.3"
  }
 },
 "nbformat": 4,
 "nbformat_minor": 5
}
