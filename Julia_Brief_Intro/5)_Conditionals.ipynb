{
 "cells": [
  {
   "cell_type": "markdown",
   "id": "3ea2817a",
   "metadata": {},
   "source": [
    "### CONDITIONALS\n",
    "\n",
    "In Julia, the syntax\n",
    "    if *Condition 1*\n",
    "        *Option 1*\n",
    "    elseif *Condition 2*\n",
    "        *Option 2*\n",
    "    else\n",
    "        *option 3*\n",
    "    end\n",
    "\n",
    "it allows us to conditionally evaluate one of our options.\n",
    "\n",
    "For example, we might want to compare the size of two numbers."
   ]
  },
  {
   "cell_type": "code",
   "execution_count": null,
   "id": "43da83dc",
   "metadata": {},
   "outputs": [],
   "source": [
    "x = 30\n",
    "y = 7\n",
    "\n",
    "if x > y\n",
    "    println(\"$x is larger than $y\")\n",
    "elseif y > x\n",
    "    println(\"$y is larger than $x\")\n",
    "else\n",
    "    println(\"$x is equal to $y\")\n",
    "end"
   ]
  },
  {
   "cell_type": "markdown",
   "id": "46e2c234",
   "metadata": {},
   "source": [
    "Let's say we want to return the larger of the two numbers."
   ]
  },
  {
   "cell_type": "code",
   "execution_count": null,
   "id": "793f4b04",
   "metadata": {},
   "outputs": [],
   "source": [
    "if x > y\n",
    "    x\n",
    "else\n",
    "    y\n",
    "end"
   ]
  },
  {
   "cell_type": "markdown",
   "id": "94b08b32",
   "metadata": {},
   "source": [
    "For the last example we could instead use the ternary opreator with syntax \n",
    "\n",
    "    a ? b : c\n",
    "\n",
    "        which equates to \n",
    "            if a\n",
    "                b\n",
    "            else \n",
    "                c\n",
    "            end"
   ]
  },
  {
   "cell_type": "code",
   "execution_count": null,
   "id": "892b7599",
   "metadata": {},
   "outputs": [],
   "source": [
    "(x > y) ? x : y"
   ]
  },
  {
   "cell_type": "markdown",
   "id": "748a2484",
   "metadata": {},
   "source": [
    "There is another trick to evaluate the above task by using short circuit evaluation with the syntax\n",
    "\n",
    "    a && b\n",
    "\n",
    "    task will be performed only if both a and b ia true\n",
    "\n",
    "when we use && b execute only if a evaluates to be true.\n",
    "If a evaluares to be false, the expression a and b returnes false."
   ]
  },
  {
   "cell_type": "code",
   "execution_count": null,
   "id": "5cb99ee2",
   "metadata": {},
   "outputs": [],
   "source": [
    "(x > y) && println(\"$x is larger than $y\")"
   ]
  },
  {
   "cell_type": "code",
   "execution_count": null,
   "id": "f5710268",
   "metadata": {},
   "outputs": [],
   "source": [
    "(y > x) && println(\"$y is larger than $x\")"
   ]
  }
 ],
 "metadata": {
  "kernelspec": {
   "display_name": "Julia 1.10.3",
   "language": "julia",
   "name": "julia-1.10"
  },
  "language_info": {
   "file_extension": ".jl",
   "mimetype": "application/julia",
   "name": "julia",
   "version": "1.10.3"
  }
 },
 "nbformat": 4,
 "nbformat_minor": 5
}
