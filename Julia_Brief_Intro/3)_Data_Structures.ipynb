{
 "cells": [
  {
   "cell_type": "markdown",
   "id": "0f765ff5",
   "metadata": {},
   "source": [
    "DATA STRUCTURES\n",
    "\n",
    "Once we srtart working with many pieces of data at once, it will be convinient for us to store data in structures like array or dictionaries (rather than just relying on vatiables).\n",
    "\n",
    "Types of data structures\n",
    "1. DICTIONARIES\n",
    "2. TUPLES\n",
    "3. ARRAYS\n",
    "\n",
    "As an overview, tuples and arrays are both ordered sequences of elements (so we can index into them). Dictionaries and array are both mutable. We'll explain this more below!"
   ]
  },
  {
   "cell_type": "markdown",
   "id": "6f2b00af",
   "metadata": {},
   "source": [
    "1. DICTIONARIES\n",
    "\n",
    "If  we have sets of data related to one another, we may choose to store theat data in a dictionary. A good example is a contact list, where we associate names with Phone numbers.\n",
    "Unlike tuples and arrays, dictionaries are not ordered. So, we can't index into them."
   ]
  },
  {
   "cell_type": "code",
   "execution_count": null,
   "id": "fff8de31",
   "metadata": {},
   "outputs": [],
   "source": [
    "myphonebook = Dict(\"Feny\" => \"56789-98745\", \"Gosh\" => \"78906-98742\")"
   ]
  },
  {
   "cell_type": "markdown",
   "id": "cc3b1455",
   "metadata": {},
   "source": [
    "we can add another entry to dictionary as follows"
   ]
  },
  {
   "cell_type": "code",
   "execution_count": null,
   "id": "49e533ac",
   "metadata": {},
   "outputs": [],
   "source": [
    "myphonebook[\"Karmer\"] = \"45457-45348\""
   ]
  },
  {
   "cell_type": "markdown",
   "id": "ccaedb0d",
   "metadata": {},
   "source": [
    "Let's check our phonebook now ..."
   ]
  },
  {
   "cell_type": "code",
   "execution_count": null,
   "id": "2c6e2aaa",
   "metadata": {},
   "outputs": [],
   "source": [
    "myphonebook"
   ]
  },
  {
   "cell_type": "markdown",
   "id": "d12571b0",
   "metadata": {},
   "source": [
    "In this example, each name and number is a \"key\" and 'value' pair. We can grab Karmer's number (a value) using the associated key"
   ]
  },
  {
   "cell_type": "code",
   "execution_count": null,
   "id": "254d0316",
   "metadata": {},
   "outputs": [],
   "source": [
    "myphonebook[\"Karmer\"]"
   ]
  },
  {
   "cell_type": "markdown",
   "id": "58c02000",
   "metadata": {},
   "source": [
    "We can also get Karmer's number - and simultaneously delete him from our contact list -by using pop!"
   ]
  },
  {
   "cell_type": "code",
   "execution_count": null,
   "id": "9c72be43",
   "metadata": {},
   "outputs": [],
   "source": [
    "pop!(myphonebook, \"Karmer\")"
   ]
  },
  {
   "cell_type": "code",
   "execution_count": null,
   "id": "bfa0f219",
   "metadata": {},
   "outputs": [],
   "source": [
    "myphonebook"
   ]
  },
  {
   "cell_type": "markdown",
   "id": "db8acdd6",
   "metadata": {},
   "source": [
    "2. TUPLES\n",
    "\n",
    "We can create a tuple by enclosing an ordered sdquence of elements in ().\n",
    "Tuples are immutable, we can't update it."
   ]
  },
  {
   "cell_type": "code",
   "execution_count": null,
   "id": "19ccc83e",
   "metadata": {},
   "outputs": [],
   "source": [
    "tuples_list = (\"apple\", \"banana\", \"grapes\")"
   ]
  },
  {
   "cell_type": "markdown",
   "id": "7c0ffafe",
   "metadata": {},
   "source": [
    "We can index into this tuples"
   ]
  },
  {
   "cell_type": "code",
   "execution_count": null,
   "id": "be980817",
   "metadata": {},
   "outputs": [],
   "source": [
    "tuples_list[1]"
   ]
  },
  {
   "cell_type": "markdown",
   "id": "bca23408",
   "metadata": {},
   "source": [
    "3. Arrays\n",
    "\n",
    "Unlike tuples, arrays are mutable.Unlike dictionaries, arrays contain ordered sequences of elements.\n",
    "We can create an array by enclosing this sequence of elements in [].\n",
    "\n",
    "For example, we might create an array to keep track of my friends.\n",
    "\n",
    "OR\n",
    "\n",
    "To store a sequence of numbers\n"
   ]
  },
  {
   "cell_type": "code",
   "execution_count": null,
   "id": "59001336",
   "metadata": {},
   "outputs": [],
   "source": [
    "myfriends = [\"Ted\", \"Red\", \"Lily\", \"Barley\"]"
   ]
  },
  {
   "cell_type": "code",
   "execution_count": null,
   "id": "09b8df85",
   "metadata": {},
   "outputs": [],
   "source": [
    "fibonacci = [1, 1, 2, 3, 5, 8, 13]"
   ]
  },
  {
   "cell_type": "markdown",
   "id": "37aec445",
   "metadata": {},
   "source": [
    "Once we have an array, we can grab individual pieces of data from inside that array by indexing into the array. For example, if we want the third friend listed in myfriends, we can"
   ]
  },
  {
   "cell_type": "code",
   "execution_count": null,
   "id": "6ecd06ea",
   "metadata": {},
   "outputs": [],
   "source": [
    "myfriends[3]"
   ]
  },
  {
   "cell_type": "markdown",
   "id": "47fd31bb",
   "metadata": {},
   "source": [
    "we can use indexing to edit an existing element of an array"
   ]
  },
  {
   "cell_type": "code",
   "execution_count": null,
   "id": "ae59793f",
   "metadata": {},
   "outputs": [],
   "source": [
    "myfriends[3] = \"Bob\"\n",
    "myfriends"
   ]
  },
  {
   "cell_type": "markdown",
   "id": "961469a3",
   "metadata": {},
   "source": [
    "We can edit the array by using the push! and pop! functions. Push! adds an element to the end of an array and pop! removes the last element of an array.\n",
    "\n",
    "We can add another number to our fibonacci sequence."
   ]
  },
  {
   "cell_type": "code",
   "execution_count": null,
   "id": "eb5e840f",
   "metadata": {},
   "outputs": [],
   "source": [
    "push!(fibonacci, 21)\n",
    "fibonacci"
   ]
  },
  {
   "cell_type": "markdown",
   "id": "e405d6d1",
   "metadata": {},
   "source": [
    "and then remove it"
   ]
  },
  {
   "cell_type": "code",
   "execution_count": null,
   "id": "eac67764",
   "metadata": {},
   "outputs": [],
   "source": [
    "pop!(fibonacci)\n",
    "fibonacci"
   ]
  },
  {
   "cell_type": "markdown",
   "id": "b475577a",
   "metadata": {},
   "source": [
    "So far i've given examples of only 1D array of scalars, but array can have an arbitary number of dimentions and can also store other arrays.\n",
    "\n",
    "For example are arrays of arrays:"
   ]
  },
  {
   "cell_type": "code",
   "execution_count": null,
   "id": "2b035f8f",
   "metadata": {},
   "outputs": [],
   "source": [
    "favourite = [[\"fish\", \"egg\", \"cake\"],[\"cat\", \"dog\", \"apple\"]]"
   ]
  },
  {
   "cell_type": "code",
   "execution_count": null,
   "id": "87af1c35",
   "metadata": {},
   "outputs": [],
   "source": [
    "numbers = [[1, 2, 3], [4, 5, 6], [7, 8]]"
   ]
  },
  {
   "cell_type": "markdown",
   "id": "c098ee32",
   "metadata": {},
   "source": [
    "Below are example of 2D and 3D arrays using rand function:"
   ]
  },
  {
   "cell_type": "code",
   "execution_count": null,
   "id": "925e44c4",
   "metadata": {},
   "outputs": [],
   "source": [
    "rand(4, 3)"
   ]
  },
  {
   "cell_type": "code",
   "execution_count": null,
   "id": "67ca210b",
   "metadata": {},
   "outputs": [],
   "source": [
    "rand(4, 3, 2)"
   ]
  }
 ],
 "metadata": {
  "kernelspec": {
   "display_name": "Julia 1.10.3",
   "language": "julia",
   "name": "julia-1.10"
  },
  "language_info": {
   "file_extension": ".jl",
   "mimetype": "application/julia",
   "name": "julia",
   "version": "1.10.3"
  }
 },
 "nbformat": 4,
 "nbformat_minor": 5
}
