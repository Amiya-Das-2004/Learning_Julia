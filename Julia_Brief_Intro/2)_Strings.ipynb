{
 "cells": [
  {
   "cell_type": "markdown",
   "id": "2be2e86c",
   "metadata": {},
   "source": [
    "# STRINGS\n",
    "1. HOW TO GET A STRING\n",
    "2. STRING INTERPOLATION\n",
    "3. STRING CONCATENATION"
   ]
  },
  {
   "cell_type": "markdown",
   "id": "8b481bb7",
   "metadata": {},
   "source": [
    "1. HOW TO GET A STRING\n",
    "Enclose characters in '' or \"\""
   ]
  },
  {
   "cell_type": "code",
   "execution_count": null,
   "id": "577f1bec",
   "metadata": {},
   "outputs": [],
   "source": [
    "s1 = \"I am a string\""
   ]
  },
  {
   "cell_type": "code",
   "execution_count": null,
   "id": "9b7e0be0",
   "metadata": {},
   "outputs": [],
   "source": [
    "s2 = \"\"\"I am \"also\" a string\"\"\""
   ]
  },
  {
   "cell_type": "markdown",
   "id": "9efeeebd",
   "metadata": {},
   "source": [
    "There are a couple functional differences between strings enclosed in single and triple quotes.\n",
    "one such difference is that in the later case you can use quotation mark within your string."
   ]
  },
  {
   "cell_type": "markdown",
   "id": "e58f8e3b",
   "metadata": {},
   "source": [
    "NOTE: '' define character, but not string"
   ]
  },
  {
   "cell_type": "code",
   "execution_count": null,
   "id": "4468a003",
   "metadata": {},
   "outputs": [],
   "source": [
    "typeof('s')"
   ]
  },
  {
   "cell_type": "markdown",
   "id": "f0166642",
   "metadata": {},
   "source": [
    "2. STRING INTERPOLATION\n",
    "\n",
    "we can use the $ sign to insert existing variables into a string and to evaluate expressions within a string.\n",
    "Below is an example that contains some highly sensitive personal information."
   ]
  },
  {
   "cell_type": "code",
   "execution_count": null,
   "id": "b3399de3",
   "metadata": {},
   "outputs": [],
   "source": [
    "name = \"Fame\"\n",
    "num_fingers = 10\n",
    "_num_toes = 10\n",
    "\n",
    "println(\"hello, my name is $name\")\n",
    "println(\"I have $num_fingers fingers and $_num_toes toes.So in total $num_fingers + $_num_toes.\")"
   ]
  },
  {
   "cell_type": "markdown",
   "id": "a680f171",
   "metadata": {},
   "source": [
    "3. STRING CONCATENATION\n",
    "\n",
    "Below are three ways to concatenate strings!\n",
    "\n",
    "The first way is to use string() function.\n",
    "string() converts non-string input into strings."
   ]
  },
  {
   "cell_type": "code",
   "execution_count": null,
   "id": "9c8eb19e",
   "metadata": {},
   "outputs": [],
   "source": [
    "string(\"How many cats \", \"are too many cats?\")"
   ]
  },
  {
   "cell_type": "code",
   "execution_count": null,
   "id": "d03a870b",
   "metadata": {},
   "outputs": [],
   "source": [
    "string(\"I don't know, but \", 10 , \" are too few.\")"
   ]
  },
  {
   "cell_type": "markdown",
   "id": "b8d9e438",
   "metadata": {},
   "source": [
    "We can also use * or string interpolation!"
   ]
  },
  {
   "cell_type": "code",
   "execution_count": null,
   "id": "acfcb73c",
   "metadata": {},
   "outputs": [],
   "source": [
    "s3 = \"How many cats \";\n",
    "s4 = \"are too many cats?\";"
   ]
  },
  {
   "cell_type": "code",
   "execution_count": null,
   "id": "d895b1b9",
   "metadata": {},
   "outputs": [],
   "source": [
    "s3*s4"
   ]
  },
  {
   "cell_type": "code",
   "execution_count": null,
   "id": "3ea48875",
   "metadata": {},
   "outputs": [],
   "source": [
    "\"$s3$s4\""
   ]
  }
 ],
 "metadata": {
  "kernelspec": {
   "display_name": "Julia 1.11.6",
   "language": "julia",
   "name": "julia-1.11"
  },
  "language_info": {
   "file_extension": ".jl",
   "mimetype": "application/julia",
   "name": "julia",
   "version": "1.11.6"
  }
 },
 "nbformat": 4,
 "nbformat_minor": 5
}
