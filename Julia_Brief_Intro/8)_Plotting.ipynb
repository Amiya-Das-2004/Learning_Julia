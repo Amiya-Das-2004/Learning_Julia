{
 "cells": [
  {
   "cell_type": "markdown",
   "id": "9743aa8f",
   "metadata": {},
   "source": [
    "### PLOTTING\n",
    "\n",
    "Basics\n",
    "\n",
    "There are a few different ways to plot in julia (including calling PyPlot)\n",
    "\n",
    "Here we'll show how to use Plots.jl"
   ]
  },
  {
   "cell_type": "code",
   "execution_count": null,
   "id": "02f7138b",
   "metadata": {},
   "outputs": [],
   "source": [
    "#using Pkg\n",
    "#Pkg.build(\"PlotlyJS\")\n",
    "#Pkg.add(\"Plots\")\n",
    "#Pkg.add(\"PlotlyJS\")\n",
    "using Plots\n",
    "# plotly()  # set Plotly as the backend\n",
    "using PlotlyJS"
   ]
  },
  {
   "cell_type": "markdown",
   "id": "c0af1c89",
   "metadata": {},
   "source": [
    "One of the advantages to Plot.jl is that it allows you to seamlessly change backends. In this notebook, we'll try out the gr() and plotlyjs() backends.\n",
    "\n",
    "First, let's generate some artificial data to plot!"
   ]
  },
  {
   "cell_type": "code",
   "execution_count": null,
   "id": "42c925c3",
   "metadata": {},
   "outputs": [],
   "source": [
    "x = -3:0.1:3\n",
    "f(x) = x^2\n",
    "\n",
    "y = f.(x)"
   ]
  },
  {
   "cell_type": "markdown",
   "id": "4f3d0b4c",
   "metadata": {},
   "source": [
    "Now let's load the GR backend"
   ]
  },
  {
   "cell_type": "code",
   "execution_count": null,
   "id": "670f9285",
   "metadata": {},
   "outputs": [],
   "source": [
    "gr()"
   ]
  },
  {
   "cell_type": "code",
   "execution_count": null,
   "id": "374d7029",
   "metadata": {},
   "outputs": [],
   "source": [
    "Plots.plot(x, y, label=\"line\")\n",
    "scatter!(x, y, label=\"points\")"
   ]
  },
  {
   "cell_type": "markdown",
   "id": "1b4716a4",
   "metadata": {},
   "source": [
    "The ! at the end of the scatter! function name makes scatter! a mutating function, indicating that the scatter points will be added on to the pre existing plot.\n",
    "\n",
    "In contrast, see what happens when you replace scatter! in the above with the non-mutating function scatter."
   ]
  },
  {
   "cell_type": "markdown",
   "id": "8ea63af8",
   "metadata": {},
   "source": [
    "without changing the syntax, we can try this with the plotlyjs() backend"
   ]
  },
  {
   "cell_type": "code",
   "execution_count": null,
   "id": "f8aa60f5",
   "metadata": {},
   "outputs": [],
   "source": [
    "plotlyjs()"
   ]
  },
  {
   "cell_type": "markdown",
   "id": "62f8862e",
   "metadata": {},
   "source": [
    "Plotiy javascript loaded.\n",
    "\n",
    "To load again call\n",
    "init_notebook(true)\n",
    "\n",
    "And notice how this second plot differs from the first"
   ]
  },
  {
   "cell_type": "code",
   "execution_count": null,
   "id": "a5d44293",
   "metadata": {},
   "outputs": [],
   "source": [
    "# Julia --Project=."
   ]
  },
  {
   "cell_type": "code",
   "execution_count": null,
   "id": "cac9b873",
   "metadata": {},
   "outputs": [],
   "source": [
    "graph = Plots.plot(x, y, label=\"line\")\n",
    "scatter!(x, y, label=\"points\")\n",
    "\n",
    "display(graph)"
   ]
  },
  {
   "cell_type": "markdown",
   "id": "1b8083be",
   "metadata": {},
   "source": [
    "Getting Slightly Fancier\n",
    "\n",
    "The syntax for adding titles and lables to your plots is pretty straightforward.\n",
    "\n",
    "This time, in the name of scientific inquiry, let's examine the relationship between the global temperature and the number of pirates between roughly 1860 and 2000."
   ]
  },
  {
   "cell_type": "code",
   "execution_count": null,
   "id": "cd3d7fed",
   "metadata": {},
   "outputs": [],
   "source": [
    "globaltemperatures = [14.4, 14.5, 14.8, 15.2, 15.5, 15.8]\n",
    "numpirates = [45000, 20000, 15000, 5000, 400, 17]"
   ]
  },
  {
   "cell_type": "code",
   "execution_count": null,
   "id": "9ad7db1e",
   "metadata": {},
   "outputs": [],
   "source": [
    "# First, plot the data\n",
    "plt = Plots.plot(numpirates, globaltemperatures, legend=false)\n",
    "\n",
    "xflip!()\n",
    "# This reverses the x-axis \n",
    "\n",
    "# Add a title and labels\n",
    "xlabel!(\"Number of Pirates (Approximate)\")\n",
    "ylabel!(\"Global Temperature (C)\")\n",
    "title!(\"Influence of Pirate population on global warming\")\n",
    "\n",
    "display(plt)"
   ]
  },
  {
   "cell_type": "markdown",
   "id": "29f20ae2",
   "metadata": {},
   "source": [
    "To create a plot with subplots, we just name each of the individual subplot and then wrap those names, along with a layout specification, in another plot call."
   ]
  },
  {
   "cell_type": "code",
   "execution_count": null,
   "id": "619ff0c7",
   "metadata": {},
   "outputs": [],
   "source": [
    "p1 = Plots.plot(x, x)\n",
    "p2 = Plots.plot(x, x.^2)\n",
    "p3 = Plots.plot(x, x.^3)\n",
    "p4 = Plots.plot(x, x.^4)\n",
    "\n",
    "Plots.plot(p1, p2, p3, p4, latout=(2,2), legend=false)"
   ]
  }
 ],
 "metadata": {
  "kernelspec": {
   "display_name": "Julia 1.10.3",
   "language": "julia",
   "name": "julia-1.10"
  },
  "language_info": {
   "file_extension": ".jl",
   "mimetype": "application/julia",
   "name": "julia",
   "version": "1.10.3"
  }
 },
 "nbformat": 4,
 "nbformat_minor": 5
}
