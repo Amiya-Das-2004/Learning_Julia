{
 "cells": [
  {
   "cell_type": "markdown",
   "id": "7714a871",
   "metadata": {
    "vscode": {
     "languageId": "julia"
    }
   },
   "source": [
    "BASIC LINEAR ALGEBRA"
   ]
  },
  {
   "cell_type": "markdown",
   "id": "fedfa723",
   "metadata": {},
   "source": [
    "Julia's syntax is very similar to other languages but there are some important differences. Define a matrix of random normal varieties"
   ]
  },
  {
   "cell_type": "code",
   "execution_count": 15,
   "id": "9c3dc66c",
   "metadata": {},
   "outputs": [
    {
     "data": {
      "text/plain": [
       "3×3 Matrix{Int64}:\n",
       " 4  2  3\n",
       " 1  4  2\n",
       " 2  3  2"
      ]
     },
     "metadata": {},
     "output_type": "display_data"
    }
   ],
   "source": [
    "A = rand(1:4, 3, 3)"
   ]
  },
  {
   "cell_type": "code",
   "execution_count": 16,
   "id": "ca5a3efe",
   "metadata": {},
   "outputs": [
    {
     "data": {
      "text/plain": [
       "3×6 Matrix{Int64}:\n",
       " 4  2  3  4  2  3\n",
       " 1  4  2  1  4  2\n",
       " 2  3  2  2  3  2"
      ]
     },
     "metadata": {},
     "output_type": "display_data"
    }
   ],
   "source": [
    "B = A\n",
    "C = copy(A)\n",
    "[ B C]"
   ]
  },
  {
   "cell_type": "code",
   "execution_count": 17,
   "id": "d4f189f3",
   "metadata": {},
   "outputs": [
    {
     "data": {
      "text/plain": [
       "3×6 Matrix{Int64}:\n",
       " 17  2  3  4  2  3\n",
       "  1  4  2  1  4  2\n",
       "  2  3  2  2  3  2"
      ]
     },
     "metadata": {},
     "output_type": "display_data"
    }
   ],
   "source": [
    "# Watch out!\n",
    "\n",
    "A[1] = 17\n",
    "[B C] # B and A are references to the same memory (better for per)"
   ]
  },
  {
   "cell_type": "markdown",
   "id": "aa46c028",
   "metadata": {},
   "source": [
    "and a vector of ones"
   ]
  },
  {
   "cell_type": "code",
   "execution_count": 18,
   "id": "4ce3366c",
   "metadata": {},
   "outputs": [
    {
     "data": {
      "text/plain": [
       "3-element Vector{Float64}:\n",
       " 1.0\n",
       " 1.0\n",
       " 1.0"
      ]
     },
     "metadata": {},
     "output_type": "display_data"
    }
   ],
   "source": [
    "x = ones(3)"
   ]
  },
  {
   "cell_type": "markdown",
   "id": "9b550f28",
   "metadata": {},
   "source": [
    "Notice that A has a type Array[Flloat64,2] but x has type Array[Float,1]. Julia defines the aliases Vector[Type]=Array[Type,1] and matrix[Type]=Array[Type,2] in Julia.\n",
    "\n",
    "Many of the basics operations are the same as in other languages."
   ]
  },
  {
   "cell_type": "markdown",
   "id": "c1b94a51",
   "metadata": {},
   "source": [
    "Multiplication"
   ]
  },
  {
   "cell_type": "code",
   "execution_count": 19,
   "id": "872bfa7d",
   "metadata": {},
   "outputs": [
    {
     "data": {
      "text/plain": [
       "3-element Vector{Float64}:\n",
       " 22.0\n",
       "  7.0\n",
       "  7.0"
      ]
     },
     "metadata": {},
     "output_type": "display_data"
    }
   ],
   "source": [
    "b = A*x"
   ]
  },
  {
   "cell_type": "markdown",
   "id": "9f3d94aa",
   "metadata": {},
   "source": [
    "Transposition\n",
    "\n",
    "As in the other languages A' is the conjugate transpose whereas A.' is just the transpose"
   ]
  },
  {
   "cell_type": "code",
   "execution_count": 20,
   "id": "09bc33b9",
   "metadata": {},
   "outputs": [
    {
     "data": {
      "text/plain": [
       "3×3 Matrix{Int64}:\n",
       " 34  3  5\n",
       "  3  8  5\n",
       "  5  5  4"
      ]
     },
     "metadata": {},
     "output_type": "display_data"
    }
   ],
   "source": [
    "Asym = A + A'"
   ]
  },
  {
   "cell_type": "markdown",
   "id": "6a3ce4ff",
   "metadata": {},
   "source": [
    "Transposed Multiplication\n",
    "\n",
    "Julia allowsus to write this without *"
   ]
  },
  {
   "cell_type": "code",
   "execution_count": 21,
   "id": "18b6ca9c",
   "metadata": {},
   "outputs": [
    {
     "data": {
      "text/plain": [
       "3×3 Matrix{Int64}:\n",
       " 294  44  57\n",
       "  44  29  20\n",
       "  57  20  17"
      ]
     },
     "metadata": {},
     "output_type": "display_data"
    }
   ],
   "source": [
    "Apd = A'A"
   ]
  },
  {
   "cell_type": "markdown",
   "id": "13a803bc",
   "metadata": {},
   "source": [
    "Solving linear system\n",
    "\n",
    "The problem Ax=b for square A is solved by the \\function"
   ]
  },
  {
   "cell_type": "code",
   "execution_count": 22,
   "id": "c8466179",
   "metadata": {},
   "outputs": [
    {
     "data": {
      "text/plain": [
       "3-element Vector{Float64}:\n",
       " 0.9999999999999998\n",
       " 0.9999999999999994\n",
       " 1.0000000000000013"
      ]
     },
     "metadata": {},
     "output_type": "display_data"
    }
   ],
   "source": [
    "A\\b"
   ]
  },
  {
   "cell_type": "markdown",
   "id": "c948fe6b",
   "metadata": {},
   "source": [
    "Overdetermined systems\n",
    "\n",
    "When A is tall the \\function calculates the least square solution."
   ]
  },
  {
   "cell_type": "code",
   "execution_count": 23,
   "id": "3c71309c",
   "metadata": {},
   "outputs": [
    {
     "data": {
      "text/plain": [
       "3×2 Matrix{Int64}:\n",
       " 17  2\n",
       "  1  4\n",
       "  2  3"
      ]
     },
     "metadata": {},
     "output_type": "display_data"
    },
    {
     "data": {
      "text/plain": [
       "2-element Vector{Float64}:\n",
       " 1.1172989377845213\n",
       " 1.5116843702579668"
      ]
     },
     "metadata": {},
     "output_type": "display_data"
    }
   ],
   "source": [
    "# Keep all rows and only the first 2 columns of 'A' to generate\n",
    "Atall = A[:,1:2]\n",
    "display(Atall)\n",
    "Atall\\b"
   ]
  },
  {
   "cell_type": "markdown",
   "id": "b86d3d49",
   "metadata": {},
   "source": [
    "The \\function also works for rank deficient least square problems. In this case, the least square solution is not unique and Julia returns the solution with smallest norm."
   ]
  },
  {
   "cell_type": "code",
   "execution_count": 24,
   "id": "ad18c3f6",
   "metadata": {},
   "outputs": [
    {
     "data": {
      "text/plain": [
       "3×3 Matrix{Float64}:\n",
       "  1.25645  -0.526378  -1.88324\n",
       "  2.54422   1.43119   -1.26838\n",
       " -1.87001   1.9746     1.56399"
      ]
     },
     "metadata": {},
     "output_type": "display_data"
    }
   ],
   "source": [
    "A = randn(3, 3)"
   ]
  },
  {
   "cell_type": "code",
   "execution_count": 25,
   "id": "1989bd51",
   "metadata": {},
   "outputs": [
    {
     "data": {
      "text/plain": [
       "2-element Vector{Float64}:\n",
       " 1.4010894353529637\n",
       " 1.401089435352964"
      ]
     },
     "metadata": {},
     "output_type": "display_data"
    }
   ],
   "source": [
    "# The outer product of a vector with itself will result in a singular matrix representing a rank deficient least squares problem\n",
    "\n",
    "[A[:,1] A[:,1]]\\b"
   ]
  },
  {
   "cell_type": "markdown",
   "id": "d784d49c",
   "metadata": {},
   "source": [
    "Underdetermined Systems\n",
    "\n",
    "When A is short the \\function returns the minimum norm solution."
   ]
  },
  {
   "cell_type": "code",
   "execution_count": 26,
   "id": "baf36903",
   "metadata": {},
   "outputs": [
    {
     "data": {
      "text/plain": [
       "2×3 Matrix{Float64}:\n",
       " 1.25645  -0.526378  -1.88324\n",
       " 2.54422   1.43119   -1.26838"
      ]
     },
     "metadata": {},
     "output_type": "display_data"
    },
    {
     "data": {
      "text/plain": [
       "3-element Vector{Float64}:\n",
       "  2.016388149782694\n",
       " -6.2949570215351045\n",
       " -8.577216017591272"
      ]
     },
     "metadata": {},
     "output_type": "display_data"
    }
   ],
   "source": [
    "# Keep all the columns and only the first 2 rows of 'A' to generate\n",
    "Ashort = A[1:2,:]\n",
    "display(Ashort)\n",
    "Ashort\\b[1:2]"
   ]
  }
 ],
 "metadata": {
  "kernelspec": {
   "display_name": "Julia 1.10.3",
   "language": "julia",
   "name": "julia-1.10"
  },
  "language_info": {
   "file_extension": ".jl",
   "mimetype": "application/julia",
   "name": "julia",
   "version": "1.10.3"
  }
 },
 "nbformat": 4,
 "nbformat_minor": 5
}
