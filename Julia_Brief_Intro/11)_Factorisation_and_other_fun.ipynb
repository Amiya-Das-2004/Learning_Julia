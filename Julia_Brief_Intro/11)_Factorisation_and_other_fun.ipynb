{
 "cells": [
  {
   "cell_type": "markdown",
   "id": "0f6c93ba",
   "metadata": {},
   "source": []
  }
 ],
 "metadata": {
  "language_info": {
   "name": "python"
  }
 },
 "nbformat": 4,
 "nbformat_minor": 5
}
