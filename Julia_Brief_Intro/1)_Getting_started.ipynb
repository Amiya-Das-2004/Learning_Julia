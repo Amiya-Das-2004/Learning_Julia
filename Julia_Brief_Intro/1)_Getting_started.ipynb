{
 "cells": [
  {
   "cell_type": "markdown",
   "id": "93f22fb8",
   "metadata": {},
   "source": [
    "1. How to print in julia"
   ]
  },
  {
   "cell_type": "code",
   "execution_count": null,
   "id": "a0884a95",
   "metadata": {},
   "outputs": [],
   "source": [
    "println(\"hello world\")"
   ]
  },
  {
   "cell_type": "markdown",
   "id": "dedf32e6",
   "metadata": {},
   "source": [
    "2. In Jupyter notebook,that the last line of  a cell prints when you execute that cell. And with ; we can hide the result"
   ]
  },
  {
   "cell_type": "code",
   "execution_count": null,
   "id": "257ab753",
   "metadata": {},
   "outputs": [],
   "source": [
    "123\n",
    "456;"
   ]
  },
  {
   "cell_type": "markdown",
   "id": "ff72d945",
   "metadata": {},
   "source": [
    "3. HOW TO ASSIGN VARIABLES\n",
    "\n",
    "All we need is a variable name, value, and an equal's sign!\n",
    "Julia will figure out types for us:"
   ]
  },
  {
   "cell_type": "code",
   "execution_count": null,
   "id": "bb9137cd",
   "metadata": {},
   "outputs": [],
   "source": [
    "my_answer = 120.00987\n",
    "typeof(my_answer)"
   ]
  },
  {
   "cell_type": "code",
   "execution_count": null,
   "id": "7ba53e04",
   "metadata": {},
   "outputs": [],
   "source": [
    "my_name = \"Amiya\"\n",
    "typeof(my_name)"
   ]
  },
  {
   "cell_type": "markdown",
   "id": "6b6d7198",
   "metadata": {},
   "source": [
    "After assigning a value to a variable, we can reassign a value of a differenttype to that variable without any issue."
   ]
  },
  {
   "cell_type": "code",
   "execution_count": null,
   "id": "0884d998",
   "metadata": {},
   "outputs": [],
   "source": [
    "my_answer = my_name"
   ]
  },
  {
   "cell_type": "code",
   "execution_count": null,
   "id": "80661aed",
   "metadata": {},
   "outputs": [],
   "source": [
    "typeof(my_answer)"
   ]
  },
  {
   "cell_type": "markdown",
   "id": "1d58f095",
   "metadata": {},
   "source": [
    "4. HOW TO LEAVE COMMENT"
   ]
  },
  {
   "cell_type": "code",
   "execution_count": null,
   "id": "a6891db1",
   "metadata": {},
   "outputs": [],
   "source": [
    "# You can leave comment on a single line using the hash sumbol"
   ]
  },
  {
   "cell_type": "code",
   "execution_count": null,
   "id": "5465f82f",
   "metadata": {},
   "outputs": [],
   "source": [
    "#=\n",
    "\n",
    "For multiline comment use '#= =#' sequence\n",
    "\n",
    "=#"
   ]
  },
  {
   "cell_type": "markdown",
   "id": "79c5b1a5",
   "metadata": {},
   "source": [
    "5. SYNTAX FOR BASIC MATHS"
   ]
  },
  {
   "cell_type": "code",
   "execution_count": null,
   "id": "cd64ba15",
   "metadata": {},
   "outputs": [],
   "source": [
    "sum = 3 + 7"
   ]
  },
  {
   "cell_type": "code",
   "execution_count": null,
   "id": "69630bdd",
   "metadata": {},
   "outputs": [],
   "source": [
    "diff = 10 - 2"
   ]
  },
  {
   "cell_type": "code",
   "execution_count": null,
   "id": "473e1cca",
   "metadata": {},
   "outputs": [],
   "source": [
    "product = 30 * 4"
   ]
  },
  {
   "cell_type": "code",
   "execution_count": null,
   "id": "6c9c6c02",
   "metadata": {},
   "outputs": [],
   "source": [
    "power = 5 ^ 1"
   ]
  },
  {
   "cell_type": "code",
   "execution_count": null,
   "id": "6e337b9a",
   "metadata": {},
   "outputs": [],
   "source": [
    "quotient = 99 / 2"
   ]
  },
  {
   "cell_type": "code",
   "execution_count": null,
   "id": "dcb04fb1",
   "metadata": {},
   "outputs": [],
   "source": [
    "modulus = 101 % 3  # remainder"
   ]
  }
 ],
 "metadata": {
  "kernelspec": {
   "display_name": "Julia 1.11.6",
   "language": "julia",
   "name": "julia-1.11"
  },
  "language_info": {
   "file_extension": ".jl",
   "mimetype": "application/julia",
   "name": "julia",
   "version": "1.11.6"
  }
 },
 "nbformat": 4,
 "nbformat_minor": 5
}
