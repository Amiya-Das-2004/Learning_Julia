{
 "cells": [
  {
   "cell_type": "markdown",
   "id": "462c50d2",
   "metadata": {},
   "source": [
    "## Introduction to Julia by Dr. Mohammad Masiur Rahaman (masiurr@iitbbs.ac.in)"
   ]
  },
  {
   "cell_type": "markdown",
   "id": "077485e0",
   "metadata": {},
   "source": [
    "## Julia is fast\n",
    "\n",
    "Benchmark the **sum()** and compare against other popular languages.\n",
    "\n",
    "Consider the **sum** function **sum(a)** which computes   "
   ]
  },
  {
   "cell_type": "markdown",
   "id": "daf7ca8f",
   "metadata": {},
   "source": [
    " $\\text{sum}(a) = \\Sigma_{i=1}^n a_i$\n",
    "\n",
    "where $n$ is the length of $a$"
   ]
  },
  {
   "cell_type": "code",
   "execution_count": 1,
   "id": "bfc6af99",
   "metadata": {},
   "outputs": [
    {
     "data": {
      "text/plain": [
       "5.000300805748647e6"
      ]
     },
     "metadata": {},
     "output_type": "display_data"
    }
   ],
   "source": [
    "a = rand(10^7) # 1D vector of random numbers, uniform in [0,1]\n",
    "sum(a)"
   ]
  },
  {
   "cell_type": "markdown",
   "id": "e64d9156",
   "metadata": {},
   "source": [
    "The expected result is 0.5 * 10^7, since the mean of each entry is 0.5"
   ]
  },
  {
   "cell_type": "code",
   "execution_count": 2,
   "id": "d10fc65e",
   "metadata": {},
   "outputs": [
    {
     "name": "stdout",
     "output_type": "stream",
     "text": [
      "  0.004005 seconds (1 allocation: 16 bytes)\n"
     ]
    },
    {
     "data": {
      "text/plain": [
       "5.000300805748647e6"
      ]
     },
     "metadata": {},
     "output_type": "display_data"
    }
   ],
   "source": [
    "@time sum(a)"
   ]
  },
  {
   "cell_type": "markdown",
   "id": "cf94295a",
   "metadata": {},
   "source": [
    "The @time macro can yield noisy results, so it's not our best choice for benchmarking!\n",
    "\n",
    "Luckily, Julia has a BenchmarkTools.jl package to make benchmarking easy and accurate:"
   ]
  },
  {
   "cell_type": "markdown",
   "id": "eec4b473",
   "metadata": {},
   "source": [
    "## Use BenchmarkTools for comparison"
   ]
  },
  {
   "cell_type": "code",
   "execution_count": 3,
   "id": "fa2cad5a",
   "metadata": {},
   "outputs": [
    {
     "name": "stderr",
     "output_type": "stream",
     "text": [
      "\u001b[32m\u001b[1m   Resolving\u001b[22m\u001b[39m package versions...\n",
      "\u001b[32m\u001b[1m  No Changes\u001b[22m\u001b[39m to `C:\\Users\\amiya\\.julia\\environments\\v1.11\\Project.toml`\n",
      "\u001b[32m\u001b[1m  No Changes\u001b[22m\u001b[39m to `C:\\Users\\amiya\\.julia\\environments\\v1.11\\Manifest.toml`\n"
     ]
    }
   ],
   "source": [
    "import Pkg; Pkg.add(\"BenchmarkTools\")"
   ]
  },
  {
   "cell_type": "code",
   "execution_count": 4,
   "id": "3bb00074",
   "metadata": {},
   "outputs": [],
   "source": [
    "using BenchmarkTools"
   ]
  },
  {
   "cell_type": "markdown",
   "id": "727acbbf",
   "metadata": {},
   "source": [
    "### 1. The C language"
   ]
  },
  {
   "cell_type": "markdown",
   "id": "def3dc0e",
   "metadata": {},
   "source": [
    "C is often considered the golden standerd: difficult on the human, nice for the machine.\n",
    "Getting within  a factor of 2 of C is often satisfying. Nontheless, even within C, there are many kinds of optimizations possible that a naive C writer may or may not get the advantage of.\n",
    "\n",
    "The current author does not speak C, so he does not read her cell below, but is happy to know that you can put C code in a Julia session, compile it, and run it. Note that the \"\"\" warp a multiline string."
   ]
  },
  {
   "cell_type": "code",
   "execution_count": 5,
   "id": "cc2b3d1f",
   "metadata": {},
   "outputs": [
    {
     "data": {
      "text/plain": [
       "c_sum (generic function with 1 method)"
      ]
     },
     "metadata": {},
     "output_type": "display_data"
    }
   ],
   "source": [
    "using Libdl\n",
    "C_code = \"\"\"\n",
    "#include <stddef.h>\n",
    "double c_sum(size_t n, double *X) {\n",
    "    double s = 0.0;\n",
    "    for (size_t i = 0; i < n; ++i) {\n",
    "        s += X[i];\n",
    "    }\n",
    "    return s;\n",
    "}\n",
    "\"\"\"\n",
    "\n",
    "const Clib = tempname()   # make a temporary file\n",
    "\n",
    "\n",
    "# compile to a shared library by piping C_code to gcc\n",
    "# (works only if you have gcc installed):\n",
    "\n",
    "open(`gcc -fPIC -O3 -msse3 -xc -shared -o $(Clib * \".\" * Libdl.dlext) -`, \"w\") do f\n",
    "    print(f, C_code) \n",
    "end\n",
    "\n",
    "# define a Julia function that calls the C function:\n",
    "c_sum(X::Array{Float64}) = ccall((\"c_sum\", Clib), Float64, (Csize_t, Ptr{Float64}), length(X), X)"
   ]
  },
  {
   "cell_type": "code",
   "execution_count": 6,
   "id": "32ece9eb",
   "metadata": {},
   "outputs": [
    {
     "data": {
      "text/plain": [
       "5.000300805749172e6"
      ]
     },
     "metadata": {},
     "output_type": "display_data"
    }
   ],
   "source": [
    "c_sum(a)"
   ]
  },
  {
   "cell_type": "code",
   "execution_count": 7,
   "id": "a1c2c104",
   "metadata": {},
   "outputs": [
    {
     "data": {
      "text/plain": [
       "true"
      ]
     },
     "metadata": {},
     "output_type": "display_data"
    }
   ],
   "source": [
    "c_sum(a) ≈ sum(a) # type \\approx and then <TAB> to get the ≈ symbol"
   ]
  },
  {
   "cell_type": "code",
   "execution_count": 8,
   "id": "9a81953a",
   "metadata": {},
   "outputs": [
    {
     "data": {
      "text/plain": [
       "5.252659320831299e-7"
      ]
     },
     "metadata": {},
     "output_type": "display_data"
    }
   ],
   "source": [
    "c_sum(a) - sum(a)"
   ]
  },
  {
   "cell_type": "markdown",
   "id": "40aa0ff6",
   "metadata": {},
   "source": [
    "We can now benchmark the C code directly from Julia:"
   ]
  },
  {
   "cell_type": "code",
   "execution_count": 9,
   "id": "4110a3a9",
   "metadata": {},
   "outputs": [
    {
     "data": {
      "text/plain": [
       "BenchmarkTools.Trial: 346 samples with 1 evaluation per sample.\n",
       " Range \u001b[90m(\u001b[39m\u001b[36m\u001b[1mmin\u001b[22m\u001b[39m … \u001b[35mmax\u001b[39m\u001b[90m):  \u001b[39m\u001b[36m\u001b[1m12.070 ms\u001b[22m\u001b[39m … \u001b[35m17.583 ms\u001b[39m  \u001b[90m┊\u001b[39m GC \u001b[90m(\u001b[39mmin … max\u001b[90m): \u001b[39m0.00% … 0.00%\n",
       " Time  \u001b[90m(\u001b[39m\u001b[34m\u001b[1mmedian\u001b[22m\u001b[39m\u001b[90m):     \u001b[39m\u001b[34m\u001b[1m14.610 ms              \u001b[22m\u001b[39m\u001b[90m┊\u001b[39m GC \u001b[90m(\u001b[39mmedian\u001b[90m):    \u001b[39m0.00%\n",
       " Time  \u001b[90m(\u001b[39m\u001b[32m\u001b[1mmean\u001b[22m\u001b[39m ± \u001b[32mσ\u001b[39m\u001b[90m):   \u001b[39m\u001b[32m\u001b[1m14.356 ms\u001b[22m\u001b[39m ± \u001b[32m 1.008 ms\u001b[39m  \u001b[90m┊\u001b[39m GC \u001b[90m(\u001b[39mmean ± σ\u001b[90m):  \u001b[39m0.00% ± 0.00%\n",
       "\n",
       "  \u001b[39m \u001b[39m \u001b[39m \u001b[39m \u001b[39m \u001b[39m \u001b[39m \u001b[39m \u001b[39m \u001b[39m \u001b[39m \u001b[39m \u001b[39m \u001b[39m \u001b[39m \u001b[39m \u001b[39m \u001b[39m \u001b[39m \u001b[39m \u001b[39m \u001b[39m \u001b[39m \u001b[39m \u001b[39m \u001b[39m \u001b[39m \u001b[39m \u001b[39m \u001b[39m \u001b[39m \u001b[32m▃\u001b[39m\u001b[39m▃\u001b[39m█\u001b[39m▄\u001b[34m█\u001b[39m\u001b[39m▂\u001b[39m▄\u001b[39m▄\u001b[39m \u001b[39m▃\u001b[39m \u001b[39m \u001b[39m \u001b[39m \u001b[39m \u001b[39m \u001b[39m \u001b[39m \u001b[39m \u001b[39m \u001b[39m \u001b[39m \u001b[39m \u001b[39m \u001b[39m \u001b[39m \u001b[39m \u001b[39m \u001b[39m \u001b[39m \n",
       "  \u001b[39m█\u001b[39m▅\u001b[39m▆\u001b[39m▆\u001b[39m▅\u001b[39m▃\u001b[39m▄\u001b[39m▃\u001b[39m▄\u001b[39m▄\u001b[39m▂\u001b[39m▄\u001b[39m▃\u001b[39m▂\u001b[39m▁\u001b[39m▃\u001b[39m▁\u001b[39m▁\u001b[39m▁\u001b[39m▁\u001b[39m▁\u001b[39m▁\u001b[39m▂\u001b[39m▁\u001b[39m▁\u001b[39m▂\u001b[39m▁\u001b[39m▄\u001b[39m▄\u001b[39m▆\u001b[39m▇\u001b[32m█\u001b[39m\u001b[39m█\u001b[39m█\u001b[39m█\u001b[34m█\u001b[39m\u001b[39m█\u001b[39m█\u001b[39m█\u001b[39m▇\u001b[39m█\u001b[39m█\u001b[39m▅\u001b[39m█\u001b[39m▄\u001b[39m▄\u001b[39m▅\u001b[39m▄\u001b[39m▁\u001b[39m▁\u001b[39m▂\u001b[39m▃\u001b[39m▁\u001b[39m▁\u001b[39m▂\u001b[39m▁\u001b[39m▁\u001b[39m▃\u001b[39m▂\u001b[39m \u001b[39m▄\n",
       "  12.1 ms\u001b[90m         Histogram: frequency by time\u001b[39m        16.4 ms \u001b[0m\u001b[1m<\u001b[22m\n",
       "\n",
       " Memory estimate\u001b[90m: \u001b[39m\u001b[33m0 bytes\u001b[39m, allocs estimate\u001b[90m: \u001b[39m\u001b[33m0\u001b[39m."
      ]
     },
     "metadata": {},
     "output_type": "display_data"
    }
   ],
   "source": [
    "c_bench = @benchmark c_sum($a)"
   ]
  },
  {
   "cell_type": "code",
   "execution_count": 10,
   "id": "76afa134",
   "metadata": {},
   "outputs": [
    {
     "name": "stdout",
     "output_type": "stream",
     "text": [
      "C: Fastest time was 12.07 msec\n"
     ]
    }
   ],
   "source": [
    "println(\"C: Fastest time was $(minimum(c_bench.times) / 1e6) msec\")"
   ]
  },
  {
   "cell_type": "code",
   "execution_count": 11,
   "id": "d1486ec2",
   "metadata": {},
   "outputs": [
    {
     "data": {
      "text/plain": [
       "Dict{Any, Any} with 1 entry:\n",
       "  \"C\" => 12.07"
      ]
     },
     "metadata": {},
     "output_type": "display_data"
    }
   ],
   "source": [
    "d = Dict()  # a \"dictionary\", i.e. an associative array\n",
    "d[\"C\"] = minimum(c_bench.times) / 1e6  # in milliseconds\n",
    "d"
   ]
  },
  {
   "cell_type": "code",
   "execution_count": 12,
   "id": "1e061c27",
   "metadata": {},
   "outputs": [
    {
     "data": {
      "text/plain": [
       "Plots.GRBackend()"
      ]
     },
     "metadata": {},
     "output_type": "display_data"
    }
   ],
   "source": [
    "using Plots\n",
    "gr()"
   ]
  },
  {
   "cell_type": "code",
   "execution_count": 13,
   "id": "2b2e9468",
   "metadata": {},
   "outputs": [
    {
     "data": {
      "image/png": "[encoded data removed]",
      "image/svg+xml": [
       "<?xml version=\"1.0\" encoding=\"utf-8\"?>\n",
       "<svg xmlns=\"http://www.w3.org/2000/svg\" xmlns:xlink=\"http://www.w3.org/1999/xlink\" width=\"600\" height=\"400\" viewBox=\"0 0 2400 1600\">\n",
       "<defs>\n",
       "  <clipPath id=\"clip090\">\n",
       "    <rect x=\"0\" y=\"0\" width=\"2400\" height=\"1600\"/>\n",
       "  </clipPath>\n",
       "</defs>\n",
       "<path clip-path=\"url(#clip090)\" d=\"M0 1600 L2400 1600 L2400 0 L0 0  Z\" fill=\"#ffffff\" fill-rule=\"evenodd\" fill-opacity=\"1\"/>\n",
       "<defs>\n",
       "  <clipPath id=\"clip091\">\n",
       "    <rect x=\"480\" y=\"0\" width=\"1681\" height=\"1600\"/>\n",
       "  </clipPath>\n",
       "</defs>\n",
       "<path clip-path=\"url(#clip090)\" d=\"M202.227 1423.18 L2352.76 1423.18 L2352.76 47.2441 L202.227 47.2441  Z\" fill=\"#ffffff\" fill-rule=\"evenodd\" fill-opacity=\"1\"/>\n",
       "<defs>\n",
       "  <clipPath id=\"clip092\">\n",
       "    <rect x=\"202\" y=\"47\" width=\"2152\" height=\"1377\"/>\n",
       "  </clipPath>\n",
       "</defs>\n",
       "<polyline clip-path=\"url(#clip092)\" style=\"stroke:#000000; stroke-linecap:round; stroke-linejoin:round; stroke-width:2; stroke-opacity:0.1; fill:none\" points=\"497.993,1423.18 497.993,47.2441 \"/>\n",
       "<polyline clip-path=\"url(#clip092)\" style=\"stroke:#000000; stroke-linecap:round; stroke-linejoin:round; stroke-width:2; stroke-opacity:0.1; fill:none\" points=\"920.514,1423.18 920.514,47.2441 \"/>\n",
       "<polyline clip-path=\"url(#clip092)\" style=\"stroke:#000000; stroke-linecap:round; stroke-linejoin:round; stroke-width:2; stroke-opacity:0.1; fill:none\" points=\"1343.04,1423.18 1343.04,47.2441 \"/>\n",
       "<polyline clip-path=\"url(#clip092)\" style=\"stroke:#000000; stroke-linecap:round; stroke-linejoin:round; stroke-width:2; stroke-opacity:0.1; fill:none\" points=\"1765.56,1423.18 1765.56,47.2441 \"/>\n",
       "<polyline clip-path=\"url(#clip092)\" style=\"stroke:#000000; stroke-linecap:round; stroke-linejoin:round; stroke-width:2; stroke-opacity:0.1; fill:none\" points=\"2188.08,1423.18 2188.08,47.2441 \"/>\n",
       "<polyline clip-path=\"url(#clip092)\" style=\"stroke:#000000; stroke-linecap:round; stroke-linejoin:round; stroke-width:2; stroke-opacity:0.1; fill:none\" points=\"202.227,1423.18 2352.76,1423.18 \"/>\n",
       "<polyline clip-path=\"url(#clip092)\" style=\"stroke:#000000; stroke-linecap:round; stroke-linejoin:round; stroke-width:2; stroke-opacity:0.1; fill:none\" points=\"202.227,1193.86 2352.76,1193.86 \"/>\n",
       "<polyline clip-path=\"url(#clip092)\" style=\"stroke:#000000; stroke-linecap:round; stroke-linejoin:round; stroke-width:2; stroke-opacity:0.1; fill:none\" points=\"202.227,964.535 2352.76,964.535 \"/>\n",
       "<polyline clip-path=\"url(#clip092)\" style=\"stroke:#000000; stroke-linecap:round; stroke-linejoin:round; stroke-width:2; stroke-opacity:0.1; fill:none\" points=\"202.227,735.212 2352.76,735.212 \"/>\n",
       "<polyline clip-path=\"url(#clip092)\" style=\"stroke:#000000; stroke-linecap:round; stroke-linejoin:round; stroke-width:2; stroke-opacity:0.1; fill:none\" points=\"202.227,505.889 2352.76,505.889 \"/>\n",
       "<polyline clip-path=\"url(#clip092)\" style=\"stroke:#000000; stroke-linecap:round; stroke-linejoin:round; stroke-width:2; stroke-opacity:0.1; fill:none\" points=\"202.227,276.567 2352.76,276.567 \"/>\n",
       "<polyline clip-path=\"url(#clip092)\" style=\"stroke:#000000; stroke-linecap:round; stroke-linejoin:round; stroke-width:2; stroke-opacity:0.1; fill:none\" points=\"202.227,47.2441 2352.76,47.2441 \"/>\n",
       "<polyline clip-path=\"url(#clip090)\" style=\"stroke:#000000; stroke-linecap:round; stroke-linejoin:round; stroke-width:4; stroke-opacity:1; fill:none\" points=\"202.227,1423.18 2352.76,1423.18 \"/>\n",
       "<polyline clip-path=\"url(#clip090)\" style=\"stroke:#000000; stroke-linecap:round; stroke-linejoin:round; stroke-width:4; stroke-opacity:1; fill:none\" points=\"497.993,1423.18 497.993,1404.28 \"/>\n",
       "<polyline clip-path=\"url(#clip090)\" style=\"stroke:#000000; stroke-linecap:round; stroke-linejoin:round; stroke-width:4; stroke-opacity:1; fill:none\" points=\"920.514,1423.18 920.514,1404.28 \"/>\n",
       "<polyline clip-path=\"url(#clip090)\" style=\"stroke:#000000; stroke-linecap:round; stroke-linejoin:round; stroke-width:4; stroke-opacity:1; fill:none\" points=\"1343.04,1423.18 1343.04,1404.28 \"/>\n",
       "<polyline clip-path=\"url(#clip090)\" style=\"stroke:#000000; stroke-linecap:round; stroke-linejoin:round; stroke-width:4; stroke-opacity:1; fill:none\" points=\"1765.56,1423.18 1765.56,1404.28 \"/>\n",
       "<polyline clip-path=\"url(#clip090)\" style=\"stroke:#000000; stroke-linecap:round; stroke-linejoin:round; stroke-width:4; stroke-opacity:1; fill:none\" points=\"2188.08,1423.18 2188.08,1404.28 \"/>\n",
       "<path clip-path=\"url(#clip090)\" d=\"M450.863 1481.64 L458.502 1481.64 L458.502 1455.28 L450.192 1456.95 L450.192 1452.69 L458.456 1451.02 L463.132 1451.02 L463.132 1481.64 L470.77 1481.64 L470.77 1485.58 L450.863 1485.58 L450.863 1481.64 Z\" fill=\"#000000\" fill-rule=\"nonzero\" fill-opacity=\"1\" /><path clip-path=\"url(#clip090)\" d=\"M484.243 1481.64 L500.562 1481.64 L500.562 1485.58 L478.618 1485.58 L478.618 1481.64 Q481.28 1478.89 485.863 1474.26 Q490.469 1469.61 491.65 1468.27 Q493.895 1465.74 494.775 1464.01 Q495.678 1462.25 495.678 1460.56 Q495.678 1457.8 493.733 1456.07 Q491.812 1454.33 488.71 1454.33 Q486.511 1454.33 484.057 1455.09 Q481.627 1455.86 478.849 1457.41 L478.849 1452.69 Q481.673 1451.55 484.127 1450.97 Q486.581 1450.39 488.618 1450.39 Q493.988 1450.39 497.182 1453.08 Q500.377 1455.77 500.377 1460.26 Q500.377 1462.39 499.567 1464.31 Q498.78 1466.2 496.673 1468.8 Q496.094 1469.47 492.993 1472.69 Q489.891 1475.88 484.243 1481.64 Z\" fill=\"#000000\" fill-rule=\"nonzero\" fill-opacity=\"1\" /><path clip-path=\"url(#clip090)\" d=\"M510.377 1479.7 L515.261 1479.7 L515.261 1485.58 L510.377 1485.58 L510.377 1479.7 Z\" fill=\"#000000\" fill-rule=\"nonzero\" fill-opacity=\"1\" /><path clip-path=\"url(#clip090)\" d=\"M529.474 1481.64 L545.793 1481.64 L545.793 1485.58 L523.849 1485.58 L523.849 1481.64 Q526.511 1478.89 531.094 1474.26 Q535.701 1469.61 536.881 1468.27 Q539.127 1465.74 540.006 1464.01 Q540.909 1462.25 540.909 1460.56 Q540.909 1457.8 538.965 1456.07 Q537.043 1454.33 533.941 1454.33 Q531.742 1454.33 529.289 1455.09 Q526.858 1455.86 524.08 1457.41 L524.08 1452.69 Q526.904 1451.55 529.358 1450.97 Q531.812 1450.39 533.849 1450.39 Q539.219 1450.39 542.414 1453.08 Q545.608 1455.77 545.608 1460.26 Q545.608 1462.39 544.798 1464.31 Q544.011 1466.2 541.904 1468.8 Q541.326 1469.47 538.224 1472.69 Q535.122 1475.88 529.474 1481.64 Z\" fill=\"#000000\" fill-rule=\"nonzero\" fill-opacity=\"1\" /><path clip-path=\"url(#clip090)\" d=\"M872.343 1481.64 L879.982 1481.64 L879.982 1455.28 L871.672 1456.95 L871.672 1452.69 L879.936 1451.02 L884.611 1451.02 L884.611 1481.64 L892.25 1481.64 L892.25 1485.58 L872.343 1485.58 L872.343 1481.64 Z\" fill=\"#000000\" fill-rule=\"nonzero\" fill-opacity=\"1\" /><path clip-path=\"url(#clip090)\" d=\"M905.722 1481.64 L922.042 1481.64 L922.042 1485.58 L900.097 1485.58 L900.097 1481.64 Q902.759 1478.89 907.343 1474.26 Q911.949 1469.61 913.13 1468.27 Q915.375 1465.74 916.255 1464.01 Q917.158 1462.25 917.158 1460.56 Q917.158 1457.8 915.213 1456.07 Q913.292 1454.33 910.19 1454.33 Q907.991 1454.33 905.537 1455.09 Q903.107 1455.86 900.329 1457.41 L900.329 1452.69 Q903.153 1451.55 905.607 1450.97 Q908.06 1450.39 910.097 1450.39 Q915.468 1450.39 918.662 1453.08 Q921.857 1455.77 921.857 1460.26 Q921.857 1462.39 921.046 1464.31 Q920.259 1466.2 918.153 1468.8 Q917.574 1469.47 914.472 1472.69 Q911.371 1475.88 905.722 1481.64 Z\" fill=\"#000000\" fill-rule=\"nonzero\" fill-opacity=\"1\" /><path clip-path=\"url(#clip090)\" d=\"M931.857 1479.7 L936.741 1479.7 L936.741 1485.58 L931.857 1485.58 L931.857 1479.7 Z\" fill=\"#000000\" fill-rule=\"nonzero\" fill-opacity=\"1\" /><path clip-path=\"url(#clip090)\" d=\"M959.773 1455.09 L947.968 1473.54 L959.773 1473.54 L959.773 1455.09 M958.546 1451.02 L964.426 1451.02 L964.426 1473.54 L969.356 1473.54 L969.356 1477.43 L964.426 1477.43 L964.426 1485.58 L959.773 1485.58 L959.773 1477.43 L944.171 1477.43 L944.171 1472.92 L958.546 1451.02 Z\" fill=\"#000000\" fill-rule=\"nonzero\" fill-opacity=\"1\" /><path clip-path=\"url(#clip090)\" d=\"M1295.03 1481.64 L1302.67 1481.64 L1302.67 1455.28 L1294.36 1456.95 L1294.36 1452.69 L1302.62 1451.02 L1307.29 1451.02 L1307.29 1481.64 L1314.93 1481.64 L1314.93 1485.58 L1295.03 1485.58 L1295.03 1481.64 Z\" fill=\"#000000\" fill-rule=\"nonzero\" fill-opacity=\"1\" /><path clip-path=\"url(#clip090)\" d=\"M1328.41 1481.64 L1344.73 1481.64 L1344.73 1485.58 L1322.78 1485.58 L1322.78 1481.64 Q1325.44 1478.89 1330.03 1474.26 Q1334.63 1469.61 1335.81 1468.27 Q1338.06 1465.74 1338.94 1464.01 Q1339.84 1462.25 1339.84 1460.56 Q1339.84 1457.8 1337.9 1456.07 Q1335.98 1454.33 1332.87 1454.33 Q1330.67 1454.33 1328.22 1455.09 Q1325.79 1455.86 1323.01 1457.41 L1323.01 1452.69 Q1325.84 1451.55 1328.29 1450.97 Q1330.74 1450.39 1332.78 1450.39 Q1338.15 1450.39 1341.35 1453.08 Q1344.54 1455.77 1344.54 1460.26 Q1344.54 1462.39 1343.73 1464.31 Q1342.94 1466.2 1340.84 1468.8 Q1340.26 1469.47 1337.16 1472.69 Q1334.05 1475.88 1328.41 1481.64 Z\" fill=\"#000000\" fill-rule=\"nonzero\" fill-opacity=\"1\" /><path clip-path=\"url(#clip090)\" d=\"M1354.54 1479.7 L1359.42 1479.7 L1359.42 1485.58 L1354.54 1485.58 L1354.54 1479.7 Z\" fill=\"#000000\" fill-rule=\"nonzero\" fill-opacity=\"1\" /><path clip-path=\"url(#clip090)\" d=\"M1380.19 1466.44 Q1377.04 1466.44 1375.19 1468.59 Q1373.36 1470.74 1373.36 1474.49 Q1373.36 1478.22 1375.19 1480.39 Q1377.04 1482.55 1380.19 1482.55 Q1383.34 1482.55 1385.16 1480.39 Q1387.02 1478.22 1387.02 1474.49 Q1387.02 1470.74 1385.16 1468.59 Q1383.34 1466.44 1380.19 1466.44 M1389.47 1451.78 L1389.47 1456.04 Q1387.71 1455.21 1385.91 1454.77 Q1384.12 1454.33 1382.36 1454.33 Q1377.73 1454.33 1375.28 1457.45 Q1372.85 1460.58 1372.5 1466.9 Q1373.87 1464.89 1375.93 1463.82 Q1377.99 1462.73 1380.47 1462.73 Q1385.67 1462.73 1388.68 1465.9 Q1391.72 1469.05 1391.72 1474.49 Q1391.72 1479.82 1388.57 1483.03 Q1385.42 1486.25 1380.19 1486.25 Q1374.19 1486.25 1371.02 1481.67 Q1367.85 1477.06 1367.85 1468.33 Q1367.85 1460.14 1371.74 1455.28 Q1375.63 1450.39 1382.18 1450.39 Q1383.94 1450.39 1385.72 1450.74 Q1387.53 1451.09 1389.47 1451.78 Z\" fill=\"#000000\" fill-rule=\"nonzero\" fill-opacity=\"1\" /><path clip-path=\"url(#clip090)\" d=\"M1717.68 1481.64 L1725.31 1481.64 L1725.31 1455.28 L1717 1456.95 L1717 1452.69 L1725.27 1451.02 L1729.94 1451.02 L1729.94 1481.64 L1737.58 1481.64 L1737.58 1485.58 L1717.68 1485.58 L1717.68 1481.64 Z\" fill=\"#000000\" fill-rule=\"nonzero\" fill-opacity=\"1\" /><path clip-path=\"url(#clip090)\" d=\"M1751.05 1481.64 L1767.37 1481.64 L1767.37 1485.58 L1745.43 1485.58 L1745.43 1481.64 Q1748.09 1478.89 1752.68 1474.26 Q1757.28 1469.61 1758.46 1468.27 Q1760.71 1465.74 1761.59 1464.01 Q1762.49 1462.25 1762.49 1460.56 Q1762.49 1457.8 1760.55 1456.07 Q1758.62 1454.33 1755.52 1454.33 Q1753.32 1454.33 1750.87 1455.09 Q1748.44 1455.86 1745.66 1457.41 L1745.66 1452.69 Q1748.49 1451.55 1750.94 1450.97 Q1753.39 1450.39 1755.43 1450.39 Q1760.8 1450.39 1763.99 1453.08 Q1767.19 1455.77 1767.19 1460.26 Q1767.19 1462.39 1766.38 1464.31 Q1765.59 1466.2 1763.49 1468.8 Q1762.91 1469.47 1759.8 1472.69 Q1756.7 1475.88 1751.05 1481.64 Z\" fill=\"#000000\" fill-rule=\"nonzero\" fill-opacity=\"1\" /><path clip-path=\"url(#clip090)\" d=\"M1777.19 1479.7 L1782.07 1479.7 L1782.07 1485.58 L1777.19 1485.58 L1777.19 1479.7 Z\" fill=\"#000000\" fill-rule=\"nonzero\" fill-opacity=\"1\" /><path clip-path=\"url(#clip090)\" d=\"M1802.26 1469.17 Q1798.92 1469.17 1797 1470.95 Q1795.11 1472.73 1795.11 1475.86 Q1795.11 1478.98 1797 1480.77 Q1798.92 1482.55 1802.26 1482.55 Q1805.59 1482.55 1807.51 1480.77 Q1809.43 1478.96 1809.43 1475.86 Q1809.43 1472.73 1807.51 1470.95 Q1805.61 1469.17 1802.26 1469.17 M1797.58 1467.18 Q1794.57 1466.44 1792.88 1464.38 Q1791.22 1462.32 1791.22 1459.35 Q1791.22 1455.21 1794.16 1452.8 Q1797.12 1450.39 1802.26 1450.39 Q1807.42 1450.39 1810.36 1452.8 Q1813.3 1455.21 1813.3 1459.35 Q1813.3 1462.32 1811.61 1464.38 Q1809.94 1466.44 1806.96 1467.18 Q1810.34 1467.96 1812.21 1470.26 Q1814.11 1472.55 1814.11 1475.86 Q1814.11 1480.88 1811.03 1483.57 Q1807.98 1486.25 1802.26 1486.25 Q1796.54 1486.25 1793.46 1483.57 Q1790.41 1480.88 1790.41 1475.86 Q1790.41 1472.55 1792.3 1470.26 Q1794.2 1467.96 1797.58 1467.18 M1795.87 1459.79 Q1795.87 1462.48 1797.54 1463.98 Q1799.23 1465.49 1802.26 1465.49 Q1805.27 1465.49 1806.96 1463.98 Q1808.67 1462.48 1808.67 1459.79 Q1808.67 1457.11 1806.96 1455.6 Q1805.27 1454.1 1802.26 1454.1 Q1799.23 1454.1 1797.54 1455.6 Q1795.87 1457.11 1795.87 1459.79 Z\" fill=\"#000000\" fill-rule=\"nonzero\" fill-opacity=\"1\" /><path clip-path=\"url(#clip090)\" d=\"M2140.15 1481.64 L2147.79 1481.64 L2147.79 1455.28 L2139.48 1456.95 L2139.48 1452.69 L2147.74 1451.02 L2152.42 1451.02 L2152.42 1481.64 L2160.06 1481.64 L2160.06 1485.58 L2140.15 1485.58 L2140.15 1481.64 Z\" fill=\"#000000\" fill-rule=\"nonzero\" fill-opacity=\"1\" /><path clip-path=\"url(#clip090)\" d=\"M2183.67 1466.95 Q2187.03 1467.66 2188.9 1469.93 Q2190.8 1472.2 2190.8 1475.53 Q2190.8 1480.65 2187.28 1483.45 Q2183.76 1486.25 2177.28 1486.25 Q2175.1 1486.25 2172.79 1485.81 Q2170.5 1485.39 2168.04 1484.54 L2168.04 1480.02 Q2169.99 1481.16 2172.3 1481.74 Q2174.62 1482.32 2177.14 1482.32 Q2181.54 1482.32 2183.83 1480.58 Q2186.15 1478.84 2186.15 1475.53 Q2186.15 1472.48 2183.99 1470.77 Q2181.86 1469.03 2178.04 1469.03 L2174.02 1469.03 L2174.02 1465.19 L2178.23 1465.19 Q2181.68 1465.19 2183.51 1463.82 Q2185.34 1462.43 2185.34 1459.84 Q2185.34 1457.18 2183.44 1455.77 Q2181.56 1454.33 2178.04 1454.33 Q2176.12 1454.33 2173.92 1454.75 Q2171.72 1455.16 2169.09 1456.04 L2169.09 1451.88 Q2171.75 1451.14 2174.06 1450.77 Q2176.4 1450.39 2178.46 1450.39 Q2183.78 1450.39 2186.89 1452.83 Q2189.99 1455.23 2189.99 1459.35 Q2189.99 1462.22 2188.34 1464.21 Q2186.7 1466.18 2183.67 1466.95 Z\" fill=\"#000000\" fill-rule=\"nonzero\" fill-opacity=\"1\" /><path clip-path=\"url(#clip090)\" d=\"M2199.66 1479.7 L2204.55 1479.7 L2204.55 1485.58 L2199.66 1485.58 L2199.66 1479.7 Z\" fill=\"#000000\" fill-rule=\"nonzero\" fill-opacity=\"1\" /><path clip-path=\"url(#clip090)\" d=\"M2224.73 1454.1 Q2221.12 1454.1 2219.29 1457.66 Q2217.49 1461.2 2217.49 1468.33 Q2217.49 1475.44 2219.29 1479.01 Q2221.12 1482.55 2224.73 1482.55 Q2228.37 1482.55 2230.17 1479.01 Q2232 1475.44 2232 1468.33 Q2232 1461.2 2230.17 1457.66 Q2228.37 1454.1 2224.73 1454.1 M2224.73 1450.39 Q2230.54 1450.39 2233.6 1455 Q2236.68 1459.58 2236.68 1468.33 Q2236.68 1477.06 2233.6 1481.67 Q2230.54 1486.25 2224.73 1486.25 Q2218.92 1486.25 2215.84 1481.67 Q2212.79 1477.06 2212.79 1468.33 Q2212.79 1459.58 2215.84 1455 Q2218.92 1450.39 2224.73 1450.39 Z\" fill=\"#000000\" fill-rule=\"nonzero\" fill-opacity=\"1\" /><path clip-path=\"url(#clip090)\" d=\"M1108.83 1539.24 Q1111.03 1535.29 1114.08 1533.41 Q1117.14 1531.54 1121.28 1531.54 Q1126.85 1531.54 1129.87 1535.45 Q1132.89 1539.33 1132.89 1546.53 L1132.89 1568.04 L1127.01 1568.04 L1127.01 1546.72 Q1127.01 1541.59 1125.19 1539.11 Q1123.38 1536.63 1119.65 1536.63 Q1115.1 1536.63 1112.46 1539.65 Q1109.82 1542.68 1109.82 1547.9 L1109.82 1568.04 L1103.93 1568.04 L1103.93 1546.72 Q1103.93 1541.56 1102.12 1539.11 Q1100.3 1536.63 1096.51 1536.63 Q1092.03 1536.63 1089.39 1539.68 Q1086.74 1542.71 1086.74 1547.9 L1086.74 1568.04 L1080.86 1568.04 L1080.86 1532.4 L1086.74 1532.4 L1086.74 1537.93 Q1088.75 1534.66 1091.55 1533.1 Q1094.35 1531.54 1098.2 1531.54 Q1102.08 1531.54 1104.79 1533.51 Q1107.53 1535.48 1108.83 1539.24 Z\" fill=\"#000000\" fill-rule=\"nonzero\" fill-opacity=\"1\" /><path clip-path=\"url(#clip090)\" d=\"M1144.58 1532.4 L1150.43 1532.4 L1150.43 1568.04 L1144.58 1568.04 L1144.58 1532.4 M1144.58 1518.52 L1150.43 1518.52 L1150.43 1525.93 L1144.58 1525.93 L1144.58 1518.52 Z\" fill=\"#000000\" fill-rule=\"nonzero\" fill-opacity=\"1\" /><path clip-path=\"url(#clip090)\" d=\"M1162.69 1518.52 L1168.54 1518.52 L1168.54 1568.04 L1162.69 1568.04 L1162.69 1518.52 Z\" fill=\"#000000\" fill-rule=\"nonzero\" fill-opacity=\"1\" /><path clip-path=\"url(#clip090)\" d=\"M1180.8 1518.52 L1186.65 1518.52 L1186.65 1568.04 L1180.8 1568.04 L1180.8 1518.52 Z\" fill=\"#000000\" fill-rule=\"nonzero\" fill-opacity=\"1\" /><path clip-path=\"url(#clip090)\" d=\"M1198.91 1532.4 L1204.76 1532.4 L1204.76 1568.04 L1198.91 1568.04 L1198.91 1532.4 M1198.91 1518.52 L1204.76 1518.52 L1204.76 1525.93 L1198.91 1525.93 L1198.91 1518.52 Z\" fill=\"#000000\" fill-rule=\"nonzero\" fill-opacity=\"1\" /><path clip-path=\"url(#clip090)\" d=\"M1239.74 1533.45 L1239.74 1538.98 Q1237.26 1537.71 1234.59 1537.07 Q1231.91 1536.44 1229.05 1536.44 Q1224.69 1536.44 1222.49 1537.77 Q1220.33 1539.11 1220.33 1541.79 Q1220.33 1543.82 1221.89 1545 Q1223.45 1546.15 1228.16 1547.2 L1230.16 1547.64 Q1236.4 1548.98 1239.01 1551.43 Q1241.65 1553.85 1241.65 1558.21 Q1241.65 1563.17 1237.71 1566.07 Q1233.79 1568.97 1226.92 1568.97 Q1224.05 1568.97 1220.93 1568.39 Q1217.85 1567.85 1214.41 1566.74 L1214.41 1560.69 Q1217.65 1562.38 1220.81 1563.24 Q1223.96 1564.07 1227.04 1564.07 Q1231.18 1564.07 1233.41 1562.66 Q1235.64 1561.23 1235.64 1558.65 Q1235.64 1556.27 1234.01 1554.99 Q1232.42 1553.72 1226.98 1552.54 L1224.94 1552.07 Q1219.5 1550.92 1217.08 1548.56 Q1214.66 1546.18 1214.66 1542.04 Q1214.66 1537.01 1218.23 1534.27 Q1221.79 1531.54 1228.35 1531.54 Q1231.59 1531.54 1234.46 1532.01 Q1237.32 1532.49 1239.74 1533.45 Z\" fill=\"#000000\" fill-rule=\"nonzero\" fill-opacity=\"1\" /><path clip-path=\"url(#clip090)\" d=\"M1281.47 1548.76 L1281.47 1551.62 L1254.54 1551.62 Q1254.93 1557.67 1258.17 1560.85 Q1261.45 1564 1267.27 1564 Q1270.65 1564 1273.8 1563.17 Q1276.98 1562.35 1280.1 1560.69 L1280.1 1566.23 Q1276.95 1567.57 1273.64 1568.27 Q1270.33 1568.97 1266.92 1568.97 Q1258.39 1568.97 1253.4 1564 Q1248.43 1559.04 1248.43 1550.57 Q1248.43 1541.82 1253.14 1536.69 Q1257.89 1531.54 1265.91 1531.54 Q1273.1 1531.54 1277.27 1536.18 Q1281.47 1540.8 1281.47 1548.76 M1275.61 1547.04 Q1275.55 1542.23 1272.91 1539.37 Q1270.3 1536.5 1265.97 1536.5 Q1261.07 1536.5 1258.11 1539.27 Q1255.18 1542.04 1254.73 1547.07 L1275.61 1547.04 Z\" fill=\"#000000\" fill-rule=\"nonzero\" fill-opacity=\"1\" /><path clip-path=\"url(#clip090)\" d=\"M1316.74 1533.76 L1316.74 1539.24 Q1314.25 1537.87 1311.74 1537.2 Q1309.26 1536.5 1306.71 1536.5 Q1301.01 1536.5 1297.86 1540.13 Q1294.71 1543.73 1294.71 1550.25 Q1294.71 1556.78 1297.86 1560.4 Q1301.01 1564 1306.71 1564 Q1309.26 1564 1311.74 1563.33 Q1314.25 1562.63 1316.74 1561.26 L1316.74 1566.68 Q1314.29 1567.82 1311.64 1568.39 Q1309.03 1568.97 1306.07 1568.97 Q1298.02 1568.97 1293.28 1563.91 Q1288.54 1558.85 1288.54 1550.25 Q1288.54 1541.53 1293.31 1536.53 Q1298.12 1531.54 1306.46 1531.54 Q1309.16 1531.54 1311.74 1532.11 Q1314.32 1532.65 1316.74 1533.76 Z\" fill=\"#000000\" fill-rule=\"nonzero\" fill-opacity=\"1\" /><path clip-path=\"url(#clip090)\" d=\"M1340.73 1536.5 Q1336.02 1536.5 1333.29 1540.19 Q1330.55 1543.85 1330.55 1550.25 Q1330.55 1556.65 1333.26 1560.34 Q1335.99 1564 1340.73 1564 Q1345.41 1564 1348.15 1560.31 Q1350.89 1556.62 1350.89 1550.25 Q1350.89 1543.92 1348.15 1540.23 Q1345.41 1536.5 1340.73 1536.5 M1340.73 1531.54 Q1348.37 1531.54 1352.73 1536.5 Q1357.09 1541.47 1357.09 1550.25 Q1357.09 1559 1352.73 1564 Q1348.37 1568.97 1340.73 1568.97 Q1333.06 1568.97 1328.7 1564 Q1324.38 1559 1324.38 1550.25 Q1324.38 1541.47 1328.7 1536.5 Q1333.06 1531.54 1340.73 1531.54 Z\" fill=\"#000000\" fill-rule=\"nonzero\" fill-opacity=\"1\" /><path clip-path=\"url(#clip090)\" d=\"M1396.43 1546.53 L1396.43 1568.04 L1390.58 1568.04 L1390.58 1546.72 Q1390.58 1541.66 1388.61 1539.14 Q1386.63 1536.63 1382.68 1536.63 Q1377.94 1536.63 1375.21 1539.65 Q1372.47 1542.68 1372.47 1547.9 L1372.47 1568.04 L1366.58 1568.04 L1366.58 1532.4 L1372.47 1532.4 L1372.47 1537.93 Q1374.57 1534.72 1377.4 1533.13 Q1380.27 1531.54 1383.99 1531.54 Q1390.13 1531.54 1393.28 1535.36 Q1396.43 1539.14 1396.43 1546.53 Z\" fill=\"#000000\" fill-rule=\"nonzero\" fill-opacity=\"1\" /><path clip-path=\"url(#clip090)\" d=\"M1431.57 1537.81 L1431.57 1518.52 L1437.43 1518.52 L1437.43 1568.04 L1431.57 1568.04 L1431.57 1562.7 Q1429.73 1565.88 1426.89 1567.44 Q1424.09 1568.97 1420.15 1568.97 Q1413.69 1568.97 1409.61 1563.81 Q1405.57 1558.65 1405.57 1550.25 Q1405.57 1541.85 1409.61 1536.69 Q1413.69 1531.54 1420.15 1531.54 Q1424.09 1531.54 1426.89 1533.1 Q1429.73 1534.62 1431.57 1537.81 M1411.62 1550.25 Q1411.62 1556.71 1414.26 1560.4 Q1416.93 1564.07 1421.58 1564.07 Q1426.23 1564.07 1428.9 1560.4 Q1431.57 1556.71 1431.57 1550.25 Q1431.57 1543.79 1428.9 1540.13 Q1426.23 1536.44 1421.58 1536.44 Q1416.93 1536.44 1414.26 1540.13 Q1411.62 1543.79 1411.62 1550.25 Z\" fill=\"#000000\" fill-rule=\"nonzero\" fill-opacity=\"1\" /><path clip-path=\"url(#clip090)\" d=\"M1472.22 1533.45 L1472.22 1538.98 Q1469.74 1537.71 1467.06 1537.07 Q1464.39 1536.44 1461.52 1536.44 Q1457.16 1536.44 1454.97 1537.77 Q1452.8 1539.11 1452.8 1541.79 Q1452.8 1543.82 1454.36 1545 Q1455.92 1546.15 1460.63 1547.2 L1462.64 1547.64 Q1468.88 1548.98 1471.49 1551.43 Q1474.13 1553.85 1474.13 1558.21 Q1474.13 1563.17 1470.18 1566.07 Q1466.27 1568.97 1459.39 1568.97 Q1456.53 1568.97 1453.41 1568.39 Q1450.32 1567.85 1446.88 1566.74 L1446.88 1560.69 Q1450.13 1562.38 1453.28 1563.24 Q1456.43 1564.07 1459.52 1564.07 Q1463.66 1564.07 1465.88 1562.66 Q1468.11 1561.23 1468.11 1558.65 Q1468.11 1556.27 1466.49 1554.99 Q1464.9 1553.72 1459.46 1552.54 L1457.42 1552.07 Q1451.98 1550.92 1449.56 1548.56 Q1447.14 1546.18 1447.14 1542.04 Q1447.14 1537.01 1450.7 1534.27 Q1454.27 1531.54 1460.82 1531.54 Q1464.07 1531.54 1466.94 1532.01 Q1469.8 1532.49 1472.22 1533.45 Z\" fill=\"#000000\" fill-rule=\"nonzero\" fill-opacity=\"1\" /><polyline clip-path=\"url(#clip090)\" style=\"stroke:#000000; stroke-linecap:round; stroke-linejoin:round; stroke-width:4; stroke-opacity:1; fill:none\" points=\"202.227,1423.18 202.227,47.2441 \"/>\n",
       "<polyline clip-path=\"url(#clip090)\" style=\"stroke:#000000; stroke-linecap:round; stroke-linejoin:round; stroke-width:4; stroke-opacity:1; fill:none\" points=\"202.227,1423.18 221.125,1423.18 \"/>\n",
       "<polyline clip-path=\"url(#clip090)\" style=\"stroke:#000000; stroke-linecap:round; stroke-linejoin:round; stroke-width:4; stroke-opacity:1; fill:none\" points=\"202.227,1193.86 221.125,1193.86 \"/>\n",
       "<polyline clip-path=\"url(#clip090)\" style=\"stroke:#000000; stroke-linecap:round; stroke-linejoin:round; stroke-width:4; stroke-opacity:1; fill:none\" points=\"202.227,964.535 221.125,964.535 \"/>\n",
       "<polyline clip-path=\"url(#clip090)\" style=\"stroke:#000000; stroke-linecap:round; stroke-linejoin:round; stroke-width:4; stroke-opacity:1; fill:none\" points=\"202.227,735.212 221.125,735.212 \"/>\n",
       "<polyline clip-path=\"url(#clip090)\" style=\"stroke:#000000; stroke-linecap:round; stroke-linejoin:round; stroke-width:4; stroke-opacity:1; fill:none\" points=\"202.227,505.889 221.125,505.889 \"/>\n",
       "<polyline clip-path=\"url(#clip090)\" style=\"stroke:#000000; stroke-linecap:round; stroke-linejoin:round; stroke-width:4; stroke-opacity:1; fill:none\" points=\"202.227,276.567 221.125,276.567 \"/>\n",
       "<polyline clip-path=\"url(#clip090)\" style=\"stroke:#000000; stroke-linecap:round; stroke-linejoin:round; stroke-width:4; stroke-opacity:1; fill:none\" points=\"202.227,47.2441 221.125,47.2441 \"/>\n",
       "<path clip-path=\"url(#clip090)\" d=\"M154.283 1408.98 Q150.672 1408.98 148.843 1412.54 Q147.038 1416.08 147.038 1423.21 Q147.038 1430.32 148.843 1433.89 Q150.672 1437.43 154.283 1437.43 Q157.917 1437.43 159.723 1433.89 Q161.552 1430.32 161.552 1423.21 Q161.552 1416.08 159.723 1412.54 Q157.917 1408.98 154.283 1408.98 M154.283 1405.27 Q160.093 1405.27 163.149 1409.88 Q166.227 1414.46 166.227 1423.21 Q166.227 1431.94 163.149 1436.55 Q160.093 1441.13 154.283 1441.13 Q148.473 1441.13 145.394 1436.55 Q142.339 1431.94 142.339 1423.21 Q142.339 1414.46 145.394 1409.88 Q148.473 1405.27 154.283 1405.27 Z\" fill=\"#000000\" fill-rule=\"nonzero\" fill-opacity=\"1\" /><path clip-path=\"url(#clip090)\" d=\"M149.908 1207.2 L166.227 1207.2 L166.227 1211.14 L144.283 1211.14 L144.283 1207.2 Q146.945 1204.45 151.528 1199.82 Q156.135 1195.17 157.315 1193.82 Q159.561 1191.3 160.44 1189.56 Q161.343 1187.8 161.343 1186.11 Q161.343 1183.36 159.399 1181.62 Q157.478 1179.89 154.376 1179.89 Q152.177 1179.89 149.723 1180.65 Q147.292 1181.42 144.515 1182.97 L144.515 1178.24 Q147.339 1177.11 149.792 1176.53 Q152.246 1175.95 154.283 1175.95 Q159.653 1175.95 162.848 1178.64 Q166.042 1181.32 166.042 1185.81 Q166.042 1187.94 165.232 1189.86 Q164.445 1191.76 162.339 1194.35 Q161.76 1195.03 158.658 1198.24 Q155.556 1201.44 149.908 1207.2 Z\" fill=\"#000000\" fill-rule=\"nonzero\" fill-opacity=\"1\" /><path clip-path=\"url(#clip090)\" d=\"M156.644 951.329 L144.839 969.778 L156.644 969.778 L156.644 951.329 M155.417 947.255 L161.297 947.255 L161.297 969.778 L166.227 969.778 L166.227 973.666 L161.297 973.666 L161.297 981.815 L156.644 981.815 L156.644 973.666 L141.042 973.666 L141.042 969.153 L155.417 947.255 Z\" fill=\"#000000\" fill-rule=\"nonzero\" fill-opacity=\"1\" /><path clip-path=\"url(#clip090)\" d=\"M154.7 733.349 Q151.552 733.349 149.7 735.501 Q147.871 737.654 147.871 741.404 Q147.871 745.131 149.7 747.307 Q151.552 749.46 154.7 749.46 Q157.848 749.46 159.677 747.307 Q161.528 745.131 161.528 741.404 Q161.528 737.654 159.677 735.501 Q157.848 733.349 154.7 733.349 M163.982 718.696 L163.982 722.955 Q162.223 722.122 160.417 721.682 Q158.635 721.242 156.876 721.242 Q152.246 721.242 149.792 724.367 Q147.362 727.492 147.015 733.812 Q148.38 731.798 150.441 730.733 Q152.501 729.645 154.978 729.645 Q160.186 729.645 163.195 732.816 Q166.227 735.964 166.227 741.404 Q166.227 746.728 163.079 749.946 Q159.931 753.163 154.7 753.163 Q148.704 753.163 145.533 748.58 Q142.362 743.973 142.362 735.247 Q142.362 727.052 146.251 722.191 Q150.14 717.307 156.69 717.307 Q158.45 717.307 160.232 717.654 Q162.038 718.001 163.982 718.696 Z\" fill=\"#000000\" fill-rule=\"nonzero\" fill-opacity=\"1\" /><path clip-path=\"url(#clip090)\" d=\"M154.376 506.757 Q151.042 506.757 149.121 508.54 Q147.223 510.322 147.223 513.447 Q147.223 516.572 149.121 518.355 Q151.042 520.137 154.376 520.137 Q157.709 520.137 159.63 518.355 Q161.552 516.549 161.552 513.447 Q161.552 510.322 159.63 508.54 Q157.732 506.757 154.376 506.757 M149.7 504.767 Q146.691 504.026 145.001 501.966 Q143.334 499.906 143.334 496.943 Q143.334 492.799 146.274 490.392 Q149.237 487.984 154.376 487.984 Q159.538 487.984 162.477 490.392 Q165.417 492.799 165.417 496.943 Q165.417 499.906 163.727 501.966 Q162.061 504.026 159.075 504.767 Q162.454 505.554 164.329 507.845 Q166.227 510.137 166.227 513.447 Q166.227 518.47 163.149 521.155 Q160.093 523.841 154.376 523.841 Q148.658 523.841 145.579 521.155 Q142.524 518.47 142.524 513.447 Q142.524 510.137 144.422 507.845 Q146.32 505.554 149.7 504.767 M147.987 497.382 Q147.987 500.068 149.653 501.572 Q151.343 503.077 154.376 503.077 Q157.385 503.077 159.075 501.572 Q160.788 500.068 160.788 497.382 Q160.788 494.697 159.075 493.193 Q157.385 491.688 154.376 491.688 Q151.343 491.688 149.653 493.193 Q147.987 494.697 147.987 497.382 Z\" fill=\"#000000\" fill-rule=\"nonzero\" fill-opacity=\"1\" /><path clip-path=\"url(#clip090)\" d=\"M114.931 289.912 L122.57 289.912 L122.57 263.546 L114.26 265.213 L114.26 260.953 L122.524 259.287 L127.2 259.287 L127.2 289.912 L134.839 289.912 L134.839 293.847 L114.931 293.847 L114.931 289.912 Z\" fill=\"#000000\" fill-rule=\"nonzero\" fill-opacity=\"1\" /><path clip-path=\"url(#clip090)\" d=\"M154.283 262.365 Q150.672 262.365 148.843 265.93 Q147.038 269.472 147.038 276.601 Q147.038 283.708 148.843 287.273 Q150.672 290.814 154.283 290.814 Q157.917 290.814 159.723 287.273 Q161.552 283.708 161.552 276.601 Q161.552 269.472 159.723 265.93 Q157.917 262.365 154.283 262.365 M154.283 258.662 Q160.093 258.662 163.149 263.268 Q166.227 267.851 166.227 276.601 Q166.227 285.328 163.149 289.935 Q160.093 294.518 154.283 294.518 Q148.473 294.518 145.394 289.935 Q142.339 285.328 142.339 276.601 Q142.339 267.851 145.394 263.268 Q148.473 258.662 154.283 258.662 Z\" fill=\"#000000\" fill-rule=\"nonzero\" fill-opacity=\"1\" /><path clip-path=\"url(#clip090)\" d=\"M116.529 60.5889 L124.168 60.5889 L124.168 34.2233 L115.857 35.89 L115.857 31.6308 L124.121 29.9641 L128.797 29.9641 L128.797 60.5889 L136.436 60.5889 L136.436 64.5241 L116.529 64.5241 L116.529 60.5889 Z\" fill=\"#000000\" fill-rule=\"nonzero\" fill-opacity=\"1\" /><path clip-path=\"url(#clip090)\" d=\"M149.908 60.5889 L166.227 60.5889 L166.227 64.5241 L144.283 64.5241 L144.283 60.5889 Q146.945 57.8343 151.528 53.2047 Q156.135 48.552 157.315 47.2094 Q159.561 44.6862 160.44 42.9501 Q161.343 41.1909 161.343 39.5011 Q161.343 36.7465 159.399 35.0104 Q157.478 33.2743 154.376 33.2743 Q152.177 33.2743 149.723 34.0381 Q147.292 34.802 144.515 36.3529 L144.515 31.6308 Q147.339 30.4965 149.792 29.9178 Q152.246 29.3391 154.283 29.3391 Q159.653 29.3391 162.848 32.0243 Q166.042 34.7094 166.042 39.2002 Q166.042 41.3298 165.232 43.2511 Q164.445 45.1492 162.339 47.7418 Q161.76 48.4131 158.658 51.6306 Q155.556 54.8251 149.908 60.5889 Z\" fill=\"#000000\" fill-rule=\"nonzero\" fill-opacity=\"1\" /><path clip-path=\"url(#clip090)\" d=\"M29.7248 796.386 L35.1993 796.386 Q33.8307 798.869 33.1623 801.383 Q32.4621 803.866 32.4621 806.412 Q32.4621 812.11 36.0905 815.261 Q39.6872 818.412 46.212 818.412 Q52.7369 818.412 56.3653 815.261 Q59.9619 812.11 59.9619 806.412 Q59.9619 803.866 59.2935 801.383 Q58.5933 798.869 57.2247 796.386 L62.6355 796.386 Q63.7814 798.837 64.3543 801.479 Q64.9272 804.089 64.9272 807.049 Q64.9272 815.102 59.8664 819.844 Q54.8057 824.586 46.212 824.586 Q37.491 824.586 32.4939 819.812 Q27.4968 815.006 27.4968 806.667 Q27.4968 803.962 28.0697 801.383 Q28.6108 798.805 29.7248 796.386 Z\" fill=\"#000000\" fill-rule=\"nonzero\" fill-opacity=\"1\" /><path clip-path=\"url(#clip090)\" d=\"M32.4621 772.388 Q32.4621 777.098 36.1542 779.836 Q39.8145 782.573 46.212 782.573 Q52.6095 782.573 56.3017 779.867 Q59.9619 777.13 59.9619 772.388 Q59.9619 767.709 56.2698 764.972 Q52.5777 762.234 46.212 762.234 Q39.8781 762.234 36.186 764.972 Q32.4621 767.709 32.4621 772.388 M27.4968 772.388 Q27.4968 764.749 32.4621 760.388 Q37.4273 756.028 46.212 756.028 Q54.9649 756.028 59.9619 760.388 Q64.9272 764.749 64.9272 772.388 Q64.9272 780.058 59.9619 784.419 Q54.9649 788.748 46.212 788.748 Q37.4273 788.748 32.4621 784.419 Q27.4968 780.058 27.4968 772.388 Z\" fill=\"#000000\" fill-rule=\"nonzero\" fill-opacity=\"1\" /><path clip-path=\"url(#clip090)\" d=\"M49.9359 746.925 L28.3562 746.925 L28.3562 741.068 L49.7131 741.068 Q54.7739 741.068 57.3202 739.095 Q59.8346 737.122 59.8346 733.175 Q59.8346 728.432 56.8109 725.695 Q53.7872 722.926 48.5673 722.926 L28.3562 722.926 L28.3562 717.07 L64.0042 717.07 L64.0042 722.926 L58.5296 722.926 Q61.7762 725.059 63.3676 727.891 Q64.9272 730.692 64.9272 734.416 Q64.9272 740.559 61.1078 743.742 Q57.2883 746.925 49.9359 746.925 M27.4968 732.188 L27.4968 732.188 Z\" fill=\"#000000\" fill-rule=\"nonzero\" fill-opacity=\"1\" /><path clip-path=\"url(#clip090)\" d=\"M42.4881 675.374 L64.0042 675.374 L64.0042 681.231 L42.679 681.231 Q37.6183 681.231 35.1038 683.204 Q32.5894 685.178 32.5894 689.124 Q32.5894 693.867 35.6131 696.604 Q38.6368 699.341 43.8567 699.341 L64.0042 699.341 L64.0042 705.229 L28.3562 705.229 L28.3562 699.341 L33.8944 699.341 Q30.6797 697.241 29.0883 694.408 Q27.4968 691.543 27.4968 687.819 Q27.4968 681.676 31.3163 678.525 Q35.1038 675.374 42.4881 675.374 Z\" fill=\"#000000\" fill-rule=\"nonzero\" fill-opacity=\"1\" /><path clip-path=\"url(#clip090)\" d=\"M18.2347 657.9 L28.3562 657.9 L28.3562 645.837 L32.9077 645.837 L32.9077 657.9 L52.2594 657.9 Q56.6199 657.9 57.8613 656.723 Q59.1026 655.513 59.1026 651.853 L59.1026 645.837 L64.0042 645.837 L64.0042 651.853 Q64.0042 658.633 61.4897 661.211 Q58.9434 663.789 52.2594 663.789 L32.9077 663.789 L32.9077 668.086 L28.3562 668.086 L28.3562 663.789 L18.2347 663.789 L18.2347 657.9 Z\" fill=\"#000000\" fill-rule=\"nonzero\" fill-opacity=\"1\" /><path clip-path=\"url(#clip092)\" d=\"M202.227 1193.86 L202.227 1423.18 L244.48 1423.18 L244.48 1193.86 L202.227 1193.86 L202.227 1193.86  Z\" fill=\"#009af9\" fill-rule=\"evenodd\" fill-opacity=\"1\"/>\n",
       "<polyline clip-path=\"url(#clip092)\" style=\"stroke:#000000; stroke-linecap:round; stroke-linejoin:round; stroke-width:4; stroke-opacity:1; fill:none\" points=\"202.227,1193.86 202.227,1423.18 244.48,1423.18 244.48,1193.86 202.227,1193.86 \"/>\n",
       "<path clip-path=\"url(#clip092)\" d=\"M244.48 849.873 L244.48 1423.18 L286.732 1423.18 L286.732 849.873 L244.48 849.873 L244.48 849.873  Z\" fill=\"#009af9\" fill-rule=\"evenodd\" fill-opacity=\"1\"/>\n",
       "<polyline clip-path=\"url(#clip092)\" style=\"stroke:#000000; stroke-linecap:round; stroke-linejoin:round; stroke-width:4; stroke-opacity:1; fill:none\" points=\"244.48,849.873 244.48,1423.18 286.732,1423.18 286.732,849.873 244.48,849.873 \"/>\n",
       "<path clip-path=\"url(#clip092)\" d=\"M286.732 1193.86 L286.732 1423.18 L328.984 1423.18 L328.984 1193.86 L286.732 1193.86 L286.732 1193.86  Z\" fill=\"#009af9\" fill-rule=\"evenodd\" fill-opacity=\"1\"/>\n",
       "<polyline clip-path=\"url(#clip092)\" style=\"stroke:#000000; stroke-linecap:round; stroke-linejoin:round; stroke-width:4; stroke-opacity:1; fill:none\" points=\"286.732,1193.86 286.732,1423.18 328.984,1423.18 328.984,1193.86 286.732,1193.86 \"/>\n",
       "<path clip-path=\"url(#clip092)\" d=\"M328.984 1193.86 L328.984 1423.18 L371.236 1423.18 L371.236 1193.86 L328.984 1193.86 L328.984 1193.86  Z\" fill=\"#009af9\" fill-rule=\"evenodd\" fill-opacity=\"1\"/>\n",
       "<polyline clip-path=\"url(#clip092)\" style=\"stroke:#000000; stroke-linecap:round; stroke-linejoin:round; stroke-width:4; stroke-opacity:1; fill:none\" points=\"328.984,1193.86 328.984,1423.18 371.236,1423.18 371.236,1193.86 328.984,1193.86 \"/>\n",
       "<path clip-path=\"url(#clip092)\" d=\"M371.236 1193.86 L371.236 1423.18 L413.488 1423.18 L413.488 1193.86 L371.236 1193.86 L371.236 1193.86  Z\" fill=\"#009af9\" fill-rule=\"evenodd\" fill-opacity=\"1\"/>\n",
       "<polyline clip-path=\"url(#clip092)\" style=\"stroke:#000000; stroke-linecap:round; stroke-linejoin:round; stroke-width:4; stroke-opacity:1; fill:none\" points=\"371.236,1193.86 371.236,1423.18 413.488,1423.18 413.488,1193.86 371.236,1193.86 \"/>\n",
       "<path clip-path=\"url(#clip092)\" d=\"M413.488 1423.18 L413.488 1423.18 L455.74 1423.18 L455.74 1423.18 L413.488 1423.18 L413.488 1423.18  Z\" fill=\"#009af9\" fill-rule=\"evenodd\" fill-opacity=\"1\"/>\n",
       "<polyline clip-path=\"url(#clip092)\" style=\"stroke:#000000; stroke-linecap:round; stroke-linejoin:round; stroke-width:4; stroke-opacity:1; fill:none\" points=\"413.488,1423.18 413.488,1423.18 455.74,1423.18 413.488,1423.18 \"/>\n",
       "<path clip-path=\"url(#clip092)\" d=\"M455.74 1308.52 L455.74 1423.18 L497.993 1423.18 L497.993 1308.52 L455.74 1308.52 L455.74 1308.52  Z\" fill=\"#009af9\" fill-rule=\"evenodd\" fill-opacity=\"1\"/>\n",
       "<polyline clip-path=\"url(#clip092)\" style=\"stroke:#000000; stroke-linecap:round; stroke-linejoin:round; stroke-width:4; stroke-opacity:1; fill:none\" points=\"455.74,1308.52 455.74,1423.18 497.993,1423.18 497.993,1308.52 455.74,1308.52 \"/>\n",
       "<path clip-path=\"url(#clip092)\" d=\"M497.993 964.535 L497.993 1423.18 L540.245 1423.18 L540.245 964.535 L497.993 964.535 L497.993 964.535  Z\" fill=\"#009af9\" fill-rule=\"evenodd\" fill-opacity=\"1\"/>\n",
       "<polyline clip-path=\"url(#clip092)\" style=\"stroke:#000000; stroke-linecap:round; stroke-linejoin:round; stroke-width:4; stroke-opacity:1; fill:none\" points=\"497.993,964.535 497.993,1423.18 540.245,1423.18 540.245,964.535 497.993,964.535 \"/>\n",
       "<path clip-path=\"url(#clip092)\" d=\"M540.245 1193.86 L540.245 1423.18 L582.497 1423.18 L582.497 1193.86 L540.245 1193.86 L540.245 1193.86  Z\" fill=\"#009af9\" fill-rule=\"evenodd\" fill-opacity=\"1\"/>\n",
       "<polyline clip-path=\"url(#clip092)\" style=\"stroke:#000000; stroke-linecap:round; stroke-linejoin:round; stroke-width:4; stroke-opacity:1; fill:none\" points=\"540.245,1193.86 540.245,1423.18 582.497,1423.18 582.497,1193.86 540.245,1193.86 \"/>\n",
       "<path clip-path=\"url(#clip092)\" d=\"M582.497 964.535 L582.497 1423.18 L624.749 1423.18 L624.749 964.535 L582.497 964.535 L582.497 964.535  Z\" fill=\"#009af9\" fill-rule=\"evenodd\" fill-opacity=\"1\"/>\n",
       "<polyline clip-path=\"url(#clip092)\" style=\"stroke:#000000; stroke-linecap:round; stroke-linejoin:round; stroke-width:4; stroke-opacity:1; fill:none\" points=\"582.497,964.535 582.497,1423.18 624.749,1423.18 624.749,964.535 582.497,964.535 \"/>\n",
       "<path clip-path=\"url(#clip092)\" d=\"M624.749 1308.52 L624.749 1423.18 L667.001 1423.18 L667.001 1308.52 L624.749 1308.52 L624.749 1308.52  Z\" fill=\"#009af9\" fill-rule=\"evenodd\" fill-opacity=\"1\"/>\n",
       "<polyline clip-path=\"url(#clip092)\" style=\"stroke:#000000; stroke-linecap:round; stroke-linejoin:round; stroke-width:4; stroke-opacity:1; fill:none\" points=\"624.749,1308.52 624.749,1423.18 667.001,1423.18 667.001,1308.52 624.749,1308.52 \"/>\n",
       "<path clip-path=\"url(#clip092)\" d=\"M667.001 1079.2 L667.001 1423.18 L709.253 1423.18 L709.253 1079.2 L667.001 1079.2 L667.001 1079.2  Z\" fill=\"#009af9\" fill-rule=\"evenodd\" fill-opacity=\"1\"/>\n",
       "<polyline clip-path=\"url(#clip092)\" style=\"stroke:#000000; stroke-linecap:round; stroke-linejoin:round; stroke-width:4; stroke-opacity:1; fill:none\" points=\"667.001,1079.2 667.001,1423.18 709.253,1423.18 709.253,1079.2 667.001,1079.2 \"/>\n",
       "<path clip-path=\"url(#clip092)\" d=\"M709.253 1423.18 L709.253 1423.18 L751.505 1423.18 L751.505 1423.18 L709.253 1423.18 L709.253 1423.18  Z\" fill=\"#009af9\" fill-rule=\"evenodd\" fill-opacity=\"1\"/>\n",
       "<polyline clip-path=\"url(#clip092)\" style=\"stroke:#000000; stroke-linecap:round; stroke-linejoin:round; stroke-width:4; stroke-opacity:1; fill:none\" points=\"709.253,1423.18 709.253,1423.18 751.505,1423.18 709.253,1423.18 \"/>\n",
       "<path clip-path=\"url(#clip092)\" d=\"M751.505 1193.86 L751.505 1423.18 L793.758 1423.18 L793.758 1193.86 L751.505 1193.86 L751.505 1193.86  Z\" fill=\"#009af9\" fill-rule=\"evenodd\" fill-opacity=\"1\"/>\n",
       "<polyline clip-path=\"url(#clip092)\" style=\"stroke:#000000; stroke-linecap:round; stroke-linejoin:round; stroke-width:4; stroke-opacity:1; fill:none\" points=\"751.505,1193.86 751.505,1423.18 793.758,1423.18 793.758,1193.86 751.505,1193.86 \"/>\n",
       "<path clip-path=\"url(#clip092)\" d=\"M793.758 1079.2 L793.758 1423.18 L836.01 1423.18 L836.01 1079.2 L793.758 1079.2 L793.758 1079.2  Z\" fill=\"#009af9\" fill-rule=\"evenodd\" fill-opacity=\"1\"/>\n",
       "<polyline clip-path=\"url(#clip092)\" style=\"stroke:#000000; stroke-linecap:round; stroke-linejoin:round; stroke-width:4; stroke-opacity:1; fill:none\" points=\"793.758,1079.2 793.758,1423.18 836.01,1423.18 836.01,1079.2 793.758,1079.2 \"/>\n",
       "<path clip-path=\"url(#clip092)\" d=\"M836.01 1308.52 L836.01 1423.18 L878.262 1423.18 L878.262 1308.52 L836.01 1308.52 L836.01 1308.52  Z\" fill=\"#009af9\" fill-rule=\"evenodd\" fill-opacity=\"1\"/>\n",
       "<polyline clip-path=\"url(#clip092)\" style=\"stroke:#000000; stroke-linecap:round; stroke-linejoin:round; stroke-width:4; stroke-opacity:1; fill:none\" points=\"836.01,1308.52 836.01,1423.18 878.262,1423.18 878.262,1308.52 836.01,1308.52 \"/>\n",
       "<path clip-path=\"url(#clip092)\" d=\"M878.262 1193.86 L878.262 1423.18 L920.514 1423.18 L920.514 1193.86 L878.262 1193.86 L878.262 1193.86  Z\" fill=\"#009af9\" fill-rule=\"evenodd\" fill-opacity=\"1\"/>\n",
       "<polyline clip-path=\"url(#clip092)\" style=\"stroke:#000000; stroke-linecap:round; stroke-linejoin:round; stroke-width:4; stroke-opacity:1; fill:none\" points=\"878.262,1193.86 878.262,1423.18 920.514,1423.18 920.514,1193.86 878.262,1193.86 \"/>\n",
       "<path clip-path=\"url(#clip092)\" d=\"M920.514 1079.2 L920.514 1423.18 L962.766 1423.18 L962.766 1079.2 L920.514 1079.2 L920.514 1079.2  Z\" fill=\"#009af9\" fill-rule=\"evenodd\" fill-opacity=\"1\"/>\n",
       "<polyline clip-path=\"url(#clip092)\" style=\"stroke:#000000; stroke-linecap:round; stroke-linejoin:round; stroke-width:4; stroke-opacity:1; fill:none\" points=\"920.514,1079.2 920.514,1423.18 962.766,1423.18 962.766,1079.2 920.514,1079.2 \"/>\n",
       "<path clip-path=\"url(#clip092)\" d=\"M962.766 1423.18 L962.766 1423.18 L1005.02 1423.18 L1005.02 1423.18 L962.766 1423.18 L962.766 1423.18  Z\" fill=\"#009af9\" fill-rule=\"evenodd\" fill-opacity=\"1\"/>\n",
       "<polyline clip-path=\"url(#clip092)\" style=\"stroke:#000000; stroke-linecap:round; stroke-linejoin:round; stroke-width:4; stroke-opacity:1; fill:none\" points=\"962.766,1423.18 962.766,1423.18 1005.02,1423.18 962.766,1423.18 \"/>\n",
       "<path clip-path=\"url(#clip092)\" d=\"M1005.02 1423.18 L1005.02 1423.18 L1047.27 1423.18 L1047.27 1423.18 L1005.02 1423.18 L1005.02 1423.18  Z\" fill=\"#009af9\" fill-rule=\"evenodd\" fill-opacity=\"1\"/>\n",
       "<polyline clip-path=\"url(#clip092)\" style=\"stroke:#000000; stroke-linecap:round; stroke-linejoin:round; stroke-width:4; stroke-opacity:1; fill:none\" points=\"1005.02,1423.18 1005.02,1423.18 1047.27,1423.18 1005.02,1423.18 \"/>\n",
       "<path clip-path=\"url(#clip092)\" d=\"M1047.27 1193.86 L1047.27 1423.18 L1089.52 1423.18 L1089.52 1193.86 L1047.27 1193.86 L1047.27 1193.86  Z\" fill=\"#009af9\" fill-rule=\"evenodd\" fill-opacity=\"1\"/>\n",
       "<polyline clip-path=\"url(#clip092)\" style=\"stroke:#000000; stroke-linecap:round; stroke-linejoin:round; stroke-width:4; stroke-opacity:1; fill:none\" points=\"1047.27,1193.86 1047.27,1423.18 1089.52,1423.18 1089.52,1193.86 1047.27,1193.86 \"/>\n",
       "<path clip-path=\"url(#clip092)\" d=\"M1089.52 1423.18 L1089.52 1423.18 L1131.77 1423.18 L1131.77 1423.18 L1089.52 1423.18 L1089.52 1423.18  Z\" fill=\"#009af9\" fill-rule=\"evenodd\" fill-opacity=\"1\"/>\n",
       "<polyline clip-path=\"url(#clip092)\" style=\"stroke:#000000; stroke-linecap:round; stroke-linejoin:round; stroke-width:4; stroke-opacity:1; fill:none\" points=\"1089.52,1423.18 1089.52,1423.18 1131.77,1423.18 1089.52,1423.18 \"/>\n",
       "<path clip-path=\"url(#clip092)\" d=\"M1131.77 1423.18 L1131.77 1423.18 L1174.03 1423.18 L1174.03 1423.18 L1131.77 1423.18 L1131.77 1423.18  Z\" fill=\"#009af9\" fill-rule=\"evenodd\" fill-opacity=\"1\"/>\n",
       "<polyline clip-path=\"url(#clip092)\" style=\"stroke:#000000; stroke-linecap:round; stroke-linejoin:round; stroke-width:4; stroke-opacity:1; fill:none\" points=\"1131.77,1423.18 1131.77,1423.18 1174.03,1423.18 1131.77,1423.18 \"/>\n",
       "<path clip-path=\"url(#clip092)\" d=\"M1174.03 1079.2 L1174.03 1423.18 L1216.28 1423.18 L1216.28 1079.2 L1174.03 1079.2 L1174.03 1079.2  Z\" fill=\"#009af9\" fill-rule=\"evenodd\" fill-opacity=\"1\"/>\n",
       "<polyline clip-path=\"url(#clip092)\" style=\"stroke:#000000; stroke-linecap:round; stroke-linejoin:round; stroke-width:4; stroke-opacity:1; fill:none\" points=\"1174.03,1079.2 1174.03,1423.18 1216.28,1423.18 1216.28,1079.2 1174.03,1079.2 \"/>\n",
       "<path clip-path=\"url(#clip092)\" d=\"M1216.28 1423.18 L1216.28 1423.18 L1258.53 1423.18 L1258.53 1423.18 L1216.28 1423.18 L1216.28 1423.18  Z\" fill=\"#009af9\" fill-rule=\"evenodd\" fill-opacity=\"1\"/>\n",
       "<polyline clip-path=\"url(#clip092)\" style=\"stroke:#000000; stroke-linecap:round; stroke-linejoin:round; stroke-width:4; stroke-opacity:1; fill:none\" points=\"1216.28,1423.18 1216.28,1423.18 1258.53,1423.18 1216.28,1423.18 \"/>\n",
       "<path clip-path=\"url(#clip092)\" d=\"M1258.53 1308.52 L1258.53 1423.18 L1300.78 1423.18 L1300.78 1308.52 L1258.53 1308.52 L1258.53 1308.52  Z\" fill=\"#009af9\" fill-rule=\"evenodd\" fill-opacity=\"1\"/>\n",
       "<polyline clip-path=\"url(#clip092)\" style=\"stroke:#000000; stroke-linecap:round; stroke-linejoin:round; stroke-width:4; stroke-opacity:1; fill:none\" points=\"1258.53,1308.52 1258.53,1423.18 1300.78,1423.18 1300.78,1308.52 1258.53,1308.52 \"/>\n",
       "<path clip-path=\"url(#clip092)\" d=\"M1300.78 1423.18 L1300.78 1423.18 L1343.04 1423.18 L1343.04 1423.18 L1300.78 1423.18 L1300.78 1423.18  Z\" fill=\"#009af9\" fill-rule=\"evenodd\" fill-opacity=\"1\"/>\n",
       "<polyline clip-path=\"url(#clip092)\" style=\"stroke:#000000; stroke-linecap:round; stroke-linejoin:round; stroke-width:4; stroke-opacity:1; fill:none\" points=\"1300.78,1423.18 1300.78,1423.18 1343.04,1423.18 1300.78,1423.18 \"/>\n",
       "<path clip-path=\"url(#clip092)\" d=\"M1343.04 1308.52 L1343.04 1423.18 L1385.29 1423.18 L1385.29 1308.52 L1343.04 1308.52 L1343.04 1308.52  Z\" fill=\"#009af9\" fill-rule=\"evenodd\" fill-opacity=\"1\"/>\n",
       "<polyline clip-path=\"url(#clip092)\" style=\"stroke:#000000; stroke-linecap:round; stroke-linejoin:round; stroke-width:4; stroke-opacity:1; fill:none\" points=\"1343.04,1308.52 1343.04,1423.18 1385.29,1423.18 1385.29,1308.52 1343.04,1308.52 \"/>\n",
       "<path clip-path=\"url(#clip092)\" d=\"M1385.29 1423.18 L1385.29 1423.18 L1427.54 1423.18 L1427.54 1423.18 L1385.29 1423.18 L1385.29 1423.18  Z\" fill=\"#009af9\" fill-rule=\"evenodd\" fill-opacity=\"1\"/>\n",
       "<polyline clip-path=\"url(#clip092)\" style=\"stroke:#000000; stroke-linecap:round; stroke-linejoin:round; stroke-width:4; stroke-opacity:1; fill:none\" points=\"1385.29,1423.18 1385.29,1423.18 1427.54,1423.18 1385.29,1423.18 \"/>\n",
       "<path clip-path=\"url(#clip092)\" d=\"M1427.54 1308.52 L1427.54 1423.18 L1469.79 1423.18 L1469.79 1308.52 L1427.54 1308.52 L1427.54 1308.52  Z\" fill=\"#009af9\" fill-rule=\"evenodd\" fill-opacity=\"1\"/>\n",
       "<polyline clip-path=\"url(#clip092)\" style=\"stroke:#000000; stroke-linecap:round; stroke-linejoin:round; stroke-width:4; stroke-opacity:1; fill:none\" points=\"1427.54,1308.52 1427.54,1423.18 1469.79,1423.18 1469.79,1308.52 1427.54,1308.52 \"/>\n",
       "<path clip-path=\"url(#clip092)\" d=\"M1469.79 1308.52 L1469.79 1423.18 L1512.04 1423.18 L1512.04 1308.52 L1469.79 1308.52 L1469.79 1308.52  Z\" fill=\"#009af9\" fill-rule=\"evenodd\" fill-opacity=\"1\"/>\n",
       "<polyline clip-path=\"url(#clip092)\" style=\"stroke:#000000; stroke-linecap:round; stroke-linejoin:round; stroke-width:4; stroke-opacity:1; fill:none\" points=\"1469.79,1308.52 1469.79,1423.18 1512.04,1423.18 1512.04,1308.52 1469.79,1308.52 \"/>\n",
       "<path clip-path=\"url(#clip092)\" d=\"M1512.04 1308.52 L1512.04 1423.18 L1554.3 1423.18 L1554.3 1308.52 L1512.04 1308.52 L1512.04 1308.52  Z\" fill=\"#009af9\" fill-rule=\"evenodd\" fill-opacity=\"1\"/>\n",
       "<polyline clip-path=\"url(#clip092)\" style=\"stroke:#000000; stroke-linecap:round; stroke-linejoin:round; stroke-width:4; stroke-opacity:1; fill:none\" points=\"1512.04,1308.52 1512.04,1423.18 1554.3,1423.18 1554.3,1308.52 1512.04,1308.52 \"/>\n",
       "<path clip-path=\"url(#clip092)\" d=\"M1554.3 1308.52 L1554.3 1423.18 L1596.55 1423.18 L1596.55 1308.52 L1554.3 1308.52 L1554.3 1308.52  Z\" fill=\"#009af9\" fill-rule=\"evenodd\" fill-opacity=\"1\"/>\n",
       "<polyline clip-path=\"url(#clip092)\" style=\"stroke:#000000; stroke-linecap:round; stroke-linejoin:round; stroke-width:4; stroke-opacity:1; fill:none\" points=\"1554.3,1308.52 1554.3,1423.18 1596.55,1423.18 1596.55,1308.52 1554.3,1308.52 \"/>\n",
       "<path clip-path=\"url(#clip092)\" d=\"M1596.55 1193.86 L1596.55 1423.18 L1638.8 1423.18 L1638.8 1193.86 L1596.55 1193.86 L1596.55 1193.86  Z\" fill=\"#009af9\" fill-rule=\"evenodd\" fill-opacity=\"1\"/>\n",
       "<polyline clip-path=\"url(#clip092)\" style=\"stroke:#000000; stroke-linecap:round; stroke-linejoin:round; stroke-width:4; stroke-opacity:1; fill:none\" points=\"1596.55,1193.86 1596.55,1423.18 1638.8,1423.18 1638.8,1193.86 1596.55,1193.86 \"/>\n",
       "<path clip-path=\"url(#clip092)\" d=\"M1638.8 1423.18 L1638.8 1423.18 L1681.05 1423.18 L1681.05 1423.18 L1638.8 1423.18 L1638.8 1423.18  Z\" fill=\"#009af9\" fill-rule=\"evenodd\" fill-opacity=\"1\"/>\n",
       "<polyline clip-path=\"url(#clip092)\" style=\"stroke:#000000; stroke-linecap:round; stroke-linejoin:round; stroke-width:4; stroke-opacity:1; fill:none\" points=\"1638.8,1423.18 1638.8,1423.18 1681.05,1423.18 1638.8,1423.18 \"/>\n",
       "<path clip-path=\"url(#clip092)\" d=\"M1681.05 1308.52 L1681.05 1423.18 L1723.3 1423.18 L1723.3 1308.52 L1681.05 1308.52 L1681.05 1308.52  Z\" fill=\"#009af9\" fill-rule=\"evenodd\" fill-opacity=\"1\"/>\n",
       "<polyline clip-path=\"url(#clip092)\" style=\"stroke:#000000; stroke-linecap:round; stroke-linejoin:round; stroke-width:4; stroke-opacity:1; fill:none\" points=\"1681.05,1308.52 1681.05,1423.18 1723.3,1423.18 1723.3,1308.52 1681.05,1308.52 \"/>\n",
       "<path clip-path=\"url(#clip092)\" d=\"M1723.3 1193.86 L1723.3 1423.18 L1765.56 1423.18 L1765.56 1193.86 L1723.3 1193.86 L1723.3 1193.86  Z\" fill=\"#009af9\" fill-rule=\"evenodd\" fill-opacity=\"1\"/>\n",
       "<polyline clip-path=\"url(#clip092)\" style=\"stroke:#000000; stroke-linecap:round; stroke-linejoin:round; stroke-width:4; stroke-opacity:1; fill:none\" points=\"1723.3,1193.86 1723.3,1423.18 1765.56,1423.18 1765.56,1193.86 1723.3,1193.86 \"/>\n",
       "<path clip-path=\"url(#clip092)\" d=\"M1765.56 1423.18 L1765.56 1423.18 L1807.81 1423.18 L1807.81 1423.18 L1765.56 1423.18 L1765.56 1423.18  Z\" fill=\"#009af9\" fill-rule=\"evenodd\" fill-opacity=\"1\"/>\n",
       "<polyline clip-path=\"url(#clip092)\" style=\"stroke:#000000; stroke-linecap:round; stroke-linejoin:round; stroke-width:4; stroke-opacity:1; fill:none\" points=\"1765.56,1423.18 1765.56,1423.18 1807.81,1423.18 1765.56,1423.18 \"/>\n",
       "<path clip-path=\"url(#clip092)\" d=\"M1807.81 1423.18 L1807.81 1423.18 L1850.06 1423.18 L1850.06 1423.18 L1807.81 1423.18 L1807.81 1423.18  Z\" fill=\"#009af9\" fill-rule=\"evenodd\" fill-opacity=\"1\"/>\n",
       "<polyline clip-path=\"url(#clip092)\" style=\"stroke:#000000; stroke-linecap:round; stroke-linejoin:round; stroke-width:4; stroke-opacity:1; fill:none\" points=\"1807.81,1423.18 1807.81,1423.18 1850.06,1423.18 1807.81,1423.18 \"/>\n",
       "<path clip-path=\"url(#clip092)\" d=\"M1850.06 1423.18 L1850.06 1423.18 L1892.31 1423.18 L1892.31 1423.18 L1850.06 1423.18 L1850.06 1423.18  Z\" fill=\"#009af9\" fill-rule=\"evenodd\" fill-opacity=\"1\"/>\n",
       "<polyline clip-path=\"url(#clip092)\" style=\"stroke:#000000; stroke-linecap:round; stroke-linejoin:round; stroke-width:4; stroke-opacity:1; fill:none\" points=\"1850.06,1423.18 1850.06,1423.18 1892.31,1423.18 1850.06,1423.18 \"/>\n",
       "<path clip-path=\"url(#clip092)\" d=\"M1892.31 1308.52 L1892.31 1423.18 L1934.57 1423.18 L1934.57 1308.52 L1892.31 1308.52 L1892.31 1308.52  Z\" fill=\"#009af9\" fill-rule=\"evenodd\" fill-opacity=\"1\"/>\n",
       "<polyline clip-path=\"url(#clip092)\" style=\"stroke:#000000; stroke-linecap:round; stroke-linejoin:round; stroke-width:4; stroke-opacity:1; fill:none\" points=\"1892.31,1308.52 1892.31,1423.18 1934.57,1423.18 1934.57,1308.52 1892.31,1308.52 \"/>\n",
       "<path clip-path=\"url(#clip092)\" d=\"M1934.57 1423.18 L1934.57 1423.18 L1976.82 1423.18 L1976.82 1423.18 L1934.57 1423.18 L1934.57 1423.18  Z\" fill=\"#009af9\" fill-rule=\"evenodd\" fill-opacity=\"1\"/>\n",
       "<polyline clip-path=\"url(#clip092)\" style=\"stroke:#000000; stroke-linecap:round; stroke-linejoin:round; stroke-width:4; stroke-opacity:1; fill:none\" points=\"1934.57,1423.18 1934.57,1423.18 1976.82,1423.18 1934.57,1423.18 \"/>\n",
       "<path clip-path=\"url(#clip092)\" d=\"M1976.82 1308.52 L1976.82 1423.18 L2019.07 1423.18 L2019.07 1308.52 L1976.82 1308.52 L1976.82 1308.52  Z\" fill=\"#009af9\" fill-rule=\"evenodd\" fill-opacity=\"1\"/>\n",
       "<polyline clip-path=\"url(#clip092)\" style=\"stroke:#000000; stroke-linecap:round; stroke-linejoin:round; stroke-width:4; stroke-opacity:1; fill:none\" points=\"1976.82,1308.52 1976.82,1423.18 2019.07,1423.18 2019.07,1308.52 1976.82,1308.52 \"/>\n",
       "<path clip-path=\"url(#clip092)\" d=\"M2019.07 1193.86 L2019.07 1423.18 L2061.32 1423.18 L2061.32 1193.86 L2019.07 1193.86 L2019.07 1193.86  Z\" fill=\"#009af9\" fill-rule=\"evenodd\" fill-opacity=\"1\"/>\n",
       "<polyline clip-path=\"url(#clip092)\" style=\"stroke:#000000; stroke-linecap:round; stroke-linejoin:round; stroke-width:4; stroke-opacity:1; fill:none\" points=\"2019.07,1193.86 2019.07,1423.18 2061.32,1423.18 2061.32,1193.86 2019.07,1193.86 \"/>\n",
       "<path clip-path=\"url(#clip092)\" d=\"M2061.32 1423.18 L2061.32 1423.18 L2103.57 1423.18 L2103.57 1423.18 L2061.32 1423.18 L2061.32 1423.18  Z\" fill=\"#009af9\" fill-rule=\"evenodd\" fill-opacity=\"1\"/>\n",
       "<polyline clip-path=\"url(#clip092)\" style=\"stroke:#000000; stroke-linecap:round; stroke-linejoin:round; stroke-width:4; stroke-opacity:1; fill:none\" points=\"2061.32,1423.18 2061.32,1423.18 2103.57,1423.18 2061.32,1423.18 \"/>\n",
       "<path clip-path=\"url(#clip092)\" d=\"M2103.57 1423.18 L2103.57 1423.18 L2145.83 1423.18 L2145.83 1423.18 L2103.57 1423.18 L2103.57 1423.18  Z\" fill=\"#009af9\" fill-rule=\"evenodd\" fill-opacity=\"1\"/>\n",
       "<polyline clip-path=\"url(#clip092)\" style=\"stroke:#000000; stroke-linecap:round; stroke-linejoin:round; stroke-width:4; stroke-opacity:1; fill:none\" points=\"2103.57,1423.18 2103.57,1423.18 2145.83,1423.18 2103.57,1423.18 \"/>\n",
       "<path clip-path=\"url(#clip092)\" d=\"M2145.83 1193.86 L2145.83 1423.18 L2188.08 1423.18 L2188.08 1193.86 L2145.83 1193.86 L2145.83 1193.86  Z\" fill=\"#009af9\" fill-rule=\"evenodd\" fill-opacity=\"1\"/>\n",
       "<polyline clip-path=\"url(#clip092)\" style=\"stroke:#000000; stroke-linecap:round; stroke-linejoin:round; stroke-width:4; stroke-opacity:1; fill:none\" points=\"2145.83,1193.86 2145.83,1423.18 2188.08,1423.18 2188.08,1193.86 2145.83,1193.86 \"/>\n",
       "<path clip-path=\"url(#clip092)\" d=\"M2188.08 1423.18 L2188.08 1423.18 L2230.33 1423.18 L2230.33 1423.18 L2188.08 1423.18 L2188.08 1423.18  Z\" fill=\"#009af9\" fill-rule=\"evenodd\" fill-opacity=\"1\"/>\n",
       "<polyline clip-path=\"url(#clip092)\" style=\"stroke:#000000; stroke-linecap:round; stroke-linejoin:round; stroke-width:4; stroke-opacity:1; fill:none\" points=\"2188.08,1423.18 2188.08,1423.18 2230.33,1423.18 2188.08,1423.18 \"/>\n",
       "<path clip-path=\"url(#clip092)\" d=\"M2230.33 1308.52 L2230.33 1423.18 L2272.58 1423.18 L2272.58 1308.52 L2230.33 1308.52 L2230.33 1308.52  Z\" fill=\"#009af9\" fill-rule=\"evenodd\" fill-opacity=\"1\"/>\n",
       "<polyline clip-path=\"url(#clip092)\" style=\"stroke:#000000; stroke-linecap:round; stroke-linejoin:round; stroke-width:4; stroke-opacity:1; fill:none\" points=\"2230.33,1308.52 2230.33,1423.18 2272.58,1423.18 2272.58,1308.52 2230.33,1308.52 \"/>\n",
       "<path clip-path=\"url(#clip092)\" d=\"M2272.58 1423.18 L2272.58 1423.18 L2314.83 1423.18 L2314.83 1423.18 L2272.58 1423.18 L2272.58 1423.18  Z\" fill=\"#009af9\" fill-rule=\"evenodd\" fill-opacity=\"1\"/>\n",
       "<polyline clip-path=\"url(#clip092)\" style=\"stroke:#000000; stroke-linecap:round; stroke-linejoin:round; stroke-width:4; stroke-opacity:1; fill:none\" points=\"2272.58,1423.18 2272.58,1423.18 2314.83,1423.18 2272.58,1423.18 \"/>\n",
       "<path clip-path=\"url(#clip092)\" d=\"M2314.83 1423.18 L2314.83 1423.18 L2357.09 1423.18 L2357.09 1423.18 L2314.83 1423.18 L2314.83 1423.18  Z\" fill=\"#009af9\" fill-rule=\"evenodd\" fill-opacity=\"1\"/>\n",
       "<polyline clip-path=\"url(#clip092)\" style=\"stroke:#000000; stroke-linecap:round; stroke-linejoin:round; stroke-width:4; stroke-opacity:1; fill:none\" points=\"2314.83,1423.18 2314.83,1423.18 2357.09,1423.18 2314.83,1423.18 \"/>\n",
       "<path clip-path=\"url(#clip092)\" d=\"M2357.09 1423.18 L2357.09 1423.18 L2399.34 1423.18 L2399.34 1423.18 L2357.09 1423.18 L2357.09 1423.18  Z\" fill=\"#009af9\" fill-rule=\"evenodd\" fill-opacity=\"1\"/>\n",
       "<polyline clip-path=\"url(#clip092)\" style=\"stroke:#000000; stroke-linecap:round; stroke-linejoin:round; stroke-width:4; stroke-opacity:1; fill:none\" points=\"2357.09,1423.18 2357.09,1423.18 2399.34,1423.18 2357.09,1423.18 \"/>\n",
       "<path clip-path=\"url(#clip092)\" d=\"M2399.34 1423.18 L2399.34 1423.18 L2441.59 1423.18 L2441.59 1423.18 L2399.34 1423.18 L2399.34 1423.18  Z\" fill=\"#009af9\" fill-rule=\"evenodd\" fill-opacity=\"1\"/>\n",
       "<polyline clip-path=\"url(#clip092)\" style=\"stroke:#000000; stroke-linecap:round; stroke-linejoin:round; stroke-width:4; stroke-opacity:1; fill:none\" points=\"2399.34,1423.18 2399.34,1423.18 2441.59,1423.18 2399.34,1423.18 \"/>\n",
       "<path clip-path=\"url(#clip092)\" d=\"M2441.59 1423.18 L2441.59 1423.18 L2483.84 1423.18 L2483.84 1423.18 L2441.59 1423.18 L2441.59 1423.18  Z\" fill=\"#009af9\" fill-rule=\"evenodd\" fill-opacity=\"1\"/>\n",
       "<polyline clip-path=\"url(#clip092)\" style=\"stroke:#000000; stroke-linecap:round; stroke-linejoin:round; stroke-width:4; stroke-opacity:1; fill:none\" points=\"2441.59,1423.18 2441.59,1423.18 2483.84,1423.18 2441.59,1423.18 \"/>\n",
       "<path clip-path=\"url(#clip092)\" d=\"M2483.84 1423.18 L2483.84 1423.18 L2526.1 1423.18 L2526.1 1423.18 L2483.84 1423.18 L2483.84 1423.18  Z\" fill=\"#009af9\" fill-rule=\"evenodd\" fill-opacity=\"1\"/>\n",
       "<polyline clip-path=\"url(#clip092)\" style=\"stroke:#000000; stroke-linecap:round; stroke-linejoin:round; stroke-width:4; stroke-opacity:1; fill:none\" points=\"2483.84,1423.18 2483.84,1423.18 2526.1,1423.18 2483.84,1423.18 \"/>\n",
       "<path clip-path=\"url(#clip092)\" d=\"M2526.1 1308.52 L2526.1 1423.18 L2568.35 1423.18 L2568.35 1308.52 L2526.1 1308.52 L2526.1 1308.52  Z\" fill=\"#009af9\" fill-rule=\"evenodd\" fill-opacity=\"1\"/>\n",
       "<polyline clip-path=\"url(#clip092)\" style=\"stroke:#000000; stroke-linecap:round; stroke-linejoin:round; stroke-width:4; stroke-opacity:1; fill:none\" points=\"2526.1,1308.52 2526.1,1423.18 2568.35,1423.18 2568.35,1308.52 2526.1,1308.52 \"/>\n",
       "<path clip-path=\"url(#clip092)\" d=\"M2568.35 1308.52 L2568.35 1423.18 L2610.6 1423.18 L2610.6 1308.52 L2568.35 1308.52 L2568.35 1308.52  Z\" fill=\"#009af9\" fill-rule=\"evenodd\" fill-opacity=\"1\"/>\n",
       "<polyline clip-path=\"url(#clip092)\" style=\"stroke:#000000; stroke-linecap:round; stroke-linejoin:round; stroke-width:4; stroke-opacity:1; fill:none\" points=\"2568.35,1308.52 2568.35,1423.18 2610.6,1423.18 2610.6,1308.52 2568.35,1308.52 \"/>\n",
       "<path clip-path=\"url(#clip092)\" d=\"M2610.6 1423.18 L2610.6 1423.18 L2652.85 1423.18 L2652.85 1423.18 L2610.6 1423.18 L2610.6 1423.18  Z\" fill=\"#009af9\" fill-rule=\"evenodd\" fill-opacity=\"1\"/>\n",
       "<polyline clip-path=\"url(#clip092)\" style=\"stroke:#000000; stroke-linecap:round; stroke-linejoin:round; stroke-width:4; stroke-opacity:1; fill:none\" points=\"2610.6,1423.18 2610.6,1423.18 2652.85,1423.18 2610.6,1423.18 \"/>\n",
       "<path clip-path=\"url(#clip092)\" d=\"M2652.85 1423.18 L2652.85 1423.18 L2695.1 1423.18 L2695.1 1423.18 L2652.85 1423.18 L2652.85 1423.18  Z\" fill=\"#009af9\" fill-rule=\"evenodd\" fill-opacity=\"1\"/>\n",
       "<polyline clip-path=\"url(#clip092)\" style=\"stroke:#000000; stroke-linecap:round; stroke-linejoin:round; stroke-width:4; stroke-opacity:1; fill:none\" points=\"2652.85,1423.18 2652.85,1423.18 2695.1,1423.18 2652.85,1423.18 \"/>\n",
       "<path clip-path=\"url(#clip092)\" d=\"M2695.1 1423.18 L2695.1 1423.18 L2737.36 1423.18 L2737.36 1423.18 L2695.1 1423.18 L2695.1 1423.18  Z\" fill=\"#009af9\" fill-rule=\"evenodd\" fill-opacity=\"1\"/>\n",
       "<polyline clip-path=\"url(#clip092)\" style=\"stroke:#000000; stroke-linecap:round; stroke-linejoin:round; stroke-width:4; stroke-opacity:1; fill:none\" points=\"2695.1,1423.18 2695.1,1423.18 2737.36,1423.18 2695.1,1423.18 \"/>\n",
       "<path clip-path=\"url(#clip092)\" d=\"M2737.36 1423.18 L2737.36 1423.18 L2779.61 1423.18 L2779.61 1423.18 L2737.36 1423.18 L2737.36 1423.18  Z\" fill=\"#009af9\" fill-rule=\"evenodd\" fill-opacity=\"1\"/>\n",
       "<polyline clip-path=\"url(#clip092)\" style=\"stroke:#000000; stroke-linecap:round; stroke-linejoin:round; stroke-width:4; stroke-opacity:1; fill:none\" points=\"2737.36,1423.18 2737.36,1423.18 2779.61,1423.18 2737.36,1423.18 \"/>\n",
       "<path clip-path=\"url(#clip092)\" d=\"M2779.61 1423.18 L2779.61 1423.18 L2821.86 1423.18 L2821.86 1423.18 L2779.61 1423.18 L2779.61 1423.18  Z\" fill=\"#009af9\" fill-rule=\"evenodd\" fill-opacity=\"1\"/>\n",
       "<polyline clip-path=\"url(#clip092)\" style=\"stroke:#000000; stroke-linecap:round; stroke-linejoin:round; stroke-width:4; stroke-opacity:1; fill:none\" points=\"2779.61,1423.18 2779.61,1423.18 2821.86,1423.18 2779.61,1423.18 \"/>\n",
       "<path clip-path=\"url(#clip092)\" d=\"M2821.86 1423.18 L2821.86 1423.18 L2864.11 1423.18 L2864.11 1423.18 L2821.86 1423.18 L2821.86 1423.18  Z\" fill=\"#009af9\" fill-rule=\"evenodd\" fill-opacity=\"1\"/>\n",
       "<polyline clip-path=\"url(#clip092)\" style=\"stroke:#000000; stroke-linecap:round; stroke-linejoin:round; stroke-width:4; stroke-opacity:1; fill:none\" points=\"2821.86,1423.18 2821.86,1423.18 2864.11,1423.18 2821.86,1423.18 \"/>\n",
       "<path clip-path=\"url(#clip092)\" d=\"M2864.11 1423.18 L2864.11 1423.18 L2906.37 1423.18 L2906.37 1423.18 L2864.11 1423.18 L2864.11 1423.18  Z\" fill=\"#009af9\" fill-rule=\"evenodd\" fill-opacity=\"1\"/>\n",
       "<polyline clip-path=\"url(#clip092)\" style=\"stroke:#000000; stroke-linecap:round; stroke-linejoin:round; stroke-width:4; stroke-opacity:1; fill:none\" points=\"2864.11,1423.18 2864.11,1423.18 2906.37,1423.18 2864.11,1423.18 \"/>\n",
       "<path clip-path=\"url(#clip092)\" d=\"M2906.37 1423.18 L2906.37 1423.18 L2948.62 1423.18 L2948.62 1423.18 L2906.37 1423.18 L2906.37 1423.18  Z\" fill=\"#009af9\" fill-rule=\"evenodd\" fill-opacity=\"1\"/>\n",
       "<polyline clip-path=\"url(#clip092)\" style=\"stroke:#000000; stroke-linecap:round; stroke-linejoin:round; stroke-width:4; stroke-opacity:1; fill:none\" points=\"2906.37,1423.18 2906.37,1423.18 2948.62,1423.18 2906.37,1423.18 \"/>\n",
       "<path clip-path=\"url(#clip092)\" d=\"M2948.62 1423.18 L2948.62 1423.18 L2990.87 1423.18 L2990.87 1423.18 L2948.62 1423.18 L2948.62 1423.18  Z\" fill=\"#009af9\" fill-rule=\"evenodd\" fill-opacity=\"1\"/>\n",
       "<polyline clip-path=\"url(#clip092)\" style=\"stroke:#000000; stroke-linecap:round; stroke-linejoin:round; stroke-width:4; stroke-opacity:1; fill:none\" points=\"2948.62,1423.18 2948.62,1423.18 2990.87,1423.18 2948.62,1423.18 \"/>\n",
       "<path clip-path=\"url(#clip092)\" d=\"M2990.87 1423.18 L2990.87 1423.18 L3033.12 1423.18 L3033.12 1423.18 L2990.87 1423.18 L2990.87 1423.18  Z\" fill=\"#009af9\" fill-rule=\"evenodd\" fill-opacity=\"1\"/>\n",
       "<polyline clip-path=\"url(#clip092)\" style=\"stroke:#000000; stroke-linecap:round; stroke-linejoin:round; stroke-width:4; stroke-opacity:1; fill:none\" points=\"2990.87,1423.18 2990.87,1423.18 3033.12,1423.18 2990.87,1423.18 \"/>\n",
       "<path clip-path=\"url(#clip092)\" d=\"M3033.12 1423.18 L3033.12 1423.18 L3075.37 1423.18 L3075.37 1423.18 L3033.12 1423.18 L3033.12 1423.18  Z\" fill=\"#009af9\" fill-rule=\"evenodd\" fill-opacity=\"1\"/>\n",
       "<polyline clip-path=\"url(#clip092)\" style=\"stroke:#000000; stroke-linecap:round; stroke-linejoin:round; stroke-width:4; stroke-opacity:1; fill:none\" points=\"3033.12,1423.18 3033.12,1423.18 3075.37,1423.18 3033.12,1423.18 \"/>\n",
       "<path clip-path=\"url(#clip092)\" d=\"M3075.37 1423.18 L3075.37 1423.18 L3117.63 1423.18 L3117.63 1423.18 L3075.37 1423.18 L3075.37 1423.18  Z\" fill=\"#009af9\" fill-rule=\"evenodd\" fill-opacity=\"1\"/>\n",
       "<polyline clip-path=\"url(#clip092)\" style=\"stroke:#000000; stroke-linecap:round; stroke-linejoin:round; stroke-width:4; stroke-opacity:1; fill:none\" points=\"3075.37,1423.18 3075.37,1423.18 3117.63,1423.18 3075.37,1423.18 \"/>\n",
       "<path clip-path=\"url(#clip092)\" d=\"M3117.63 1423.18 L3117.63 1423.18 L3159.88 1423.18 L3159.88 1423.18 L3117.63 1423.18 L3117.63 1423.18  Z\" fill=\"#009af9\" fill-rule=\"evenodd\" fill-opacity=\"1\"/>\n",
       "<polyline clip-path=\"url(#clip092)\" style=\"stroke:#000000; stroke-linecap:round; stroke-linejoin:round; stroke-width:4; stroke-opacity:1; fill:none\" points=\"3117.63,1423.18 3117.63,1423.18 3159.88,1423.18 3117.63,1423.18 \"/>\n",
       "<path clip-path=\"url(#clip092)\" d=\"M3159.88 1423.18 L3159.88 1423.18 L3202.13 1423.18 L3202.13 1423.18 L3159.88 1423.18 L3159.88 1423.18  Z\" fill=\"#009af9\" fill-rule=\"evenodd\" fill-opacity=\"1\"/>\n",
       "<polyline clip-path=\"url(#clip092)\" style=\"stroke:#000000; stroke-linecap:round; stroke-linejoin:round; stroke-width:4; stroke-opacity:1; fill:none\" points=\"3159.88,1423.18 3159.88,1423.18 3202.13,1423.18 3159.88,1423.18 \"/>\n",
       "<path clip-path=\"url(#clip092)\" d=\"M3202.13 1423.18 L3202.13 1423.18 L3244.38 1423.18 L3244.38 1423.18 L3202.13 1423.18 L3202.13 1423.18  Z\" fill=\"#009af9\" fill-rule=\"evenodd\" fill-opacity=\"1\"/>\n",
       "<polyline clip-path=\"url(#clip092)\" style=\"stroke:#000000; stroke-linecap:round; stroke-linejoin:round; stroke-width:4; stroke-opacity:1; fill:none\" points=\"3202.13,1423.18 3202.13,1423.18 3244.38,1423.18 3202.13,1423.18 \"/>\n",
       "<path clip-path=\"url(#clip092)\" d=\"M3244.38 1423.18 L3244.38 1423.18 L3286.63 1423.18 L3286.63 1423.18 L3244.38 1423.18 L3244.38 1423.18  Z\" fill=\"#009af9\" fill-rule=\"evenodd\" fill-opacity=\"1\"/>\n",
       "<polyline clip-path=\"url(#clip092)\" style=\"stroke:#000000; stroke-linecap:round; stroke-linejoin:round; stroke-width:4; stroke-opacity:1; fill:none\" points=\"3244.38,1423.18 3244.38,1423.18 3286.63,1423.18 3244.38,1423.18 \"/>\n",
       "<path clip-path=\"url(#clip092)\" d=\"M3286.63 1423.18 L3286.63 1423.18 L3328.89 1423.18 L3328.89 1423.18 L3286.63 1423.18 L3286.63 1423.18  Z\" fill=\"#009af9\" fill-rule=\"evenodd\" fill-opacity=\"1\"/>\n",
       "<polyline clip-path=\"url(#clip092)\" style=\"stroke:#000000; stroke-linecap:round; stroke-linejoin:round; stroke-width:4; stroke-opacity:1; fill:none\" points=\"3286.63,1423.18 3286.63,1423.18 3328.89,1423.18 3286.63,1423.18 \"/>\n",
       "<path clip-path=\"url(#clip092)\" d=\"M3328.89 1423.18 L3328.89 1423.18 L3371.14 1423.18 L3371.14 1423.18 L3328.89 1423.18 L3328.89 1423.18  Z\" fill=\"#009af9\" fill-rule=\"evenodd\" fill-opacity=\"1\"/>\n",
       "<polyline clip-path=\"url(#clip092)\" style=\"stroke:#000000; stroke-linecap:round; stroke-linejoin:round; stroke-width:4; stroke-opacity:1; fill:none\" points=\"3328.89,1423.18 3328.89,1423.18 3371.14,1423.18 3328.89,1423.18 \"/>\n",
       "<path clip-path=\"url(#clip092)\" d=\"M3371.14 1423.18 L3371.14 1423.18 L3413.39 1423.18 L3413.39 1423.18 L3371.14 1423.18 L3371.14 1423.18  Z\" fill=\"#009af9\" fill-rule=\"evenodd\" fill-opacity=\"1\"/>\n",
       "<polyline clip-path=\"url(#clip092)\" style=\"stroke:#000000; stroke-linecap:round; stroke-linejoin:round; stroke-width:4; stroke-opacity:1; fill:none\" points=\"3371.14,1423.18 3371.14,1423.18 3413.39,1423.18 3371.14,1423.18 \"/>\n",
       "<path clip-path=\"url(#clip092)\" d=\"M3413.39 1423.18 L3413.39 1423.18 L3455.64 1423.18 L3455.64 1423.18 L3413.39 1423.18 L3413.39 1423.18  Z\" fill=\"#009af9\" fill-rule=\"evenodd\" fill-opacity=\"1\"/>\n",
       "<polyline clip-path=\"url(#clip092)\" style=\"stroke:#000000; stroke-linecap:round; stroke-linejoin:round; stroke-width:4; stroke-opacity:1; fill:none\" points=\"3413.39,1423.18 3413.39,1423.18 3455.64,1423.18 3413.39,1423.18 \"/>\n",
       "<path clip-path=\"url(#clip092)\" d=\"M3455.64 1423.18 L3455.64 1423.18 L3497.9 1423.18 L3497.9 1423.18 L3455.64 1423.18 L3455.64 1423.18  Z\" fill=\"#009af9\" fill-rule=\"evenodd\" fill-opacity=\"1\"/>\n",
       "<polyline clip-path=\"url(#clip092)\" style=\"stroke:#000000; stroke-linecap:round; stroke-linejoin:round; stroke-width:4; stroke-opacity:1; fill:none\" points=\"3455.64,1423.18 3455.64,1423.18 3497.9,1423.18 3455.64,1423.18 \"/>\n",
       "<path clip-path=\"url(#clip092)\" d=\"M3497.9 1423.18 L3497.9 1423.18 L3540.15 1423.18 L3540.15 1423.18 L3497.9 1423.18 L3497.9 1423.18  Z\" fill=\"#009af9\" fill-rule=\"evenodd\" fill-opacity=\"1\"/>\n",
       "<polyline clip-path=\"url(#clip092)\" style=\"stroke:#000000; stroke-linecap:round; stroke-linejoin:round; stroke-width:4; stroke-opacity:1; fill:none\" points=\"3497.9,1423.18 3497.9,1423.18 3540.15,1423.18 3497.9,1423.18 \"/>\n",
       "<path clip-path=\"url(#clip092)\" d=\"M3540.15 1423.18 L3540.15 1423.18 L3582.4 1423.18 L3582.4 1423.18 L3540.15 1423.18 L3540.15 1423.18  Z\" fill=\"#009af9\" fill-rule=\"evenodd\" fill-opacity=\"1\"/>\n",
       "<polyline clip-path=\"url(#clip092)\" style=\"stroke:#000000; stroke-linecap:round; stroke-linejoin:round; stroke-width:4; stroke-opacity:1; fill:none\" points=\"3540.15,1423.18 3540.15,1423.18 3582.4,1423.18 3540.15,1423.18 \"/>\n",
       "<path clip-path=\"url(#clip092)\" d=\"M3582.4 1423.18 L3582.4 1423.18 L3624.65 1423.18 L3624.65 1423.18 L3582.4 1423.18 L3582.4 1423.18  Z\" fill=\"#009af9\" fill-rule=\"evenodd\" fill-opacity=\"1\"/>\n",
       "<polyline clip-path=\"url(#clip092)\" style=\"stroke:#000000; stroke-linecap:round; stroke-linejoin:round; stroke-width:4; stroke-opacity:1; fill:none\" points=\"3582.4,1423.18 3582.4,1423.18 3624.65,1423.18 3582.4,1423.18 \"/>\n",
       "<path clip-path=\"url(#clip092)\" d=\"M3624.65 1423.18 L3624.65 1423.18 L3666.9 1423.18 L3666.9 1423.18 L3624.65 1423.18 L3624.65 1423.18  Z\" fill=\"#009af9\" fill-rule=\"evenodd\" fill-opacity=\"1\"/>\n",
       "<polyline clip-path=\"url(#clip092)\" style=\"stroke:#000000; stroke-linecap:round; stroke-linejoin:round; stroke-width:4; stroke-opacity:1; fill:none\" points=\"3624.65,1423.18 3624.65,1423.18 3666.9,1423.18 3624.65,1423.18 \"/>\n",
       "<path clip-path=\"url(#clip092)\" d=\"M3666.9 1423.18 L3666.9 1423.18 L3709.16 1423.18 L3709.16 1423.18 L3666.9 1423.18 L3666.9 1423.18  Z\" fill=\"#009af9\" fill-rule=\"evenodd\" fill-opacity=\"1\"/>\n",
       "<polyline clip-path=\"url(#clip092)\" style=\"stroke:#000000; stroke-linecap:round; stroke-linejoin:round; stroke-width:4; stroke-opacity:1; fill:none\" points=\"3666.9,1423.18 3666.9,1423.18 3709.16,1423.18 3666.9,1423.18 \"/>\n",
       "<path clip-path=\"url(#clip092)\" d=\"M3709.16 1308.52 L3709.16 1423.18 L3751.41 1423.18 L3751.41 1308.52 L3709.16 1308.52 L3709.16 1308.52  Z\" fill=\"#009af9\" fill-rule=\"evenodd\" fill-opacity=\"1\"/>\n",
       "<polyline clip-path=\"url(#clip092)\" style=\"stroke:#000000; stroke-linecap:round; stroke-linejoin:round; stroke-width:4; stroke-opacity:1; fill:none\" points=\"3709.16,1308.52 3709.16,1423.18 3751.41,1423.18 3751.41,1308.52 3709.16,1308.52 \"/>\n",
       "<path clip-path=\"url(#clip092)\" d=\"M3751.41 1423.18 L3751.41 1423.18 L3793.66 1423.18 L3793.66 1423.18 L3751.41 1423.18 L3751.41 1423.18  Z\" fill=\"#009af9\" fill-rule=\"evenodd\" fill-opacity=\"1\"/>\n",
       "<polyline clip-path=\"url(#clip092)\" style=\"stroke:#000000; stroke-linecap:round; stroke-linejoin:round; stroke-width:4; stroke-opacity:1; fill:none\" points=\"3751.41,1423.18 3751.41,1423.18 3793.66,1423.18 3751.41,1423.18 \"/>\n",
       "<path clip-path=\"url(#clip092)\" d=\"M3793.66 1423.18 L3793.66 1423.18 L3835.91 1423.18 L3835.91 1423.18 L3793.66 1423.18 L3793.66 1423.18  Z\" fill=\"#009af9\" fill-rule=\"evenodd\" fill-opacity=\"1\"/>\n",
       "<polyline clip-path=\"url(#clip092)\" style=\"stroke:#000000; stroke-linecap:round; stroke-linejoin:round; stroke-width:4; stroke-opacity:1; fill:none\" points=\"3793.66,1423.18 3793.66,1423.18 3835.91,1423.18 3793.66,1423.18 \"/>\n",
       "<path clip-path=\"url(#clip092)\" d=\"M3835.91 1423.18 L3835.91 1423.18 L3878.16 1423.18 L3878.16 1423.18 L3835.91 1423.18 L3835.91 1423.18  Z\" fill=\"#009af9\" fill-rule=\"evenodd\" fill-opacity=\"1\"/>\n",
       "<polyline clip-path=\"url(#clip092)\" style=\"stroke:#000000; stroke-linecap:round; stroke-linejoin:round; stroke-width:4; stroke-opacity:1; fill:none\" points=\"3835.91,1423.18 3835.91,1423.18 3878.16,1423.18 3835.91,1423.18 \"/>\n",
       "<path clip-path=\"url(#clip092)\" d=\"M3878.16 1423.18 L3878.16 1423.18 L3920.42 1423.18 L3920.42 1423.18 L3878.16 1423.18 L3878.16 1423.18  Z\" fill=\"#009af9\" fill-rule=\"evenodd\" fill-opacity=\"1\"/>\n",
       "<polyline clip-path=\"url(#clip092)\" style=\"stroke:#000000; stroke-linecap:round; stroke-linejoin:round; stroke-width:4; stroke-opacity:1; fill:none\" points=\"3878.16,1423.18 3878.16,1423.18 3920.42,1423.18 3878.16,1423.18 \"/>\n",
       "<path clip-path=\"url(#clip092)\" d=\"M3920.42 1423.18 L3920.42 1423.18 L3962.67 1423.18 L3962.67 1423.18 L3920.42 1423.18 L3920.42 1423.18  Z\" fill=\"#009af9\" fill-rule=\"evenodd\" fill-opacity=\"1\"/>\n",
       "<polyline clip-path=\"url(#clip092)\" style=\"stroke:#000000; stroke-linecap:round; stroke-linejoin:round; stroke-width:4; stroke-opacity:1; fill:none\" points=\"3920.42,1423.18 3920.42,1423.18 3962.67,1423.18 3920.42,1423.18 \"/>\n",
       "<path clip-path=\"url(#clip092)\" d=\"M3962.67 1423.18 L3962.67 1423.18 L4004.92 1423.18 L4004.92 1423.18 L3962.67 1423.18 L3962.67 1423.18  Z\" fill=\"#009af9\" fill-rule=\"evenodd\" fill-opacity=\"1\"/>\n",
       "<polyline clip-path=\"url(#clip092)\" style=\"stroke:#000000; stroke-linecap:round; stroke-linejoin:round; stroke-width:4; stroke-opacity:1; fill:none\" points=\"3962.67,1423.18 3962.67,1423.18 4004.92,1423.18 3962.67,1423.18 \"/>\n",
       "<path clip-path=\"url(#clip092)\" d=\"M4004.92 1423.18 L4004.92 1423.18 L4047.17 1423.18 L4047.17 1423.18 L4004.92 1423.18 L4004.92 1423.18  Z\" fill=\"#009af9\" fill-rule=\"evenodd\" fill-opacity=\"1\"/>\n",
       "<polyline clip-path=\"url(#clip092)\" style=\"stroke:#000000; stroke-linecap:round; stroke-linejoin:round; stroke-width:4; stroke-opacity:1; fill:none\" points=\"4004.92,1423.18 4004.92,1423.18 4047.17,1423.18 4004.92,1423.18 \"/>\n",
       "<path clip-path=\"url(#clip092)\" d=\"M4047.17 1423.18 L4047.17 1423.18 L4089.43 1423.18 L4089.43 1423.18 L4047.17 1423.18 L4047.17 1423.18  Z\" fill=\"#009af9\" fill-rule=\"evenodd\" fill-opacity=\"1\"/>\n",
       "<polyline clip-path=\"url(#clip092)\" style=\"stroke:#000000; stroke-linecap:round; stroke-linejoin:round; stroke-width:4; stroke-opacity:1; fill:none\" points=\"4047.17,1423.18 4047.17,1423.18 4089.43,1423.18 4047.17,1423.18 \"/>\n",
       "<path clip-path=\"url(#clip092)\" d=\"M4089.43 1423.18 L4089.43 1423.18 L4131.68 1423.18 L4131.68 1423.18 L4089.43 1423.18 L4089.43 1423.18  Z\" fill=\"#009af9\" fill-rule=\"evenodd\" fill-opacity=\"1\"/>\n",
       "<polyline clip-path=\"url(#clip092)\" style=\"stroke:#000000; stroke-linecap:round; stroke-linejoin:round; stroke-width:4; stroke-opacity:1; fill:none\" points=\"4089.43,1423.18 4089.43,1423.18 4131.68,1423.18 4089.43,1423.18 \"/>\n",
       "<path clip-path=\"url(#clip092)\" d=\"M4131.68 1423.18 L4131.68 1423.18 L4173.93 1423.18 L4173.93 1423.18 L4131.68 1423.18 L4131.68 1423.18  Z\" fill=\"#009af9\" fill-rule=\"evenodd\" fill-opacity=\"1\"/>\n",
       "<polyline clip-path=\"url(#clip092)\" style=\"stroke:#000000; stroke-linecap:round; stroke-linejoin:round; stroke-width:4; stroke-opacity:1; fill:none\" points=\"4131.68,1423.18 4131.68,1423.18 4173.93,1423.18 4131.68,1423.18 \"/>\n",
       "<path clip-path=\"url(#clip092)\" d=\"M4173.93 1308.52 L4173.93 1423.18 L4216.18 1423.18 L4216.18 1308.52 L4173.93 1308.52 L4173.93 1308.52  Z\" fill=\"#009af9\" fill-rule=\"evenodd\" fill-opacity=\"1\"/>\n",
       "<polyline clip-path=\"url(#clip092)\" style=\"stroke:#000000; stroke-linecap:round; stroke-linejoin:round; stroke-width:4; stroke-opacity:1; fill:none\" points=\"4173.93,1308.52 4173.93,1423.18 4216.18,1423.18 4216.18,1308.52 4173.93,1308.52 \"/>\n",
       "<path clip-path=\"url(#clip092)\" d=\"M4216.18 1423.18 L4216.18 1423.18 L4258.43 1423.18 L4258.43 1423.18 L4216.18 1423.18 L4216.18 1423.18  Z\" fill=\"#009af9\" fill-rule=\"evenodd\" fill-opacity=\"1\"/>\n",
       "<polyline clip-path=\"url(#clip092)\" style=\"stroke:#000000; stroke-linecap:round; stroke-linejoin:round; stroke-width:4; stroke-opacity:1; fill:none\" points=\"4216.18,1423.18 4216.18,1423.18 4258.43,1423.18 4216.18,1423.18 \"/>\n",
       "<path clip-path=\"url(#clip092)\" d=\"M4258.43 1423.18 L4258.43 1423.18 L4300.69 1423.18 L4300.69 1423.18 L4258.43 1423.18 L4258.43 1423.18  Z\" fill=\"#009af9\" fill-rule=\"evenodd\" fill-opacity=\"1\"/>\n",
       "<polyline clip-path=\"url(#clip092)\" style=\"stroke:#000000; stroke-linecap:round; stroke-linejoin:round; stroke-width:4; stroke-opacity:1; fill:none\" points=\"4258.43,1423.18 4258.43,1423.18 4300.69,1423.18 4258.43,1423.18 \"/>\n",
       "<path clip-path=\"url(#clip092)\" d=\"M4300.69 1423.18 L4300.69 1423.18 L4342.94 1423.18 L4342.94 1423.18 L4300.69 1423.18 L4300.69 1423.18  Z\" fill=\"#009af9\" fill-rule=\"evenodd\" fill-opacity=\"1\"/>\n",
       "<polyline clip-path=\"url(#clip092)\" style=\"stroke:#000000; stroke-linecap:round; stroke-linejoin:round; stroke-width:4; stroke-opacity:1; fill:none\" points=\"4300.69,1423.18 4300.69,1423.18 4342.94,1423.18 4300.69,1423.18 \"/>\n",
       "<path clip-path=\"url(#clip092)\" d=\"M4342.94 1423.18 L4342.94 1423.18 L4385.19 1423.18 L4385.19 1423.18 L4342.94 1423.18 L4342.94 1423.18  Z\" fill=\"#009af9\" fill-rule=\"evenodd\" fill-opacity=\"1\"/>\n",
       "<polyline clip-path=\"url(#clip092)\" style=\"stroke:#000000; stroke-linecap:round; stroke-linejoin:round; stroke-width:4; stroke-opacity:1; fill:none\" points=\"4342.94,1423.18 4342.94,1423.18 4385.19,1423.18 4342.94,1423.18 \"/>\n",
       "<path clip-path=\"url(#clip092)\" d=\"M4385.19 1308.52 L4385.19 1423.18 L4427.44 1423.18 L4427.44 1308.52 L4385.19 1308.52 L4385.19 1308.52  Z\" fill=\"#009af9\" fill-rule=\"evenodd\" fill-opacity=\"1\"/>\n",
       "<polyline clip-path=\"url(#clip092)\" style=\"stroke:#000000; stroke-linecap:round; stroke-linejoin:round; stroke-width:4; stroke-opacity:1; fill:none\" points=\"4385.19,1308.52 4385.19,1423.18 4427.44,1423.18 4427.44,1308.52 4385.19,1308.52 \"/>\n",
       "<path clip-path=\"url(#clip092)\" d=\"M4427.44 1423.18 L4427.44 1423.18 L4469.69 1423.18 L4469.69 1423.18 L4427.44 1423.18 L4427.44 1423.18  Z\" fill=\"#009af9\" fill-rule=\"evenodd\" fill-opacity=\"1\"/>\n",
       "<polyline clip-path=\"url(#clip092)\" style=\"stroke:#000000; stroke-linecap:round; stroke-linejoin:round; stroke-width:4; stroke-opacity:1; fill:none\" points=\"4427.44,1423.18 4427.44,1423.18 4469.69,1423.18 4427.44,1423.18 \"/>\n",
       "<path clip-path=\"url(#clip092)\" d=\"M4469.69 1308.52 L4469.69 1423.18 L4511.95 1423.18 L4511.95 1308.52 L4469.69 1308.52 L4469.69 1308.52  Z\" fill=\"#009af9\" fill-rule=\"evenodd\" fill-opacity=\"1\"/>\n",
       "<polyline clip-path=\"url(#clip092)\" style=\"stroke:#000000; stroke-linecap:round; stroke-linejoin:round; stroke-width:4; stroke-opacity:1; fill:none\" points=\"4469.69,1308.52 4469.69,1423.18 4511.95,1423.18 4511.95,1308.52 4469.69,1308.52 \"/>\n",
       "<path clip-path=\"url(#clip092)\" d=\"M4511.95 1308.52 L4511.95 1423.18 L4554.2 1423.18 L4554.2 1308.52 L4511.95 1308.52 L4511.95 1308.52  Z\" fill=\"#009af9\" fill-rule=\"evenodd\" fill-opacity=\"1\"/>\n",
       "<polyline clip-path=\"url(#clip092)\" style=\"stroke:#000000; stroke-linecap:round; stroke-linejoin:round; stroke-width:4; stroke-opacity:1; fill:none\" points=\"4511.95,1308.52 4511.95,1423.18 4554.2,1423.18 4554.2,1308.52 4511.95,1308.52 \"/>\n",
       "<path clip-path=\"url(#clip092)\" d=\"M4554.2 1193.86 L4554.2 1423.18 L4596.45 1423.18 L4596.45 1193.86 L4554.2 1193.86 L4554.2 1193.86  Z\" fill=\"#009af9\" fill-rule=\"evenodd\" fill-opacity=\"1\"/>\n",
       "<polyline clip-path=\"url(#clip092)\" style=\"stroke:#000000; stroke-linecap:round; stroke-linejoin:round; stroke-width:4; stroke-opacity:1; fill:none\" points=\"4554.2,1193.86 4554.2,1423.18 4596.45,1423.18 4596.45,1193.86 4554.2,1193.86 \"/>\n",
       "<path clip-path=\"url(#clip092)\" d=\"M4596.45 1423.18 L4596.45 1423.18 L4638.7 1423.18 L4638.7 1423.18 L4596.45 1423.18 L4596.45 1423.18  Z\" fill=\"#009af9\" fill-rule=\"evenodd\" fill-opacity=\"1\"/>\n",
       "<polyline clip-path=\"url(#clip092)\" style=\"stroke:#000000; stroke-linecap:round; stroke-linejoin:round; stroke-width:4; stroke-opacity:1; fill:none\" points=\"4596.45,1423.18 4596.45,1423.18 4638.7,1423.18 4596.45,1423.18 \"/>\n",
       "<path clip-path=\"url(#clip092)\" d=\"M4638.7 1193.86 L4638.7 1423.18 L4680.96 1423.18 L4680.96 1193.86 L4638.7 1193.86 L4638.7 1193.86  Z\" fill=\"#009af9\" fill-rule=\"evenodd\" fill-opacity=\"1\"/>\n",
       "<polyline clip-path=\"url(#clip092)\" style=\"stroke:#000000; stroke-linecap:round; stroke-linejoin:round; stroke-width:4; stroke-opacity:1; fill:none\" points=\"4638.7,1193.86 4638.7,1423.18 4680.96,1423.18 4680.96,1193.86 4638.7,1193.86 \"/>\n",
       "<path clip-path=\"url(#clip092)\" d=\"M4680.96 1308.52 L4680.96 1423.18 L4723.21 1423.18 L4723.21 1308.52 L4680.96 1308.52 L4680.96 1308.52  Z\" fill=\"#009af9\" fill-rule=\"evenodd\" fill-opacity=\"1\"/>\n",
       "<polyline clip-path=\"url(#clip092)\" style=\"stroke:#000000; stroke-linecap:round; stroke-linejoin:round; stroke-width:4; stroke-opacity:1; fill:none\" points=\"4680.96,1308.52 4680.96,1423.18 4723.21,1423.18 4723.21,1308.52 4680.96,1308.52 \"/>\n",
       "<path clip-path=\"url(#clip092)\" d=\"M4723.21 1423.18 L4723.21 1423.18 L4765.46 1423.18 L4765.46 1423.18 L4723.21 1423.18 L4723.21 1423.18  Z\" fill=\"#009af9\" fill-rule=\"evenodd\" fill-opacity=\"1\"/>\n",
       "<polyline clip-path=\"url(#clip092)\" style=\"stroke:#000000; stroke-linecap:round; stroke-linejoin:round; stroke-width:4; stroke-opacity:1; fill:none\" points=\"4723.21,1423.18 4723.21,1423.18 4765.46,1423.18 4723.21,1423.18 \"/>\n",
       "<path clip-path=\"url(#clip092)\" d=\"M4765.46 849.873 L4765.46 1423.18 L4807.71 1423.18 L4807.71 849.873 L4765.46 849.873 L4765.46 849.873  Z\" fill=\"#009af9\" fill-rule=\"evenodd\" fill-opacity=\"1\"/>\n",
       "<polyline clip-path=\"url(#clip092)\" style=\"stroke:#000000; stroke-linecap:round; stroke-linejoin:round; stroke-width:4; stroke-opacity:1; fill:none\" points=\"4765.46,849.873 4765.46,1423.18 4807.71,1423.18 4807.71,849.873 4765.46,849.873 \"/>\n",
       "<path clip-path=\"url(#clip092)\" d=\"M4807.71 1193.86 L4807.71 1423.18 L4849.96 1423.18 L4849.96 1193.86 L4807.71 1193.86 L4807.71 1193.86  Z\" fill=\"#009af9\" fill-rule=\"evenodd\" fill-opacity=\"1\"/>\n",
       "<polyline clip-path=\"url(#clip092)\" style=\"stroke:#000000; stroke-linecap:round; stroke-linejoin:round; stroke-width:4; stroke-opacity:1; fill:none\" points=\"4807.71,1193.86 4807.71,1423.18 4849.96,1423.18 4849.96,1193.86 4807.71,1193.86 \"/>\n",
       "<path clip-path=\"url(#clip092)\" d=\"M4849.96 964.535 L4849.96 1423.18 L4892.22 1423.18 L4892.22 964.535 L4849.96 964.535 L4849.96 964.535  Z\" fill=\"#009af9\" fill-rule=\"evenodd\" fill-opacity=\"1\"/>\n",
       "<polyline clip-path=\"url(#clip092)\" style=\"stroke:#000000; stroke-linecap:round; stroke-linejoin:round; stroke-width:4; stroke-opacity:1; fill:none\" points=\"4849.96,964.535 4849.96,1423.18 4892.22,1423.18 4892.22,964.535 4849.96,964.535 \"/>\n",
       "<path clip-path=\"url(#clip092)\" d=\"M4892.22 1079.2 L4892.22 1423.18 L4934.47 1423.18 L4934.47 1079.2 L4892.22 1079.2 L4892.22 1079.2  Z\" fill=\"#009af9\" fill-rule=\"evenodd\" fill-opacity=\"1\"/>\n",
       "<polyline clip-path=\"url(#clip092)\" style=\"stroke:#000000; stroke-linecap:round; stroke-linejoin:round; stroke-width:4; stroke-opacity:1; fill:none\" points=\"4892.22,1079.2 4892.22,1423.18 4934.47,1423.18 4934.47,1079.2 4892.22,1079.2 \"/>\n",
       "<path clip-path=\"url(#clip092)\" d=\"M4934.47 1193.86 L4934.47 1423.18 L4976.72 1423.18 L4976.72 1193.86 L4934.47 1193.86 L4934.47 1193.86  Z\" fill=\"#009af9\" fill-rule=\"evenodd\" fill-opacity=\"1\"/>\n",
       "<polyline clip-path=\"url(#clip092)\" style=\"stroke:#000000; stroke-linecap:round; stroke-linejoin:round; stroke-width:4; stroke-opacity:1; fill:none\" points=\"4934.47,1193.86 4934.47,1423.18 4976.72,1423.18 4976.72,1193.86 4934.47,1193.86 \"/>\n",
       "<path clip-path=\"url(#clip092)\" d=\"M4976.72 1193.86 L4976.72 1423.18 L5018.97 1423.18 L5018.97 1193.86 L4976.72 1193.86 L4976.72 1193.86  Z\" fill=\"#009af9\" fill-rule=\"evenodd\" fill-opacity=\"1\"/>\n",
       "<polyline clip-path=\"url(#clip092)\" style=\"stroke:#000000; stroke-linecap:round; stroke-linejoin:round; stroke-width:4; stroke-opacity:1; fill:none\" points=\"4976.72,1193.86 4976.72,1423.18 5018.97,1423.18 5018.97,1193.86 4976.72,1193.86 \"/>\n",
       "<path clip-path=\"url(#clip092)\" d=\"M5018.97 849.873 L5018.97 1423.18 L5061.22 1423.18 L5061.22 849.873 L5018.97 849.873 L5018.97 849.873  Z\" fill=\"#009af9\" fill-rule=\"evenodd\" fill-opacity=\"1\"/>\n",
       "<polyline clip-path=\"url(#clip092)\" style=\"stroke:#000000; stroke-linecap:round; stroke-linejoin:round; stroke-width:4; stroke-opacity:1; fill:none\" points=\"5018.97,849.873 5018.97,1423.18 5061.22,1423.18 5061.22,849.873 5018.97,849.873 \"/>\n",
       "<path clip-path=\"url(#clip092)\" d=\"M5061.22 1079.2 L5061.22 1423.18 L5103.48 1423.18 L5103.48 1079.2 L5061.22 1079.2 L5061.22 1079.2  Z\" fill=\"#009af9\" fill-rule=\"evenodd\" fill-opacity=\"1\"/>\n",
       "<polyline clip-path=\"url(#clip092)\" style=\"stroke:#000000; stroke-linecap:round; stroke-linejoin:round; stroke-width:4; stroke-opacity:1; fill:none\" points=\"5061.22,1079.2 5061.22,1423.18 5103.48,1423.18 5103.48,1079.2 5061.22,1079.2 \"/>\n",
       "<path clip-path=\"url(#clip092)\" d=\"M5103.48 620.551 L5103.48 1423.18 L5145.73 1423.18 L5145.73 620.551 L5103.48 620.551 L5103.48 620.551  Z\" fill=\"#009af9\" fill-rule=\"evenodd\" fill-opacity=\"1\"/>\n",
       "<polyline clip-path=\"url(#clip092)\" style=\"stroke:#000000; stroke-linecap:round; stroke-linejoin:round; stroke-width:4; stroke-opacity:1; fill:none\" points=\"5103.48,620.551 5103.48,1423.18 5145.73,1423.18 5145.73,620.551 5103.48,620.551 \"/>\n",
       "<path clip-path=\"url(#clip092)\" d=\"M5145.73 964.535 L5145.73 1423.18 L5187.98 1423.18 L5187.98 964.535 L5145.73 964.535 L5145.73 964.535  Z\" fill=\"#009af9\" fill-rule=\"evenodd\" fill-opacity=\"1\"/>\n",
       "<polyline clip-path=\"url(#clip092)\" style=\"stroke:#000000; stroke-linecap:round; stroke-linejoin:round; stroke-width:4; stroke-opacity:1; fill:none\" points=\"5145.73,964.535 5145.73,1423.18 5187.98,1423.18 5187.98,964.535 5145.73,964.535 \"/>\n",
       "<path clip-path=\"url(#clip092)\" d=\"M5187.98 1193.86 L5187.98 1423.18 L5230.23 1423.18 L5230.23 1193.86 L5187.98 1193.86 L5187.98 1193.86  Z\" fill=\"#009af9\" fill-rule=\"evenodd\" fill-opacity=\"1\"/>\n",
       "<polyline clip-path=\"url(#clip092)\" style=\"stroke:#000000; stroke-linecap:round; stroke-linejoin:round; stroke-width:4; stroke-opacity:1; fill:none\" points=\"5187.98,1193.86 5187.98,1423.18 5230.23,1423.18 5230.23,1193.86 5187.98,1193.86 \"/>\n",
       "<path clip-path=\"url(#clip092)\" d=\"M5230.23 47.2441 L5230.23 1423.18 L5272.49 1423.18 L5272.49 47.2441 L5230.23 47.2441 L5230.23 47.2441  Z\" fill=\"#009af9\" fill-rule=\"evenodd\" fill-opacity=\"1\"/>\n",
       "<polyline clip-path=\"url(#clip092)\" style=\"stroke:#000000; stroke-linecap:round; stroke-linejoin:round; stroke-width:4; stroke-opacity:1; fill:none\" points=\"5230.23,47.2441 5230.23,1423.18 5272.49,1423.18 5272.49,47.2441 5230.23,47.2441 \"/>\n",
       "<path clip-path=\"url(#clip092)\" d=\"M5272.49 849.873 L5272.49 1423.18 L5314.74 1423.18 L5314.74 849.873 L5272.49 849.873 L5272.49 849.873  Z\" fill=\"#009af9\" fill-rule=\"evenodd\" fill-opacity=\"1\"/>\n",
       "<polyline clip-path=\"url(#clip092)\" style=\"stroke:#000000; stroke-linecap:round; stroke-linejoin:round; stroke-width:4; stroke-opacity:1; fill:none\" points=\"5272.49,849.873 5272.49,1423.18 5314.74,1423.18 5314.74,849.873 5272.49,849.873 \"/>\n",
       "<path clip-path=\"url(#clip092)\" d=\"M5314.74 620.551 L5314.74 1423.18 L5356.99 1423.18 L5356.99 620.551 L5314.74 620.551 L5314.74 620.551  Z\" fill=\"#009af9\" fill-rule=\"evenodd\" fill-opacity=\"1\"/>\n",
       "<polyline clip-path=\"url(#clip092)\" style=\"stroke:#000000; stroke-linecap:round; stroke-linejoin:round; stroke-width:4; stroke-opacity:1; fill:none\" points=\"5314.74,620.551 5314.74,1423.18 5356.99,1423.18 5356.99,620.551 5314.74,620.551 \"/>\n",
       "<path clip-path=\"url(#clip092)\" d=\"M5356.99 849.873 L5356.99 1423.18 L5399.24 1423.18 L5399.24 849.873 L5356.99 849.873 L5356.99 849.873  Z\" fill=\"#009af9\" fill-rule=\"evenodd\" fill-opacity=\"1\"/>\n",
       "<polyline clip-path=\"url(#clip092)\" style=\"stroke:#000000; stroke-linecap:round; stroke-linejoin:round; stroke-width:4; stroke-opacity:1; fill:none\" points=\"5356.99,849.873 5356.99,1423.18 5399.24,1423.18 5399.24,849.873 5356.99,849.873 \"/>\n",
       "<path clip-path=\"url(#clip092)\" d=\"M5399.24 505.889 L5399.24 1423.18 L5441.49 1423.18 L5441.49 505.889 L5399.24 505.889 L5399.24 505.889  Z\" fill=\"#009af9\" fill-rule=\"evenodd\" fill-opacity=\"1\"/>\n",
       "<polyline clip-path=\"url(#clip092)\" style=\"stroke:#000000; stroke-linecap:round; stroke-linejoin:round; stroke-width:4; stroke-opacity:1; fill:none\" points=\"5399.24,505.889 5399.24,1423.18 5441.49,1423.18 5441.49,505.889 5399.24,505.889 \"/>\n",
       "<path clip-path=\"url(#clip092)\" d=\"M5441.49 735.212 L5441.49 1423.18 L5483.75 1423.18 L5483.75 735.212 L5441.49 735.212 L5441.49 735.212  Z\" fill=\"#009af9\" fill-rule=\"evenodd\" fill-opacity=\"1\"/>\n",
       "<polyline clip-path=\"url(#clip092)\" style=\"stroke:#000000; stroke-linecap:round; stroke-linejoin:round; stroke-width:4; stroke-opacity:1; fill:none\" points=\"5441.49,735.212 5441.49,1423.18 5483.75,1423.18 5483.75,735.212 5441.49,735.212 \"/>\n",
       "<path clip-path=\"url(#clip092)\" d=\"M5483.75 276.567 L5483.75 1423.18 L5526 1423.18 L5526 276.567 L5483.75 276.567 L5483.75 276.567  Z\" fill=\"#009af9\" fill-rule=\"evenodd\" fill-opacity=\"1\"/>\n",
       "<polyline clip-path=\"url(#clip092)\" style=\"stroke:#000000; stroke-linecap:round; stroke-linejoin:round; stroke-width:4; stroke-opacity:1; fill:none\" points=\"5483.75,276.567 5483.75,1423.18 5526,1423.18 5526,276.567 5483.75,276.567 \"/>\n",
       "<path clip-path=\"url(#clip092)\" d=\"M5526 1079.2 L5526 1423.18 L5568.25 1423.18 L5568.25 1079.2 L5526 1079.2 L5526 1079.2  Z\" fill=\"#009af9\" fill-rule=\"evenodd\" fill-opacity=\"1\"/>\n",
       "<polyline clip-path=\"url(#clip092)\" style=\"stroke:#000000; stroke-linecap:round; stroke-linejoin:round; stroke-width:4; stroke-opacity:1; fill:none\" points=\"5526,1079.2 5526,1423.18 5568.25,1423.18 5568.25,1079.2 5526,1079.2 \"/>\n",
       "<path clip-path=\"url(#clip092)\" d=\"M5568.25 849.873 L5568.25 1423.18 L5610.5 1423.18 L5610.5 849.873 L5568.25 849.873 L5568.25 849.873  Z\" fill=\"#009af9\" fill-rule=\"evenodd\" fill-opacity=\"1\"/>\n",
       "<polyline clip-path=\"url(#clip092)\" style=\"stroke:#000000; stroke-linecap:round; stroke-linejoin:round; stroke-width:4; stroke-opacity:1; fill:none\" points=\"5568.25,849.873 5568.25,1423.18 5610.5,1423.18 5610.5,849.873 5568.25,849.873 \"/>\n",
       "<path clip-path=\"url(#clip092)\" d=\"M5610.5 391.228 L5610.5 1423.18 L5652.75 1423.18 L5652.75 391.228 L5610.5 391.228 L5610.5 391.228  Z\" fill=\"#009af9\" fill-rule=\"evenodd\" fill-opacity=\"1\"/>\n",
       "<polyline clip-path=\"url(#clip092)\" style=\"stroke:#000000; stroke-linecap:round; stroke-linejoin:round; stroke-width:4; stroke-opacity:1; fill:none\" points=\"5610.5,391.228 5610.5,1423.18 5652.75,1423.18 5652.75,391.228 5610.5,391.228 \"/>\n",
       "<path clip-path=\"url(#clip092)\" d=\"M5652.75 964.535 L5652.75 1423.18 L5695.01 1423.18 L5695.01 964.535 L5652.75 964.535 L5652.75 964.535  Z\" fill=\"#009af9\" fill-rule=\"evenodd\" fill-opacity=\"1\"/>\n",
       "<polyline clip-path=\"url(#clip092)\" style=\"stroke:#000000; stroke-linecap:round; stroke-linejoin:round; stroke-width:4; stroke-opacity:1; fill:none\" points=\"5652.75,964.535 5652.75,1423.18 5695.01,1423.18 5695.01,964.535 5652.75,964.535 \"/>\n",
       "<path clip-path=\"url(#clip092)\" d=\"M5695.01 505.889 L5695.01 1423.18 L5737.26 1423.18 L5737.26 505.889 L5695.01 505.889 L5695.01 505.889  Z\" fill=\"#009af9\" fill-rule=\"evenodd\" fill-opacity=\"1\"/>\n",
       "<polyline clip-path=\"url(#clip092)\" style=\"stroke:#000000; stroke-linecap:round; stroke-linejoin:round; stroke-width:4; stroke-opacity:1; fill:none\" points=\"5695.01,505.889 5695.01,1423.18 5737.26,1423.18 5737.26,505.889 5695.01,505.889 \"/>\n",
       "<path clip-path=\"url(#clip092)\" d=\"M5737.26 505.889 L5737.26 1423.18 L5779.51 1423.18 L5779.51 505.889 L5737.26 505.889 L5737.26 505.889  Z\" fill=\"#009af9\" fill-rule=\"evenodd\" fill-opacity=\"1\"/>\n",
       "<polyline clip-path=\"url(#clip092)\" style=\"stroke:#000000; stroke-linecap:round; stroke-linejoin:round; stroke-width:4; stroke-opacity:1; fill:none\" points=\"5737.26,505.889 5737.26,1423.18 5779.51,1423.18 5779.51,505.889 5737.26,505.889 \"/>\n",
       "<path clip-path=\"url(#clip092)\" d=\"M5779.51 964.535 L5779.51 1423.18 L5821.76 1423.18 L5821.76 964.535 L5779.51 964.535 L5779.51 964.535  Z\" fill=\"#009af9\" fill-rule=\"evenodd\" fill-opacity=\"1\"/>\n",
       "<polyline clip-path=\"url(#clip092)\" style=\"stroke:#000000; stroke-linecap:round; stroke-linejoin:round; stroke-width:4; stroke-opacity:1; fill:none\" points=\"5779.51,964.535 5779.51,1423.18 5821.76,1423.18 5821.76,964.535 5779.51,964.535 \"/>\n",
       "<path clip-path=\"url(#clip092)\" d=\"M5821.76 849.873 L5821.76 1423.18 L5864.02 1423.18 L5864.02 849.873 L5821.76 849.873 L5821.76 849.873  Z\" fill=\"#009af9\" fill-rule=\"evenodd\" fill-opacity=\"1\"/>\n",
       "<polyline clip-path=\"url(#clip092)\" style=\"stroke:#000000; stroke-linecap:round; stroke-linejoin:round; stroke-width:4; stroke-opacity:1; fill:none\" points=\"5821.76,849.873 5821.76,1423.18 5864.02,1423.18 5864.02,849.873 5821.76,849.873 \"/>\n",
       "<path clip-path=\"url(#clip092)\" d=\"M5864.02 1079.2 L5864.02 1423.18 L5906.27 1423.18 L5906.27 1079.2 L5864.02 1079.2 L5864.02 1079.2  Z\" fill=\"#009af9\" fill-rule=\"evenodd\" fill-opacity=\"1\"/>\n",
       "<polyline clip-path=\"url(#clip092)\" style=\"stroke:#000000; stroke-linecap:round; stroke-linejoin:round; stroke-width:4; stroke-opacity:1; fill:none\" points=\"5864.02,1079.2 5864.02,1423.18 5906.27,1423.18 5906.27,1079.2 5864.02,1079.2 \"/>\n",
       "<path clip-path=\"url(#clip092)\" d=\"M5906.27 735.212 L5906.27 1423.18 L5948.52 1423.18 L5948.52 735.212 L5906.27 735.212 L5906.27 735.212  Z\" fill=\"#009af9\" fill-rule=\"evenodd\" fill-opacity=\"1\"/>\n",
       "<polyline clip-path=\"url(#clip092)\" style=\"stroke:#000000; stroke-linecap:round; stroke-linejoin:round; stroke-width:4; stroke-opacity:1; fill:none\" points=\"5906.27,735.212 5906.27,1423.18 5948.52,1423.18 5948.52,735.212 5906.27,735.212 \"/>\n",
       "<path clip-path=\"url(#clip092)\" d=\"M5948.52 276.567 L5948.52 1423.18 L5990.77 1423.18 L5990.77 276.567 L5948.52 276.567 L5948.52 276.567  Z\" fill=\"#009af9\" fill-rule=\"evenodd\" fill-opacity=\"1\"/>\n",
       "<polyline clip-path=\"url(#clip092)\" style=\"stroke:#000000; stroke-linecap:round; stroke-linejoin:round; stroke-width:4; stroke-opacity:1; fill:none\" points=\"5948.52,276.567 5948.52,1423.18 5990.77,1423.18 5990.77,276.567 5948.52,276.567 \"/>\n",
       "<path clip-path=\"url(#clip092)\" d=\"M5990.77 1079.2 L5990.77 1423.18 L6033.02 1423.18 L6033.02 1079.2 L5990.77 1079.2 L5990.77 1079.2  Z\" fill=\"#009af9\" fill-rule=\"evenodd\" fill-opacity=\"1\"/>\n",
       "<polyline clip-path=\"url(#clip092)\" style=\"stroke:#000000; stroke-linecap:round; stroke-linejoin:round; stroke-width:4; stroke-opacity:1; fill:none\" points=\"5990.77,1079.2 5990.77,1423.18 6033.02,1423.18 6033.02,1079.2 5990.77,1079.2 \"/>\n",
       "<path clip-path=\"url(#clip092)\" d=\"M6033.02 1079.2 L6033.02 1423.18 L6075.28 1423.18 L6075.28 1079.2 L6033.02 1079.2 L6033.02 1079.2  Z\" fill=\"#009af9\" fill-rule=\"evenodd\" fill-opacity=\"1\"/>\n",
       "<polyline clip-path=\"url(#clip092)\" style=\"stroke:#000000; stroke-linecap:round; stroke-linejoin:round; stroke-width:4; stroke-opacity:1; fill:none\" points=\"6033.02,1079.2 6033.02,1423.18 6075.28,1423.18 6075.28,1079.2 6033.02,1079.2 \"/>\n",
       "<path clip-path=\"url(#clip092)\" d=\"M6075.28 735.212 L6075.28 1423.18 L6117.53 1423.18 L6117.53 735.212 L6075.28 735.212 L6075.28 735.212  Z\" fill=\"#009af9\" fill-rule=\"evenodd\" fill-opacity=\"1\"/>\n",
       "<polyline clip-path=\"url(#clip092)\" style=\"stroke:#000000; stroke-linecap:round; stroke-linejoin:round; stroke-width:4; stroke-opacity:1; fill:none\" points=\"6075.28,735.212 6075.28,1423.18 6117.53,1423.18 6117.53,735.212 6075.28,735.212 \"/>\n",
       "<path clip-path=\"url(#clip092)\" d=\"M6117.53 620.551 L6117.53 1423.18 L6159.78 1423.18 L6159.78 620.551 L6117.53 620.551 L6117.53 620.551  Z\" fill=\"#009af9\" fill-rule=\"evenodd\" fill-opacity=\"1\"/>\n",
       "<polyline clip-path=\"url(#clip092)\" style=\"stroke:#000000; stroke-linecap:round; stroke-linejoin:round; stroke-width:4; stroke-opacity:1; fill:none\" points=\"6117.53,620.551 6117.53,1423.18 6159.78,1423.18 6159.78,620.551 6117.53,620.551 \"/>\n",
       "<path clip-path=\"url(#clip092)\" d=\"M6159.78 735.212 L6159.78 1423.18 L6202.03 1423.18 L6202.03 735.212 L6159.78 735.212 L6159.78 735.212  Z\" fill=\"#009af9\" fill-rule=\"evenodd\" fill-opacity=\"1\"/>\n",
       "<polyline clip-path=\"url(#clip092)\" style=\"stroke:#000000; stroke-linecap:round; stroke-linejoin:round; stroke-width:4; stroke-opacity:1; fill:none\" points=\"6159.78,735.212 6159.78,1423.18 6202.03,1423.18 6202.03,735.212 6159.78,735.212 \"/>\n",
       "<path clip-path=\"url(#clip092)\" d=\"M6202.03 1193.86 L6202.03 1423.18 L6244.28 1423.18 L6244.28 1193.86 L6202.03 1193.86 L6202.03 1193.86  Z\" fill=\"#009af9\" fill-rule=\"evenodd\" fill-opacity=\"1\"/>\n",
       "<polyline clip-path=\"url(#clip092)\" style=\"stroke:#000000; stroke-linecap:round; stroke-linejoin:round; stroke-width:4; stroke-opacity:1; fill:none\" points=\"6202.03,1193.86 6202.03,1423.18 6244.28,1423.18 6244.28,1193.86 6202.03,1193.86 \"/>\n",
       "<path clip-path=\"url(#clip092)\" d=\"M6244.28 735.212 L6244.28 1423.18 L6286.54 1423.18 L6286.54 735.212 L6244.28 735.212 L6244.28 735.212  Z\" fill=\"#009af9\" fill-rule=\"evenodd\" fill-opacity=\"1\"/>\n",
       "<polyline clip-path=\"url(#clip092)\" style=\"stroke:#000000; stroke-linecap:round; stroke-linejoin:round; stroke-width:4; stroke-opacity:1; fill:none\" points=\"6244.28,735.212 6244.28,1423.18 6286.54,1423.18 6286.54,735.212 6244.28,735.212 \"/>\n",
       "<path clip-path=\"url(#clip092)\" d=\"M6286.54 1308.52 L6286.54 1423.18 L6328.79 1423.18 L6328.79 1308.52 L6286.54 1308.52 L6286.54 1308.52  Z\" fill=\"#009af9\" fill-rule=\"evenodd\" fill-opacity=\"1\"/>\n",
       "<polyline clip-path=\"url(#clip092)\" style=\"stroke:#000000; stroke-linecap:round; stroke-linejoin:round; stroke-width:4; stroke-opacity:1; fill:none\" points=\"6286.54,1308.52 6286.54,1423.18 6328.79,1423.18 6328.79,1308.52 6286.54,1308.52 \"/>\n",
       "<path clip-path=\"url(#clip092)\" d=\"M6328.79 1308.52 L6328.79 1423.18 L6371.04 1423.18 L6371.04 1308.52 L6328.79 1308.52 L6328.79 1308.52  Z\" fill=\"#009af9\" fill-rule=\"evenodd\" fill-opacity=\"1\"/>\n",
       "<polyline clip-path=\"url(#clip092)\" style=\"stroke:#000000; stroke-linecap:round; stroke-linejoin:round; stroke-width:4; stroke-opacity:1; fill:none\" points=\"6328.79,1308.52 6328.79,1423.18 6371.04,1423.18 6371.04,1308.52 6328.79,1308.52 \"/>\n",
       "<path clip-path=\"url(#clip092)\" d=\"M6371.04 620.551 L6371.04 1423.18 L6413.29 1423.18 L6413.29 620.551 L6371.04 620.551 L6371.04 620.551  Z\" fill=\"#009af9\" fill-rule=\"evenodd\" fill-opacity=\"1\"/>\n",
       "<polyline clip-path=\"url(#clip092)\" style=\"stroke:#000000; stroke-linecap:round; stroke-linejoin:round; stroke-width:4; stroke-opacity:1; fill:none\" points=\"6371.04,620.551 6371.04,1423.18 6413.29,1423.18 6413.29,620.551 6371.04,620.551 \"/>\n",
       "<path clip-path=\"url(#clip092)\" d=\"M6413.29 1193.86 L6413.29 1423.18 L6455.55 1423.18 L6455.55 1193.86 L6413.29 1193.86 L6413.29 1193.86  Z\" fill=\"#009af9\" fill-rule=\"evenodd\" fill-opacity=\"1\"/>\n",
       "<polyline clip-path=\"url(#clip092)\" style=\"stroke:#000000; stroke-linecap:round; stroke-linejoin:round; stroke-width:4; stroke-opacity:1; fill:none\" points=\"6413.29,1193.86 6413.29,1423.18 6455.55,1423.18 6455.55,1193.86 6413.29,1193.86 \"/>\n",
       "<path clip-path=\"url(#clip092)\" d=\"M6455.55 620.551 L6455.55 1423.18 L6497.8 1423.18 L6497.8 620.551 L6455.55 620.551 L6455.55 620.551  Z\" fill=\"#009af9\" fill-rule=\"evenodd\" fill-opacity=\"1\"/>\n",
       "<polyline clip-path=\"url(#clip092)\" style=\"stroke:#000000; stroke-linecap:round; stroke-linejoin:round; stroke-width:4; stroke-opacity:1; fill:none\" points=\"6455.55,620.551 6455.55,1423.18 6497.8,1423.18 6497.8,620.551 6455.55,620.551 \"/>\n",
       "<path clip-path=\"url(#clip092)\" d=\"M6497.8 849.873 L6497.8 1423.18 L6540.05 1423.18 L6540.05 849.873 L6497.8 849.873 L6497.8 849.873  Z\" fill=\"#009af9\" fill-rule=\"evenodd\" fill-opacity=\"1\"/>\n",
       "<polyline clip-path=\"url(#clip092)\" style=\"stroke:#000000; stroke-linecap:round; stroke-linejoin:round; stroke-width:4; stroke-opacity:1; fill:none\" points=\"6497.8,849.873 6497.8,1423.18 6540.05,1423.18 6540.05,849.873 6497.8,849.873 \"/>\n",
       "<path clip-path=\"url(#clip092)\" d=\"M6540.05 964.535 L6540.05 1423.18 L6582.3 1423.18 L6582.3 964.535 L6540.05 964.535 L6540.05 964.535  Z\" fill=\"#009af9\" fill-rule=\"evenodd\" fill-opacity=\"1\"/>\n",
       "<polyline clip-path=\"url(#clip092)\" style=\"stroke:#000000; stroke-linecap:round; stroke-linejoin:round; stroke-width:4; stroke-opacity:1; fill:none\" points=\"6540.05,964.535 6540.05,1423.18 6582.3,1423.18 6582.3,964.535 6540.05,964.535 \"/>\n",
       "<path clip-path=\"url(#clip092)\" d=\"M6582.3 964.535 L6582.3 1423.18 L6624.55 1423.18 L6624.55 964.535 L6582.3 964.535 L6582.3 964.535  Z\" fill=\"#009af9\" fill-rule=\"evenodd\" fill-opacity=\"1\"/>\n",
       "<polyline clip-path=\"url(#clip092)\" style=\"stroke:#000000; stroke-linecap:round; stroke-linejoin:round; stroke-width:4; stroke-opacity:1; fill:none\" points=\"6582.3,964.535 6582.3,1423.18 6624.55,1423.18 6624.55,964.535 6582.3,964.535 \"/>\n",
       "<path clip-path=\"url(#clip092)\" d=\"M6624.55 1079.2 L6624.55 1423.18 L6666.81 1423.18 L6666.81 1079.2 L6624.55 1079.2 L6624.55 1079.2  Z\" fill=\"#009af9\" fill-rule=\"evenodd\" fill-opacity=\"1\"/>\n",
       "<polyline clip-path=\"url(#clip092)\" style=\"stroke:#000000; stroke-linecap:round; stroke-linejoin:round; stroke-width:4; stroke-opacity:1; fill:none\" points=\"6624.55,1079.2 6624.55,1423.18 6666.81,1423.18 6666.81,1079.2 6624.55,1079.2 \"/>\n",
       "<path clip-path=\"url(#clip092)\" d=\"M6666.81 1308.52 L6666.81 1423.18 L6709.06 1423.18 L6709.06 1308.52 L6666.81 1308.52 L6666.81 1308.52  Z\" fill=\"#009af9\" fill-rule=\"evenodd\" fill-opacity=\"1\"/>\n",
       "<polyline clip-path=\"url(#clip092)\" style=\"stroke:#000000; stroke-linecap:round; stroke-linejoin:round; stroke-width:4; stroke-opacity:1; fill:none\" points=\"6666.81,1308.52 6666.81,1423.18 6709.06,1423.18 6709.06,1308.52 6666.81,1308.52 \"/>\n",
       "<path clip-path=\"url(#clip092)\" d=\"M6709.06 1308.52 L6709.06 1423.18 L6751.31 1423.18 L6751.31 1308.52 L6709.06 1308.52 L6709.06 1308.52  Z\" fill=\"#009af9\" fill-rule=\"evenodd\" fill-opacity=\"1\"/>\n",
       "<polyline clip-path=\"url(#clip092)\" style=\"stroke:#000000; stroke-linecap:round; stroke-linejoin:round; stroke-width:4; stroke-opacity:1; fill:none\" points=\"6709.06,1308.52 6709.06,1423.18 6751.31,1423.18 6751.31,1308.52 6709.06,1308.52 \"/>\n",
       "<path clip-path=\"url(#clip092)\" d=\"M6751.31 1308.52 L6751.31 1423.18 L6793.56 1423.18 L6793.56 1308.52 L6751.31 1308.52 L6751.31 1308.52  Z\" fill=\"#009af9\" fill-rule=\"evenodd\" fill-opacity=\"1\"/>\n",
       "<polyline clip-path=\"url(#clip092)\" style=\"stroke:#000000; stroke-linecap:round; stroke-linejoin:round; stroke-width:4; stroke-opacity:1; fill:none\" points=\"6751.31,1308.52 6751.31,1423.18 6793.56,1423.18 6793.56,1308.52 6751.31,1308.52 \"/>\n",
       "<path clip-path=\"url(#clip092)\" d=\"M6793.56 964.535 L6793.56 1423.18 L6835.81 1423.18 L6835.81 964.535 L6793.56 964.535 L6793.56 964.535  Z\" fill=\"#009af9\" fill-rule=\"evenodd\" fill-opacity=\"1\"/>\n",
       "<polyline clip-path=\"url(#clip092)\" style=\"stroke:#000000; stroke-linecap:round; stroke-linejoin:round; stroke-width:4; stroke-opacity:1; fill:none\" points=\"6793.56,964.535 6793.56,1423.18 6835.81,1423.18 6835.81,964.535 6793.56,964.535 \"/>\n",
       "<path clip-path=\"url(#clip092)\" d=\"M6835.81 1308.52 L6835.81 1423.18 L6878.07 1423.18 L6878.07 1308.52 L6835.81 1308.52 L6835.81 1308.52  Z\" fill=\"#009af9\" fill-rule=\"evenodd\" fill-opacity=\"1\"/>\n",
       "<polyline clip-path=\"url(#clip092)\" style=\"stroke:#000000; stroke-linecap:round; stroke-linejoin:round; stroke-width:4; stroke-opacity:1; fill:none\" points=\"6835.81,1308.52 6835.81,1423.18 6878.07,1423.18 6878.07,1308.52 6835.81,1308.52 \"/>\n",
       "<path clip-path=\"url(#clip092)\" d=\"M6878.07 1193.86 L6878.07 1423.18 L6920.32 1423.18 L6920.32 1193.86 L6878.07 1193.86 L6878.07 1193.86  Z\" fill=\"#009af9\" fill-rule=\"evenodd\" fill-opacity=\"1\"/>\n",
       "<polyline clip-path=\"url(#clip092)\" style=\"stroke:#000000; stroke-linecap:round; stroke-linejoin:round; stroke-width:4; stroke-opacity:1; fill:none\" points=\"6878.07,1193.86 6878.07,1423.18 6920.32,1423.18 6920.32,1193.86 6878.07,1193.86 \"/>\n",
       "<path clip-path=\"url(#clip092)\" d=\"M6920.32 849.873 L6920.32 1423.18 L6962.57 1423.18 L6962.57 849.873 L6920.32 849.873 L6920.32 849.873  Z\" fill=\"#009af9\" fill-rule=\"evenodd\" fill-opacity=\"1\"/>\n",
       "<polyline clip-path=\"url(#clip092)\" style=\"stroke:#000000; stroke-linecap:round; stroke-linejoin:round; stroke-width:4; stroke-opacity:1; fill:none\" points=\"6920.32,849.873 6920.32,1423.18 6962.57,1423.18 6962.57,849.873 6920.32,849.873 \"/>\n",
       "<path clip-path=\"url(#clip092)\" d=\"M6962.57 1079.2 L6962.57 1423.18 L7004.82 1423.18 L7004.82 1079.2 L6962.57 1079.2 L6962.57 1079.2  Z\" fill=\"#009af9\" fill-rule=\"evenodd\" fill-opacity=\"1\"/>\n",
       "<polyline clip-path=\"url(#clip092)\" style=\"stroke:#000000; stroke-linecap:round; stroke-linejoin:round; stroke-width:4; stroke-opacity:1; fill:none\" points=\"6962.57,1079.2 6962.57,1423.18 7004.82,1423.18 7004.82,1079.2 6962.57,1079.2 \"/>\n",
       "<path clip-path=\"url(#clip092)\" d=\"M7004.82 1079.2 L7004.82 1423.18 L7047.08 1423.18 L7047.08 1079.2 L7004.82 1079.2 L7004.82 1079.2  Z\" fill=\"#009af9\" fill-rule=\"evenodd\" fill-opacity=\"1\"/>\n",
       "<polyline clip-path=\"url(#clip092)\" style=\"stroke:#000000; stroke-linecap:round; stroke-linejoin:round; stroke-width:4; stroke-opacity:1; fill:none\" points=\"7004.82,1079.2 7004.82,1423.18 7047.08,1423.18 7047.08,1079.2 7004.82,1079.2 \"/>\n",
       "<path clip-path=\"url(#clip092)\" d=\"M7047.08 1423.18 L7047.08 1423.18 L7089.33 1423.18 L7089.33 1423.18 L7047.08 1423.18 L7047.08 1423.18  Z\" fill=\"#009af9\" fill-rule=\"evenodd\" fill-opacity=\"1\"/>\n",
       "<polyline clip-path=\"url(#clip092)\" style=\"stroke:#000000; stroke-linecap:round; stroke-linejoin:round; stroke-width:4; stroke-opacity:1; fill:none\" points=\"7047.08,1423.18 7047.08,1423.18 7089.33,1423.18 7047.08,1423.18 \"/>\n",
       "<path clip-path=\"url(#clip092)\" d=\"M7089.33 1308.52 L7089.33 1423.18 L7131.58 1423.18 L7131.58 1308.52 L7089.33 1308.52 L7089.33 1308.52  Z\" fill=\"#009af9\" fill-rule=\"evenodd\" fill-opacity=\"1\"/>\n",
       "<polyline clip-path=\"url(#clip092)\" style=\"stroke:#000000; stroke-linecap:round; stroke-linejoin:round; stroke-width:4; stroke-opacity:1; fill:none\" points=\"7089.33,1308.52 7089.33,1423.18 7131.58,1423.18 7131.58,1308.52 7089.33,1308.52 \"/>\n",
       "<path clip-path=\"url(#clip092)\" d=\"M7131.58 1308.52 L7131.58 1423.18 L7173.83 1423.18 L7173.83 1308.52 L7131.58 1308.52 L7131.58 1308.52  Z\" fill=\"#009af9\" fill-rule=\"evenodd\" fill-opacity=\"1\"/>\n",
       "<polyline clip-path=\"url(#clip092)\" style=\"stroke:#000000; stroke-linecap:round; stroke-linejoin:round; stroke-width:4; stroke-opacity:1; fill:none\" points=\"7131.58,1308.52 7131.58,1423.18 7173.83,1423.18 7173.83,1308.52 7131.58,1308.52 \"/>\n",
       "<path clip-path=\"url(#clip092)\" d=\"M7173.83 1193.86 L7173.83 1423.18 L7216.08 1423.18 L7216.08 1193.86 L7173.83 1193.86 L7173.83 1193.86  Z\" fill=\"#009af9\" fill-rule=\"evenodd\" fill-opacity=\"1\"/>\n",
       "<polyline clip-path=\"url(#clip092)\" style=\"stroke:#000000; stroke-linecap:round; stroke-linejoin:round; stroke-width:4; stroke-opacity:1; fill:none\" points=\"7173.83,1193.86 7173.83,1423.18 7216.08,1423.18 7216.08,1193.86 7173.83,1193.86 \"/>\n",
       "<path clip-path=\"url(#clip092)\" d=\"M7216.08 1308.52 L7216.08 1423.18 L7258.34 1423.18 L7258.34 1308.52 L7216.08 1308.52 L7216.08 1308.52  Z\" fill=\"#009af9\" fill-rule=\"evenodd\" fill-opacity=\"1\"/>\n",
       "<polyline clip-path=\"url(#clip092)\" style=\"stroke:#000000; stroke-linecap:round; stroke-linejoin:round; stroke-width:4; stroke-opacity:1; fill:none\" points=\"7216.08,1308.52 7216.08,1423.18 7258.34,1423.18 7258.34,1308.52 7216.08,1308.52 \"/>\n",
       "<path clip-path=\"url(#clip092)\" d=\"M7258.34 1308.52 L7258.34 1423.18 L7300.59 1423.18 L7300.59 1308.52 L7258.34 1308.52 L7258.34 1308.52  Z\" fill=\"#009af9\" fill-rule=\"evenodd\" fill-opacity=\"1\"/>\n",
       "<polyline clip-path=\"url(#clip092)\" style=\"stroke:#000000; stroke-linecap:round; stroke-linejoin:round; stroke-width:4; stroke-opacity:1; fill:none\" points=\"7258.34,1308.52 7258.34,1423.18 7300.59,1423.18 7300.59,1308.52 7258.34,1308.52 \"/>\n",
       "<path clip-path=\"url(#clip092)\" d=\"M7300.59 1079.2 L7300.59 1423.18 L7342.84 1423.18 L7342.84 1079.2 L7300.59 1079.2 L7300.59 1079.2  Z\" fill=\"#009af9\" fill-rule=\"evenodd\" fill-opacity=\"1\"/>\n",
       "<polyline clip-path=\"url(#clip092)\" style=\"stroke:#000000; stroke-linecap:round; stroke-linejoin:round; stroke-width:4; stroke-opacity:1; fill:none\" points=\"7300.59,1079.2 7300.59,1423.18 7342.84,1423.18 7342.84,1079.2 7300.59,1079.2 \"/>\n",
       "<path clip-path=\"url(#clip092)\" d=\"M7342.84 1308.52 L7342.84 1423.18 L7385.09 1423.18 L7385.09 1308.52 L7342.84 1308.52 L7342.84 1308.52  Z\" fill=\"#009af9\" fill-rule=\"evenodd\" fill-opacity=\"1\"/>\n",
       "<polyline clip-path=\"url(#clip092)\" style=\"stroke:#000000; stroke-linecap:round; stroke-linejoin:round; stroke-width:4; stroke-opacity:1; fill:none\" points=\"7342.84,1308.52 7342.84,1423.18 7385.09,1423.18 7385.09,1308.52 7342.84,1308.52 \"/>\n",
       "<path clip-path=\"url(#clip092)\" d=\"M7385.09 1193.86 L7385.09 1423.18 L7427.35 1423.18 L7427.35 1193.86 L7385.09 1193.86 L7385.09 1193.86  Z\" fill=\"#009af9\" fill-rule=\"evenodd\" fill-opacity=\"1\"/>\n",
       "<polyline clip-path=\"url(#clip092)\" style=\"stroke:#000000; stroke-linecap:round; stroke-linejoin:round; stroke-width:4; stroke-opacity:1; fill:none\" points=\"7385.09,1193.86 7385.09,1423.18 7427.35,1423.18 7427.35,1193.86 7385.09,1193.86 \"/>\n",
       "<path clip-path=\"url(#clip092)\" d=\"M7427.35 1423.18 L7427.35 1423.18 L7469.6 1423.18 L7469.6 1423.18 L7427.35 1423.18 L7427.35 1423.18  Z\" fill=\"#009af9\" fill-rule=\"evenodd\" fill-opacity=\"1\"/>\n",
       "<polyline clip-path=\"url(#clip092)\" style=\"stroke:#000000; stroke-linecap:round; stroke-linejoin:round; stroke-width:4; stroke-opacity:1; fill:none\" points=\"7427.35,1423.18 7427.35,1423.18 7469.6,1423.18 7427.35,1423.18 \"/>\n",
       "<path clip-path=\"url(#clip092)\" d=\"M7469.6 1079.2 L7469.6 1423.18 L7511.85 1423.18 L7511.85 1079.2 L7469.6 1079.2 L7469.6 1079.2  Z\" fill=\"#009af9\" fill-rule=\"evenodd\" fill-opacity=\"1\"/>\n",
       "<polyline clip-path=\"url(#clip092)\" style=\"stroke:#000000; stroke-linecap:round; stroke-linejoin:round; stroke-width:4; stroke-opacity:1; fill:none\" points=\"7469.6,1079.2 7469.6,1423.18 7511.85,1423.18 7511.85,1079.2 7469.6,1079.2 \"/>\n",
       "<path clip-path=\"url(#clip092)\" d=\"M7511.85 1308.52 L7511.85 1423.18 L7554.1 1423.18 L7554.1 1308.52 L7511.85 1308.52 L7511.85 1308.52  Z\" fill=\"#009af9\" fill-rule=\"evenodd\" fill-opacity=\"1\"/>\n",
       "<polyline clip-path=\"url(#clip092)\" style=\"stroke:#000000; stroke-linecap:round; stroke-linejoin:round; stroke-width:4; stroke-opacity:1; fill:none\" points=\"7511.85,1308.52 7511.85,1423.18 7554.1,1423.18 7554.1,1308.52 7511.85,1308.52 \"/>\n",
       "<path clip-path=\"url(#clip092)\" d=\"M7554.1 1308.52 L7554.1 1423.18 L7596.35 1423.18 L7596.35 1308.52 L7554.1 1308.52 L7554.1 1308.52  Z\" fill=\"#009af9\" fill-rule=\"evenodd\" fill-opacity=\"1\"/>\n",
       "<polyline clip-path=\"url(#clip092)\" style=\"stroke:#000000; stroke-linecap:round; stroke-linejoin:round; stroke-width:4; stroke-opacity:1; fill:none\" points=\"7554.1,1308.52 7554.1,1423.18 7596.35,1423.18 7596.35,1308.52 7554.1,1308.52 \"/>\n",
       "<path clip-path=\"url(#clip092)\" d=\"M7596.35 1423.18 L7596.35 1423.18 L7638.61 1423.18 L7638.61 1423.18 L7596.35 1423.18 L7596.35 1423.18  Z\" fill=\"#009af9\" fill-rule=\"evenodd\" fill-opacity=\"1\"/>\n",
       "<polyline clip-path=\"url(#clip092)\" style=\"stroke:#000000; stroke-linecap:round; stroke-linejoin:round; stroke-width:4; stroke-opacity:1; fill:none\" points=\"7596.35,1423.18 7596.35,1423.18 7638.61,1423.18 7596.35,1423.18 \"/>\n",
       "<path clip-path=\"url(#clip092)\" d=\"M7638.61 1423.18 L7638.61 1423.18 L7680.86 1423.18 L7680.86 1423.18 L7638.61 1423.18 L7638.61 1423.18  Z\" fill=\"#009af9\" fill-rule=\"evenodd\" fill-opacity=\"1\"/>\n",
       "<polyline clip-path=\"url(#clip092)\" style=\"stroke:#000000; stroke-linecap:round; stroke-linejoin:round; stroke-width:4; stroke-opacity:1; fill:none\" points=\"7638.61,1423.18 7638.61,1423.18 7680.86,1423.18 7638.61,1423.18 \"/>\n",
       "<path clip-path=\"url(#clip092)\" d=\"M7680.86 1423.18 L7680.86 1423.18 L7723.11 1423.18 L7723.11 1423.18 L7680.86 1423.18 L7680.86 1423.18  Z\" fill=\"#009af9\" fill-rule=\"evenodd\" fill-opacity=\"1\"/>\n",
       "<polyline clip-path=\"url(#clip092)\" style=\"stroke:#000000; stroke-linecap:round; stroke-linejoin:round; stroke-width:4; stroke-opacity:1; fill:none\" points=\"7680.86,1423.18 7680.86,1423.18 7723.11,1423.18 7680.86,1423.18 \"/>\n",
       "<path clip-path=\"url(#clip092)\" d=\"M7723.11 1423.18 L7723.11 1423.18 L7765.36 1423.18 L7765.36 1423.18 L7723.11 1423.18 L7723.11 1423.18  Z\" fill=\"#009af9\" fill-rule=\"evenodd\" fill-opacity=\"1\"/>\n",
       "<polyline clip-path=\"url(#clip092)\" style=\"stroke:#000000; stroke-linecap:round; stroke-linejoin:round; stroke-width:4; stroke-opacity:1; fill:none\" points=\"7723.11,1423.18 7723.11,1423.18 7765.36,1423.18 7723.11,1423.18 \"/>\n",
       "<path clip-path=\"url(#clip092)\" d=\"M7765.36 1423.18 L7765.36 1423.18 L7807.61 1423.18 L7807.61 1423.18 L7765.36 1423.18 L7765.36 1423.18  Z\" fill=\"#009af9\" fill-rule=\"evenodd\" fill-opacity=\"1\"/>\n",
       "<polyline clip-path=\"url(#clip092)\" style=\"stroke:#000000; stroke-linecap:round; stroke-linejoin:round; stroke-width:4; stroke-opacity:1; fill:none\" points=\"7765.36,1423.18 7765.36,1423.18 7807.61,1423.18 7765.36,1423.18 \"/>\n",
       "<path clip-path=\"url(#clip092)\" d=\"M7807.61 1423.18 L7807.61 1423.18 L7849.87 1423.18 L7849.87 1423.18 L7807.61 1423.18 L7807.61 1423.18  Z\" fill=\"#009af9\" fill-rule=\"evenodd\" fill-opacity=\"1\"/>\n",
       "<polyline clip-path=\"url(#clip092)\" style=\"stroke:#000000; stroke-linecap:round; stroke-linejoin:round; stroke-width:4; stroke-opacity:1; fill:none\" points=\"7807.61,1423.18 7807.61,1423.18 7849.87,1423.18 7807.61,1423.18 \"/>\n",
       "<path clip-path=\"url(#clip092)\" d=\"M7849.87 1423.18 L7849.87 1423.18 L7892.12 1423.18 L7892.12 1423.18 L7849.87 1423.18 L7849.87 1423.18  Z\" fill=\"#009af9\" fill-rule=\"evenodd\" fill-opacity=\"1\"/>\n",
       "<polyline clip-path=\"url(#clip092)\" style=\"stroke:#000000; stroke-linecap:round; stroke-linejoin:round; stroke-width:4; stroke-opacity:1; fill:none\" points=\"7849.87,1423.18 7849.87,1423.18 7892.12,1423.18 7849.87,1423.18 \"/>\n",
       "<path clip-path=\"url(#clip092)\" d=\"M7892.12 1423.18 L7892.12 1423.18 L7934.37 1423.18 L7934.37 1423.18 L7892.12 1423.18 L7892.12 1423.18  Z\" fill=\"#009af9\" fill-rule=\"evenodd\" fill-opacity=\"1\"/>\n",
       "<polyline clip-path=\"url(#clip092)\" style=\"stroke:#000000; stroke-linecap:round; stroke-linejoin:round; stroke-width:4; stroke-opacity:1; fill:none\" points=\"7892.12,1423.18 7892.12,1423.18 7934.37,1423.18 7892.12,1423.18 \"/>\n",
       "<path clip-path=\"url(#clip092)\" d=\"M7934.37 1423.18 L7934.37 1423.18 L7976.62 1423.18 L7976.62 1423.18 L7934.37 1423.18 L7934.37 1423.18  Z\" fill=\"#009af9\" fill-rule=\"evenodd\" fill-opacity=\"1\"/>\n",
       "<polyline clip-path=\"url(#clip092)\" style=\"stroke:#000000; stroke-linecap:round; stroke-linejoin:round; stroke-width:4; stroke-opacity:1; fill:none\" points=\"7934.37,1423.18 7934.37,1423.18 7976.62,1423.18 7934.37,1423.18 \"/>\n",
       "<path clip-path=\"url(#clip092)\" d=\"M7976.62 1308.52 L7976.62 1423.18 L8018.88 1423.18 L8018.88 1308.52 L7976.62 1308.52 L7976.62 1308.52  Z\" fill=\"#009af9\" fill-rule=\"evenodd\" fill-opacity=\"1\"/>\n",
       "<polyline clip-path=\"url(#clip092)\" style=\"stroke:#000000; stroke-linecap:round; stroke-linejoin:round; stroke-width:4; stroke-opacity:1; fill:none\" points=\"7976.62,1308.52 7976.62,1423.18 8018.88,1423.18 8018.88,1308.52 7976.62,1308.52 \"/>\n",
       "<path clip-path=\"url(#clip092)\" d=\"M8018.88 1423.18 L8018.88 1423.18 L8061.13 1423.18 L8061.13 1423.18 L8018.88 1423.18 L8018.88 1423.18  Z\" fill=\"#009af9\" fill-rule=\"evenodd\" fill-opacity=\"1\"/>\n",
       "<polyline clip-path=\"url(#clip092)\" style=\"stroke:#000000; stroke-linecap:round; stroke-linejoin:round; stroke-width:4; stroke-opacity:1; fill:none\" points=\"8018.88,1423.18 8018.88,1423.18 8061.13,1423.18 8018.88,1423.18 \"/>\n",
       "<path clip-path=\"url(#clip092)\" d=\"M8061.13 1308.52 L8061.13 1423.18 L8103.38 1423.18 L8103.38 1308.52 L8061.13 1308.52 L8061.13 1308.52  Z\" fill=\"#009af9\" fill-rule=\"evenodd\" fill-opacity=\"1\"/>\n",
       "<polyline clip-path=\"url(#clip092)\" style=\"stroke:#000000; stroke-linecap:round; stroke-linejoin:round; stroke-width:4; stroke-opacity:1; fill:none\" points=\"8061.13,1308.52 8061.13,1423.18 8103.38,1423.18 8103.38,1308.52 8061.13,1308.52 \"/>\n",
       "<path clip-path=\"url(#clip092)\" d=\"M8103.38 1423.18 L8103.38 1423.18 L8145.63 1423.18 L8145.63 1423.18 L8103.38 1423.18 L8103.38 1423.18  Z\" fill=\"#009af9\" fill-rule=\"evenodd\" fill-opacity=\"1\"/>\n",
       "<polyline clip-path=\"url(#clip092)\" style=\"stroke:#000000; stroke-linecap:round; stroke-linejoin:round; stroke-width:4; stroke-opacity:1; fill:none\" points=\"8103.38,1423.18 8103.38,1423.18 8145.63,1423.18 8103.38,1423.18 \"/>\n",
       "<path clip-path=\"url(#clip092)\" d=\"M8145.63 1308.52 L8145.63 1423.18 L8187.88 1423.18 L8187.88 1308.52 L8145.63 1308.52 L8145.63 1308.52  Z\" fill=\"#009af9\" fill-rule=\"evenodd\" fill-opacity=\"1\"/>\n",
       "<polyline clip-path=\"url(#clip092)\" style=\"stroke:#000000; stroke-linecap:round; stroke-linejoin:round; stroke-width:4; stroke-opacity:1; fill:none\" points=\"8145.63,1308.52 8145.63,1423.18 8187.88,1423.18 8187.88,1308.52 8145.63,1308.52 \"/>\n",
       "<path clip-path=\"url(#clip092)\" d=\"M8187.88 1423.18 L8187.88 1423.18 L8230.14 1423.18 L8230.14 1423.18 L8187.88 1423.18 L8187.88 1423.18  Z\" fill=\"#009af9\" fill-rule=\"evenodd\" fill-opacity=\"1\"/>\n",
       "<polyline clip-path=\"url(#clip092)\" style=\"stroke:#000000; stroke-linecap:round; stroke-linejoin:round; stroke-width:4; stroke-opacity:1; fill:none\" points=\"8187.88,1423.18 8187.88,1423.18 8230.14,1423.18 8187.88,1423.18 \"/>\n",
       "<path clip-path=\"url(#clip092)\" d=\"M8230.14 1423.18 L8230.14 1423.18 L8272.39 1423.18 L8272.39 1423.18 L8230.14 1423.18 L8230.14 1423.18  Z\" fill=\"#009af9\" fill-rule=\"evenodd\" fill-opacity=\"1\"/>\n",
       "<polyline clip-path=\"url(#clip092)\" style=\"stroke:#000000; stroke-linecap:round; stroke-linejoin:round; stroke-width:4; stroke-opacity:1; fill:none\" points=\"8230.14,1423.18 8230.14,1423.18 8272.39,1423.18 8230.14,1423.18 \"/>\n",
       "<path clip-path=\"url(#clip092)\" d=\"M8272.39 1423.18 L8272.39 1423.18 L8314.64 1423.18 L8314.64 1423.18 L8272.39 1423.18 L8272.39 1423.18  Z\" fill=\"#009af9\" fill-rule=\"evenodd\" fill-opacity=\"1\"/>\n",
       "<polyline clip-path=\"url(#clip092)\" style=\"stroke:#000000; stroke-linecap:round; stroke-linejoin:round; stroke-width:4; stroke-opacity:1; fill:none\" points=\"8272.39,1423.18 8272.39,1423.18 8314.64,1423.18 8272.39,1423.18 \"/>\n",
       "<path clip-path=\"url(#clip092)\" d=\"M8314.64 1423.18 L8314.64 1423.18 L8356.89 1423.18 L8356.89 1423.18 L8314.64 1423.18 L8314.64 1423.18  Z\" fill=\"#009af9\" fill-rule=\"evenodd\" fill-opacity=\"1\"/>\n",
       "<polyline clip-path=\"url(#clip092)\" style=\"stroke:#000000; stroke-linecap:round; stroke-linejoin:round; stroke-width:4; stroke-opacity:1; fill:none\" points=\"8314.64,1423.18 8314.64,1423.18 8356.89,1423.18 8314.64,1423.18 \"/>\n",
       "<path clip-path=\"url(#clip092)\" d=\"M8356.89 1423.18 L8356.89 1423.18 L8399.14 1423.18 L8399.14 1423.18 L8356.89 1423.18 L8356.89 1423.18  Z\" fill=\"#009af9\" fill-rule=\"evenodd\" fill-opacity=\"1\"/>\n",
       "<polyline clip-path=\"url(#clip092)\" style=\"stroke:#000000; stroke-linecap:round; stroke-linejoin:round; stroke-width:4; stroke-opacity:1; fill:none\" points=\"8356.89,1423.18 8356.89,1423.18 8399.14,1423.18 8356.89,1423.18 \"/>\n",
       "<path clip-path=\"url(#clip092)\" d=\"M8399.14 1423.18 L8399.14 1423.18 L8441.4 1423.18 L8441.4 1423.18 L8399.14 1423.18 L8399.14 1423.18  Z\" fill=\"#009af9\" fill-rule=\"evenodd\" fill-opacity=\"1\"/>\n",
       "<polyline clip-path=\"url(#clip092)\" style=\"stroke:#000000; stroke-linecap:round; stroke-linejoin:round; stroke-width:4; stroke-opacity:1; fill:none\" points=\"8399.14,1423.18 8399.14,1423.18 8441.4,1423.18 8399.14,1423.18 \"/>\n",
       "<path clip-path=\"url(#clip092)\" d=\"M8441.4 1423.18 L8441.4 1423.18 L8483.65 1423.18 L8483.65 1423.18 L8441.4 1423.18 L8441.4 1423.18  Z\" fill=\"#009af9\" fill-rule=\"evenodd\" fill-opacity=\"1\"/>\n",
       "<polyline clip-path=\"url(#clip092)\" style=\"stroke:#000000; stroke-linecap:round; stroke-linejoin:round; stroke-width:4; stroke-opacity:1; fill:none\" points=\"8441.4,1423.18 8441.4,1423.18 8483.65,1423.18 8441.4,1423.18 \"/>\n",
       "<path clip-path=\"url(#clip092)\" d=\"M8483.65 1423.18 L8483.65 1423.18 L8525.9 1423.18 L8525.9 1423.18 L8483.65 1423.18 L8483.65 1423.18  Z\" fill=\"#009af9\" fill-rule=\"evenodd\" fill-opacity=\"1\"/>\n",
       "<polyline clip-path=\"url(#clip092)\" style=\"stroke:#000000; stroke-linecap:round; stroke-linejoin:round; stroke-width:4; stroke-opacity:1; fill:none\" points=\"8483.65,1423.18 8483.65,1423.18 8525.9,1423.18 8483.65,1423.18 \"/>\n",
       "<path clip-path=\"url(#clip092)\" d=\"M8525.9 1308.52 L8525.9 1423.18 L8568.15 1423.18 L8568.15 1308.52 L8525.9 1308.52 L8525.9 1308.52  Z\" fill=\"#009af9\" fill-rule=\"evenodd\" fill-opacity=\"1\"/>\n",
       "<polyline clip-path=\"url(#clip092)\" style=\"stroke:#000000; stroke-linecap:round; stroke-linejoin:round; stroke-width:4; stroke-opacity:1; fill:none\" points=\"8525.9,1308.52 8525.9,1423.18 8568.15,1423.18 8568.15,1308.52 8525.9,1308.52 \"/>\n",
       "<path clip-path=\"url(#clip092)\" d=\"M8568.15 1423.18 L8568.15 1423.18 L8610.41 1423.18 L8610.41 1423.18 L8568.15 1423.18 L8568.15 1423.18  Z\" fill=\"#009af9\" fill-rule=\"evenodd\" fill-opacity=\"1\"/>\n",
       "<polyline clip-path=\"url(#clip092)\" style=\"stroke:#000000; stroke-linecap:round; stroke-linejoin:round; stroke-width:4; stroke-opacity:1; fill:none\" points=\"8568.15,1423.18 8568.15,1423.18 8610.41,1423.18 8568.15,1423.18 \"/>\n",
       "<path clip-path=\"url(#clip092)\" d=\"M8610.41 1423.18 L8610.41 1423.18 L8652.66 1423.18 L8652.66 1423.18 L8610.41 1423.18 L8610.41 1423.18  Z\" fill=\"#009af9\" fill-rule=\"evenodd\" fill-opacity=\"1\"/>\n",
       "<polyline clip-path=\"url(#clip092)\" style=\"stroke:#000000; stroke-linecap:round; stroke-linejoin:round; stroke-width:4; stroke-opacity:1; fill:none\" points=\"8610.41,1423.18 8610.41,1423.18 8652.66,1423.18 8610.41,1423.18 \"/>\n",
       "<path clip-path=\"url(#clip092)\" d=\"M8652.66 1423.18 L8652.66 1423.18 L8694.91 1423.18 L8694.91 1423.18 L8652.66 1423.18 L8652.66 1423.18  Z\" fill=\"#009af9\" fill-rule=\"evenodd\" fill-opacity=\"1\"/>\n",
       "<polyline clip-path=\"url(#clip092)\" style=\"stroke:#000000; stroke-linecap:round; stroke-linejoin:round; stroke-width:4; stroke-opacity:1; fill:none\" points=\"8652.66,1423.18 8652.66,1423.18 8694.91,1423.18 8652.66,1423.18 \"/>\n",
       "<path clip-path=\"url(#clip092)\" d=\"M8694.91 1423.18 L8694.91 1423.18 L8737.16 1423.18 L8737.16 1423.18 L8694.91 1423.18 L8694.91 1423.18  Z\" fill=\"#009af9\" fill-rule=\"evenodd\" fill-opacity=\"1\"/>\n",
       "<polyline clip-path=\"url(#clip092)\" style=\"stroke:#000000; stroke-linecap:round; stroke-linejoin:round; stroke-width:4; stroke-opacity:1; fill:none\" points=\"8694.91,1423.18 8694.91,1423.18 8737.16,1423.18 8694.91,1423.18 \"/>\n",
       "<path clip-path=\"url(#clip092)\" d=\"M8737.16 1423.18 L8737.16 1423.18 L8779.41 1423.18 L8779.41 1423.18 L8737.16 1423.18 L8737.16 1423.18  Z\" fill=\"#009af9\" fill-rule=\"evenodd\" fill-opacity=\"1\"/>\n",
       "<polyline clip-path=\"url(#clip092)\" style=\"stroke:#000000; stroke-linecap:round; stroke-linejoin:round; stroke-width:4; stroke-opacity:1; fill:none\" points=\"8737.16,1423.18 8737.16,1423.18 8779.41,1423.18 8737.16,1423.18 \"/>\n",
       "<path clip-path=\"url(#clip092)\" d=\"M8779.41 1423.18 L8779.41 1423.18 L8821.67 1423.18 L8821.67 1423.18 L8779.41 1423.18 L8779.41 1423.18  Z\" fill=\"#009af9\" fill-rule=\"evenodd\" fill-opacity=\"1\"/>\n",
       "<polyline clip-path=\"url(#clip092)\" style=\"stroke:#000000; stroke-linecap:round; stroke-linejoin:round; stroke-width:4; stroke-opacity:1; fill:none\" points=\"8779.41,1423.18 8779.41,1423.18 8821.67,1423.18 8779.41,1423.18 \"/>\n",
       "<path clip-path=\"url(#clip092)\" d=\"M8821.67 1423.18 L8821.67 1423.18 L8863.92 1423.18 L8863.92 1423.18 L8821.67 1423.18 L8821.67 1423.18  Z\" fill=\"#009af9\" fill-rule=\"evenodd\" fill-opacity=\"1\"/>\n",
       "<polyline clip-path=\"url(#clip092)\" style=\"stroke:#000000; stroke-linecap:round; stroke-linejoin:round; stroke-width:4; stroke-opacity:1; fill:none\" points=\"8821.67,1423.18 8821.67,1423.18 8863.92,1423.18 8821.67,1423.18 \"/>\n",
       "<path clip-path=\"url(#clip092)\" d=\"M8863.92 1423.18 L8863.92 1423.18 L8906.17 1423.18 L8906.17 1423.18 L8863.92 1423.18 L8863.92 1423.18  Z\" fill=\"#009af9\" fill-rule=\"evenodd\" fill-opacity=\"1\"/>\n",
       "<polyline clip-path=\"url(#clip092)\" style=\"stroke:#000000; stroke-linecap:round; stroke-linejoin:round; stroke-width:4; stroke-opacity:1; fill:none\" points=\"8863.92,1423.18 8863.92,1423.18 8906.17,1423.18 8863.92,1423.18 \"/>\n",
       "<path clip-path=\"url(#clip092)\" d=\"M8906.17 1423.18 L8906.17 1423.18 L8948.42 1423.18 L8948.42 1423.18 L8906.17 1423.18 L8906.17 1423.18  Z\" fill=\"#009af9\" fill-rule=\"evenodd\" fill-opacity=\"1\"/>\n",
       "<polyline clip-path=\"url(#clip092)\" style=\"stroke:#000000; stroke-linecap:round; stroke-linejoin:round; stroke-width:4; stroke-opacity:1; fill:none\" points=\"8906.17,1423.18 8906.17,1423.18 8948.42,1423.18 8906.17,1423.18 \"/>\n",
       "<path clip-path=\"url(#clip092)\" d=\"M8948.42 1423.18 L8948.42 1423.18 L8990.67 1423.18 L8990.67 1423.18 L8948.42 1423.18 L8948.42 1423.18  Z\" fill=\"#009af9\" fill-rule=\"evenodd\" fill-opacity=\"1\"/>\n",
       "<polyline clip-path=\"url(#clip092)\" style=\"stroke:#000000; stroke-linecap:round; stroke-linejoin:round; stroke-width:4; stroke-opacity:1; fill:none\" points=\"8948.42,1423.18 8948.42,1423.18 8990.67,1423.18 8948.42,1423.18 \"/>\n",
       "<path clip-path=\"url(#clip092)\" d=\"M8990.67 1308.52 L8990.67 1423.18 L9032.93 1423.18 L9032.93 1308.52 L8990.67 1308.52 L8990.67 1308.52  Z\" fill=\"#009af9\" fill-rule=\"evenodd\" fill-opacity=\"1\"/>\n",
       "<polyline clip-path=\"url(#clip092)\" style=\"stroke:#000000; stroke-linecap:round; stroke-linejoin:round; stroke-width:4; stroke-opacity:1; fill:none\" points=\"8990.67,1308.52 8990.67,1423.18 9032.93,1423.18 9032.93,1308.52 8990.67,1308.52 \"/>\n",
       "<path clip-path=\"url(#clip092)\" d=\"M9032.93 1308.52 L9032.93 1423.18 L9075.18 1423.18 L9075.18 1308.52 L9032.93 1308.52 L9032.93 1308.52  Z\" fill=\"#009af9\" fill-rule=\"evenodd\" fill-opacity=\"1\"/>\n",
       "<polyline clip-path=\"url(#clip092)\" style=\"stroke:#000000; stroke-linecap:round; stroke-linejoin:round; stroke-width:4; stroke-opacity:1; fill:none\" points=\"9032.93,1308.52 9032.93,1423.18 9075.18,1423.18 9075.18,1308.52 9032.93,1308.52 \"/>\n",
       "<path clip-path=\"url(#clip092)\" d=\"M9075.18 1423.18 L9075.18 1423.18 L9117.43 1423.18 L9117.43 1423.18 L9075.18 1423.18 L9075.18 1423.18  Z\" fill=\"#009af9\" fill-rule=\"evenodd\" fill-opacity=\"1\"/>\n",
       "<polyline clip-path=\"url(#clip092)\" style=\"stroke:#000000; stroke-linecap:round; stroke-linejoin:round; stroke-width:4; stroke-opacity:1; fill:none\" points=\"9075.18,1423.18 9075.18,1423.18 9117.43,1423.18 9075.18,1423.18 \"/>\n",
       "<path clip-path=\"url(#clip092)\" d=\"M9117.43 1423.18 L9117.43 1423.18 L9159.68 1423.18 L9159.68 1423.18 L9117.43 1423.18 L9117.43 1423.18  Z\" fill=\"#009af9\" fill-rule=\"evenodd\" fill-opacity=\"1\"/>\n",
       "<polyline clip-path=\"url(#clip092)\" style=\"stroke:#000000; stroke-linecap:round; stroke-linejoin:round; stroke-width:4; stroke-opacity:1; fill:none\" points=\"9117.43,1423.18 9117.43,1423.18 9159.68,1423.18 9117.43,1423.18 \"/>\n",
       "<path clip-path=\"url(#clip092)\" d=\"M9159.68 1423.18 L9159.68 1423.18 L9201.94 1423.18 L9201.94 1423.18 L9159.68 1423.18 L9159.68 1423.18  Z\" fill=\"#009af9\" fill-rule=\"evenodd\" fill-opacity=\"1\"/>\n",
       "<polyline clip-path=\"url(#clip092)\" style=\"stroke:#000000; stroke-linecap:round; stroke-linejoin:round; stroke-width:4; stroke-opacity:1; fill:none\" points=\"9159.68,1423.18 9159.68,1423.18 9201.94,1423.18 9159.68,1423.18 \"/>\n",
       "<path clip-path=\"url(#clip092)\" d=\"M9201.94 1423.18 L9201.94 1423.18 L9244.19 1423.18 L9244.19 1423.18 L9201.94 1423.18 L9201.94 1423.18  Z\" fill=\"#009af9\" fill-rule=\"evenodd\" fill-opacity=\"1\"/>\n",
       "<polyline clip-path=\"url(#clip092)\" style=\"stroke:#000000; stroke-linecap:round; stroke-linejoin:round; stroke-width:4; stroke-opacity:1; fill:none\" points=\"9201.94,1423.18 9201.94,1423.18 9244.19,1423.18 9201.94,1423.18 \"/>\n",
       "<path clip-path=\"url(#clip092)\" d=\"M9244.19 1423.18 L9244.19 1423.18 L9286.44 1423.18 L9286.44 1423.18 L9244.19 1423.18 L9244.19 1423.18  Z\" fill=\"#009af9\" fill-rule=\"evenodd\" fill-opacity=\"1\"/>\n",
       "<polyline clip-path=\"url(#clip092)\" style=\"stroke:#000000; stroke-linecap:round; stroke-linejoin:round; stroke-width:4; stroke-opacity:1; fill:none\" points=\"9244.19,1423.18 9244.19,1423.18 9286.44,1423.18 9244.19,1423.18 \"/>\n",
       "<path clip-path=\"url(#clip092)\" d=\"M9286.44 1193.86 L9286.44 1423.18 L9328.69 1423.18 L9328.69 1193.86 L9286.44 1193.86 L9286.44 1193.86  Z\" fill=\"#009af9\" fill-rule=\"evenodd\" fill-opacity=\"1\"/>\n",
       "<polyline clip-path=\"url(#clip092)\" style=\"stroke:#000000; stroke-linecap:round; stroke-linejoin:round; stroke-width:4; stroke-opacity:1; fill:none\" points=\"9286.44,1193.86 9286.44,1423.18 9328.69,1423.18 9328.69,1193.86 9286.44,1193.86 \"/>\n",
       "<path clip-path=\"url(#clip092)\" d=\"M9328.69 1423.18 L9328.69 1423.18 L9370.94 1423.18 L9370.94 1423.18 L9328.69 1423.18 L9328.69 1423.18  Z\" fill=\"#009af9\" fill-rule=\"evenodd\" fill-opacity=\"1\"/>\n",
       "<polyline clip-path=\"url(#clip092)\" style=\"stroke:#000000; stroke-linecap:round; stroke-linejoin:round; stroke-width:4; stroke-opacity:1; fill:none\" points=\"9328.69,1423.18 9328.69,1423.18 9370.94,1423.18 9328.69,1423.18 \"/>\n",
       "<path clip-path=\"url(#clip092)\" d=\"M9370.94 1423.18 L9370.94 1423.18 L9413.2 1423.18 L9413.2 1423.18 L9370.94 1423.18 L9370.94 1423.18  Z\" fill=\"#009af9\" fill-rule=\"evenodd\" fill-opacity=\"1\"/>\n",
       "<polyline clip-path=\"url(#clip092)\" style=\"stroke:#000000; stroke-linecap:round; stroke-linejoin:round; stroke-width:4; stroke-opacity:1; fill:none\" points=\"9370.94,1423.18 9370.94,1423.18 9413.2,1423.18 9370.94,1423.18 \"/>\n",
       "<path clip-path=\"url(#clip092)\" d=\"M9413.2 1423.18 L9413.2 1423.18 L9455.45 1423.18 L9455.45 1423.18 L9413.2 1423.18 L9413.2 1423.18  Z\" fill=\"#009af9\" fill-rule=\"evenodd\" fill-opacity=\"1\"/>\n",
       "<polyline clip-path=\"url(#clip092)\" style=\"stroke:#000000; stroke-linecap:round; stroke-linejoin:round; stroke-width:4; stroke-opacity:1; fill:none\" points=\"9413.2,1423.18 9413.2,1423.18 9455.45,1423.18 9413.2,1423.18 \"/>\n",
       "<path clip-path=\"url(#clip092)\" d=\"M9455.45 1423.18 L9455.45 1423.18 L9497.7 1423.18 L9497.7 1423.18 L9455.45 1423.18 L9455.45 1423.18  Z\" fill=\"#009af9\" fill-rule=\"evenodd\" fill-opacity=\"1\"/>\n",
       "<polyline clip-path=\"url(#clip092)\" style=\"stroke:#000000; stroke-linecap:round; stroke-linejoin:round; stroke-width:4; stroke-opacity:1; fill:none\" points=\"9455.45,1423.18 9455.45,1423.18 9497.7,1423.18 9455.45,1423.18 \"/>\n",
       "<path clip-path=\"url(#clip092)\" d=\"M9497.7 1423.18 L9497.7 1423.18 L9539.95 1423.18 L9539.95 1423.18 L9497.7 1423.18 L9497.7 1423.18  Z\" fill=\"#009af9\" fill-rule=\"evenodd\" fill-opacity=\"1\"/>\n",
       "<polyline clip-path=\"url(#clip092)\" style=\"stroke:#000000; stroke-linecap:round; stroke-linejoin:round; stroke-width:4; stroke-opacity:1; fill:none\" points=\"9497.7,1423.18 9497.7,1423.18 9539.95,1423.18 9497.7,1423.18 \"/>\n",
       "<path clip-path=\"url(#clip092)\" d=\"M9539.95 1308.52 L9539.95 1423.18 L9582.2 1423.18 L9582.2 1308.52 L9539.95 1308.52 L9539.95 1308.52  Z\" fill=\"#009af9\" fill-rule=\"evenodd\" fill-opacity=\"1\"/>\n",
       "<polyline clip-path=\"url(#clip092)\" style=\"stroke:#000000; stroke-linecap:round; stroke-linejoin:round; stroke-width:4; stroke-opacity:1; fill:none\" points=\"9539.95,1308.52 9539.95,1423.18 9582.2,1423.18 9582.2,1308.52 9539.95,1308.52 \"/>\n",
       "<path clip-path=\"url(#clip092)\" d=\"M9582.2 1423.18 L9582.2 1423.18 L9624.46 1423.18 L9624.46 1423.18 L9582.2 1423.18 L9582.2 1423.18  Z\" fill=\"#009af9\" fill-rule=\"evenodd\" fill-opacity=\"1\"/>\n",
       "<polyline clip-path=\"url(#clip092)\" style=\"stroke:#000000; stroke-linecap:round; stroke-linejoin:round; stroke-width:4; stroke-opacity:1; fill:none\" points=\"9582.2,1423.18 9582.2,1423.18 9624.46,1423.18 9582.2,1423.18 \"/>\n",
       "<path clip-path=\"url(#clip092)\" d=\"M9624.46 1423.18 L9624.46 1423.18 L9666.71 1423.18 L9666.71 1423.18 L9624.46 1423.18 L9624.46 1423.18  Z\" fill=\"#009af9\" fill-rule=\"evenodd\" fill-opacity=\"1\"/>\n",
       "<polyline clip-path=\"url(#clip092)\" style=\"stroke:#000000; stroke-linecap:round; stroke-linejoin:round; stroke-width:4; stroke-opacity:1; fill:none\" points=\"9624.46,1423.18 9624.46,1423.18 9666.71,1423.18 9624.46,1423.18 \"/>\n",
       "<path clip-path=\"url(#clip092)\" d=\"M9666.71 1423.18 L9666.71 1423.18 L9708.96 1423.18 L9708.96 1423.18 L9666.71 1423.18 L9666.71 1423.18  Z\" fill=\"#009af9\" fill-rule=\"evenodd\" fill-opacity=\"1\"/>\n",
       "<polyline clip-path=\"url(#clip092)\" style=\"stroke:#000000; stroke-linecap:round; stroke-linejoin:round; stroke-width:4; stroke-opacity:1; fill:none\" points=\"9666.71,1423.18 9666.71,1423.18 9708.96,1423.18 9666.71,1423.18 \"/>\n",
       "<path clip-path=\"url(#clip092)\" d=\"M9708.96 1423.18 L9708.96 1423.18 L9751.21 1423.18 L9751.21 1423.18 L9708.96 1423.18 L9708.96 1423.18  Z\" fill=\"#009af9\" fill-rule=\"evenodd\" fill-opacity=\"1\"/>\n",
       "<polyline clip-path=\"url(#clip092)\" style=\"stroke:#000000; stroke-linecap:round; stroke-linejoin:round; stroke-width:4; stroke-opacity:1; fill:none\" points=\"9708.96,1423.18 9708.96,1423.18 9751.21,1423.18 9708.96,1423.18 \"/>\n",
       "<path clip-path=\"url(#clip092)\" d=\"M9751.21 1423.18 L9751.21 1423.18 L9793.47 1423.18 L9793.47 1423.18 L9751.21 1423.18 L9751.21 1423.18  Z\" fill=\"#009af9\" fill-rule=\"evenodd\" fill-opacity=\"1\"/>\n",
       "<polyline clip-path=\"url(#clip092)\" style=\"stroke:#000000; stroke-linecap:round; stroke-linejoin:round; stroke-width:4; stroke-opacity:1; fill:none\" points=\"9751.21,1423.18 9751.21,1423.18 9793.47,1423.18 9751.21,1423.18 \"/>\n",
       "<path clip-path=\"url(#clip092)\" d=\"M9793.47 1423.18 L9793.47 1423.18 L9835.72 1423.18 L9835.72 1423.18 L9793.47 1423.18 L9793.47 1423.18  Z\" fill=\"#009af9\" fill-rule=\"evenodd\" fill-opacity=\"1\"/>\n",
       "<polyline clip-path=\"url(#clip092)\" style=\"stroke:#000000; stroke-linecap:round; stroke-linejoin:round; stroke-width:4; stroke-opacity:1; fill:none\" points=\"9793.47,1423.18 9793.47,1423.18 9835.72,1423.18 9793.47,1423.18 \"/>\n",
       "<path clip-path=\"url(#clip092)\" d=\"M9835.72 1423.18 L9835.72 1423.18 L9877.97 1423.18 L9877.97 1423.18 L9835.72 1423.18 L9835.72 1423.18  Z\" fill=\"#009af9\" fill-rule=\"evenodd\" fill-opacity=\"1\"/>\n",
       "<polyline clip-path=\"url(#clip092)\" style=\"stroke:#000000; stroke-linecap:round; stroke-linejoin:round; stroke-width:4; stroke-opacity:1; fill:none\" points=\"9835.72,1423.18 9835.72,1423.18 9877.97,1423.18 9835.72,1423.18 \"/>\n",
       "<path clip-path=\"url(#clip092)\" d=\"M9877.97 1423.18 L9877.97 1423.18 L9920.22 1423.18 L9920.22 1423.18 L9877.97 1423.18 L9877.97 1423.18  Z\" fill=\"#009af9\" fill-rule=\"evenodd\" fill-opacity=\"1\"/>\n",
       "<polyline clip-path=\"url(#clip092)\" style=\"stroke:#000000; stroke-linecap:round; stroke-linejoin:round; stroke-width:4; stroke-opacity:1; fill:none\" points=\"9877.97,1423.18 9877.97,1423.18 9920.22,1423.18 9877.97,1423.18 \"/>\n",
       "<path clip-path=\"url(#clip092)\" d=\"M9920.22 1423.18 L9920.22 1423.18 L9962.47 1423.18 L9962.47 1423.18 L9920.22 1423.18 L9920.22 1423.18  Z\" fill=\"#009af9\" fill-rule=\"evenodd\" fill-opacity=\"1\"/>\n",
       "<polyline clip-path=\"url(#clip092)\" style=\"stroke:#000000; stroke-linecap:round; stroke-linejoin:round; stroke-width:4; stroke-opacity:1; fill:none\" points=\"9920.22,1423.18 9920.22,1423.18 9962.47,1423.18 9920.22,1423.18 \"/>\n",
       "<path clip-path=\"url(#clip092)\" d=\"M9962.47 1423.18 L9962.47 1423.18 L10004.7 1423.18 L10004.7 1423.18 L9962.47 1423.18 L9962.47 1423.18  Z\" fill=\"#009af9\" fill-rule=\"evenodd\" fill-opacity=\"1\"/>\n",
       "<polyline clip-path=\"url(#clip092)\" style=\"stroke:#000000; stroke-linecap:round; stroke-linejoin:round; stroke-width:4; stroke-opacity:1; fill:none\" points=\"9962.47,1423.18 9962.47,1423.18 10004.7,1423.18 9962.47,1423.18 \"/>\n",
       "<path clip-path=\"url(#clip092)\" d=\"M10004.7 1423.18 L10004.7 1423.18 L10047 1423.18 L10047 1423.18 L10004.7 1423.18 L10004.7 1423.18  Z\" fill=\"#009af9\" fill-rule=\"evenodd\" fill-opacity=\"1\"/>\n",
       "<polyline clip-path=\"url(#clip092)\" style=\"stroke:#000000; stroke-linecap:round; stroke-linejoin:round; stroke-width:4; stroke-opacity:1; fill:none\" points=\"10004.7,1423.18 10004.7,1423.18 10047,1423.18 10004.7,1423.18 \"/>\n",
       "<path clip-path=\"url(#clip092)\" d=\"M10047 1423.18 L10047 1423.18 L10089.2 1423.18 L10089.2 1423.18 L10047 1423.18 L10047 1423.18  Z\" fill=\"#009af9\" fill-rule=\"evenodd\" fill-opacity=\"1\"/>\n",
       "<polyline clip-path=\"url(#clip092)\" style=\"stroke:#000000; stroke-linecap:round; stroke-linejoin:round; stroke-width:4; stroke-opacity:1; fill:none\" points=\"10047,1423.18 10047,1423.18 10089.2,1423.18 10047,1423.18 \"/>\n",
       "<path clip-path=\"url(#clip092)\" d=\"M10089.2 1423.18 L10089.2 1423.18 L10131.5 1423.18 L10131.5 1423.18 L10089.2 1423.18 L10089.2 1423.18  Z\" fill=\"#009af9\" fill-rule=\"evenodd\" fill-opacity=\"1\"/>\n",
       "<polyline clip-path=\"url(#clip092)\" style=\"stroke:#000000; stroke-linecap:round; stroke-linejoin:round; stroke-width:4; stroke-opacity:1; fill:none\" points=\"10089.2,1423.18 10089.2,1423.18 10131.5,1423.18 10089.2,1423.18 \"/>\n",
       "<path clip-path=\"url(#clip092)\" d=\"M10131.5 1423.18 L10131.5 1423.18 L10173.7 1423.18 L10173.7 1423.18 L10131.5 1423.18 L10131.5 1423.18  Z\" fill=\"#009af9\" fill-rule=\"evenodd\" fill-opacity=\"1\"/>\n",
       "<polyline clip-path=\"url(#clip092)\" style=\"stroke:#000000; stroke-linecap:round; stroke-linejoin:round; stroke-width:4; stroke-opacity:1; fill:none\" points=\"10131.5,1423.18 10131.5,1423.18 10173.7,1423.18 10131.5,1423.18 \"/>\n",
       "<path clip-path=\"url(#clip092)\" d=\"M10173.7 1423.18 L10173.7 1423.18 L10216 1423.18 L10216 1423.18 L10173.7 1423.18 L10173.7 1423.18  Z\" fill=\"#009af9\" fill-rule=\"evenodd\" fill-opacity=\"1\"/>\n",
       "<polyline clip-path=\"url(#clip092)\" style=\"stroke:#000000; stroke-linecap:round; stroke-linejoin:round; stroke-width:4; stroke-opacity:1; fill:none\" points=\"10173.7,1423.18 10173.7,1423.18 10216,1423.18 10173.7,1423.18 \"/>\n",
       "<path clip-path=\"url(#clip092)\" d=\"M10216 1423.18 L10216 1423.18 L10258.2 1423.18 L10258.2 1423.18 L10216 1423.18 L10216 1423.18  Z\" fill=\"#009af9\" fill-rule=\"evenodd\" fill-opacity=\"1\"/>\n",
       "<polyline clip-path=\"url(#clip092)\" style=\"stroke:#000000; stroke-linecap:round; stroke-linejoin:round; stroke-width:4; stroke-opacity:1; fill:none\" points=\"10216,1423.18 10216,1423.18 10258.2,1423.18 10216,1423.18 \"/>\n",
       "<path clip-path=\"url(#clip092)\" d=\"M10258.2 1423.18 L10258.2 1423.18 L10300.5 1423.18 L10300.5 1423.18 L10258.2 1423.18 L10258.2 1423.18  Z\" fill=\"#009af9\" fill-rule=\"evenodd\" fill-opacity=\"1\"/>\n",
       "<polyline clip-path=\"url(#clip092)\" style=\"stroke:#000000; stroke-linecap:round; stroke-linejoin:round; stroke-width:4; stroke-opacity:1; fill:none\" points=\"10258.2,1423.18 10258.2,1423.18 10300.5,1423.18 10258.2,1423.18 \"/>\n",
       "<path clip-path=\"url(#clip092)\" d=\"M10300.5 1423.18 L10300.5 1423.18 L10342.7 1423.18 L10342.7 1423.18 L10300.5 1423.18 L10300.5 1423.18  Z\" fill=\"#009af9\" fill-rule=\"evenodd\" fill-opacity=\"1\"/>\n",
       "<polyline clip-path=\"url(#clip092)\" style=\"stroke:#000000; stroke-linecap:round; stroke-linejoin:round; stroke-width:4; stroke-opacity:1; fill:none\" points=\"10300.5,1423.18 10300.5,1423.18 10342.7,1423.18 10300.5,1423.18 \"/>\n",
       "<path clip-path=\"url(#clip092)\" d=\"M10342.7 1423.18 L10342.7 1423.18 L10385 1423.18 L10385 1423.18 L10342.7 1423.18 L10342.7 1423.18  Z\" fill=\"#009af9\" fill-rule=\"evenodd\" fill-opacity=\"1\"/>\n",
       "<polyline clip-path=\"url(#clip092)\" style=\"stroke:#000000; stroke-linecap:round; stroke-linejoin:round; stroke-width:4; stroke-opacity:1; fill:none\" points=\"10342.7,1423.18 10342.7,1423.18 10385,1423.18 10342.7,1423.18 \"/>\n",
       "<path clip-path=\"url(#clip092)\" d=\"M10385 1423.18 L10385 1423.18 L10427.2 1423.18 L10427.2 1423.18 L10385 1423.18 L10385 1423.18  Z\" fill=\"#009af9\" fill-rule=\"evenodd\" fill-opacity=\"1\"/>\n",
       "<polyline clip-path=\"url(#clip092)\" style=\"stroke:#000000; stroke-linecap:round; stroke-linejoin:round; stroke-width:4; stroke-opacity:1; fill:none\" points=\"10385,1423.18 10385,1423.18 10427.2,1423.18 10385,1423.18 \"/>\n",
       "<path clip-path=\"url(#clip092)\" d=\"M10427.2 1423.18 L10427.2 1423.18 L10469.5 1423.18 L10469.5 1423.18 L10427.2 1423.18 L10427.2 1423.18  Z\" fill=\"#009af9\" fill-rule=\"evenodd\" fill-opacity=\"1\"/>\n",
       "<polyline clip-path=\"url(#clip092)\" style=\"stroke:#000000; stroke-linecap:round; stroke-linejoin:round; stroke-width:4; stroke-opacity:1; fill:none\" points=\"10427.2,1423.18 10427.2,1423.18 10469.5,1423.18 10427.2,1423.18 \"/>\n",
       "<path clip-path=\"url(#clip092)\" d=\"M10469.5 1423.18 L10469.5 1423.18 L10511.8 1423.18 L10511.8 1423.18 L10469.5 1423.18 L10469.5 1423.18  Z\" fill=\"#009af9\" fill-rule=\"evenodd\" fill-opacity=\"1\"/>\n",
       "<polyline clip-path=\"url(#clip092)\" style=\"stroke:#000000; stroke-linecap:round; stroke-linejoin:round; stroke-width:4; stroke-opacity:1; fill:none\" points=\"10469.5,1423.18 10469.5,1423.18 10511.8,1423.18 10469.5,1423.18 \"/>\n",
       "<path clip-path=\"url(#clip092)\" d=\"M10511.8 1423.18 L10511.8 1423.18 L10554 1423.18 L10554 1423.18 L10511.8 1423.18 L10511.8 1423.18  Z\" fill=\"#009af9\" fill-rule=\"evenodd\" fill-opacity=\"1\"/>\n",
       "<polyline clip-path=\"url(#clip092)\" style=\"stroke:#000000; stroke-linecap:round; stroke-linejoin:round; stroke-width:4; stroke-opacity:1; fill:none\" points=\"10511.8,1423.18 10511.8,1423.18 10554,1423.18 10511.8,1423.18 \"/>\n",
       "<path clip-path=\"url(#clip092)\" d=\"M10554 1423.18 L10554 1423.18 L10596.3 1423.18 L10596.3 1423.18 L10554 1423.18 L10554 1423.18  Z\" fill=\"#009af9\" fill-rule=\"evenodd\" fill-opacity=\"1\"/>\n",
       "<polyline clip-path=\"url(#clip092)\" style=\"stroke:#000000; stroke-linecap:round; stroke-linejoin:round; stroke-width:4; stroke-opacity:1; fill:none\" points=\"10554,1423.18 10554,1423.18 10596.3,1423.18 10554,1423.18 \"/>\n",
       "<path clip-path=\"url(#clip092)\" d=\"M10596.3 1423.18 L10596.3 1423.18 L10638.5 1423.18 L10638.5 1423.18 L10596.3 1423.18 L10596.3 1423.18  Z\" fill=\"#009af9\" fill-rule=\"evenodd\" fill-opacity=\"1\"/>\n",
       "<polyline clip-path=\"url(#clip092)\" style=\"stroke:#000000; stroke-linecap:round; stroke-linejoin:round; stroke-width:4; stroke-opacity:1; fill:none\" points=\"10596.3,1423.18 10596.3,1423.18 10638.5,1423.18 10596.3,1423.18 \"/>\n",
       "<path clip-path=\"url(#clip092)\" d=\"M10638.5 1423.18 L10638.5 1423.18 L10680.8 1423.18 L10680.8 1423.18 L10638.5 1423.18 L10638.5 1423.18  Z\" fill=\"#009af9\" fill-rule=\"evenodd\" fill-opacity=\"1\"/>\n",
       "<polyline clip-path=\"url(#clip092)\" style=\"stroke:#000000; stroke-linecap:round; stroke-linejoin:round; stroke-width:4; stroke-opacity:1; fill:none\" points=\"10638.5,1423.18 10638.5,1423.18 10680.8,1423.18 10638.5,1423.18 \"/>\n",
       "<path clip-path=\"url(#clip092)\" d=\"M10680.8 1423.18 L10680.8 1423.18 L10723 1423.18 L10723 1423.18 L10680.8 1423.18 L10680.8 1423.18  Z\" fill=\"#009af9\" fill-rule=\"evenodd\" fill-opacity=\"1\"/>\n",
       "<polyline clip-path=\"url(#clip092)\" style=\"stroke:#000000; stroke-linecap:round; stroke-linejoin:round; stroke-width:4; stroke-opacity:1; fill:none\" points=\"10680.8,1423.18 10680.8,1423.18 10723,1423.18 10680.8,1423.18 \"/>\n",
       "<path clip-path=\"url(#clip092)\" d=\"M10723 1423.18 L10723 1423.18 L10765.3 1423.18 L10765.3 1423.18 L10723 1423.18 L10723 1423.18  Z\" fill=\"#009af9\" fill-rule=\"evenodd\" fill-opacity=\"1\"/>\n",
       "<polyline clip-path=\"url(#clip092)\" style=\"stroke:#000000; stroke-linecap:round; stroke-linejoin:round; stroke-width:4; stroke-opacity:1; fill:none\" points=\"10723,1423.18 10723,1423.18 10765.3,1423.18 10723,1423.18 \"/>\n",
       "<path clip-path=\"url(#clip092)\" d=\"M10765.3 1423.18 L10765.3 1423.18 L10807.5 1423.18 L10807.5 1423.18 L10765.3 1423.18 L10765.3 1423.18  Z\" fill=\"#009af9\" fill-rule=\"evenodd\" fill-opacity=\"1\"/>\n",
       "<polyline clip-path=\"url(#clip092)\" style=\"stroke:#000000; stroke-linecap:round; stroke-linejoin:round; stroke-width:4; stroke-opacity:1; fill:none\" points=\"10765.3,1423.18 10765.3,1423.18 10807.5,1423.18 10765.3,1423.18 \"/>\n",
       "<path clip-path=\"url(#clip092)\" d=\"M10807.5 1423.18 L10807.5 1423.18 L10849.8 1423.18 L10849.8 1423.18 L10807.5 1423.18 L10807.5 1423.18  Z\" fill=\"#009af9\" fill-rule=\"evenodd\" fill-opacity=\"1\"/>\n",
       "<polyline clip-path=\"url(#clip092)\" style=\"stroke:#000000; stroke-linecap:round; stroke-linejoin:round; stroke-width:4; stroke-opacity:1; fill:none\" points=\"10807.5,1423.18 10807.5,1423.18 10849.8,1423.18 10807.5,1423.18 \"/>\n",
       "<path clip-path=\"url(#clip092)\" d=\"M10849.8 1423.18 L10849.8 1423.18 L10892 1423.18 L10892 1423.18 L10849.8 1423.18 L10849.8 1423.18  Z\" fill=\"#009af9\" fill-rule=\"evenodd\" fill-opacity=\"1\"/>\n",
       "<polyline clip-path=\"url(#clip092)\" style=\"stroke:#000000; stroke-linecap:round; stroke-linejoin:round; stroke-width:4; stroke-opacity:1; fill:none\" points=\"10849.8,1423.18 10849.8,1423.18 10892,1423.18 10849.8,1423.18 \"/>\n",
       "<path clip-path=\"url(#clip092)\" d=\"M10892 1423.18 L10892 1423.18 L10934.3 1423.18 L10934.3 1423.18 L10892 1423.18 L10892 1423.18  Z\" fill=\"#009af9\" fill-rule=\"evenodd\" fill-opacity=\"1\"/>\n",
       "<polyline clip-path=\"url(#clip092)\" style=\"stroke:#000000; stroke-linecap:round; stroke-linejoin:round; stroke-width:4; stroke-opacity:1; fill:none\" points=\"10892,1423.18 10892,1423.18 10934.3,1423.18 10892,1423.18 \"/>\n",
       "<path clip-path=\"url(#clip092)\" d=\"M10934.3 1423.18 L10934.3 1423.18 L10976.5 1423.18 L10976.5 1423.18 L10934.3 1423.18 L10934.3 1423.18  Z\" fill=\"#009af9\" fill-rule=\"evenodd\" fill-opacity=\"1\"/>\n",
       "<polyline clip-path=\"url(#clip092)\" style=\"stroke:#000000; stroke-linecap:round; stroke-linejoin:round; stroke-width:4; stroke-opacity:1; fill:none\" points=\"10934.3,1423.18 10934.3,1423.18 10976.5,1423.18 10934.3,1423.18 \"/>\n",
       "<path clip-path=\"url(#clip092)\" d=\"M10976.5 1423.18 L10976.5 1423.18 L11018.8 1423.18 L11018.8 1423.18 L10976.5 1423.18 L10976.5 1423.18  Z\" fill=\"#009af9\" fill-rule=\"evenodd\" fill-opacity=\"1\"/>\n",
       "<polyline clip-path=\"url(#clip092)\" style=\"stroke:#000000; stroke-linecap:round; stroke-linejoin:round; stroke-width:4; stroke-opacity:1; fill:none\" points=\"10976.5,1423.18 10976.5,1423.18 11018.8,1423.18 10976.5,1423.18 \"/>\n",
       "<path clip-path=\"url(#clip092)\" d=\"M11018.8 1423.18 L11018.8 1423.18 L11061 1423.18 L11061 1423.18 L11018.8 1423.18 L11018.8 1423.18  Z\" fill=\"#009af9\" fill-rule=\"evenodd\" fill-opacity=\"1\"/>\n",
       "<polyline clip-path=\"url(#clip092)\" style=\"stroke:#000000; stroke-linecap:round; stroke-linejoin:round; stroke-width:4; stroke-opacity:1; fill:none\" points=\"11018.8,1423.18 11018.8,1423.18 11061,1423.18 11018.8,1423.18 \"/>\n",
       "<path clip-path=\"url(#clip092)\" d=\"M11061 1423.18 L11061 1423.18 L11103.3 1423.18 L11103.3 1423.18 L11061 1423.18 L11061 1423.18  Z\" fill=\"#009af9\" fill-rule=\"evenodd\" fill-opacity=\"1\"/>\n",
       "<polyline clip-path=\"url(#clip092)\" style=\"stroke:#000000; stroke-linecap:round; stroke-linejoin:round; stroke-width:4; stroke-opacity:1; fill:none\" points=\"11061,1423.18 11061,1423.18 11103.3,1423.18 11061,1423.18 \"/>\n",
       "<path clip-path=\"url(#clip092)\" d=\"M11103.3 1423.18 L11103.3 1423.18 L11145.5 1423.18 L11145.5 1423.18 L11103.3 1423.18 L11103.3 1423.18  Z\" fill=\"#009af9\" fill-rule=\"evenodd\" fill-opacity=\"1\"/>\n",
       "<polyline clip-path=\"url(#clip092)\" style=\"stroke:#000000; stroke-linecap:round; stroke-linejoin:round; stroke-width:4; stroke-opacity:1; fill:none\" points=\"11103.3,1423.18 11103.3,1423.18 11145.5,1423.18 11103.3,1423.18 \"/>\n",
       "<path clip-path=\"url(#clip092)\" d=\"M11145.5 1423.18 L11145.5 1423.18 L11187.8 1423.18 L11187.8 1423.18 L11145.5 1423.18 L11145.5 1423.18  Z\" fill=\"#009af9\" fill-rule=\"evenodd\" fill-opacity=\"1\"/>\n",
       "<polyline clip-path=\"url(#clip092)\" style=\"stroke:#000000; stroke-linecap:round; stroke-linejoin:round; stroke-width:4; stroke-opacity:1; fill:none\" points=\"11145.5,1423.18 11145.5,1423.18 11187.8,1423.18 11145.5,1423.18 \"/>\n",
       "<path clip-path=\"url(#clip092)\" d=\"M11187.8 1423.18 L11187.8 1423.18 L11230 1423.18 L11230 1423.18 L11187.8 1423.18 L11187.8 1423.18  Z\" fill=\"#009af9\" fill-rule=\"evenodd\" fill-opacity=\"1\"/>\n",
       "<polyline clip-path=\"url(#clip092)\" style=\"stroke:#000000; stroke-linecap:round; stroke-linejoin:round; stroke-width:4; stroke-opacity:1; fill:none\" points=\"11187.8,1423.18 11187.8,1423.18 11230,1423.18 11187.8,1423.18 \"/>\n",
       "<path clip-path=\"url(#clip092)\" d=\"M11230 1423.18 L11230 1423.18 L11272.3 1423.18 L11272.3 1423.18 L11230 1423.18 L11230 1423.18  Z\" fill=\"#009af9\" fill-rule=\"evenodd\" fill-opacity=\"1\"/>\n",
       "<polyline clip-path=\"url(#clip092)\" style=\"stroke:#000000; stroke-linecap:round; stroke-linejoin:round; stroke-width:4; stroke-opacity:1; fill:none\" points=\"11230,1423.18 11230,1423.18 11272.3,1423.18 11230,1423.18 \"/>\n",
       "<path clip-path=\"url(#clip092)\" d=\"M11272.3 1423.18 L11272.3 1423.18 L11314.5 1423.18 L11314.5 1423.18 L11272.3 1423.18 L11272.3 1423.18  Z\" fill=\"#009af9\" fill-rule=\"evenodd\" fill-opacity=\"1\"/>\n",
       "<polyline clip-path=\"url(#clip092)\" style=\"stroke:#000000; stroke-linecap:round; stroke-linejoin:round; stroke-width:4; stroke-opacity:1; fill:none\" points=\"11272.3,1423.18 11272.3,1423.18 11314.5,1423.18 11272.3,1423.18 \"/>\n",
       "<path clip-path=\"url(#clip092)\" d=\"M11314.5 1423.18 L11314.5 1423.18 L11356.8 1423.18 L11356.8 1423.18 L11314.5 1423.18 L11314.5 1423.18  Z\" fill=\"#009af9\" fill-rule=\"evenodd\" fill-opacity=\"1\"/>\n",
       "<polyline clip-path=\"url(#clip092)\" style=\"stroke:#000000; stroke-linecap:round; stroke-linejoin:round; stroke-width:4; stroke-opacity:1; fill:none\" points=\"11314.5,1423.18 11314.5,1423.18 11356.8,1423.18 11314.5,1423.18 \"/>\n",
       "<path clip-path=\"url(#clip092)\" d=\"M11356.8 1423.18 L11356.8 1423.18 L11399 1423.18 L11399 1423.18 L11356.8 1423.18 L11356.8 1423.18  Z\" fill=\"#009af9\" fill-rule=\"evenodd\" fill-opacity=\"1\"/>\n",
       "<polyline clip-path=\"url(#clip092)\" style=\"stroke:#000000; stroke-linecap:round; stroke-linejoin:round; stroke-width:4; stroke-opacity:1; fill:none\" points=\"11356.8,1423.18 11356.8,1423.18 11399,1423.18 11356.8,1423.18 \"/>\n",
       "<path clip-path=\"url(#clip092)\" d=\"M11399 1423.18 L11399 1423.18 L11441.3 1423.18 L11441.3 1423.18 L11399 1423.18 L11399 1423.18  Z\" fill=\"#009af9\" fill-rule=\"evenodd\" fill-opacity=\"1\"/>\n",
       "<polyline clip-path=\"url(#clip092)\" style=\"stroke:#000000; stroke-linecap:round; stroke-linejoin:round; stroke-width:4; stroke-opacity:1; fill:none\" points=\"11399,1423.18 11399,1423.18 11441.3,1423.18 11399,1423.18 \"/>\n",
       "<path clip-path=\"url(#clip092)\" d=\"M11441.3 1423.18 L11441.3 1423.18 L11483.6 1423.18 L11483.6 1423.18 L11441.3 1423.18 L11441.3 1423.18  Z\" fill=\"#009af9\" fill-rule=\"evenodd\" fill-opacity=\"1\"/>\n",
       "<polyline clip-path=\"url(#clip092)\" style=\"stroke:#000000; stroke-linecap:round; stroke-linejoin:round; stroke-width:4; stroke-opacity:1; fill:none\" points=\"11441.3,1423.18 11441.3,1423.18 11483.6,1423.18 11441.3,1423.18 \"/>\n",
       "<path clip-path=\"url(#clip092)\" d=\"M11483.6 1423.18 L11483.6 1423.18 L11525.8 1423.18 L11525.8 1423.18 L11483.6 1423.18 L11483.6 1423.18  Z\" fill=\"#009af9\" fill-rule=\"evenodd\" fill-opacity=\"1\"/>\n",
       "<polyline clip-path=\"url(#clip092)\" style=\"stroke:#000000; stroke-linecap:round; stroke-linejoin:round; stroke-width:4; stroke-opacity:1; fill:none\" points=\"11483.6,1423.18 11483.6,1423.18 11525.8,1423.18 11483.6,1423.18 \"/>\n",
       "<path clip-path=\"url(#clip092)\" d=\"M11525.8 1423.18 L11525.8 1423.18 L11568.1 1423.18 L11568.1 1423.18 L11525.8 1423.18 L11525.8 1423.18  Z\" fill=\"#009af9\" fill-rule=\"evenodd\" fill-opacity=\"1\"/>\n",
       "<polyline clip-path=\"url(#clip092)\" style=\"stroke:#000000; stroke-linecap:round; stroke-linejoin:round; stroke-width:4; stroke-opacity:1; fill:none\" points=\"11525.8,1423.18 11525.8,1423.18 11568.1,1423.18 11525.8,1423.18 \"/>\n",
       "<path clip-path=\"url(#clip092)\" d=\"M11568.1 1423.18 L11568.1 1423.18 L11610.3 1423.18 L11610.3 1423.18 L11568.1 1423.18 L11568.1 1423.18  Z\" fill=\"#009af9\" fill-rule=\"evenodd\" fill-opacity=\"1\"/>\n",
       "<polyline clip-path=\"url(#clip092)\" style=\"stroke:#000000; stroke-linecap:round; stroke-linejoin:round; stroke-width:4; stroke-opacity:1; fill:none\" points=\"11568.1,1423.18 11568.1,1423.18 11610.3,1423.18 11568.1,1423.18 \"/>\n",
       "<path clip-path=\"url(#clip092)\" d=\"M11610.3 1423.18 L11610.3 1423.18 L11652.6 1423.18 L11652.6 1423.18 L11610.3 1423.18 L11610.3 1423.18  Z\" fill=\"#009af9\" fill-rule=\"evenodd\" fill-opacity=\"1\"/>\n",
       "<polyline clip-path=\"url(#clip092)\" style=\"stroke:#000000; stroke-linecap:round; stroke-linejoin:round; stroke-width:4; stroke-opacity:1; fill:none\" points=\"11610.3,1423.18 11610.3,1423.18 11652.6,1423.18 11610.3,1423.18 \"/>\n",
       "<path clip-path=\"url(#clip092)\" d=\"M11652.6 1423.18 L11652.6 1423.18 L11694.8 1423.18 L11694.8 1423.18 L11652.6 1423.18 L11652.6 1423.18  Z\" fill=\"#009af9\" fill-rule=\"evenodd\" fill-opacity=\"1\"/>\n",
       "<polyline clip-path=\"url(#clip092)\" style=\"stroke:#000000; stroke-linecap:round; stroke-linejoin:round; stroke-width:4; stroke-opacity:1; fill:none\" points=\"11652.6,1423.18 11652.6,1423.18 11694.8,1423.18 11652.6,1423.18 \"/>\n",
       "<path clip-path=\"url(#clip092)\" d=\"M11694.8 1423.18 L11694.8 1423.18 L11737.1 1423.18 L11737.1 1423.18 L11694.8 1423.18 L11694.8 1423.18  Z\" fill=\"#009af9\" fill-rule=\"evenodd\" fill-opacity=\"1\"/>\n",
       "<polyline clip-path=\"url(#clip092)\" style=\"stroke:#000000; stroke-linecap:round; stroke-linejoin:round; stroke-width:4; stroke-opacity:1; fill:none\" points=\"11694.8,1423.18 11694.8,1423.18 11737.1,1423.18 11694.8,1423.18 \"/>\n",
       "<path clip-path=\"url(#clip092)\" d=\"M11737.1 1423.18 L11737.1 1423.18 L11779.3 1423.18 L11779.3 1423.18 L11737.1 1423.18 L11737.1 1423.18  Z\" fill=\"#009af9\" fill-rule=\"evenodd\" fill-opacity=\"1\"/>\n",
       "<polyline clip-path=\"url(#clip092)\" style=\"stroke:#000000; stroke-linecap:round; stroke-linejoin:round; stroke-width:4; stroke-opacity:1; fill:none\" points=\"11737.1,1423.18 11737.1,1423.18 11779.3,1423.18 11737.1,1423.18 \"/>\n",
       "<path clip-path=\"url(#clip092)\" d=\"M11779.3 1423.18 L11779.3 1423.18 L11821.6 1423.18 L11821.6 1423.18 L11779.3 1423.18 L11779.3 1423.18  Z\" fill=\"#009af9\" fill-rule=\"evenodd\" fill-opacity=\"1\"/>\n",
       "<polyline clip-path=\"url(#clip092)\" style=\"stroke:#000000; stroke-linecap:round; stroke-linejoin:round; stroke-width:4; stroke-opacity:1; fill:none\" points=\"11779.3,1423.18 11779.3,1423.18 11821.6,1423.18 11779.3,1423.18 \"/>\n",
       "<path clip-path=\"url(#clip092)\" d=\"M11821.6 1423.18 L11821.6 1423.18 L11863.8 1423.18 L11863.8 1423.18 L11821.6 1423.18 L11821.6 1423.18  Z\" fill=\"#009af9\" fill-rule=\"evenodd\" fill-opacity=\"1\"/>\n",
       "<polyline clip-path=\"url(#clip092)\" style=\"stroke:#000000; stroke-linecap:round; stroke-linejoin:round; stroke-width:4; stroke-opacity:1; fill:none\" points=\"11821.6,1423.18 11821.6,1423.18 11863.8,1423.18 11821.6,1423.18 \"/>\n",
       "<path clip-path=\"url(#clip092)\" d=\"M11863.8 1308.52 L11863.8 1423.18 L11906.1 1423.18 L11906.1 1308.52 L11863.8 1308.52 L11863.8 1308.52  Z\" fill=\"#009af9\" fill-rule=\"evenodd\" fill-opacity=\"1\"/>\n",
       "<polyline clip-path=\"url(#clip092)\" style=\"stroke:#000000; stroke-linecap:round; stroke-linejoin:round; stroke-width:4; stroke-opacity:1; fill:none\" points=\"11863.8,1308.52 11863.8,1423.18 11906.1,1423.18 11906.1,1308.52 11863.8,1308.52 \"/>\n",
       "<circle clip-path=\"url(#clip092)\" style=\"fill:#009af9; stroke:none; fill-opacity:0\" cx=\"223.354\" cy=\"1193.86\" r=\"2\"/>\n",
       "<circle clip-path=\"url(#clip092)\" style=\"fill:#009af9; stroke:none; fill-opacity:0\" cx=\"265.606\" cy=\"849.873\" r=\"2\"/>\n",
       "<circle clip-path=\"url(#clip092)\" style=\"fill:#009af9; stroke:none; fill-opacity:0\" cx=\"307.858\" cy=\"1193.86\" r=\"2\"/>\n",
       "<circle clip-path=\"url(#clip092)\" style=\"fill:#009af9; stroke:none; fill-opacity:0\" cx=\"350.11\" cy=\"1193.86\" r=\"2\"/>\n",
       "<circle clip-path=\"url(#clip092)\" style=\"fill:#009af9; stroke:none; fill-opacity:0\" cx=\"392.362\" cy=\"1193.86\" r=\"2\"/>\n",
       "<circle clip-path=\"url(#clip092)\" style=\"fill:#009af9; stroke:none; fill-opacity:0\" cx=\"434.614\" cy=\"1423.18\" r=\"2\"/>\n",
       "<circle clip-path=\"url(#clip092)\" style=\"fill:#009af9; stroke:none; fill-opacity:0\" cx=\"476.866\" cy=\"1308.52\" r=\"2\"/>\n",
       "<circle clip-path=\"url(#clip092)\" style=\"fill:#009af9; stroke:none; fill-opacity:0\" cx=\"519.119\" cy=\"964.535\" r=\"2\"/>\n",
       "<circle clip-path=\"url(#clip092)\" style=\"fill:#009af9; stroke:none; fill-opacity:0\" cx=\"561.371\" cy=\"1193.86\" r=\"2\"/>\n",
       "<circle clip-path=\"url(#clip092)\" style=\"fill:#009af9; stroke:none; fill-opacity:0\" cx=\"603.623\" cy=\"964.535\" r=\"2\"/>\n",
       "<circle clip-path=\"url(#clip092)\" style=\"fill:#009af9; stroke:none; fill-opacity:0\" cx=\"645.875\" cy=\"1308.52\" r=\"2\"/>\n",
       "<circle clip-path=\"url(#clip092)\" style=\"fill:#009af9; stroke:none; fill-opacity:0\" cx=\"688.127\" cy=\"1079.2\" r=\"2\"/>\n",
       "<circle clip-path=\"url(#clip092)\" style=\"fill:#009af9; stroke:none; fill-opacity:0\" cx=\"730.379\" cy=\"1423.18\" r=\"2\"/>\n",
       "<circle clip-path=\"url(#clip092)\" style=\"fill:#009af9; stroke:none; fill-opacity:0\" cx=\"772.631\" cy=\"1193.86\" r=\"2\"/>\n",
       "<circle clip-path=\"url(#clip092)\" style=\"fill:#009af9; stroke:none; fill-opacity:0\" cx=\"814.884\" cy=\"1079.2\" r=\"2\"/>\n",
       "<circle clip-path=\"url(#clip092)\" style=\"fill:#009af9; stroke:none; fill-opacity:0\" cx=\"857.136\" cy=\"1308.52\" r=\"2\"/>\n",
       "<circle clip-path=\"url(#clip092)\" style=\"fill:#009af9; stroke:none; fill-opacity:0\" cx=\"899.388\" cy=\"1193.86\" r=\"2\"/>\n",
       "<circle clip-path=\"url(#clip092)\" style=\"fill:#009af9; stroke:none; fill-opacity:0\" cx=\"941.64\" cy=\"1079.2\" r=\"2\"/>\n",
       "<circle clip-path=\"url(#clip092)\" style=\"fill:#009af9; stroke:none; fill-opacity:0\" cx=\"983.892\" cy=\"1423.18\" r=\"2\"/>\n",
       "<circle clip-path=\"url(#clip092)\" style=\"fill:#009af9; stroke:none; fill-opacity:0\" cx=\"1026.14\" cy=\"1423.18\" r=\"2\"/>\n",
       "<circle clip-path=\"url(#clip092)\" style=\"fill:#009af9; stroke:none; fill-opacity:0\" cx=\"1068.4\" cy=\"1193.86\" r=\"2\"/>\n",
       "<circle clip-path=\"url(#clip092)\" style=\"fill:#009af9; stroke:none; fill-opacity:0\" cx=\"1110.65\" cy=\"1423.18\" r=\"2\"/>\n",
       "<circle clip-path=\"url(#clip092)\" style=\"fill:#009af9; stroke:none; fill-opacity:0\" cx=\"1152.9\" cy=\"1423.18\" r=\"2\"/>\n",
       "<circle clip-path=\"url(#clip092)\" style=\"fill:#009af9; stroke:none; fill-opacity:0\" cx=\"1195.15\" cy=\"1079.2\" r=\"2\"/>\n",
       "<circle clip-path=\"url(#clip092)\" style=\"fill:#009af9; stroke:none; fill-opacity:0\" cx=\"1237.41\" cy=\"1423.18\" r=\"2\"/>\n",
       "<circle clip-path=\"url(#clip092)\" style=\"fill:#009af9; stroke:none; fill-opacity:0\" cx=\"1279.66\" cy=\"1308.52\" r=\"2\"/>\n",
       "<circle clip-path=\"url(#clip092)\" style=\"fill:#009af9; stroke:none; fill-opacity:0\" cx=\"1321.91\" cy=\"1423.18\" r=\"2\"/>\n",
       "<circle clip-path=\"url(#clip092)\" style=\"fill:#009af9; stroke:none; fill-opacity:0\" cx=\"1364.16\" cy=\"1308.52\" r=\"2\"/>\n",
       "<circle clip-path=\"url(#clip092)\" style=\"fill:#009af9; stroke:none; fill-opacity:0\" cx=\"1406.41\" cy=\"1423.18\" r=\"2\"/>\n",
       "<circle clip-path=\"url(#clip092)\" style=\"fill:#009af9; stroke:none; fill-opacity:0\" cx=\"1448.67\" cy=\"1308.52\" r=\"2\"/>\n",
       "<circle clip-path=\"url(#clip092)\" style=\"fill:#009af9; stroke:none; fill-opacity:0\" cx=\"1490.92\" cy=\"1308.52\" r=\"2\"/>\n",
       "<circle clip-path=\"url(#clip092)\" style=\"fill:#009af9; stroke:none; fill-opacity:0\" cx=\"1533.17\" cy=\"1308.52\" r=\"2\"/>\n",
       "<circle clip-path=\"url(#clip092)\" style=\"fill:#009af9; stroke:none; fill-opacity:0\" cx=\"1575.42\" cy=\"1308.52\" r=\"2\"/>\n",
       "<circle clip-path=\"url(#clip092)\" style=\"fill:#009af9; stroke:none; fill-opacity:0\" cx=\"1617.67\" cy=\"1193.86\" r=\"2\"/>\n",
       "<circle clip-path=\"url(#clip092)\" style=\"fill:#009af9; stroke:none; fill-opacity:0\" cx=\"1659.93\" cy=\"1423.18\" r=\"2\"/>\n",
       "<circle clip-path=\"url(#clip092)\" style=\"fill:#009af9; stroke:none; fill-opacity:0\" cx=\"1702.18\" cy=\"1308.52\" r=\"2\"/>\n",
       "<circle clip-path=\"url(#clip092)\" style=\"fill:#009af9; stroke:none; fill-opacity:0\" cx=\"1744.43\" cy=\"1193.86\" r=\"2\"/>\n",
       "<circle clip-path=\"url(#clip092)\" style=\"fill:#009af9; stroke:none; fill-opacity:0\" cx=\"1786.68\" cy=\"1423.18\" r=\"2\"/>\n",
       "<circle clip-path=\"url(#clip092)\" style=\"fill:#009af9; stroke:none; fill-opacity:0\" cx=\"1828.94\" cy=\"1423.18\" r=\"2\"/>\n",
       "<circle clip-path=\"url(#clip092)\" style=\"fill:#009af9; stroke:none; fill-opacity:0\" cx=\"1871.19\" cy=\"1423.18\" r=\"2\"/>\n",
       "<circle clip-path=\"url(#clip092)\" style=\"fill:#009af9; stroke:none; fill-opacity:0\" cx=\"1913.44\" cy=\"1308.52\" r=\"2\"/>\n",
       "<circle clip-path=\"url(#clip092)\" style=\"fill:#009af9; stroke:none; fill-opacity:0\" cx=\"1955.69\" cy=\"1423.18\" r=\"2\"/>\n",
       "<circle clip-path=\"url(#clip092)\" style=\"fill:#009af9; stroke:none; fill-opacity:0\" cx=\"1997.94\" cy=\"1308.52\" r=\"2\"/>\n",
       "<circle clip-path=\"url(#clip092)\" style=\"fill:#009af9; stroke:none; fill-opacity:0\" cx=\"2040.2\" cy=\"1193.86\" r=\"2\"/>\n",
       "<circle clip-path=\"url(#clip092)\" style=\"fill:#009af9; stroke:none; fill-opacity:0\" cx=\"2082.45\" cy=\"1423.18\" r=\"2\"/>\n",
       "<circle clip-path=\"url(#clip092)\" style=\"fill:#009af9; stroke:none; fill-opacity:0\" cx=\"2124.7\" cy=\"1423.18\" r=\"2\"/>\n",
       "<circle clip-path=\"url(#clip092)\" style=\"fill:#009af9; stroke:none; fill-opacity:0\" cx=\"2166.95\" cy=\"1193.86\" r=\"2\"/>\n",
       "<circle clip-path=\"url(#clip092)\" style=\"fill:#009af9; stroke:none; fill-opacity:0\" cx=\"2209.2\" cy=\"1423.18\" r=\"2\"/>\n",
       "<circle clip-path=\"url(#clip092)\" style=\"fill:#009af9; stroke:none; fill-opacity:0\" cx=\"2251.46\" cy=\"1308.52\" r=\"2\"/>\n",
       "<circle clip-path=\"url(#clip092)\" style=\"fill:#009af9; stroke:none; fill-opacity:0\" cx=\"2293.71\" cy=\"1423.18\" r=\"2\"/>\n",
       "<circle clip-path=\"url(#clip092)\" style=\"fill:#009af9; stroke:none; fill-opacity:0\" cx=\"2335.96\" cy=\"1423.18\" r=\"2\"/>\n",
       "</svg>\n"
      ],
      "text/html": [
       "<?xml version=\"1.0\" encoding=\"utf-8\"?>\n",
       "<svg xmlns=\"http://www.w3.org/2000/svg\" xmlns:xlink=\"http://www.w3.org/1999/xlink\" width=\"600\" height=\"400\" viewBox=\"0 0 2400 1600\">\n",
       "<defs>\n",
       "  <clipPath id=\"clip140\">\n",
       "    <rect x=\"0\" y=\"0\" width=\"2400\" height=\"1600\"/>\n",
       "  </clipPath>\n",
       "</defs>\n",
       "<path clip-path=\"url(#clip140)\" d=\"M0 1600 L2400 1600 L2400 0 L0 0  Z\" fill=\"#ffffff\" fill-rule=\"evenodd\" fill-opacity=\"1\"/>\n",
       "<defs>\n",
       "  <clipPath id=\"clip141\">\n",
       "    <rect x=\"480\" y=\"0\" width=\"1681\" height=\"1600\"/>\n",
       "  </clipPath>\n",
       "</defs>\n",
       "<path clip-path=\"url(#clip140)\" d=\"M202.227 1423.18 L2352.76 1423.18 L2352.76 47.2441 L202.227 47.2441  Z\" fill=\"#ffffff\" fill-rule=\"evenodd\" fill-opacity=\"1\"/>\n",
       "<defs>\n",
       "  <clipPath id=\"clip142\">\n",
       "    <rect x=\"202\" y=\"47\" width=\"2152\" height=\"1377\"/>\n",
       "  </clipPath>\n",
       "</defs>\n",
       "<polyline clip-path=\"url(#clip142)\" style=\"stroke:#000000; stroke-linecap:round; stroke-linejoin:round; stroke-width:2; stroke-opacity:0.1; fill:none\" points=\"497.993,1423.18 497.993,47.2441 \"/>\n",
       "<polyline clip-path=\"url(#clip142)\" style=\"stroke:#000000; stroke-linecap:round; stroke-linejoin:round; stroke-width:2; stroke-opacity:0.1; fill:none\" points=\"920.514,1423.18 920.514,47.2441 \"/>\n",
       "<polyline clip-path=\"url(#clip142)\" style=\"stroke:#000000; stroke-linecap:round; stroke-linejoin:round; stroke-width:2; stroke-opacity:0.1; fill:none\" points=\"1343.04,1423.18 1343.04,47.2441 \"/>\n",
       "<polyline clip-path=\"url(#clip142)\" style=\"stroke:#000000; stroke-linecap:round; stroke-linejoin:round; stroke-width:2; stroke-opacity:0.1; fill:none\" points=\"1765.56,1423.18 1765.56,47.2441 \"/>\n",
       "<polyline clip-path=\"url(#clip142)\" style=\"stroke:#000000; stroke-linecap:round; stroke-linejoin:round; stroke-width:2; stroke-opacity:0.1; fill:none\" points=\"2188.08,1423.18 2188.08,47.2441 \"/>\n",
       "<polyline clip-path=\"url(#clip142)\" style=\"stroke:#000000; stroke-linecap:round; stroke-linejoin:round; stroke-width:2; stroke-opacity:0.1; fill:none\" points=\"202.227,1423.18 2352.76,1423.18 \"/>\n",
       "<polyline clip-path=\"url(#clip142)\" style=\"stroke:#000000; stroke-linecap:round; stroke-linejoin:round; stroke-width:2; stroke-opacity:0.1; fill:none\" points=\"202.227,1193.86 2352.76,1193.86 \"/>\n",
       "<polyline clip-path=\"url(#clip142)\" style=\"stroke:#000000; stroke-linecap:round; stroke-linejoin:round; stroke-width:2; stroke-opacity:0.1; fill:none\" points=\"202.227,964.535 2352.76,964.535 \"/>\n",
       "<polyline clip-path=\"url(#clip142)\" style=\"stroke:#000000; stroke-linecap:round; stroke-linejoin:round; stroke-width:2; stroke-opacity:0.1; fill:none\" points=\"202.227,735.212 2352.76,735.212 \"/>\n",
       "<polyline clip-path=\"url(#clip142)\" style=\"stroke:#000000; stroke-linecap:round; stroke-linejoin:round; stroke-width:2; stroke-opacity:0.1; fill:none\" points=\"202.227,505.889 2352.76,505.889 \"/>\n",
       "<polyline clip-path=\"url(#clip142)\" style=\"stroke:#000000; stroke-linecap:round; stroke-linejoin:round; stroke-width:2; stroke-opacity:0.1; fill:none\" points=\"202.227,276.567 2352.76,276.567 \"/>\n",
       "<polyline clip-path=\"url(#clip142)\" style=\"stroke:#000000; stroke-linecap:round; stroke-linejoin:round; stroke-width:2; stroke-opacity:0.1; fill:none\" points=\"202.227,47.2441 2352.76,47.2441 \"/>\n",
       "<polyline clip-path=\"url(#clip140)\" style=\"stroke:#000000; stroke-linecap:round; stroke-linejoin:round; stroke-width:4; stroke-opacity:1; fill:none\" points=\"202.227,1423.18 2352.76,1423.18 \"/>\n",
       "<polyline clip-path=\"url(#clip140)\" style=\"stroke:#000000; stroke-linecap:round; stroke-linejoin:round; stroke-width:4; stroke-opacity:1; fill:none\" points=\"497.993,1423.18 497.993,1404.28 \"/>\n",
       "<polyline clip-path=\"url(#clip140)\" style=\"stroke:#000000; stroke-linecap:round; stroke-linejoin:round; stroke-width:4; stroke-opacity:1; fill:none\" points=\"920.514,1423.18 920.514,1404.28 \"/>\n",
       "<polyline clip-path=\"url(#clip140)\" style=\"stroke:#000000; stroke-linecap:round; stroke-linejoin:round; stroke-width:4; stroke-opacity:1; fill:none\" points=\"1343.04,1423.18 1343.04,1404.28 \"/>\n",
       "<polyline clip-path=\"url(#clip140)\" style=\"stroke:#000000; stroke-linecap:round; stroke-linejoin:round; stroke-width:4; stroke-opacity:1; fill:none\" points=\"1765.56,1423.18 1765.56,1404.28 \"/>\n",
       "<polyline clip-path=\"url(#clip140)\" style=\"stroke:#000000; stroke-linecap:round; stroke-linejoin:round; stroke-width:4; stroke-opacity:1; fill:none\" points=\"2188.08,1423.18 2188.08,1404.28 \"/>\n",
       "<path clip-path=\"url(#clip140)\" d=\"M450.863 1481.64 L458.502 1481.64 L458.502 1455.28 L450.192 1456.95 L450.192 1452.69 L458.456 1451.02 L463.132 1451.02 L463.132 1481.64 L470.77 1481.64 L470.77 1485.58 L450.863 1485.58 L450.863 1481.64 Z\" fill=\"#000000\" fill-rule=\"nonzero\" fill-opacity=\"1\" /><path clip-path=\"url(#clip140)\" d=\"M484.243 1481.64 L500.562 1481.64 L500.562 1485.58 L478.618 1485.58 L478.618 1481.64 Q481.28 1478.89 485.863 1474.26 Q490.469 1469.61 491.65 1468.27 Q493.895 1465.74 494.775 1464.01 Q495.678 1462.25 495.678 1460.56 Q495.678 1457.8 493.733 1456.07 Q491.812 1454.33 488.71 1454.33 Q486.511 1454.33 484.057 1455.09 Q481.627 1455.86 478.849 1457.41 L478.849 1452.69 Q481.673 1451.55 484.127 1450.97 Q486.581 1450.39 488.618 1450.39 Q493.988 1450.39 497.182 1453.08 Q500.377 1455.77 500.377 1460.26 Q500.377 1462.39 499.567 1464.31 Q498.78 1466.2 496.673 1468.8 Q496.094 1469.47 492.993 1472.69 Q489.891 1475.88 484.243 1481.64 Z\" fill=\"#000000\" fill-rule=\"nonzero\" fill-opacity=\"1\" /><path clip-path=\"url(#clip140)\" d=\"M510.377 1479.7 L515.261 1479.7 L515.261 1485.58 L510.377 1485.58 L510.377 1479.7 Z\" fill=\"#000000\" fill-rule=\"nonzero\" fill-opacity=\"1\" /><path clip-path=\"url(#clip140)\" d=\"M529.474 1481.64 L545.793 1481.64 L545.793 1485.58 L523.849 1485.58 L523.849 1481.64 Q526.511 1478.89 531.094 1474.26 Q535.701 1469.61 536.881 1468.27 Q539.127 1465.74 540.006 1464.01 Q540.909 1462.25 540.909 1460.56 Q540.909 1457.8 538.965 1456.07 Q537.043 1454.33 533.941 1454.33 Q531.742 1454.33 529.289 1455.09 Q526.858 1455.86 524.08 1457.41 L524.08 1452.69 Q526.904 1451.55 529.358 1450.97 Q531.812 1450.39 533.849 1450.39 Q539.219 1450.39 542.414 1453.08 Q545.608 1455.77 545.608 1460.26 Q545.608 1462.39 544.798 1464.31 Q544.011 1466.2 541.904 1468.8 Q541.326 1469.47 538.224 1472.69 Q535.122 1475.88 529.474 1481.64 Z\" fill=\"#000000\" fill-rule=\"nonzero\" fill-opacity=\"1\" /><path clip-path=\"url(#clip140)\" d=\"M872.343 1481.64 L879.982 1481.64 L879.982 1455.28 L871.672 1456.95 L871.672 1452.69 L879.936 1451.02 L884.611 1451.02 L884.611 1481.64 L892.25 1481.64 L892.25 1485.58 L872.343 1485.58 L872.343 1481.64 Z\" fill=\"#000000\" fill-rule=\"nonzero\" fill-opacity=\"1\" /><path clip-path=\"url(#clip140)\" d=\"M905.722 1481.64 L922.042 1481.64 L922.042 1485.58 L900.097 1485.58 L900.097 1481.64 Q902.759 1478.89 907.343 1474.26 Q911.949 1469.61 913.13 1468.27 Q915.375 1465.74 916.255 1464.01 Q917.158 1462.25 917.158 1460.56 Q917.158 1457.8 915.213 1456.07 Q913.292 1454.33 910.19 1454.33 Q907.991 1454.33 905.537 1455.09 Q903.107 1455.86 900.329 1457.41 L900.329 1452.69 Q903.153 1451.55 905.607 1450.97 Q908.06 1450.39 910.097 1450.39 Q915.468 1450.39 918.662 1453.08 Q921.857 1455.77 921.857 1460.26 Q921.857 1462.39 921.046 1464.31 Q920.259 1466.2 918.153 1468.8 Q917.574 1469.47 914.472 1472.69 Q911.371 1475.88 905.722 1481.64 Z\" fill=\"#000000\" fill-rule=\"nonzero\" fill-opacity=\"1\" /><path clip-path=\"url(#clip140)\" d=\"M931.857 1479.7 L936.741 1479.7 L936.741 1485.58 L931.857 1485.58 L931.857 1479.7 Z\" fill=\"#000000\" fill-rule=\"nonzero\" fill-opacity=\"1\" /><path clip-path=\"url(#clip140)\" d=\"M959.773 1455.09 L947.968 1473.54 L959.773 1473.54 L959.773 1455.09 M958.546 1451.02 L964.426 1451.02 L964.426 1473.54 L969.356 1473.54 L969.356 1477.43 L964.426 1477.43 L964.426 1485.58 L959.773 1485.58 L959.773 1477.43 L944.171 1477.43 L944.171 1472.92 L958.546 1451.02 Z\" fill=\"#000000\" fill-rule=\"nonzero\" fill-opacity=\"1\" /><path clip-path=\"url(#clip140)\" d=\"M1295.03 1481.64 L1302.67 1481.64 L1302.67 1455.28 L1294.36 1456.95 L1294.36 1452.69 L1302.62 1451.02 L1307.29 1451.02 L1307.29 1481.64 L1314.93 1481.64 L1314.93 1485.58 L1295.03 1485.58 L1295.03 1481.64 Z\" fill=\"#000000\" fill-rule=\"nonzero\" fill-opacity=\"1\" /><path clip-path=\"url(#clip140)\" d=\"M1328.41 1481.64 L1344.73 1481.64 L1344.73 1485.58 L1322.78 1485.58 L1322.78 1481.64 Q1325.44 1478.89 1330.03 1474.26 Q1334.63 1469.61 1335.81 1468.27 Q1338.06 1465.74 1338.94 1464.01 Q1339.84 1462.25 1339.84 1460.56 Q1339.84 1457.8 1337.9 1456.07 Q1335.98 1454.33 1332.87 1454.33 Q1330.67 1454.33 1328.22 1455.09 Q1325.79 1455.86 1323.01 1457.41 L1323.01 1452.69 Q1325.84 1451.55 1328.29 1450.97 Q1330.74 1450.39 1332.78 1450.39 Q1338.15 1450.39 1341.35 1453.08 Q1344.54 1455.77 1344.54 1460.26 Q1344.54 1462.39 1343.73 1464.31 Q1342.94 1466.2 1340.84 1468.8 Q1340.26 1469.47 1337.16 1472.69 Q1334.05 1475.88 1328.41 1481.64 Z\" fill=\"#000000\" fill-rule=\"nonzero\" fill-opacity=\"1\" /><path clip-path=\"url(#clip140)\" d=\"M1354.54 1479.7 L1359.42 1479.7 L1359.42 1485.58 L1354.54 1485.58 L1354.54 1479.7 Z\" fill=\"#000000\" fill-rule=\"nonzero\" fill-opacity=\"1\" /><path clip-path=\"url(#clip140)\" d=\"M1380.19 1466.44 Q1377.04 1466.44 1375.19 1468.59 Q1373.36 1470.74 1373.36 1474.49 Q1373.36 1478.22 1375.19 1480.39 Q1377.04 1482.55 1380.19 1482.55 Q1383.34 1482.55 1385.16 1480.39 Q1387.02 1478.22 1387.02 1474.49 Q1387.02 1470.74 1385.16 1468.59 Q1383.34 1466.44 1380.19 1466.44 M1389.47 1451.78 L1389.47 1456.04 Q1387.71 1455.21 1385.91 1454.77 Q1384.12 1454.33 1382.36 1454.33 Q1377.73 1454.33 1375.28 1457.45 Q1372.85 1460.58 1372.5 1466.9 Q1373.87 1464.89 1375.93 1463.82 Q1377.99 1462.73 1380.47 1462.73 Q1385.67 1462.73 1388.68 1465.9 Q1391.72 1469.05 1391.72 1474.49 Q1391.72 1479.82 1388.57 1483.03 Q1385.42 1486.25 1380.19 1486.25 Q1374.19 1486.25 1371.02 1481.67 Q1367.85 1477.06 1367.85 1468.33 Q1367.85 1460.14 1371.74 1455.28 Q1375.63 1450.39 1382.18 1450.39 Q1383.94 1450.39 1385.72 1450.74 Q1387.53 1451.09 1389.47 1451.78 Z\" fill=\"#000000\" fill-rule=\"nonzero\" fill-opacity=\"1\" /><path clip-path=\"url(#clip140)\" d=\"M1717.68 1481.64 L1725.31 1481.64 L1725.31 1455.28 L1717 1456.95 L1717 1452.69 L1725.27 1451.02 L1729.94 1451.02 L1729.94 1481.64 L1737.58 1481.64 L1737.58 1485.58 L1717.68 1485.58 L1717.68 1481.64 Z\" fill=\"#000000\" fill-rule=\"nonzero\" fill-opacity=\"1\" /><path clip-path=\"url(#clip140)\" d=\"M1751.05 1481.64 L1767.37 1481.64 L1767.37 1485.58 L1745.43 1485.58 L1745.43 1481.64 Q1748.09 1478.89 1752.68 1474.26 Q1757.28 1469.61 1758.46 1468.27 Q1760.71 1465.74 1761.59 1464.01 Q1762.49 1462.25 1762.49 1460.56 Q1762.49 1457.8 1760.55 1456.07 Q1758.62 1454.33 1755.52 1454.33 Q1753.32 1454.33 1750.87 1455.09 Q1748.44 1455.86 1745.66 1457.41 L1745.66 1452.69 Q1748.49 1451.55 1750.94 1450.97 Q1753.39 1450.39 1755.43 1450.39 Q1760.8 1450.39 1763.99 1453.08 Q1767.19 1455.77 1767.19 1460.26 Q1767.19 1462.39 1766.38 1464.31 Q1765.59 1466.2 1763.49 1468.8 Q1762.91 1469.47 1759.8 1472.69 Q1756.7 1475.88 1751.05 1481.64 Z\" fill=\"#000000\" fill-rule=\"nonzero\" fill-opacity=\"1\" /><path clip-path=\"url(#clip140)\" d=\"M1777.19 1479.7 L1782.07 1479.7 L1782.07 1485.58 L1777.19 1485.58 L1777.19 1479.7 Z\" fill=\"#000000\" fill-rule=\"nonzero\" fill-opacity=\"1\" /><path clip-path=\"url(#clip140)\" d=\"M1802.26 1469.17 Q1798.92 1469.17 1797 1470.95 Q1795.11 1472.73 1795.11 1475.86 Q1795.11 1478.98 1797 1480.77 Q1798.92 1482.55 1802.26 1482.55 Q1805.59 1482.55 1807.51 1480.77 Q1809.43 1478.96 1809.43 1475.86 Q1809.43 1472.73 1807.51 1470.95 Q1805.61 1469.17 1802.26 1469.17 M1797.58 1467.18 Q1794.57 1466.44 1792.88 1464.38 Q1791.22 1462.32 1791.22 1459.35 Q1791.22 1455.21 1794.16 1452.8 Q1797.12 1450.39 1802.26 1450.39 Q1807.42 1450.39 1810.36 1452.8 Q1813.3 1455.21 1813.3 1459.35 Q1813.3 1462.32 1811.61 1464.38 Q1809.94 1466.44 1806.96 1467.18 Q1810.34 1467.96 1812.21 1470.26 Q1814.11 1472.55 1814.11 1475.86 Q1814.11 1480.88 1811.03 1483.57 Q1807.98 1486.25 1802.26 1486.25 Q1796.54 1486.25 1793.46 1483.57 Q1790.41 1480.88 1790.41 1475.86 Q1790.41 1472.55 1792.3 1470.26 Q1794.2 1467.96 1797.58 1467.18 M1795.87 1459.79 Q1795.87 1462.48 1797.54 1463.98 Q1799.23 1465.49 1802.26 1465.49 Q1805.27 1465.49 1806.96 1463.98 Q1808.67 1462.48 1808.67 1459.79 Q1808.67 1457.11 1806.96 1455.6 Q1805.27 1454.1 1802.26 1454.1 Q1799.23 1454.1 1797.54 1455.6 Q1795.87 1457.11 1795.87 1459.79 Z\" fill=\"#000000\" fill-rule=\"nonzero\" fill-opacity=\"1\" /><path clip-path=\"url(#clip140)\" d=\"M2140.15 1481.64 L2147.79 1481.64 L2147.79 1455.28 L2139.48 1456.95 L2139.48 1452.69 L2147.74 1451.02 L2152.42 1451.02 L2152.42 1481.64 L2160.06 1481.64 L2160.06 1485.58 L2140.15 1485.58 L2140.15 1481.64 Z\" fill=\"#000000\" fill-rule=\"nonzero\" fill-opacity=\"1\" /><path clip-path=\"url(#clip140)\" d=\"M2183.67 1466.95 Q2187.03 1467.66 2188.9 1469.93 Q2190.8 1472.2 2190.8 1475.53 Q2190.8 1480.65 2187.28 1483.45 Q2183.76 1486.25 2177.28 1486.25 Q2175.1 1486.25 2172.79 1485.81 Q2170.5 1485.39 2168.04 1484.54 L2168.04 1480.02 Q2169.99 1481.16 2172.3 1481.74 Q2174.62 1482.32 2177.14 1482.32 Q2181.54 1482.32 2183.83 1480.58 Q2186.15 1478.84 2186.15 1475.53 Q2186.15 1472.48 2183.99 1470.77 Q2181.86 1469.03 2178.04 1469.03 L2174.02 1469.03 L2174.02 1465.19 L2178.23 1465.19 Q2181.68 1465.19 2183.51 1463.82 Q2185.34 1462.43 2185.34 1459.84 Q2185.34 1457.18 2183.44 1455.77 Q2181.56 1454.33 2178.04 1454.33 Q2176.12 1454.33 2173.92 1454.75 Q2171.72 1455.16 2169.09 1456.04 L2169.09 1451.88 Q2171.75 1451.14 2174.06 1450.77 Q2176.4 1450.39 2178.46 1450.39 Q2183.78 1450.39 2186.89 1452.83 Q2189.99 1455.23 2189.99 1459.35 Q2189.99 1462.22 2188.34 1464.21 Q2186.7 1466.18 2183.67 1466.95 Z\" fill=\"#000000\" fill-rule=\"nonzero\" fill-opacity=\"1\" /><path clip-path=\"url(#clip140)\" d=\"M2199.66 1479.7 L2204.55 1479.7 L2204.55 1485.58 L2199.66 1485.58 L2199.66 1479.7 Z\" fill=\"#000000\" fill-rule=\"nonzero\" fill-opacity=\"1\" /><path clip-path=\"url(#clip140)\" d=\"M2224.73 1454.1 Q2221.12 1454.1 2219.29 1457.66 Q2217.49 1461.2 2217.49 1468.33 Q2217.49 1475.44 2219.29 1479.01 Q2221.12 1482.55 2224.73 1482.55 Q2228.37 1482.55 2230.17 1479.01 Q2232 1475.44 2232 1468.33 Q2232 1461.2 2230.17 1457.66 Q2228.37 1454.1 2224.73 1454.1 M2224.73 1450.39 Q2230.54 1450.39 2233.6 1455 Q2236.68 1459.58 2236.68 1468.33 Q2236.68 1477.06 2233.6 1481.67 Q2230.54 1486.25 2224.73 1486.25 Q2218.92 1486.25 2215.84 1481.67 Q2212.79 1477.06 2212.79 1468.33 Q2212.79 1459.58 2215.84 1455 Q2218.92 1450.39 2224.73 1450.39 Z\" fill=\"#000000\" fill-rule=\"nonzero\" fill-opacity=\"1\" /><path clip-path=\"url(#clip140)\" d=\"M1108.83 1539.24 Q1111.03 1535.29 1114.08 1533.41 Q1117.14 1531.54 1121.28 1531.54 Q1126.85 1531.54 1129.87 1535.45 Q1132.89 1539.33 1132.89 1546.53 L1132.89 1568.04 L1127.01 1568.04 L1127.01 1546.72 Q1127.01 1541.59 1125.19 1539.11 Q1123.38 1536.63 1119.65 1536.63 Q1115.1 1536.63 1112.46 1539.65 Q1109.82 1542.68 1109.82 1547.9 L1109.82 1568.04 L1103.93 1568.04 L1103.93 1546.72 Q1103.93 1541.56 1102.12 1539.11 Q1100.3 1536.63 1096.51 1536.63 Q1092.03 1536.63 1089.39 1539.68 Q1086.74 1542.71 1086.74 1547.9 L1086.74 1568.04 L1080.86 1568.04 L1080.86 1532.4 L1086.74 1532.4 L1086.74 1537.93 Q1088.75 1534.66 1091.55 1533.1 Q1094.35 1531.54 1098.2 1531.54 Q1102.08 1531.54 1104.79 1533.51 Q1107.53 1535.48 1108.83 1539.24 Z\" fill=\"#000000\" fill-rule=\"nonzero\" fill-opacity=\"1\" /><path clip-path=\"url(#clip140)\" d=\"M1144.58 1532.4 L1150.43 1532.4 L1150.43 1568.04 L1144.58 1568.04 L1144.58 1532.4 M1144.58 1518.52 L1150.43 1518.52 L1150.43 1525.93 L1144.58 1525.93 L1144.58 1518.52 Z\" fill=\"#000000\" fill-rule=\"nonzero\" fill-opacity=\"1\" /><path clip-path=\"url(#clip140)\" d=\"M1162.69 1518.52 L1168.54 1518.52 L1168.54 1568.04 L1162.69 1568.04 L1162.69 1518.52 Z\" fill=\"#000000\" fill-rule=\"nonzero\" fill-opacity=\"1\" /><path clip-path=\"url(#clip140)\" d=\"M1180.8 1518.52 L1186.65 1518.52 L1186.65 1568.04 L1180.8 1568.04 L1180.8 1518.52 Z\" fill=\"#000000\" fill-rule=\"nonzero\" fill-opacity=\"1\" /><path clip-path=\"url(#clip140)\" d=\"M1198.91 1532.4 L1204.76 1532.4 L1204.76 1568.04 L1198.91 1568.04 L1198.91 1532.4 M1198.91 1518.52 L1204.76 1518.52 L1204.76 1525.93 L1198.91 1525.93 L1198.91 1518.52 Z\" fill=\"#000000\" fill-rule=\"nonzero\" fill-opacity=\"1\" /><path clip-path=\"url(#clip140)\" d=\"M1239.74 1533.45 L1239.74 1538.98 Q1237.26 1537.71 1234.59 1537.07 Q1231.91 1536.44 1229.05 1536.44 Q1224.69 1536.44 1222.49 1537.77 Q1220.33 1539.11 1220.33 1541.79 Q1220.33 1543.82 1221.89 1545 Q1223.45 1546.15 1228.16 1547.2 L1230.16 1547.64 Q1236.4 1548.98 1239.01 1551.43 Q1241.65 1553.85 1241.65 1558.21 Q1241.65 1563.17 1237.71 1566.07 Q1233.79 1568.97 1226.92 1568.97 Q1224.05 1568.97 1220.93 1568.39 Q1217.85 1567.85 1214.41 1566.74 L1214.41 1560.69 Q1217.65 1562.38 1220.81 1563.24 Q1223.96 1564.07 1227.04 1564.07 Q1231.18 1564.07 1233.41 1562.66 Q1235.64 1561.23 1235.64 1558.65 Q1235.64 1556.27 1234.01 1554.99 Q1232.42 1553.72 1226.98 1552.54 L1224.94 1552.07 Q1219.5 1550.92 1217.08 1548.56 Q1214.66 1546.18 1214.66 1542.04 Q1214.66 1537.01 1218.23 1534.27 Q1221.79 1531.54 1228.35 1531.54 Q1231.59 1531.54 1234.46 1532.01 Q1237.32 1532.49 1239.74 1533.45 Z\" fill=\"#000000\" fill-rule=\"nonzero\" fill-opacity=\"1\" /><path clip-path=\"url(#clip140)\" d=\"M1281.47 1548.76 L1281.47 1551.62 L1254.54 1551.62 Q1254.93 1557.67 1258.17 1560.85 Q1261.45 1564 1267.27 1564 Q1270.65 1564 1273.8 1563.17 Q1276.98 1562.35 1280.1 1560.69 L1280.1 1566.23 Q1276.95 1567.57 1273.64 1568.27 Q1270.33 1568.97 1266.92 1568.97 Q1258.39 1568.97 1253.4 1564 Q1248.43 1559.04 1248.43 1550.57 Q1248.43 1541.82 1253.14 1536.69 Q1257.89 1531.54 1265.91 1531.54 Q1273.1 1531.54 1277.27 1536.18 Q1281.47 1540.8 1281.47 1548.76 M1275.61 1547.04 Q1275.55 1542.23 1272.91 1539.37 Q1270.3 1536.5 1265.97 1536.5 Q1261.07 1536.5 1258.11 1539.27 Q1255.18 1542.04 1254.73 1547.07 L1275.61 1547.04 Z\" fill=\"#000000\" fill-rule=\"nonzero\" fill-opacity=\"1\" /><path clip-path=\"url(#clip140)\" d=\"M1316.74 1533.76 L1316.74 1539.24 Q1314.25 1537.87 1311.74 1537.2 Q1309.26 1536.5 1306.71 1536.5 Q1301.01 1536.5 1297.86 1540.13 Q1294.71 1543.73 1294.71 1550.25 Q1294.71 1556.78 1297.86 1560.4 Q1301.01 1564 1306.71 1564 Q1309.26 1564 1311.74 1563.33 Q1314.25 1562.63 1316.74 1561.26 L1316.74 1566.68 Q1314.29 1567.82 1311.64 1568.39 Q1309.03 1568.97 1306.07 1568.97 Q1298.02 1568.97 1293.28 1563.91 Q1288.54 1558.85 1288.54 1550.25 Q1288.54 1541.53 1293.31 1536.53 Q1298.12 1531.54 1306.46 1531.54 Q1309.16 1531.54 1311.74 1532.11 Q1314.32 1532.65 1316.74 1533.76 Z\" fill=\"#000000\" fill-rule=\"nonzero\" fill-opacity=\"1\" /><path clip-path=\"url(#clip140)\" d=\"M1340.73 1536.5 Q1336.02 1536.5 1333.29 1540.19 Q1330.55 1543.85 1330.55 1550.25 Q1330.55 1556.65 1333.26 1560.34 Q1335.99 1564 1340.73 1564 Q1345.41 1564 1348.15 1560.31 Q1350.89 1556.62 1350.89 1550.25 Q1350.89 1543.92 1348.15 1540.23 Q1345.41 1536.5 1340.73 1536.5 M1340.73 1531.54 Q1348.37 1531.54 1352.73 1536.5 Q1357.09 1541.47 1357.09 1550.25 Q1357.09 1559 1352.73 1564 Q1348.37 1568.97 1340.73 1568.97 Q1333.06 1568.97 1328.7 1564 Q1324.38 1559 1324.38 1550.25 Q1324.38 1541.47 1328.7 1536.5 Q1333.06 1531.54 1340.73 1531.54 Z\" fill=\"#000000\" fill-rule=\"nonzero\" fill-opacity=\"1\" /><path clip-path=\"url(#clip140)\" d=\"M1396.43 1546.53 L1396.43 1568.04 L1390.58 1568.04 L1390.58 1546.72 Q1390.58 1541.66 1388.61 1539.14 Q1386.63 1536.63 1382.68 1536.63 Q1377.94 1536.63 1375.21 1539.65 Q1372.47 1542.68 1372.47 1547.9 L1372.47 1568.04 L1366.58 1568.04 L1366.58 1532.4 L1372.47 1532.4 L1372.47 1537.93 Q1374.57 1534.72 1377.4 1533.13 Q1380.27 1531.54 1383.99 1531.54 Q1390.13 1531.54 1393.28 1535.36 Q1396.43 1539.14 1396.43 1546.53 Z\" fill=\"#000000\" fill-rule=\"nonzero\" fill-opacity=\"1\" /><path clip-path=\"url(#clip140)\" d=\"M1431.57 1537.81 L1431.57 1518.52 L1437.43 1518.52 L1437.43 1568.04 L1431.57 1568.04 L1431.57 1562.7 Q1429.73 1565.88 1426.89 1567.44 Q1424.09 1568.97 1420.15 1568.97 Q1413.69 1568.97 1409.61 1563.81 Q1405.57 1558.65 1405.57 1550.25 Q1405.57 1541.85 1409.61 1536.69 Q1413.69 1531.54 1420.15 1531.54 Q1424.09 1531.54 1426.89 1533.1 Q1429.73 1534.62 1431.57 1537.81 M1411.62 1550.25 Q1411.62 1556.71 1414.26 1560.4 Q1416.93 1564.07 1421.58 1564.07 Q1426.23 1564.07 1428.9 1560.4 Q1431.57 1556.71 1431.57 1550.25 Q1431.57 1543.79 1428.9 1540.13 Q1426.23 1536.44 1421.58 1536.44 Q1416.93 1536.44 1414.26 1540.13 Q1411.62 1543.79 1411.62 1550.25 Z\" fill=\"#000000\" fill-rule=\"nonzero\" fill-opacity=\"1\" /><path clip-path=\"url(#clip140)\" d=\"M1472.22 1533.45 L1472.22 1538.98 Q1469.74 1537.71 1467.06 1537.07 Q1464.39 1536.44 1461.52 1536.44 Q1457.16 1536.44 1454.97 1537.77 Q1452.8 1539.11 1452.8 1541.79 Q1452.8 1543.82 1454.36 1545 Q1455.92 1546.15 1460.63 1547.2 L1462.64 1547.64 Q1468.88 1548.98 1471.49 1551.43 Q1474.13 1553.85 1474.13 1558.21 Q1474.13 1563.17 1470.18 1566.07 Q1466.27 1568.97 1459.39 1568.97 Q1456.53 1568.97 1453.41 1568.39 Q1450.32 1567.85 1446.88 1566.74 L1446.88 1560.69 Q1450.13 1562.38 1453.28 1563.24 Q1456.43 1564.07 1459.52 1564.07 Q1463.66 1564.07 1465.88 1562.66 Q1468.11 1561.23 1468.11 1558.65 Q1468.11 1556.27 1466.49 1554.99 Q1464.9 1553.72 1459.46 1552.54 L1457.42 1552.07 Q1451.98 1550.92 1449.56 1548.56 Q1447.14 1546.18 1447.14 1542.04 Q1447.14 1537.01 1450.7 1534.27 Q1454.27 1531.54 1460.82 1531.54 Q1464.07 1531.54 1466.94 1532.01 Q1469.8 1532.49 1472.22 1533.45 Z\" fill=\"#000000\" fill-rule=\"nonzero\" fill-opacity=\"1\" /><polyline clip-path=\"url(#clip140)\" style=\"stroke:#000000; stroke-linecap:round; stroke-linejoin:round; stroke-width:4; stroke-opacity:1; fill:none\" points=\"202.227,1423.18 202.227,47.2441 \"/>\n",
       "<polyline clip-path=\"url(#clip140)\" style=\"stroke:#000000; stroke-linecap:round; stroke-linejoin:round; stroke-width:4; stroke-opacity:1; fill:none\" points=\"202.227,1423.18 221.125,1423.18 \"/>\n",
       "<polyline clip-path=\"url(#clip140)\" style=\"stroke:#000000; stroke-linecap:round; stroke-linejoin:round; stroke-width:4; stroke-opacity:1; fill:none\" points=\"202.227,1193.86 221.125,1193.86 \"/>\n",
       "<polyline clip-path=\"url(#clip140)\" style=\"stroke:#000000; stroke-linecap:round; stroke-linejoin:round; stroke-width:4; stroke-opacity:1; fill:none\" points=\"202.227,964.535 221.125,964.535 \"/>\n",
       "<polyline clip-path=\"url(#clip140)\" style=\"stroke:#000000; stroke-linecap:round; stroke-linejoin:round; stroke-width:4; stroke-opacity:1; fill:none\" points=\"202.227,735.212 221.125,735.212 \"/>\n",
       "<polyline clip-path=\"url(#clip140)\" style=\"stroke:#000000; stroke-linecap:round; stroke-linejoin:round; stroke-width:4; stroke-opacity:1; fill:none\" points=\"202.227,505.889 221.125,505.889 \"/>\n",
       "<polyline clip-path=\"url(#clip140)\" style=\"stroke:#000000; stroke-linecap:round; stroke-linejoin:round; stroke-width:4; stroke-opacity:1; fill:none\" points=\"202.227,276.567 221.125,276.567 \"/>\n",
       "<polyline clip-path=\"url(#clip140)\" style=\"stroke:#000000; stroke-linecap:round; stroke-linejoin:round; stroke-width:4; stroke-opacity:1; fill:none\" points=\"202.227,47.2441 221.125,47.2441 \"/>\n",
       "<path clip-path=\"url(#clip140)\" d=\"M154.283 1408.98 Q150.672 1408.98 148.843 1412.54 Q147.038 1416.08 147.038 1423.21 Q147.038 1430.32 148.843 1433.89 Q150.672 1437.43 154.283 1437.43 Q157.917 1437.43 159.723 1433.89 Q161.552 1430.32 161.552 1423.21 Q161.552 1416.08 159.723 1412.54 Q157.917 1408.98 154.283 1408.98 M154.283 1405.27 Q160.093 1405.27 163.149 1409.88 Q166.227 1414.46 166.227 1423.21 Q166.227 1431.94 163.149 1436.55 Q160.093 1441.13 154.283 1441.13 Q148.473 1441.13 145.394 1436.55 Q142.339 1431.94 142.339 1423.21 Q142.339 1414.46 145.394 1409.88 Q148.473 1405.27 154.283 1405.27 Z\" fill=\"#000000\" fill-rule=\"nonzero\" fill-opacity=\"1\" /><path clip-path=\"url(#clip140)\" d=\"M149.908 1207.2 L166.227 1207.2 L166.227 1211.14 L144.283 1211.14 L144.283 1207.2 Q146.945 1204.45 151.528 1199.82 Q156.135 1195.17 157.315 1193.82 Q159.561 1191.3 160.44 1189.56 Q161.343 1187.8 161.343 1186.11 Q161.343 1183.36 159.399 1181.62 Q157.478 1179.89 154.376 1179.89 Q152.177 1179.89 149.723 1180.65 Q147.292 1181.42 144.515 1182.97 L144.515 1178.24 Q147.339 1177.11 149.792 1176.53 Q152.246 1175.95 154.283 1175.95 Q159.653 1175.95 162.848 1178.64 Q166.042 1181.32 166.042 1185.81 Q166.042 1187.94 165.232 1189.86 Q164.445 1191.76 162.339 1194.35 Q161.76 1195.03 158.658 1198.24 Q155.556 1201.44 149.908 1207.2 Z\" fill=\"#000000\" fill-rule=\"nonzero\" fill-opacity=\"1\" /><path clip-path=\"url(#clip140)\" d=\"M156.644 951.329 L144.839 969.778 L156.644 969.778 L156.644 951.329 M155.417 947.255 L161.297 947.255 L161.297 969.778 L166.227 969.778 L166.227 973.666 L161.297 973.666 L161.297 981.815 L156.644 981.815 L156.644 973.666 L141.042 973.666 L141.042 969.153 L155.417 947.255 Z\" fill=\"#000000\" fill-rule=\"nonzero\" fill-opacity=\"1\" /><path clip-path=\"url(#clip140)\" d=\"M154.7 733.349 Q151.552 733.349 149.7 735.501 Q147.871 737.654 147.871 741.404 Q147.871 745.131 149.7 747.307 Q151.552 749.46 154.7 749.46 Q157.848 749.46 159.677 747.307 Q161.528 745.131 161.528 741.404 Q161.528 737.654 159.677 735.501 Q157.848 733.349 154.7 733.349 M163.982 718.696 L163.982 722.955 Q162.223 722.122 160.417 721.682 Q158.635 721.242 156.876 721.242 Q152.246 721.242 149.792 724.367 Q147.362 727.492 147.015 733.812 Q148.38 731.798 150.441 730.733 Q152.501 729.645 154.978 729.645 Q160.186 729.645 163.195 732.816 Q166.227 735.964 166.227 741.404 Q166.227 746.728 163.079 749.946 Q159.931 753.163 154.7 753.163 Q148.704 753.163 145.533 748.58 Q142.362 743.973 142.362 735.247 Q142.362 727.052 146.251 722.191 Q150.14 717.307 156.69 717.307 Q158.45 717.307 160.232 717.654 Q162.038 718.001 163.982 718.696 Z\" fill=\"#000000\" fill-rule=\"nonzero\" fill-opacity=\"1\" /><path clip-path=\"url(#clip140)\" d=\"M154.376 506.757 Q151.042 506.757 149.121 508.54 Q147.223 510.322 147.223 513.447 Q147.223 516.572 149.121 518.355 Q151.042 520.137 154.376 520.137 Q157.709 520.137 159.63 518.355 Q161.552 516.549 161.552 513.447 Q161.552 510.322 159.63 508.54 Q157.732 506.757 154.376 506.757 M149.7 504.767 Q146.691 504.026 145.001 501.966 Q143.334 499.906 143.334 496.943 Q143.334 492.799 146.274 490.392 Q149.237 487.984 154.376 487.984 Q159.538 487.984 162.477 490.392 Q165.417 492.799 165.417 496.943 Q165.417 499.906 163.727 501.966 Q162.061 504.026 159.075 504.767 Q162.454 505.554 164.329 507.845 Q166.227 510.137 166.227 513.447 Q166.227 518.47 163.149 521.155 Q160.093 523.841 154.376 523.841 Q148.658 523.841 145.579 521.155 Q142.524 518.47 142.524 513.447 Q142.524 510.137 144.422 507.845 Q146.32 505.554 149.7 504.767 M147.987 497.382 Q147.987 500.068 149.653 501.572 Q151.343 503.077 154.376 503.077 Q157.385 503.077 159.075 501.572 Q160.788 500.068 160.788 497.382 Q160.788 494.697 159.075 493.193 Q157.385 491.688 154.376 491.688 Q151.343 491.688 149.653 493.193 Q147.987 494.697 147.987 497.382 Z\" fill=\"#000000\" fill-rule=\"nonzero\" fill-opacity=\"1\" /><path clip-path=\"url(#clip140)\" d=\"M114.931 289.912 L122.57 289.912 L122.57 263.546 L114.26 265.213 L114.26 260.953 L122.524 259.287 L127.2 259.287 L127.2 289.912 L134.839 289.912 L134.839 293.847 L114.931 293.847 L114.931 289.912 Z\" fill=\"#000000\" fill-rule=\"nonzero\" fill-opacity=\"1\" /><path clip-path=\"url(#clip140)\" d=\"M154.283 262.365 Q150.672 262.365 148.843 265.93 Q147.038 269.472 147.038 276.601 Q147.038 283.708 148.843 287.273 Q150.672 290.814 154.283 290.814 Q157.917 290.814 159.723 287.273 Q161.552 283.708 161.552 276.601 Q161.552 269.472 159.723 265.93 Q157.917 262.365 154.283 262.365 M154.283 258.662 Q160.093 258.662 163.149 263.268 Q166.227 267.851 166.227 276.601 Q166.227 285.328 163.149 289.935 Q160.093 294.518 154.283 294.518 Q148.473 294.518 145.394 289.935 Q142.339 285.328 142.339 276.601 Q142.339 267.851 145.394 263.268 Q148.473 258.662 154.283 258.662 Z\" fill=\"#000000\" fill-rule=\"nonzero\" fill-opacity=\"1\" /><path clip-path=\"url(#clip140)\" d=\"M116.529 60.5889 L124.168 60.5889 L124.168 34.2233 L115.857 35.89 L115.857 31.6308 L124.121 29.9641 L128.797 29.9641 L128.797 60.5889 L136.436 60.5889 L136.436 64.5241 L116.529 64.5241 L116.529 60.5889 Z\" fill=\"#000000\" fill-rule=\"nonzero\" fill-opacity=\"1\" /><path clip-path=\"url(#clip140)\" d=\"M149.908 60.5889 L166.227 60.5889 L166.227 64.5241 L144.283 64.5241 L144.283 60.5889 Q146.945 57.8343 151.528 53.2047 Q156.135 48.552 157.315 47.2094 Q159.561 44.6862 160.44 42.9501 Q161.343 41.1909 161.343 39.5011 Q161.343 36.7465 159.399 35.0104 Q157.478 33.2743 154.376 33.2743 Q152.177 33.2743 149.723 34.0381 Q147.292 34.802 144.515 36.3529 L144.515 31.6308 Q147.339 30.4965 149.792 29.9178 Q152.246 29.3391 154.283 29.3391 Q159.653 29.3391 162.848 32.0243 Q166.042 34.7094 166.042 39.2002 Q166.042 41.3298 165.232 43.2511 Q164.445 45.1492 162.339 47.7418 Q161.76 48.4131 158.658 51.6306 Q155.556 54.8251 149.908 60.5889 Z\" fill=\"#000000\" fill-rule=\"nonzero\" fill-opacity=\"1\" /><path clip-path=\"url(#clip140)\" d=\"M29.7248 796.386 L35.1993 796.386 Q33.8307 798.869 33.1623 801.383 Q32.4621 803.866 32.4621 806.412 Q32.4621 812.11 36.0905 815.261 Q39.6872 818.412 46.212 818.412 Q52.7369 818.412 56.3653 815.261 Q59.9619 812.11 59.9619 806.412 Q59.9619 803.866 59.2935 801.383 Q58.5933 798.869 57.2247 796.386 L62.6355 796.386 Q63.7814 798.837 64.3543 801.479 Q64.9272 804.089 64.9272 807.049 Q64.9272 815.102 59.8664 819.844 Q54.8057 824.586 46.212 824.586 Q37.491 824.586 32.4939 819.812 Q27.4968 815.006 27.4968 806.667 Q27.4968 803.962 28.0697 801.383 Q28.6108 798.805 29.7248 796.386 Z\" fill=\"#000000\" fill-rule=\"nonzero\" fill-opacity=\"1\" /><path clip-path=\"url(#clip140)\" d=\"M32.4621 772.388 Q32.4621 777.098 36.1542 779.836 Q39.8145 782.573 46.212 782.573 Q52.6095 782.573 56.3017 779.867 Q59.9619 777.13 59.9619 772.388 Q59.9619 767.709 56.2698 764.972 Q52.5777 762.234 46.212 762.234 Q39.8781 762.234 36.186 764.972 Q32.4621 767.709 32.4621 772.388 M27.4968 772.388 Q27.4968 764.749 32.4621 760.388 Q37.4273 756.028 46.212 756.028 Q54.9649 756.028 59.9619 760.388 Q64.9272 764.749 64.9272 772.388 Q64.9272 780.058 59.9619 784.419 Q54.9649 788.748 46.212 788.748 Q37.4273 788.748 32.4621 784.419 Q27.4968 780.058 27.4968 772.388 Z\" fill=\"#000000\" fill-rule=\"nonzero\" fill-opacity=\"1\" /><path clip-path=\"url(#clip140)\" d=\"M49.9359 746.925 L28.3562 746.925 L28.3562 741.068 L49.7131 741.068 Q54.7739 741.068 57.3202 739.095 Q59.8346 737.122 59.8346 733.175 Q59.8346 728.432 56.8109 725.695 Q53.7872 722.926 48.5673 722.926 L28.3562 722.926 L28.3562 717.07 L64.0042 717.07 L64.0042 722.926 L58.5296 722.926 Q61.7762 725.059 63.3676 727.891 Q64.9272 730.692 64.9272 734.416 Q64.9272 740.559 61.1078 743.742 Q57.2883 746.925 49.9359 746.925 M27.4968 732.188 L27.4968 732.188 Z\" fill=\"#000000\" fill-rule=\"nonzero\" fill-opacity=\"1\" /><path clip-path=\"url(#clip140)\" d=\"M42.4881 675.374 L64.0042 675.374 L64.0042 681.231 L42.679 681.231 Q37.6183 681.231 35.1038 683.204 Q32.5894 685.178 32.5894 689.124 Q32.5894 693.867 35.6131 696.604 Q38.6368 699.341 43.8567 699.341 L64.0042 699.341 L64.0042 705.229 L28.3562 705.229 L28.3562 699.341 L33.8944 699.341 Q30.6797 697.241 29.0883 694.408 Q27.4968 691.543 27.4968 687.819 Q27.4968 681.676 31.3163 678.525 Q35.1038 675.374 42.4881 675.374 Z\" fill=\"#000000\" fill-rule=\"nonzero\" fill-opacity=\"1\" /><path clip-path=\"url(#clip140)\" d=\"M18.2347 657.9 L28.3562 657.9 L28.3562 645.837 L32.9077 645.837 L32.9077 657.9 L52.2594 657.9 Q56.6199 657.9 57.8613 656.723 Q59.1026 655.513 59.1026 651.853 L59.1026 645.837 L64.0042 645.837 L64.0042 651.853 Q64.0042 658.633 61.4897 661.211 Q58.9434 663.789 52.2594 663.789 L32.9077 663.789 L32.9077 668.086 L28.3562 668.086 L28.3562 663.789 L18.2347 663.789 L18.2347 657.9 Z\" fill=\"#000000\" fill-rule=\"nonzero\" fill-opacity=\"1\" /><path clip-path=\"url(#clip142)\" d=\"M202.227 1193.86 L202.227 1423.18 L244.48 1423.18 L244.48 1193.86 L202.227 1193.86 L202.227 1193.86  Z\" fill=\"#009af9\" fill-rule=\"evenodd\" fill-opacity=\"1\"/>\n",
       "<polyline clip-path=\"url(#clip142)\" style=\"stroke:#000000; stroke-linecap:round; stroke-linejoin:round; stroke-width:4; stroke-opacity:1; fill:none\" points=\"202.227,1193.86 202.227,1423.18 244.48,1423.18 244.48,1193.86 202.227,1193.86 \"/>\n",
       "<path clip-path=\"url(#clip142)\" d=\"M244.48 849.873 L244.48 1423.18 L286.732 1423.18 L286.732 849.873 L244.48 849.873 L244.48 849.873  Z\" fill=\"#009af9\" fill-rule=\"evenodd\" fill-opacity=\"1\"/>\n",
       "<polyline clip-path=\"url(#clip142)\" style=\"stroke:#000000; stroke-linecap:round; stroke-linejoin:round; stroke-width:4; stroke-opacity:1; fill:none\" points=\"244.48,849.873 244.48,1423.18 286.732,1423.18 286.732,849.873 244.48,849.873 \"/>\n",
       "<path clip-path=\"url(#clip142)\" d=\"M286.732 1193.86 L286.732 1423.18 L328.984 1423.18 L328.984 1193.86 L286.732 1193.86 L286.732 1193.86  Z\" fill=\"#009af9\" fill-rule=\"evenodd\" fill-opacity=\"1\"/>\n",
       "<polyline clip-path=\"url(#clip142)\" style=\"stroke:#000000; stroke-linecap:round; stroke-linejoin:round; stroke-width:4; stroke-opacity:1; fill:none\" points=\"286.732,1193.86 286.732,1423.18 328.984,1423.18 328.984,1193.86 286.732,1193.86 \"/>\n",
       "<path clip-path=\"url(#clip142)\" d=\"M328.984 1193.86 L328.984 1423.18 L371.236 1423.18 L371.236 1193.86 L328.984 1193.86 L328.984 1193.86  Z\" fill=\"#009af9\" fill-rule=\"evenodd\" fill-opacity=\"1\"/>\n",
       "<polyline clip-path=\"url(#clip142)\" style=\"stroke:#000000; stroke-linecap:round; stroke-linejoin:round; stroke-width:4; stroke-opacity:1; fill:none\" points=\"328.984,1193.86 328.984,1423.18 371.236,1423.18 371.236,1193.86 328.984,1193.86 \"/>\n",
       "<path clip-path=\"url(#clip142)\" d=\"M371.236 1193.86 L371.236 1423.18 L413.488 1423.18 L413.488 1193.86 L371.236 1193.86 L371.236 1193.86  Z\" fill=\"#009af9\" fill-rule=\"evenodd\" fill-opacity=\"1\"/>\n",
       "<polyline clip-path=\"url(#clip142)\" style=\"stroke:#000000; stroke-linecap:round; stroke-linejoin:round; stroke-width:4; stroke-opacity:1; fill:none\" points=\"371.236,1193.86 371.236,1423.18 413.488,1423.18 413.488,1193.86 371.236,1193.86 \"/>\n",
       "<path clip-path=\"url(#clip142)\" d=\"M413.488 1423.18 L413.488 1423.18 L455.74 1423.18 L455.74 1423.18 L413.488 1423.18 L413.488 1423.18  Z\" fill=\"#009af9\" fill-rule=\"evenodd\" fill-opacity=\"1\"/>\n",
       "<polyline clip-path=\"url(#clip142)\" style=\"stroke:#000000; stroke-linecap:round; stroke-linejoin:round; stroke-width:4; stroke-opacity:1; fill:none\" points=\"413.488,1423.18 413.488,1423.18 455.74,1423.18 413.488,1423.18 \"/>\n",
       "<path clip-path=\"url(#clip142)\" d=\"M455.74 1308.52 L455.74 1423.18 L497.993 1423.18 L497.993 1308.52 L455.74 1308.52 L455.74 1308.52  Z\" fill=\"#009af9\" fill-rule=\"evenodd\" fill-opacity=\"1\"/>\n",
       "<polyline clip-path=\"url(#clip142)\" style=\"stroke:#000000; stroke-linecap:round; stroke-linejoin:round; stroke-width:4; stroke-opacity:1; fill:none\" points=\"455.74,1308.52 455.74,1423.18 497.993,1423.18 497.993,1308.52 455.74,1308.52 \"/>\n",
       "<path clip-path=\"url(#clip142)\" d=\"M497.993 964.535 L497.993 1423.18 L540.245 1423.18 L540.245 964.535 L497.993 964.535 L497.993 964.535  Z\" fill=\"#009af9\" fill-rule=\"evenodd\" fill-opacity=\"1\"/>\n",
       "<polyline clip-path=\"url(#clip142)\" style=\"stroke:#000000; stroke-linecap:round; stroke-linejoin:round; stroke-width:4; stroke-opacity:1; fill:none\" points=\"497.993,964.535 497.993,1423.18 540.245,1423.18 540.245,964.535 497.993,964.535 \"/>\n",
       "<path clip-path=\"url(#clip142)\" d=\"M540.245 1193.86 L540.245 1423.18 L582.497 1423.18 L582.497 1193.86 L540.245 1193.86 L540.245 1193.86  Z\" fill=\"#009af9\" fill-rule=\"evenodd\" fill-opacity=\"1\"/>\n",
       "<polyline clip-path=\"url(#clip142)\" style=\"stroke:#000000; stroke-linecap:round; stroke-linejoin:round; stroke-width:4; stroke-opacity:1; fill:none\" points=\"540.245,1193.86 540.245,1423.18 582.497,1423.18 582.497,1193.86 540.245,1193.86 \"/>\n",
       "<path clip-path=\"url(#clip142)\" d=\"M582.497 964.535 L582.497 1423.18 L624.749 1423.18 L624.749 964.535 L582.497 964.535 L582.497 964.535  Z\" fill=\"#009af9\" fill-rule=\"evenodd\" fill-opacity=\"1\"/>\n",
       "<polyline clip-path=\"url(#clip142)\" style=\"stroke:#000000; stroke-linecap:round; stroke-linejoin:round; stroke-width:4; stroke-opacity:1; fill:none\" points=\"582.497,964.535 582.497,1423.18 624.749,1423.18 624.749,964.535 582.497,964.535 \"/>\n",
       "<path clip-path=\"url(#clip142)\" d=\"M624.749 1308.52 L624.749 1423.18 L667.001 1423.18 L667.001 1308.52 L624.749 1308.52 L624.749 1308.52  Z\" fill=\"#009af9\" fill-rule=\"evenodd\" fill-opacity=\"1\"/>\n",
       "<polyline clip-path=\"url(#clip142)\" style=\"stroke:#000000; stroke-linecap:round; stroke-linejoin:round; stroke-width:4; stroke-opacity:1; fill:none\" points=\"624.749,1308.52 624.749,1423.18 667.001,1423.18 667.001,1308.52 624.749,1308.52 \"/>\n",
       "<path clip-path=\"url(#clip142)\" d=\"M667.001 1079.2 L667.001 1423.18 L709.253 1423.18 L709.253 1079.2 L667.001 1079.2 L667.001 1079.2  Z\" fill=\"#009af9\" fill-rule=\"evenodd\" fill-opacity=\"1\"/>\n",
       "<polyline clip-path=\"url(#clip142)\" style=\"stroke:#000000; stroke-linecap:round; stroke-linejoin:round; stroke-width:4; stroke-opacity:1; fill:none\" points=\"667.001,1079.2 667.001,1423.18 709.253,1423.18 709.253,1079.2 667.001,1079.2 \"/>\n",
       "<path clip-path=\"url(#clip142)\" d=\"M709.253 1423.18 L709.253 1423.18 L751.505 1423.18 L751.505 1423.18 L709.253 1423.18 L709.253 1423.18  Z\" fill=\"#009af9\" fill-rule=\"evenodd\" fill-opacity=\"1\"/>\n",
       "<polyline clip-path=\"url(#clip142)\" style=\"stroke:#000000; stroke-linecap:round; stroke-linejoin:round; stroke-width:4; stroke-opacity:1; fill:none\" points=\"709.253,1423.18 709.253,1423.18 751.505,1423.18 709.253,1423.18 \"/>\n",
       "<path clip-path=\"url(#clip142)\" d=\"M751.505 1193.86 L751.505 1423.18 L793.758 1423.18 L793.758 1193.86 L751.505 1193.86 L751.505 1193.86  Z\" fill=\"#009af9\" fill-rule=\"evenodd\" fill-opacity=\"1\"/>\n",
       "<polyline clip-path=\"url(#clip142)\" style=\"stroke:#000000; stroke-linecap:round; stroke-linejoin:round; stroke-width:4; stroke-opacity:1; fill:none\" points=\"751.505,1193.86 751.505,1423.18 793.758,1423.18 793.758,1193.86 751.505,1193.86 \"/>\n",
       "<path clip-path=\"url(#clip142)\" d=\"M793.758 1079.2 L793.758 1423.18 L836.01 1423.18 L836.01 1079.2 L793.758 1079.2 L793.758 1079.2  Z\" fill=\"#009af9\" fill-rule=\"evenodd\" fill-opacity=\"1\"/>\n",
       "<polyline clip-path=\"url(#clip142)\" style=\"stroke:#000000; stroke-linecap:round; stroke-linejoin:round; stroke-width:4; stroke-opacity:1; fill:none\" points=\"793.758,1079.2 793.758,1423.18 836.01,1423.18 836.01,1079.2 793.758,1079.2 \"/>\n",
       "<path clip-path=\"url(#clip142)\" d=\"M836.01 1308.52 L836.01 1423.18 L878.262 1423.18 L878.262 1308.52 L836.01 1308.52 L836.01 1308.52  Z\" fill=\"#009af9\" fill-rule=\"evenodd\" fill-opacity=\"1\"/>\n",
       "<polyline clip-path=\"url(#clip142)\" style=\"stroke:#000000; stroke-linecap:round; stroke-linejoin:round; stroke-width:4; stroke-opacity:1; fill:none\" points=\"836.01,1308.52 836.01,1423.18 878.262,1423.18 878.262,1308.52 836.01,1308.52 \"/>\n",
       "<path clip-path=\"url(#clip142)\" d=\"M878.262 1193.86 L878.262 1423.18 L920.514 1423.18 L920.514 1193.86 L878.262 1193.86 L878.262 1193.86  Z\" fill=\"#009af9\" fill-rule=\"evenodd\" fill-opacity=\"1\"/>\n",
       "<polyline clip-path=\"url(#clip142)\" style=\"stroke:#000000; stroke-linecap:round; stroke-linejoin:round; stroke-width:4; stroke-opacity:1; fill:none\" points=\"878.262,1193.86 878.262,1423.18 920.514,1423.18 920.514,1193.86 878.262,1193.86 \"/>\n",
       "<path clip-path=\"url(#clip142)\" d=\"M920.514 1079.2 L920.514 1423.18 L962.766 1423.18 L962.766 1079.2 L920.514 1079.2 L920.514 1079.2  Z\" fill=\"#009af9\" fill-rule=\"evenodd\" fill-opacity=\"1\"/>\n",
       "<polyline clip-path=\"url(#clip142)\" style=\"stroke:#000000; stroke-linecap:round; stroke-linejoin:round; stroke-width:4; stroke-opacity:1; fill:none\" points=\"920.514,1079.2 920.514,1423.18 962.766,1423.18 962.766,1079.2 920.514,1079.2 \"/>\n",
       "<path clip-path=\"url(#clip142)\" d=\"M962.766 1423.18 L962.766 1423.18 L1005.02 1423.18 L1005.02 1423.18 L962.766 1423.18 L962.766 1423.18  Z\" fill=\"#009af9\" fill-rule=\"evenodd\" fill-opacity=\"1\"/>\n",
       "<polyline clip-path=\"url(#clip142)\" style=\"stroke:#000000; stroke-linecap:round; stroke-linejoin:round; stroke-width:4; stroke-opacity:1; fill:none\" points=\"962.766,1423.18 962.766,1423.18 1005.02,1423.18 962.766,1423.18 \"/>\n",
       "<path clip-path=\"url(#clip142)\" d=\"M1005.02 1423.18 L1005.02 1423.18 L1047.27 1423.18 L1047.27 1423.18 L1005.02 1423.18 L1005.02 1423.18  Z\" fill=\"#009af9\" fill-rule=\"evenodd\" fill-opacity=\"1\"/>\n",
       "<polyline clip-path=\"url(#clip142)\" style=\"stroke:#000000; stroke-linecap:round; stroke-linejoin:round; stroke-width:4; stroke-opacity:1; fill:none\" points=\"1005.02,1423.18 1005.02,1423.18 1047.27,1423.18 1005.02,1423.18 \"/>\n",
       "<path clip-path=\"url(#clip142)\" d=\"M1047.27 1193.86 L1047.27 1423.18 L1089.52 1423.18 L1089.52 1193.86 L1047.27 1193.86 L1047.27 1193.86  Z\" fill=\"#009af9\" fill-rule=\"evenodd\" fill-opacity=\"1\"/>\n",
       "<polyline clip-path=\"url(#clip142)\" style=\"stroke:#000000; stroke-linecap:round; stroke-linejoin:round; stroke-width:4; stroke-opacity:1; fill:none\" points=\"1047.27,1193.86 1047.27,1423.18 1089.52,1423.18 1089.52,1193.86 1047.27,1193.86 \"/>\n",
       "<path clip-path=\"url(#clip142)\" d=\"M1089.52 1423.18 L1089.52 1423.18 L1131.77 1423.18 L1131.77 1423.18 L1089.52 1423.18 L1089.52 1423.18  Z\" fill=\"#009af9\" fill-rule=\"evenodd\" fill-opacity=\"1\"/>\n",
       "<polyline clip-path=\"url(#clip142)\" style=\"stroke:#000000; stroke-linecap:round; stroke-linejoin:round; stroke-width:4; stroke-opacity:1; fill:none\" points=\"1089.52,1423.18 1089.52,1423.18 1131.77,1423.18 1089.52,1423.18 \"/>\n",
       "<path clip-path=\"url(#clip142)\" d=\"M1131.77 1423.18 L1131.77 1423.18 L1174.03 1423.18 L1174.03 1423.18 L1131.77 1423.18 L1131.77 1423.18  Z\" fill=\"#009af9\" fill-rule=\"evenodd\" fill-opacity=\"1\"/>\n",
       "<polyline clip-path=\"url(#clip142)\" style=\"stroke:#000000; stroke-linecap:round; stroke-linejoin:round; stroke-width:4; stroke-opacity:1; fill:none\" points=\"1131.77,1423.18 1131.77,1423.18 1174.03,1423.18 1131.77,1423.18 \"/>\n",
       "<path clip-path=\"url(#clip142)\" d=\"M1174.03 1079.2 L1174.03 1423.18 L1216.28 1423.18 L1216.28 1079.2 L1174.03 1079.2 L1174.03 1079.2  Z\" fill=\"#009af9\" fill-rule=\"evenodd\" fill-opacity=\"1\"/>\n",
       "<polyline clip-path=\"url(#clip142)\" style=\"stroke:#000000; stroke-linecap:round; stroke-linejoin:round; stroke-width:4; stroke-opacity:1; fill:none\" points=\"1174.03,1079.2 1174.03,1423.18 1216.28,1423.18 1216.28,1079.2 1174.03,1079.2 \"/>\n",
       "<path clip-path=\"url(#clip142)\" d=\"M1216.28 1423.18 L1216.28 1423.18 L1258.53 1423.18 L1258.53 1423.18 L1216.28 1423.18 L1216.28 1423.18  Z\" fill=\"#009af9\" fill-rule=\"evenodd\" fill-opacity=\"1\"/>\n",
       "<polyline clip-path=\"url(#clip142)\" style=\"stroke:#000000; stroke-linecap:round; stroke-linejoin:round; stroke-width:4; stroke-opacity:1; fill:none\" points=\"1216.28,1423.18 1216.28,1423.18 1258.53,1423.18 1216.28,1423.18 \"/>\n",
       "<path clip-path=\"url(#clip142)\" d=\"M1258.53 1308.52 L1258.53 1423.18 L1300.78 1423.18 L1300.78 1308.52 L1258.53 1308.52 L1258.53 1308.52  Z\" fill=\"#009af9\" fill-rule=\"evenodd\" fill-opacity=\"1\"/>\n",
       "<polyline clip-path=\"url(#clip142)\" style=\"stroke:#000000; stroke-linecap:round; stroke-linejoin:round; stroke-width:4; stroke-opacity:1; fill:none\" points=\"1258.53,1308.52 1258.53,1423.18 1300.78,1423.18 1300.78,1308.52 1258.53,1308.52 \"/>\n",
       "<path clip-path=\"url(#clip142)\" d=\"M1300.78 1423.18 L1300.78 1423.18 L1343.04 1423.18 L1343.04 1423.18 L1300.78 1423.18 L1300.78 1423.18  Z\" fill=\"#009af9\" fill-rule=\"evenodd\" fill-opacity=\"1\"/>\n",
       "<polyline clip-path=\"url(#clip142)\" style=\"stroke:#000000; stroke-linecap:round; stroke-linejoin:round; stroke-width:4; stroke-opacity:1; fill:none\" points=\"1300.78,1423.18 1300.78,1423.18 1343.04,1423.18 1300.78,1423.18 \"/>\n",
       "<path clip-path=\"url(#clip142)\" d=\"M1343.04 1308.52 L1343.04 1423.18 L1385.29 1423.18 L1385.29 1308.52 L1343.04 1308.52 L1343.04 1308.52  Z\" fill=\"#009af9\" fill-rule=\"evenodd\" fill-opacity=\"1\"/>\n",
       "<polyline clip-path=\"url(#clip142)\" style=\"stroke:#000000; stroke-linecap:round; stroke-linejoin:round; stroke-width:4; stroke-opacity:1; fill:none\" points=\"1343.04,1308.52 1343.04,1423.18 1385.29,1423.18 1385.29,1308.52 1343.04,1308.52 \"/>\n",
       "<path clip-path=\"url(#clip142)\" d=\"M1385.29 1423.18 L1385.29 1423.18 L1427.54 1423.18 L1427.54 1423.18 L1385.29 1423.18 L1385.29 1423.18  Z\" fill=\"#009af9\" fill-rule=\"evenodd\" fill-opacity=\"1\"/>\n",
       "<polyline clip-path=\"url(#clip142)\" style=\"stroke:#000000; stroke-linecap:round; stroke-linejoin:round; stroke-width:4; stroke-opacity:1; fill:none\" points=\"1385.29,1423.18 1385.29,1423.18 1427.54,1423.18 1385.29,1423.18 \"/>\n",
       "<path clip-path=\"url(#clip142)\" d=\"M1427.54 1308.52 L1427.54 1423.18 L1469.79 1423.18 L1469.79 1308.52 L1427.54 1308.52 L1427.54 1308.52  Z\" fill=\"#009af9\" fill-rule=\"evenodd\" fill-opacity=\"1\"/>\n",
       "<polyline clip-path=\"url(#clip142)\" style=\"stroke:#000000; stroke-linecap:round; stroke-linejoin:round; stroke-width:4; stroke-opacity:1; fill:none\" points=\"1427.54,1308.52 1427.54,1423.18 1469.79,1423.18 1469.79,1308.52 1427.54,1308.52 \"/>\n",
       "<path clip-path=\"url(#clip142)\" d=\"M1469.79 1308.52 L1469.79 1423.18 L1512.04 1423.18 L1512.04 1308.52 L1469.79 1308.52 L1469.79 1308.52  Z\" fill=\"#009af9\" fill-rule=\"evenodd\" fill-opacity=\"1\"/>\n",
       "<polyline clip-path=\"url(#clip142)\" style=\"stroke:#000000; stroke-linecap:round; stroke-linejoin:round; stroke-width:4; stroke-opacity:1; fill:none\" points=\"1469.79,1308.52 1469.79,1423.18 1512.04,1423.18 1512.04,1308.52 1469.79,1308.52 \"/>\n",
       "<path clip-path=\"url(#clip142)\" d=\"M1512.04 1308.52 L1512.04 1423.18 L1554.3 1423.18 L1554.3 1308.52 L1512.04 1308.52 L1512.04 1308.52  Z\" fill=\"#009af9\" fill-rule=\"evenodd\" fill-opacity=\"1\"/>\n",
       "<polyline clip-path=\"url(#clip142)\" style=\"stroke:#000000; stroke-linecap:round; stroke-linejoin:round; stroke-width:4; stroke-opacity:1; fill:none\" points=\"1512.04,1308.52 1512.04,1423.18 1554.3,1423.18 1554.3,1308.52 1512.04,1308.52 \"/>\n",
       "<path clip-path=\"url(#clip142)\" d=\"M1554.3 1308.52 L1554.3 1423.18 L1596.55 1423.18 L1596.55 1308.52 L1554.3 1308.52 L1554.3 1308.52  Z\" fill=\"#009af9\" fill-rule=\"evenodd\" fill-opacity=\"1\"/>\n",
       "<polyline clip-path=\"url(#clip142)\" style=\"stroke:#000000; stroke-linecap:round; stroke-linejoin:round; stroke-width:4; stroke-opacity:1; fill:none\" points=\"1554.3,1308.52 1554.3,1423.18 1596.55,1423.18 1596.55,1308.52 1554.3,1308.52 \"/>\n",
       "<path clip-path=\"url(#clip142)\" d=\"M1596.55 1193.86 L1596.55 1423.18 L1638.8 1423.18 L1638.8 1193.86 L1596.55 1193.86 L1596.55 1193.86  Z\" fill=\"#009af9\" fill-rule=\"evenodd\" fill-opacity=\"1\"/>\n",
       "<polyline clip-path=\"url(#clip142)\" style=\"stroke:#000000; stroke-linecap:round; stroke-linejoin:round; stroke-width:4; stroke-opacity:1; fill:none\" points=\"1596.55,1193.86 1596.55,1423.18 1638.8,1423.18 1638.8,1193.86 1596.55,1193.86 \"/>\n",
       "<path clip-path=\"url(#clip142)\" d=\"M1638.8 1423.18 L1638.8 1423.18 L1681.05 1423.18 L1681.05 1423.18 L1638.8 1423.18 L1638.8 1423.18  Z\" fill=\"#009af9\" fill-rule=\"evenodd\" fill-opacity=\"1\"/>\n",
       "<polyline clip-path=\"url(#clip142)\" style=\"stroke:#000000; stroke-linecap:round; stroke-linejoin:round; stroke-width:4; stroke-opacity:1; fill:none\" points=\"1638.8,1423.18 1638.8,1423.18 1681.05,1423.18 1638.8,1423.18 \"/>\n",
       "<path clip-path=\"url(#clip142)\" d=\"M1681.05 1308.52 L1681.05 1423.18 L1723.3 1423.18 L1723.3 1308.52 L1681.05 1308.52 L1681.05 1308.52  Z\" fill=\"#009af9\" fill-rule=\"evenodd\" fill-opacity=\"1\"/>\n",
       "<polyline clip-path=\"url(#clip142)\" style=\"stroke:#000000; stroke-linecap:round; stroke-linejoin:round; stroke-width:4; stroke-opacity:1; fill:none\" points=\"1681.05,1308.52 1681.05,1423.18 1723.3,1423.18 1723.3,1308.52 1681.05,1308.52 \"/>\n",
       "<path clip-path=\"url(#clip142)\" d=\"M1723.3 1193.86 L1723.3 1423.18 L1765.56 1423.18 L1765.56 1193.86 L1723.3 1193.86 L1723.3 1193.86  Z\" fill=\"#009af9\" fill-rule=\"evenodd\" fill-opacity=\"1\"/>\n",
       "<polyline clip-path=\"url(#clip142)\" style=\"stroke:#000000; stroke-linecap:round; stroke-linejoin:round; stroke-width:4; stroke-opacity:1; fill:none\" points=\"1723.3,1193.86 1723.3,1423.18 1765.56,1423.18 1765.56,1193.86 1723.3,1193.86 \"/>\n",
       "<path clip-path=\"url(#clip142)\" d=\"M1765.56 1423.18 L1765.56 1423.18 L1807.81 1423.18 L1807.81 1423.18 L1765.56 1423.18 L1765.56 1423.18  Z\" fill=\"#009af9\" fill-rule=\"evenodd\" fill-opacity=\"1\"/>\n",
       "<polyline clip-path=\"url(#clip142)\" style=\"stroke:#000000; stroke-linecap:round; stroke-linejoin:round; stroke-width:4; stroke-opacity:1; fill:none\" points=\"1765.56,1423.18 1765.56,1423.18 1807.81,1423.18 1765.56,1423.18 \"/>\n",
       "<path clip-path=\"url(#clip142)\" d=\"M1807.81 1423.18 L1807.81 1423.18 L1850.06 1423.18 L1850.06 1423.18 L1807.81 1423.18 L1807.81 1423.18  Z\" fill=\"#009af9\" fill-rule=\"evenodd\" fill-opacity=\"1\"/>\n",
       "<polyline clip-path=\"url(#clip142)\" style=\"stroke:#000000; stroke-linecap:round; stroke-linejoin:round; stroke-width:4; stroke-opacity:1; fill:none\" points=\"1807.81,1423.18 1807.81,1423.18 1850.06,1423.18 1807.81,1423.18 \"/>\n",
       "<path clip-path=\"url(#clip142)\" d=\"M1850.06 1423.18 L1850.06 1423.18 L1892.31 1423.18 L1892.31 1423.18 L1850.06 1423.18 L1850.06 1423.18  Z\" fill=\"#009af9\" fill-rule=\"evenodd\" fill-opacity=\"1\"/>\n",
       "<polyline clip-path=\"url(#clip142)\" style=\"stroke:#000000; stroke-linecap:round; stroke-linejoin:round; stroke-width:4; stroke-opacity:1; fill:none\" points=\"1850.06,1423.18 1850.06,1423.18 1892.31,1423.18 1850.06,1423.18 \"/>\n",
       "<path clip-path=\"url(#clip142)\" d=\"M1892.31 1308.52 L1892.31 1423.18 L1934.57 1423.18 L1934.57 1308.52 L1892.31 1308.52 L1892.31 1308.52  Z\" fill=\"#009af9\" fill-rule=\"evenodd\" fill-opacity=\"1\"/>\n",
       "<polyline clip-path=\"url(#clip142)\" style=\"stroke:#000000; stroke-linecap:round; stroke-linejoin:round; stroke-width:4; stroke-opacity:1; fill:none\" points=\"1892.31,1308.52 1892.31,1423.18 1934.57,1423.18 1934.57,1308.52 1892.31,1308.52 \"/>\n",
       "<path clip-path=\"url(#clip142)\" d=\"M1934.57 1423.18 L1934.57 1423.18 L1976.82 1423.18 L1976.82 1423.18 L1934.57 1423.18 L1934.57 1423.18  Z\" fill=\"#009af9\" fill-rule=\"evenodd\" fill-opacity=\"1\"/>\n",
       "<polyline clip-path=\"url(#clip142)\" style=\"stroke:#000000; stroke-linecap:round; stroke-linejoin:round; stroke-width:4; stroke-opacity:1; fill:none\" points=\"1934.57,1423.18 1934.57,1423.18 1976.82,1423.18 1934.57,1423.18 \"/>\n",
       "<path clip-path=\"url(#clip142)\" d=\"M1976.82 1308.52 L1976.82 1423.18 L2019.07 1423.18 L2019.07 1308.52 L1976.82 1308.52 L1976.82 1308.52  Z\" fill=\"#009af9\" fill-rule=\"evenodd\" fill-opacity=\"1\"/>\n",
       "<polyline clip-path=\"url(#clip142)\" style=\"stroke:#000000; stroke-linecap:round; stroke-linejoin:round; stroke-width:4; stroke-opacity:1; fill:none\" points=\"1976.82,1308.52 1976.82,1423.18 2019.07,1423.18 2019.07,1308.52 1976.82,1308.52 \"/>\n",
       "<path clip-path=\"url(#clip142)\" d=\"M2019.07 1193.86 L2019.07 1423.18 L2061.32 1423.18 L2061.32 1193.86 L2019.07 1193.86 L2019.07 1193.86  Z\" fill=\"#009af9\" fill-rule=\"evenodd\" fill-opacity=\"1\"/>\n",
       "<polyline clip-path=\"url(#clip142)\" style=\"stroke:#000000; stroke-linecap:round; stroke-linejoin:round; stroke-width:4; stroke-opacity:1; fill:none\" points=\"2019.07,1193.86 2019.07,1423.18 2061.32,1423.18 2061.32,1193.86 2019.07,1193.86 \"/>\n",
       "<path clip-path=\"url(#clip142)\" d=\"M2061.32 1423.18 L2061.32 1423.18 L2103.57 1423.18 L2103.57 1423.18 L2061.32 1423.18 L2061.32 1423.18  Z\" fill=\"#009af9\" fill-rule=\"evenodd\" fill-opacity=\"1\"/>\n",
       "<polyline clip-path=\"url(#clip142)\" style=\"stroke:#000000; stroke-linecap:round; stroke-linejoin:round; stroke-width:4; stroke-opacity:1; fill:none\" points=\"2061.32,1423.18 2061.32,1423.18 2103.57,1423.18 2061.32,1423.18 \"/>\n",
       "<path clip-path=\"url(#clip142)\" d=\"M2103.57 1423.18 L2103.57 1423.18 L2145.83 1423.18 L2145.83 1423.18 L2103.57 1423.18 L2103.57 1423.18  Z\" fill=\"#009af9\" fill-rule=\"evenodd\" fill-opacity=\"1\"/>\n",
       "<polyline clip-path=\"url(#clip142)\" style=\"stroke:#000000; stroke-linecap:round; stroke-linejoin:round; stroke-width:4; stroke-opacity:1; fill:none\" points=\"2103.57,1423.18 2103.57,1423.18 2145.83,1423.18 2103.57,1423.18 \"/>\n",
       "<path clip-path=\"url(#clip142)\" d=\"M2145.83 1193.86 L2145.83 1423.18 L2188.08 1423.18 L2188.08 1193.86 L2145.83 1193.86 L2145.83 1193.86  Z\" fill=\"#009af9\" fill-rule=\"evenodd\" fill-opacity=\"1\"/>\n",
       "<polyline clip-path=\"url(#clip142)\" style=\"stroke:#000000; stroke-linecap:round; stroke-linejoin:round; stroke-width:4; stroke-opacity:1; fill:none\" points=\"2145.83,1193.86 2145.83,1423.18 2188.08,1423.18 2188.08,1193.86 2145.83,1193.86 \"/>\n",
       "<path clip-path=\"url(#clip142)\" d=\"M2188.08 1423.18 L2188.08 1423.18 L2230.33 1423.18 L2230.33 1423.18 L2188.08 1423.18 L2188.08 1423.18  Z\" fill=\"#009af9\" fill-rule=\"evenodd\" fill-opacity=\"1\"/>\n",
       "<polyline clip-path=\"url(#clip142)\" style=\"stroke:#000000; stroke-linecap:round; stroke-linejoin:round; stroke-width:4; stroke-opacity:1; fill:none\" points=\"2188.08,1423.18 2188.08,1423.18 2230.33,1423.18 2188.08,1423.18 \"/>\n",
       "<path clip-path=\"url(#clip142)\" d=\"M2230.33 1308.52 L2230.33 1423.18 L2272.58 1423.18 L2272.58 1308.52 L2230.33 1308.52 L2230.33 1308.52  Z\" fill=\"#009af9\" fill-rule=\"evenodd\" fill-opacity=\"1\"/>\n",
       "<polyline clip-path=\"url(#clip142)\" style=\"stroke:#000000; stroke-linecap:round; stroke-linejoin:round; stroke-width:4; stroke-opacity:1; fill:none\" points=\"2230.33,1308.52 2230.33,1423.18 2272.58,1423.18 2272.58,1308.52 2230.33,1308.52 \"/>\n",
       "<path clip-path=\"url(#clip142)\" d=\"M2272.58 1423.18 L2272.58 1423.18 L2314.83 1423.18 L2314.83 1423.18 L2272.58 1423.18 L2272.58 1423.18  Z\" fill=\"#009af9\" fill-rule=\"evenodd\" fill-opacity=\"1\"/>\n",
       "<polyline clip-path=\"url(#clip142)\" style=\"stroke:#000000; stroke-linecap:round; stroke-linejoin:round; stroke-width:4; stroke-opacity:1; fill:none\" points=\"2272.58,1423.18 2272.58,1423.18 2314.83,1423.18 2272.58,1423.18 \"/>\n",
       "<path clip-path=\"url(#clip142)\" d=\"M2314.83 1423.18 L2314.83 1423.18 L2357.09 1423.18 L2357.09 1423.18 L2314.83 1423.18 L2314.83 1423.18  Z\" fill=\"#009af9\" fill-rule=\"evenodd\" fill-opacity=\"1\"/>\n",
       "<polyline clip-path=\"url(#clip142)\" style=\"stroke:#000000; stroke-linecap:round; stroke-linejoin:round; stroke-width:4; stroke-opacity:1; fill:none\" points=\"2314.83,1423.18 2314.83,1423.18 2357.09,1423.18 2314.83,1423.18 \"/>\n",
       "<path clip-path=\"url(#clip142)\" d=\"M2357.09 1423.18 L2357.09 1423.18 L2399.34 1423.18 L2399.34 1423.18 L2357.09 1423.18 L2357.09 1423.18  Z\" fill=\"#009af9\" fill-rule=\"evenodd\" fill-opacity=\"1\"/>\n",
       "<polyline clip-path=\"url(#clip142)\" style=\"stroke:#000000; stroke-linecap:round; stroke-linejoin:round; stroke-width:4; stroke-opacity:1; fill:none\" points=\"2357.09,1423.18 2357.09,1423.18 2399.34,1423.18 2357.09,1423.18 \"/>\n",
       "<path clip-path=\"url(#clip142)\" d=\"M2399.34 1423.18 L2399.34 1423.18 L2441.59 1423.18 L2441.59 1423.18 L2399.34 1423.18 L2399.34 1423.18  Z\" fill=\"#009af9\" fill-rule=\"evenodd\" fill-opacity=\"1\"/>\n",
       "<polyline clip-path=\"url(#clip142)\" style=\"stroke:#000000; stroke-linecap:round; stroke-linejoin:round; stroke-width:4; stroke-opacity:1; fill:none\" points=\"2399.34,1423.18 2399.34,1423.18 2441.59,1423.18 2399.34,1423.18 \"/>\n",
       "<path clip-path=\"url(#clip142)\" d=\"M2441.59 1423.18 L2441.59 1423.18 L2483.84 1423.18 L2483.84 1423.18 L2441.59 1423.18 L2441.59 1423.18  Z\" fill=\"#009af9\" fill-rule=\"evenodd\" fill-opacity=\"1\"/>\n",
       "<polyline clip-path=\"url(#clip142)\" style=\"stroke:#000000; stroke-linecap:round; stroke-linejoin:round; stroke-width:4; stroke-opacity:1; fill:none\" points=\"2441.59,1423.18 2441.59,1423.18 2483.84,1423.18 2441.59,1423.18 \"/>\n",
       "<path clip-path=\"url(#clip142)\" d=\"M2483.84 1423.18 L2483.84 1423.18 L2526.1 1423.18 L2526.1 1423.18 L2483.84 1423.18 L2483.84 1423.18  Z\" fill=\"#009af9\" fill-rule=\"evenodd\" fill-opacity=\"1\"/>\n",
       "<polyline clip-path=\"url(#clip142)\" style=\"stroke:#000000; stroke-linecap:round; stroke-linejoin:round; stroke-width:4; stroke-opacity:1; fill:none\" points=\"2483.84,1423.18 2483.84,1423.18 2526.1,1423.18 2483.84,1423.18 \"/>\n",
       "<path clip-path=\"url(#clip142)\" d=\"M2526.1 1308.52 L2526.1 1423.18 L2568.35 1423.18 L2568.35 1308.52 L2526.1 1308.52 L2526.1 1308.52  Z\" fill=\"#009af9\" fill-rule=\"evenodd\" fill-opacity=\"1\"/>\n",
       "<polyline clip-path=\"url(#clip142)\" style=\"stroke:#000000; stroke-linecap:round; stroke-linejoin:round; stroke-width:4; stroke-opacity:1; fill:none\" points=\"2526.1,1308.52 2526.1,1423.18 2568.35,1423.18 2568.35,1308.52 2526.1,1308.52 \"/>\n",
       "<path clip-path=\"url(#clip142)\" d=\"M2568.35 1308.52 L2568.35 1423.18 L2610.6 1423.18 L2610.6 1308.52 L2568.35 1308.52 L2568.35 1308.52  Z\" fill=\"#009af9\" fill-rule=\"evenodd\" fill-opacity=\"1\"/>\n",
       "<polyline clip-path=\"url(#clip142)\" style=\"stroke:#000000; stroke-linecap:round; stroke-linejoin:round; stroke-width:4; stroke-opacity:1; fill:none\" points=\"2568.35,1308.52 2568.35,1423.18 2610.6,1423.18 2610.6,1308.52 2568.35,1308.52 \"/>\n",
       "<path clip-path=\"url(#clip142)\" d=\"M2610.6 1423.18 L2610.6 1423.18 L2652.85 1423.18 L2652.85 1423.18 L2610.6 1423.18 L2610.6 1423.18  Z\" fill=\"#009af9\" fill-rule=\"evenodd\" fill-opacity=\"1\"/>\n",
       "<polyline clip-path=\"url(#clip142)\" style=\"stroke:#000000; stroke-linecap:round; stroke-linejoin:round; stroke-width:4; stroke-opacity:1; fill:none\" points=\"2610.6,1423.18 2610.6,1423.18 2652.85,1423.18 2610.6,1423.18 \"/>\n",
       "<path clip-path=\"url(#clip142)\" d=\"M2652.85 1423.18 L2652.85 1423.18 L2695.1 1423.18 L2695.1 1423.18 L2652.85 1423.18 L2652.85 1423.18  Z\" fill=\"#009af9\" fill-rule=\"evenodd\" fill-opacity=\"1\"/>\n",
       "<polyline clip-path=\"url(#clip142)\" style=\"stroke:#000000; stroke-linecap:round; stroke-linejoin:round; stroke-width:4; stroke-opacity:1; fill:none\" points=\"2652.85,1423.18 2652.85,1423.18 2695.1,1423.18 2652.85,1423.18 \"/>\n",
       "<path clip-path=\"url(#clip142)\" d=\"M2695.1 1423.18 L2695.1 1423.18 L2737.36 1423.18 L2737.36 1423.18 L2695.1 1423.18 L2695.1 1423.18  Z\" fill=\"#009af9\" fill-rule=\"evenodd\" fill-opacity=\"1\"/>\n",
       "<polyline clip-path=\"url(#clip142)\" style=\"stroke:#000000; stroke-linecap:round; stroke-linejoin:round; stroke-width:4; stroke-opacity:1; fill:none\" points=\"2695.1,1423.18 2695.1,1423.18 2737.36,1423.18 2695.1,1423.18 \"/>\n",
       "<path clip-path=\"url(#clip142)\" d=\"M2737.36 1423.18 L2737.36 1423.18 L2779.61 1423.18 L2779.61 1423.18 L2737.36 1423.18 L2737.36 1423.18  Z\" fill=\"#009af9\" fill-rule=\"evenodd\" fill-opacity=\"1\"/>\n",
       "<polyline clip-path=\"url(#clip142)\" style=\"stroke:#000000; stroke-linecap:round; stroke-linejoin:round; stroke-width:4; stroke-opacity:1; fill:none\" points=\"2737.36,1423.18 2737.36,1423.18 2779.61,1423.18 2737.36,1423.18 \"/>\n",
       "<path clip-path=\"url(#clip142)\" d=\"M2779.61 1423.18 L2779.61 1423.18 L2821.86 1423.18 L2821.86 1423.18 L2779.61 1423.18 L2779.61 1423.18  Z\" fill=\"#009af9\" fill-rule=\"evenodd\" fill-opacity=\"1\"/>\n",
       "<polyline clip-path=\"url(#clip142)\" style=\"stroke:#000000; stroke-linecap:round; stroke-linejoin:round; stroke-width:4; stroke-opacity:1; fill:none\" points=\"2779.61,1423.18 2779.61,1423.18 2821.86,1423.18 2779.61,1423.18 \"/>\n",
       "<path clip-path=\"url(#clip142)\" d=\"M2821.86 1423.18 L2821.86 1423.18 L2864.11 1423.18 L2864.11 1423.18 L2821.86 1423.18 L2821.86 1423.18  Z\" fill=\"#009af9\" fill-rule=\"evenodd\" fill-opacity=\"1\"/>\n",
       "<polyline clip-path=\"url(#clip142)\" style=\"stroke:#000000; stroke-linecap:round; stroke-linejoin:round; stroke-width:4; stroke-opacity:1; fill:none\" points=\"2821.86,1423.18 2821.86,1423.18 2864.11,1423.18 2821.86,1423.18 \"/>\n",
       "<path clip-path=\"url(#clip142)\" d=\"M2864.11 1423.18 L2864.11 1423.18 L2906.37 1423.18 L2906.37 1423.18 L2864.11 1423.18 L2864.11 1423.18  Z\" fill=\"#009af9\" fill-rule=\"evenodd\" fill-opacity=\"1\"/>\n",
       "<polyline clip-path=\"url(#clip142)\" style=\"stroke:#000000; stroke-linecap:round; stroke-linejoin:round; stroke-width:4; stroke-opacity:1; fill:none\" points=\"2864.11,1423.18 2864.11,1423.18 2906.37,1423.18 2864.11,1423.18 \"/>\n",
       "<path clip-path=\"url(#clip142)\" d=\"M2906.37 1423.18 L2906.37 1423.18 L2948.62 1423.18 L2948.62 1423.18 L2906.37 1423.18 L2906.37 1423.18  Z\" fill=\"#009af9\" fill-rule=\"evenodd\" fill-opacity=\"1\"/>\n",
       "<polyline clip-path=\"url(#clip142)\" style=\"stroke:#000000; stroke-linecap:round; stroke-linejoin:round; stroke-width:4; stroke-opacity:1; fill:none\" points=\"2906.37,1423.18 2906.37,1423.18 2948.62,1423.18 2906.37,1423.18 \"/>\n",
       "<path clip-path=\"url(#clip142)\" d=\"M2948.62 1423.18 L2948.62 1423.18 L2990.87 1423.18 L2990.87 1423.18 L2948.62 1423.18 L2948.62 1423.18  Z\" fill=\"#009af9\" fill-rule=\"evenodd\" fill-opacity=\"1\"/>\n",
       "<polyline clip-path=\"url(#clip142)\" style=\"stroke:#000000; stroke-linecap:round; stroke-linejoin:round; stroke-width:4; stroke-opacity:1; fill:none\" points=\"2948.62,1423.18 2948.62,1423.18 2990.87,1423.18 2948.62,1423.18 \"/>\n",
       "<path clip-path=\"url(#clip142)\" d=\"M2990.87 1423.18 L2990.87 1423.18 L3033.12 1423.18 L3033.12 1423.18 L2990.87 1423.18 L2990.87 1423.18  Z\" fill=\"#009af9\" fill-rule=\"evenodd\" fill-opacity=\"1\"/>\n",
       "<polyline clip-path=\"url(#clip142)\" style=\"stroke:#000000; stroke-linecap:round; stroke-linejoin:round; stroke-width:4; stroke-opacity:1; fill:none\" points=\"2990.87,1423.18 2990.87,1423.18 3033.12,1423.18 2990.87,1423.18 \"/>\n",
       "<path clip-path=\"url(#clip142)\" d=\"M3033.12 1423.18 L3033.12 1423.18 L3075.37 1423.18 L3075.37 1423.18 L3033.12 1423.18 L3033.12 1423.18  Z\" fill=\"#009af9\" fill-rule=\"evenodd\" fill-opacity=\"1\"/>\n",
       "<polyline clip-path=\"url(#clip142)\" style=\"stroke:#000000; stroke-linecap:round; stroke-linejoin:round; stroke-width:4; stroke-opacity:1; fill:none\" points=\"3033.12,1423.18 3033.12,1423.18 3075.37,1423.18 3033.12,1423.18 \"/>\n",
       "<path clip-path=\"url(#clip142)\" d=\"M3075.37 1423.18 L3075.37 1423.18 L3117.63 1423.18 L3117.63 1423.18 L3075.37 1423.18 L3075.37 1423.18  Z\" fill=\"#009af9\" fill-rule=\"evenodd\" fill-opacity=\"1\"/>\n",
       "<polyline clip-path=\"url(#clip142)\" style=\"stroke:#000000; stroke-linecap:round; stroke-linejoin:round; stroke-width:4; stroke-opacity:1; fill:none\" points=\"3075.37,1423.18 3075.37,1423.18 3117.63,1423.18 3075.37,1423.18 \"/>\n",
       "<path clip-path=\"url(#clip142)\" d=\"M3117.63 1423.18 L3117.63 1423.18 L3159.88 1423.18 L3159.88 1423.18 L3117.63 1423.18 L3117.63 1423.18  Z\" fill=\"#009af9\" fill-rule=\"evenodd\" fill-opacity=\"1\"/>\n",
       "<polyline clip-path=\"url(#clip142)\" style=\"stroke:#000000; stroke-linecap:round; stroke-linejoin:round; stroke-width:4; stroke-opacity:1; fill:none\" points=\"3117.63,1423.18 3117.63,1423.18 3159.88,1423.18 3117.63,1423.18 \"/>\n",
       "<path clip-path=\"url(#clip142)\" d=\"M3159.88 1423.18 L3159.88 1423.18 L3202.13 1423.18 L3202.13 1423.18 L3159.88 1423.18 L3159.88 1423.18  Z\" fill=\"#009af9\" fill-rule=\"evenodd\" fill-opacity=\"1\"/>\n",
       "<polyline clip-path=\"url(#clip142)\" style=\"stroke:#000000; stroke-linecap:round; stroke-linejoin:round; stroke-width:4; stroke-opacity:1; fill:none\" points=\"3159.88,1423.18 3159.88,1423.18 3202.13,1423.18 3159.88,1423.18 \"/>\n",
       "<path clip-path=\"url(#clip142)\" d=\"M3202.13 1423.18 L3202.13 1423.18 L3244.38 1423.18 L3244.38 1423.18 L3202.13 1423.18 L3202.13 1423.18  Z\" fill=\"#009af9\" fill-rule=\"evenodd\" fill-opacity=\"1\"/>\n",
       "<polyline clip-path=\"url(#clip142)\" style=\"stroke:#000000; stroke-linecap:round; stroke-linejoin:round; stroke-width:4; stroke-opacity:1; fill:none\" points=\"3202.13,1423.18 3202.13,1423.18 3244.38,1423.18 3202.13,1423.18 \"/>\n",
       "<path clip-path=\"url(#clip142)\" d=\"M3244.38 1423.18 L3244.38 1423.18 L3286.63 1423.18 L3286.63 1423.18 L3244.38 1423.18 L3244.38 1423.18  Z\" fill=\"#009af9\" fill-rule=\"evenodd\" fill-opacity=\"1\"/>\n",
       "<polyline clip-path=\"url(#clip142)\" style=\"stroke:#000000; stroke-linecap:round; stroke-linejoin:round; stroke-width:4; stroke-opacity:1; fill:none\" points=\"3244.38,1423.18 3244.38,1423.18 3286.63,1423.18 3244.38,1423.18 \"/>\n",
       "<path clip-path=\"url(#clip142)\" d=\"M3286.63 1423.18 L3286.63 1423.18 L3328.89 1423.18 L3328.89 1423.18 L3286.63 1423.18 L3286.63 1423.18  Z\" fill=\"#009af9\" fill-rule=\"evenodd\" fill-opacity=\"1\"/>\n",
       "<polyline clip-path=\"url(#clip142)\" style=\"stroke:#000000; stroke-linecap:round; stroke-linejoin:round; stroke-width:4; stroke-opacity:1; fill:none\" points=\"3286.63,1423.18 3286.63,1423.18 3328.89,1423.18 3286.63,1423.18 \"/>\n",
       "<path clip-path=\"url(#clip142)\" d=\"M3328.89 1423.18 L3328.89 1423.18 L3371.14 1423.18 L3371.14 1423.18 L3328.89 1423.18 L3328.89 1423.18  Z\" fill=\"#009af9\" fill-rule=\"evenodd\" fill-opacity=\"1\"/>\n",
       "<polyline clip-path=\"url(#clip142)\" style=\"stroke:#000000; stroke-linecap:round; stroke-linejoin:round; stroke-width:4; stroke-opacity:1; fill:none\" points=\"3328.89,1423.18 3328.89,1423.18 3371.14,1423.18 3328.89,1423.18 \"/>\n",
       "<path clip-path=\"url(#clip142)\" d=\"M3371.14 1423.18 L3371.14 1423.18 L3413.39 1423.18 L3413.39 1423.18 L3371.14 1423.18 L3371.14 1423.18  Z\" fill=\"#009af9\" fill-rule=\"evenodd\" fill-opacity=\"1\"/>\n",
       "<polyline clip-path=\"url(#clip142)\" style=\"stroke:#000000; stroke-linecap:round; stroke-linejoin:round; stroke-width:4; stroke-opacity:1; fill:none\" points=\"3371.14,1423.18 3371.14,1423.18 3413.39,1423.18 3371.14,1423.18 \"/>\n",
       "<path clip-path=\"url(#clip142)\" d=\"M3413.39 1423.18 L3413.39 1423.18 L3455.64 1423.18 L3455.64 1423.18 L3413.39 1423.18 L3413.39 1423.18  Z\" fill=\"#009af9\" fill-rule=\"evenodd\" fill-opacity=\"1\"/>\n",
       "<polyline clip-path=\"url(#clip142)\" style=\"stroke:#000000; stroke-linecap:round; stroke-linejoin:round; stroke-width:4; stroke-opacity:1; fill:none\" points=\"3413.39,1423.18 3413.39,1423.18 3455.64,1423.18 3413.39,1423.18 \"/>\n",
       "<path clip-path=\"url(#clip142)\" d=\"M3455.64 1423.18 L3455.64 1423.18 L3497.9 1423.18 L3497.9 1423.18 L3455.64 1423.18 L3455.64 1423.18  Z\" fill=\"#009af9\" fill-rule=\"evenodd\" fill-opacity=\"1\"/>\n",
       "<polyline clip-path=\"url(#clip142)\" style=\"stroke:#000000; stroke-linecap:round; stroke-linejoin:round; stroke-width:4; stroke-opacity:1; fill:none\" points=\"3455.64,1423.18 3455.64,1423.18 3497.9,1423.18 3455.64,1423.18 \"/>\n",
       "<path clip-path=\"url(#clip142)\" d=\"M3497.9 1423.18 L3497.9 1423.18 L3540.15 1423.18 L3540.15 1423.18 L3497.9 1423.18 L3497.9 1423.18  Z\" fill=\"#009af9\" fill-rule=\"evenodd\" fill-opacity=\"1\"/>\n",
       "<polyline clip-path=\"url(#clip142)\" style=\"stroke:#000000; stroke-linecap:round; stroke-linejoin:round; stroke-width:4; stroke-opacity:1; fill:none\" points=\"3497.9,1423.18 3497.9,1423.18 3540.15,1423.18 3497.9,1423.18 \"/>\n",
       "<path clip-path=\"url(#clip142)\" d=\"M3540.15 1423.18 L3540.15 1423.18 L3582.4 1423.18 L3582.4 1423.18 L3540.15 1423.18 L3540.15 1423.18  Z\" fill=\"#009af9\" fill-rule=\"evenodd\" fill-opacity=\"1\"/>\n",
       "<polyline clip-path=\"url(#clip142)\" style=\"stroke:#000000; stroke-linecap:round; stroke-linejoin:round; stroke-width:4; stroke-opacity:1; fill:none\" points=\"3540.15,1423.18 3540.15,1423.18 3582.4,1423.18 3540.15,1423.18 \"/>\n",
       "<path clip-path=\"url(#clip142)\" d=\"M3582.4 1423.18 L3582.4 1423.18 L3624.65 1423.18 L3624.65 1423.18 L3582.4 1423.18 L3582.4 1423.18  Z\" fill=\"#009af9\" fill-rule=\"evenodd\" fill-opacity=\"1\"/>\n",
       "<polyline clip-path=\"url(#clip142)\" style=\"stroke:#000000; stroke-linecap:round; stroke-linejoin:round; stroke-width:4; stroke-opacity:1; fill:none\" points=\"3582.4,1423.18 3582.4,1423.18 3624.65,1423.18 3582.4,1423.18 \"/>\n",
       "<path clip-path=\"url(#clip142)\" d=\"M3624.65 1423.18 L3624.65 1423.18 L3666.9 1423.18 L3666.9 1423.18 L3624.65 1423.18 L3624.65 1423.18  Z\" fill=\"#009af9\" fill-rule=\"evenodd\" fill-opacity=\"1\"/>\n",
       "<polyline clip-path=\"url(#clip142)\" style=\"stroke:#000000; stroke-linecap:round; stroke-linejoin:round; stroke-width:4; stroke-opacity:1; fill:none\" points=\"3624.65,1423.18 3624.65,1423.18 3666.9,1423.18 3624.65,1423.18 \"/>\n",
       "<path clip-path=\"url(#clip142)\" d=\"M3666.9 1423.18 L3666.9 1423.18 L3709.16 1423.18 L3709.16 1423.18 L3666.9 1423.18 L3666.9 1423.18  Z\" fill=\"#009af9\" fill-rule=\"evenodd\" fill-opacity=\"1\"/>\n",
       "<polyline clip-path=\"url(#clip142)\" style=\"stroke:#000000; stroke-linecap:round; stroke-linejoin:round; stroke-width:4; stroke-opacity:1; fill:none\" points=\"3666.9,1423.18 3666.9,1423.18 3709.16,1423.18 3666.9,1423.18 \"/>\n",
       "<path clip-path=\"url(#clip142)\" d=\"M3709.16 1308.52 L3709.16 1423.18 L3751.41 1423.18 L3751.41 1308.52 L3709.16 1308.52 L3709.16 1308.52  Z\" fill=\"#009af9\" fill-rule=\"evenodd\" fill-opacity=\"1\"/>\n",
       "<polyline clip-path=\"url(#clip142)\" style=\"stroke:#000000; stroke-linecap:round; stroke-linejoin:round; stroke-width:4; stroke-opacity:1; fill:none\" points=\"3709.16,1308.52 3709.16,1423.18 3751.41,1423.18 3751.41,1308.52 3709.16,1308.52 \"/>\n",
       "<path clip-path=\"url(#clip142)\" d=\"M3751.41 1423.18 L3751.41 1423.18 L3793.66 1423.18 L3793.66 1423.18 L3751.41 1423.18 L3751.41 1423.18  Z\" fill=\"#009af9\" fill-rule=\"evenodd\" fill-opacity=\"1\"/>\n",
       "<polyline clip-path=\"url(#clip142)\" style=\"stroke:#000000; stroke-linecap:round; stroke-linejoin:round; stroke-width:4; stroke-opacity:1; fill:none\" points=\"3751.41,1423.18 3751.41,1423.18 3793.66,1423.18 3751.41,1423.18 \"/>\n",
       "<path clip-path=\"url(#clip142)\" d=\"M3793.66 1423.18 L3793.66 1423.18 L3835.91 1423.18 L3835.91 1423.18 L3793.66 1423.18 L3793.66 1423.18  Z\" fill=\"#009af9\" fill-rule=\"evenodd\" fill-opacity=\"1\"/>\n",
       "<polyline clip-path=\"url(#clip142)\" style=\"stroke:#000000; stroke-linecap:round; stroke-linejoin:round; stroke-width:4; stroke-opacity:1; fill:none\" points=\"3793.66,1423.18 3793.66,1423.18 3835.91,1423.18 3793.66,1423.18 \"/>\n",
       "<path clip-path=\"url(#clip142)\" d=\"M3835.91 1423.18 L3835.91 1423.18 L3878.16 1423.18 L3878.16 1423.18 L3835.91 1423.18 L3835.91 1423.18  Z\" fill=\"#009af9\" fill-rule=\"evenodd\" fill-opacity=\"1\"/>\n",
       "<polyline clip-path=\"url(#clip142)\" style=\"stroke:#000000; stroke-linecap:round; stroke-linejoin:round; stroke-width:4; stroke-opacity:1; fill:none\" points=\"3835.91,1423.18 3835.91,1423.18 3878.16,1423.18 3835.91,1423.18 \"/>\n",
       "<path clip-path=\"url(#clip142)\" d=\"M3878.16 1423.18 L3878.16 1423.18 L3920.42 1423.18 L3920.42 1423.18 L3878.16 1423.18 L3878.16 1423.18  Z\" fill=\"#009af9\" fill-rule=\"evenodd\" fill-opacity=\"1\"/>\n",
       "<polyline clip-path=\"url(#clip142)\" style=\"stroke:#000000; stroke-linecap:round; stroke-linejoin:round; stroke-width:4; stroke-opacity:1; fill:none\" points=\"3878.16,1423.18 3878.16,1423.18 3920.42,1423.18 3878.16,1423.18 \"/>\n",
       "<path clip-path=\"url(#clip142)\" d=\"M3920.42 1423.18 L3920.42 1423.18 L3962.67 1423.18 L3962.67 1423.18 L3920.42 1423.18 L3920.42 1423.18  Z\" fill=\"#009af9\" fill-rule=\"evenodd\" fill-opacity=\"1\"/>\n",
       "<polyline clip-path=\"url(#clip142)\" style=\"stroke:#000000; stroke-linecap:round; stroke-linejoin:round; stroke-width:4; stroke-opacity:1; fill:none\" points=\"3920.42,1423.18 3920.42,1423.18 3962.67,1423.18 3920.42,1423.18 \"/>\n",
       "<path clip-path=\"url(#clip142)\" d=\"M3962.67 1423.18 L3962.67 1423.18 L4004.92 1423.18 L4004.92 1423.18 L3962.67 1423.18 L3962.67 1423.18  Z\" fill=\"#009af9\" fill-rule=\"evenodd\" fill-opacity=\"1\"/>\n",
       "<polyline clip-path=\"url(#clip142)\" style=\"stroke:#000000; stroke-linecap:round; stroke-linejoin:round; stroke-width:4; stroke-opacity:1; fill:none\" points=\"3962.67,1423.18 3962.67,1423.18 4004.92,1423.18 3962.67,1423.18 \"/>\n",
       "<path clip-path=\"url(#clip142)\" d=\"M4004.92 1423.18 L4004.92 1423.18 L4047.17 1423.18 L4047.17 1423.18 L4004.92 1423.18 L4004.92 1423.18  Z\" fill=\"#009af9\" fill-rule=\"evenodd\" fill-opacity=\"1\"/>\n",
       "<polyline clip-path=\"url(#clip142)\" style=\"stroke:#000000; stroke-linecap:round; stroke-linejoin:round; stroke-width:4; stroke-opacity:1; fill:none\" points=\"4004.92,1423.18 4004.92,1423.18 4047.17,1423.18 4004.92,1423.18 \"/>\n",
       "<path clip-path=\"url(#clip142)\" d=\"M4047.17 1423.18 L4047.17 1423.18 L4089.43 1423.18 L4089.43 1423.18 L4047.17 1423.18 L4047.17 1423.18  Z\" fill=\"#009af9\" fill-rule=\"evenodd\" fill-opacity=\"1\"/>\n",
       "<polyline clip-path=\"url(#clip142)\" style=\"stroke:#000000; stroke-linecap:round; stroke-linejoin:round; stroke-width:4; stroke-opacity:1; fill:none\" points=\"4047.17,1423.18 4047.17,1423.18 4089.43,1423.18 4047.17,1423.18 \"/>\n",
       "<path clip-path=\"url(#clip142)\" d=\"M4089.43 1423.18 L4089.43 1423.18 L4131.68 1423.18 L4131.68 1423.18 L4089.43 1423.18 L4089.43 1423.18  Z\" fill=\"#009af9\" fill-rule=\"evenodd\" fill-opacity=\"1\"/>\n",
       "<polyline clip-path=\"url(#clip142)\" style=\"stroke:#000000; stroke-linecap:round; stroke-linejoin:round; stroke-width:4; stroke-opacity:1; fill:none\" points=\"4089.43,1423.18 4089.43,1423.18 4131.68,1423.18 4089.43,1423.18 \"/>\n",
       "<path clip-path=\"url(#clip142)\" d=\"M4131.68 1423.18 L4131.68 1423.18 L4173.93 1423.18 L4173.93 1423.18 L4131.68 1423.18 L4131.68 1423.18  Z\" fill=\"#009af9\" fill-rule=\"evenodd\" fill-opacity=\"1\"/>\n",
       "<polyline clip-path=\"url(#clip142)\" style=\"stroke:#000000; stroke-linecap:round; stroke-linejoin:round; stroke-width:4; stroke-opacity:1; fill:none\" points=\"4131.68,1423.18 4131.68,1423.18 4173.93,1423.18 4131.68,1423.18 \"/>\n",
       "<path clip-path=\"url(#clip142)\" d=\"M4173.93 1308.52 L4173.93 1423.18 L4216.18 1423.18 L4216.18 1308.52 L4173.93 1308.52 L4173.93 1308.52  Z\" fill=\"#009af9\" fill-rule=\"evenodd\" fill-opacity=\"1\"/>\n",
       "<polyline clip-path=\"url(#clip142)\" style=\"stroke:#000000; stroke-linecap:round; stroke-linejoin:round; stroke-width:4; stroke-opacity:1; fill:none\" points=\"4173.93,1308.52 4173.93,1423.18 4216.18,1423.18 4216.18,1308.52 4173.93,1308.52 \"/>\n",
       "<path clip-path=\"url(#clip142)\" d=\"M4216.18 1423.18 L4216.18 1423.18 L4258.43 1423.18 L4258.43 1423.18 L4216.18 1423.18 L4216.18 1423.18  Z\" fill=\"#009af9\" fill-rule=\"evenodd\" fill-opacity=\"1\"/>\n",
       "<polyline clip-path=\"url(#clip142)\" style=\"stroke:#000000; stroke-linecap:round; stroke-linejoin:round; stroke-width:4; stroke-opacity:1; fill:none\" points=\"4216.18,1423.18 4216.18,1423.18 4258.43,1423.18 4216.18,1423.18 \"/>\n",
       "<path clip-path=\"url(#clip142)\" d=\"M4258.43 1423.18 L4258.43 1423.18 L4300.69 1423.18 L4300.69 1423.18 L4258.43 1423.18 L4258.43 1423.18  Z\" fill=\"#009af9\" fill-rule=\"evenodd\" fill-opacity=\"1\"/>\n",
       "<polyline clip-path=\"url(#clip142)\" style=\"stroke:#000000; stroke-linecap:round; stroke-linejoin:round; stroke-width:4; stroke-opacity:1; fill:none\" points=\"4258.43,1423.18 4258.43,1423.18 4300.69,1423.18 4258.43,1423.18 \"/>\n",
       "<path clip-path=\"url(#clip142)\" d=\"M4300.69 1423.18 L4300.69 1423.18 L4342.94 1423.18 L4342.94 1423.18 L4300.69 1423.18 L4300.69 1423.18  Z\" fill=\"#009af9\" fill-rule=\"evenodd\" fill-opacity=\"1\"/>\n",
       "<polyline clip-path=\"url(#clip142)\" style=\"stroke:#000000; stroke-linecap:round; stroke-linejoin:round; stroke-width:4; stroke-opacity:1; fill:none\" points=\"4300.69,1423.18 4300.69,1423.18 4342.94,1423.18 4300.69,1423.18 \"/>\n",
       "<path clip-path=\"url(#clip142)\" d=\"M4342.94 1423.18 L4342.94 1423.18 L4385.19 1423.18 L4385.19 1423.18 L4342.94 1423.18 L4342.94 1423.18  Z\" fill=\"#009af9\" fill-rule=\"evenodd\" fill-opacity=\"1\"/>\n",
       "<polyline clip-path=\"url(#clip142)\" style=\"stroke:#000000; stroke-linecap:round; stroke-linejoin:round; stroke-width:4; stroke-opacity:1; fill:none\" points=\"4342.94,1423.18 4342.94,1423.18 4385.19,1423.18 4342.94,1423.18 \"/>\n",
       "<path clip-path=\"url(#clip142)\" d=\"M4385.19 1308.52 L4385.19 1423.18 L4427.44 1423.18 L4427.44 1308.52 L4385.19 1308.52 L4385.19 1308.52  Z\" fill=\"#009af9\" fill-rule=\"evenodd\" fill-opacity=\"1\"/>\n",
       "<polyline clip-path=\"url(#clip142)\" style=\"stroke:#000000; stroke-linecap:round; stroke-linejoin:round; stroke-width:4; stroke-opacity:1; fill:none\" points=\"4385.19,1308.52 4385.19,1423.18 4427.44,1423.18 4427.44,1308.52 4385.19,1308.52 \"/>\n",
       "<path clip-path=\"url(#clip142)\" d=\"M4427.44 1423.18 L4427.44 1423.18 L4469.69 1423.18 L4469.69 1423.18 L4427.44 1423.18 L4427.44 1423.18  Z\" fill=\"#009af9\" fill-rule=\"evenodd\" fill-opacity=\"1\"/>\n",
       "<polyline clip-path=\"url(#clip142)\" style=\"stroke:#000000; stroke-linecap:round; stroke-linejoin:round; stroke-width:4; stroke-opacity:1; fill:none\" points=\"4427.44,1423.18 4427.44,1423.18 4469.69,1423.18 4427.44,1423.18 \"/>\n",
       "<path clip-path=\"url(#clip142)\" d=\"M4469.69 1308.52 L4469.69 1423.18 L4511.95 1423.18 L4511.95 1308.52 L4469.69 1308.52 L4469.69 1308.52  Z\" fill=\"#009af9\" fill-rule=\"evenodd\" fill-opacity=\"1\"/>\n",
       "<polyline clip-path=\"url(#clip142)\" style=\"stroke:#000000; stroke-linecap:round; stroke-linejoin:round; stroke-width:4; stroke-opacity:1; fill:none\" points=\"4469.69,1308.52 4469.69,1423.18 4511.95,1423.18 4511.95,1308.52 4469.69,1308.52 \"/>\n",
       "<path clip-path=\"url(#clip142)\" d=\"M4511.95 1308.52 L4511.95 1423.18 L4554.2 1423.18 L4554.2 1308.52 L4511.95 1308.52 L4511.95 1308.52  Z\" fill=\"#009af9\" fill-rule=\"evenodd\" fill-opacity=\"1\"/>\n",
       "<polyline clip-path=\"url(#clip142)\" style=\"stroke:#000000; stroke-linecap:round; stroke-linejoin:round; stroke-width:4; stroke-opacity:1; fill:none\" points=\"4511.95,1308.52 4511.95,1423.18 4554.2,1423.18 4554.2,1308.52 4511.95,1308.52 \"/>\n",
       "<path clip-path=\"url(#clip142)\" d=\"M4554.2 1193.86 L4554.2 1423.18 L4596.45 1423.18 L4596.45 1193.86 L4554.2 1193.86 L4554.2 1193.86  Z\" fill=\"#009af9\" fill-rule=\"evenodd\" fill-opacity=\"1\"/>\n",
       "<polyline clip-path=\"url(#clip142)\" style=\"stroke:#000000; stroke-linecap:round; stroke-linejoin:round; stroke-width:4; stroke-opacity:1; fill:none\" points=\"4554.2,1193.86 4554.2,1423.18 4596.45,1423.18 4596.45,1193.86 4554.2,1193.86 \"/>\n",
       "<path clip-path=\"url(#clip142)\" d=\"M4596.45 1423.18 L4596.45 1423.18 L4638.7 1423.18 L4638.7 1423.18 L4596.45 1423.18 L4596.45 1423.18  Z\" fill=\"#009af9\" fill-rule=\"evenodd\" fill-opacity=\"1\"/>\n",
       "<polyline clip-path=\"url(#clip142)\" style=\"stroke:#000000; stroke-linecap:round; stroke-linejoin:round; stroke-width:4; stroke-opacity:1; fill:none\" points=\"4596.45,1423.18 4596.45,1423.18 4638.7,1423.18 4596.45,1423.18 \"/>\n",
       "<path clip-path=\"url(#clip142)\" d=\"M4638.7 1193.86 L4638.7 1423.18 L4680.96 1423.18 L4680.96 1193.86 L4638.7 1193.86 L4638.7 1193.86  Z\" fill=\"#009af9\" fill-rule=\"evenodd\" fill-opacity=\"1\"/>\n",
       "<polyline clip-path=\"url(#clip142)\" style=\"stroke:#000000; stroke-linecap:round; stroke-linejoin:round; stroke-width:4; stroke-opacity:1; fill:none\" points=\"4638.7,1193.86 4638.7,1423.18 4680.96,1423.18 4680.96,1193.86 4638.7,1193.86 \"/>\n",
       "<path clip-path=\"url(#clip142)\" d=\"M4680.96 1308.52 L4680.96 1423.18 L4723.21 1423.18 L4723.21 1308.52 L4680.96 1308.52 L4680.96 1308.52  Z\" fill=\"#009af9\" fill-rule=\"evenodd\" fill-opacity=\"1\"/>\n",
       "<polyline clip-path=\"url(#clip142)\" style=\"stroke:#000000; stroke-linecap:round; stroke-linejoin:round; stroke-width:4; stroke-opacity:1; fill:none\" points=\"4680.96,1308.52 4680.96,1423.18 4723.21,1423.18 4723.21,1308.52 4680.96,1308.52 \"/>\n",
       "<path clip-path=\"url(#clip142)\" d=\"M4723.21 1423.18 L4723.21 1423.18 L4765.46 1423.18 L4765.46 1423.18 L4723.21 1423.18 L4723.21 1423.18  Z\" fill=\"#009af9\" fill-rule=\"evenodd\" fill-opacity=\"1\"/>\n",
       "<polyline clip-path=\"url(#clip142)\" style=\"stroke:#000000; stroke-linecap:round; stroke-linejoin:round; stroke-width:4; stroke-opacity:1; fill:none\" points=\"4723.21,1423.18 4723.21,1423.18 4765.46,1423.18 4723.21,1423.18 \"/>\n",
       "<path clip-path=\"url(#clip142)\" d=\"M4765.46 849.873 L4765.46 1423.18 L4807.71 1423.18 L4807.71 849.873 L4765.46 849.873 L4765.46 849.873  Z\" fill=\"#009af9\" fill-rule=\"evenodd\" fill-opacity=\"1\"/>\n",
       "<polyline clip-path=\"url(#clip142)\" style=\"stroke:#000000; stroke-linecap:round; stroke-linejoin:round; stroke-width:4; stroke-opacity:1; fill:none\" points=\"4765.46,849.873 4765.46,1423.18 4807.71,1423.18 4807.71,849.873 4765.46,849.873 \"/>\n",
       "<path clip-path=\"url(#clip142)\" d=\"M4807.71 1193.86 L4807.71 1423.18 L4849.96 1423.18 L4849.96 1193.86 L4807.71 1193.86 L4807.71 1193.86  Z\" fill=\"#009af9\" fill-rule=\"evenodd\" fill-opacity=\"1\"/>\n",
       "<polyline clip-path=\"url(#clip142)\" style=\"stroke:#000000; stroke-linecap:round; stroke-linejoin:round; stroke-width:4; stroke-opacity:1; fill:none\" points=\"4807.71,1193.86 4807.71,1423.18 4849.96,1423.18 4849.96,1193.86 4807.71,1193.86 \"/>\n",
       "<path clip-path=\"url(#clip142)\" d=\"M4849.96 964.535 L4849.96 1423.18 L4892.22 1423.18 L4892.22 964.535 L4849.96 964.535 L4849.96 964.535  Z\" fill=\"#009af9\" fill-rule=\"evenodd\" fill-opacity=\"1\"/>\n",
       "<polyline clip-path=\"url(#clip142)\" style=\"stroke:#000000; stroke-linecap:round; stroke-linejoin:round; stroke-width:4; stroke-opacity:1; fill:none\" points=\"4849.96,964.535 4849.96,1423.18 4892.22,1423.18 4892.22,964.535 4849.96,964.535 \"/>\n",
       "<path clip-path=\"url(#clip142)\" d=\"M4892.22 1079.2 L4892.22 1423.18 L4934.47 1423.18 L4934.47 1079.2 L4892.22 1079.2 L4892.22 1079.2  Z\" fill=\"#009af9\" fill-rule=\"evenodd\" fill-opacity=\"1\"/>\n",
       "<polyline clip-path=\"url(#clip142)\" style=\"stroke:#000000; stroke-linecap:round; stroke-linejoin:round; stroke-width:4; stroke-opacity:1; fill:none\" points=\"4892.22,1079.2 4892.22,1423.18 4934.47,1423.18 4934.47,1079.2 4892.22,1079.2 \"/>\n",
       "<path clip-path=\"url(#clip142)\" d=\"M4934.47 1193.86 L4934.47 1423.18 L4976.72 1423.18 L4976.72 1193.86 L4934.47 1193.86 L4934.47 1193.86  Z\" fill=\"#009af9\" fill-rule=\"evenodd\" fill-opacity=\"1\"/>\n",
       "<polyline clip-path=\"url(#clip142)\" style=\"stroke:#000000; stroke-linecap:round; stroke-linejoin:round; stroke-width:4; stroke-opacity:1; fill:none\" points=\"4934.47,1193.86 4934.47,1423.18 4976.72,1423.18 4976.72,1193.86 4934.47,1193.86 \"/>\n",
       "<path clip-path=\"url(#clip142)\" d=\"M4976.72 1193.86 L4976.72 1423.18 L5018.97 1423.18 L5018.97 1193.86 L4976.72 1193.86 L4976.72 1193.86  Z\" fill=\"#009af9\" fill-rule=\"evenodd\" fill-opacity=\"1\"/>\n",
       "<polyline clip-path=\"url(#clip142)\" style=\"stroke:#000000; stroke-linecap:round; stroke-linejoin:round; stroke-width:4; stroke-opacity:1; fill:none\" points=\"4976.72,1193.86 4976.72,1423.18 5018.97,1423.18 5018.97,1193.86 4976.72,1193.86 \"/>\n",
       "<path clip-path=\"url(#clip142)\" d=\"M5018.97 849.873 L5018.97 1423.18 L5061.22 1423.18 L5061.22 849.873 L5018.97 849.873 L5018.97 849.873  Z\" fill=\"#009af9\" fill-rule=\"evenodd\" fill-opacity=\"1\"/>\n",
       "<polyline clip-path=\"url(#clip142)\" style=\"stroke:#000000; stroke-linecap:round; stroke-linejoin:round; stroke-width:4; stroke-opacity:1; fill:none\" points=\"5018.97,849.873 5018.97,1423.18 5061.22,1423.18 5061.22,849.873 5018.97,849.873 \"/>\n",
       "<path clip-path=\"url(#clip142)\" d=\"M5061.22 1079.2 L5061.22 1423.18 L5103.48 1423.18 L5103.48 1079.2 L5061.22 1079.2 L5061.22 1079.2  Z\" fill=\"#009af9\" fill-rule=\"evenodd\" fill-opacity=\"1\"/>\n",
       "<polyline clip-path=\"url(#clip142)\" style=\"stroke:#000000; stroke-linecap:round; stroke-linejoin:round; stroke-width:4; stroke-opacity:1; fill:none\" points=\"5061.22,1079.2 5061.22,1423.18 5103.48,1423.18 5103.48,1079.2 5061.22,1079.2 \"/>\n",
       "<path clip-path=\"url(#clip142)\" d=\"M5103.48 620.551 L5103.48 1423.18 L5145.73 1423.18 L5145.73 620.551 L5103.48 620.551 L5103.48 620.551  Z\" fill=\"#009af9\" fill-rule=\"evenodd\" fill-opacity=\"1\"/>\n",
       "<polyline clip-path=\"url(#clip142)\" style=\"stroke:#000000; stroke-linecap:round; stroke-linejoin:round; stroke-width:4; stroke-opacity:1; fill:none\" points=\"5103.48,620.551 5103.48,1423.18 5145.73,1423.18 5145.73,620.551 5103.48,620.551 \"/>\n",
       "<path clip-path=\"url(#clip142)\" d=\"M5145.73 964.535 L5145.73 1423.18 L5187.98 1423.18 L5187.98 964.535 L5145.73 964.535 L5145.73 964.535  Z\" fill=\"#009af9\" fill-rule=\"evenodd\" fill-opacity=\"1\"/>\n",
       "<polyline clip-path=\"url(#clip142)\" style=\"stroke:#000000; stroke-linecap:round; stroke-linejoin:round; stroke-width:4; stroke-opacity:1; fill:none\" points=\"5145.73,964.535 5145.73,1423.18 5187.98,1423.18 5187.98,964.535 5145.73,964.535 \"/>\n",
       "<path clip-path=\"url(#clip142)\" d=\"M5187.98 1193.86 L5187.98 1423.18 L5230.23 1423.18 L5230.23 1193.86 L5187.98 1193.86 L5187.98 1193.86  Z\" fill=\"#009af9\" fill-rule=\"evenodd\" fill-opacity=\"1\"/>\n",
       "<polyline clip-path=\"url(#clip142)\" style=\"stroke:#000000; stroke-linecap:round; stroke-linejoin:round; stroke-width:4; stroke-opacity:1; fill:none\" points=\"5187.98,1193.86 5187.98,1423.18 5230.23,1423.18 5230.23,1193.86 5187.98,1193.86 \"/>\n",
       "<path clip-path=\"url(#clip142)\" d=\"M5230.23 47.2441 L5230.23 1423.18 L5272.49 1423.18 L5272.49 47.2441 L5230.23 47.2441 L5230.23 47.2441  Z\" fill=\"#009af9\" fill-rule=\"evenodd\" fill-opacity=\"1\"/>\n",
       "<polyline clip-path=\"url(#clip142)\" style=\"stroke:#000000; stroke-linecap:round; stroke-linejoin:round; stroke-width:4; stroke-opacity:1; fill:none\" points=\"5230.23,47.2441 5230.23,1423.18 5272.49,1423.18 5272.49,47.2441 5230.23,47.2441 \"/>\n",
       "<path clip-path=\"url(#clip142)\" d=\"M5272.49 849.873 L5272.49 1423.18 L5314.74 1423.18 L5314.74 849.873 L5272.49 849.873 L5272.49 849.873  Z\" fill=\"#009af9\" fill-rule=\"evenodd\" fill-opacity=\"1\"/>\n",
       "<polyline clip-path=\"url(#clip142)\" style=\"stroke:#000000; stroke-linecap:round; stroke-linejoin:round; stroke-width:4; stroke-opacity:1; fill:none\" points=\"5272.49,849.873 5272.49,1423.18 5314.74,1423.18 5314.74,849.873 5272.49,849.873 \"/>\n",
       "<path clip-path=\"url(#clip142)\" d=\"M5314.74 620.551 L5314.74 1423.18 L5356.99 1423.18 L5356.99 620.551 L5314.74 620.551 L5314.74 620.551  Z\" fill=\"#009af9\" fill-rule=\"evenodd\" fill-opacity=\"1\"/>\n",
       "<polyline clip-path=\"url(#clip142)\" style=\"stroke:#000000; stroke-linecap:round; stroke-linejoin:round; stroke-width:4; stroke-opacity:1; fill:none\" points=\"5314.74,620.551 5314.74,1423.18 5356.99,1423.18 5356.99,620.551 5314.74,620.551 \"/>\n",
       "<path clip-path=\"url(#clip142)\" d=\"M5356.99 849.873 L5356.99 1423.18 L5399.24 1423.18 L5399.24 849.873 L5356.99 849.873 L5356.99 849.873  Z\" fill=\"#009af9\" fill-rule=\"evenodd\" fill-opacity=\"1\"/>\n",
       "<polyline clip-path=\"url(#clip142)\" style=\"stroke:#000000; stroke-linecap:round; stroke-linejoin:round; stroke-width:4; stroke-opacity:1; fill:none\" points=\"5356.99,849.873 5356.99,1423.18 5399.24,1423.18 5399.24,849.873 5356.99,849.873 \"/>\n",
       "<path clip-path=\"url(#clip142)\" d=\"M5399.24 505.889 L5399.24 1423.18 L5441.49 1423.18 L5441.49 505.889 L5399.24 505.889 L5399.24 505.889  Z\" fill=\"#009af9\" fill-rule=\"evenodd\" fill-opacity=\"1\"/>\n",
       "<polyline clip-path=\"url(#clip142)\" style=\"stroke:#000000; stroke-linecap:round; stroke-linejoin:round; stroke-width:4; stroke-opacity:1; fill:none\" points=\"5399.24,505.889 5399.24,1423.18 5441.49,1423.18 5441.49,505.889 5399.24,505.889 \"/>\n",
       "<path clip-path=\"url(#clip142)\" d=\"M5441.49 735.212 L5441.49 1423.18 L5483.75 1423.18 L5483.75 735.212 L5441.49 735.212 L5441.49 735.212  Z\" fill=\"#009af9\" fill-rule=\"evenodd\" fill-opacity=\"1\"/>\n",
       "<polyline clip-path=\"url(#clip142)\" style=\"stroke:#000000; stroke-linecap:round; stroke-linejoin:round; stroke-width:4; stroke-opacity:1; fill:none\" points=\"5441.49,735.212 5441.49,1423.18 5483.75,1423.18 5483.75,735.212 5441.49,735.212 \"/>\n",
       "<path clip-path=\"url(#clip142)\" d=\"M5483.75 276.567 L5483.75 1423.18 L5526 1423.18 L5526 276.567 L5483.75 276.567 L5483.75 276.567  Z\" fill=\"#009af9\" fill-rule=\"evenodd\" fill-opacity=\"1\"/>\n",
       "<polyline clip-path=\"url(#clip142)\" style=\"stroke:#000000; stroke-linecap:round; stroke-linejoin:round; stroke-width:4; stroke-opacity:1; fill:none\" points=\"5483.75,276.567 5483.75,1423.18 5526,1423.18 5526,276.567 5483.75,276.567 \"/>\n",
       "<path clip-path=\"url(#clip142)\" d=\"M5526 1079.2 L5526 1423.18 L5568.25 1423.18 L5568.25 1079.2 L5526 1079.2 L5526 1079.2  Z\" fill=\"#009af9\" fill-rule=\"evenodd\" fill-opacity=\"1\"/>\n",
       "<polyline clip-path=\"url(#clip142)\" style=\"stroke:#000000; stroke-linecap:round; stroke-linejoin:round; stroke-width:4; stroke-opacity:1; fill:none\" points=\"5526,1079.2 5526,1423.18 5568.25,1423.18 5568.25,1079.2 5526,1079.2 \"/>\n",
       "<path clip-path=\"url(#clip142)\" d=\"M5568.25 849.873 L5568.25 1423.18 L5610.5 1423.18 L5610.5 849.873 L5568.25 849.873 L5568.25 849.873  Z\" fill=\"#009af9\" fill-rule=\"evenodd\" fill-opacity=\"1\"/>\n",
       "<polyline clip-path=\"url(#clip142)\" style=\"stroke:#000000; stroke-linecap:round; stroke-linejoin:round; stroke-width:4; stroke-opacity:1; fill:none\" points=\"5568.25,849.873 5568.25,1423.18 5610.5,1423.18 5610.5,849.873 5568.25,849.873 \"/>\n",
       "<path clip-path=\"url(#clip142)\" d=\"M5610.5 391.228 L5610.5 1423.18 L5652.75 1423.18 L5652.75 391.228 L5610.5 391.228 L5610.5 391.228  Z\" fill=\"#009af9\" fill-rule=\"evenodd\" fill-opacity=\"1\"/>\n",
       "<polyline clip-path=\"url(#clip142)\" style=\"stroke:#000000; stroke-linecap:round; stroke-linejoin:round; stroke-width:4; stroke-opacity:1; fill:none\" points=\"5610.5,391.228 5610.5,1423.18 5652.75,1423.18 5652.75,391.228 5610.5,391.228 \"/>\n",
       "<path clip-path=\"url(#clip142)\" d=\"M5652.75 964.535 L5652.75 1423.18 L5695.01 1423.18 L5695.01 964.535 L5652.75 964.535 L5652.75 964.535  Z\" fill=\"#009af9\" fill-rule=\"evenodd\" fill-opacity=\"1\"/>\n",
       "<polyline clip-path=\"url(#clip142)\" style=\"stroke:#000000; stroke-linecap:round; stroke-linejoin:round; stroke-width:4; stroke-opacity:1; fill:none\" points=\"5652.75,964.535 5652.75,1423.18 5695.01,1423.18 5695.01,964.535 5652.75,964.535 \"/>\n",
       "<path clip-path=\"url(#clip142)\" d=\"M5695.01 505.889 L5695.01 1423.18 L5737.26 1423.18 L5737.26 505.889 L5695.01 505.889 L5695.01 505.889  Z\" fill=\"#009af9\" fill-rule=\"evenodd\" fill-opacity=\"1\"/>\n",
       "<polyline clip-path=\"url(#clip142)\" style=\"stroke:#000000; stroke-linecap:round; stroke-linejoin:round; stroke-width:4; stroke-opacity:1; fill:none\" points=\"5695.01,505.889 5695.01,1423.18 5737.26,1423.18 5737.26,505.889 5695.01,505.889 \"/>\n",
       "<path clip-path=\"url(#clip142)\" d=\"M5737.26 505.889 L5737.26 1423.18 L5779.51 1423.18 L5779.51 505.889 L5737.26 505.889 L5737.26 505.889  Z\" fill=\"#009af9\" fill-rule=\"evenodd\" fill-opacity=\"1\"/>\n",
       "<polyline clip-path=\"url(#clip142)\" style=\"stroke:#000000; stroke-linecap:round; stroke-linejoin:round; stroke-width:4; stroke-opacity:1; fill:none\" points=\"5737.26,505.889 5737.26,1423.18 5779.51,1423.18 5779.51,505.889 5737.26,505.889 \"/>\n",
       "<path clip-path=\"url(#clip142)\" d=\"M5779.51 964.535 L5779.51 1423.18 L5821.76 1423.18 L5821.76 964.535 L5779.51 964.535 L5779.51 964.535  Z\" fill=\"#009af9\" fill-rule=\"evenodd\" fill-opacity=\"1\"/>\n",
       "<polyline clip-path=\"url(#clip142)\" style=\"stroke:#000000; stroke-linecap:round; stroke-linejoin:round; stroke-width:4; stroke-opacity:1; fill:none\" points=\"5779.51,964.535 5779.51,1423.18 5821.76,1423.18 5821.76,964.535 5779.51,964.535 \"/>\n",
       "<path clip-path=\"url(#clip142)\" d=\"M5821.76 849.873 L5821.76 1423.18 L5864.02 1423.18 L5864.02 849.873 L5821.76 849.873 L5821.76 849.873  Z\" fill=\"#009af9\" fill-rule=\"evenodd\" fill-opacity=\"1\"/>\n",
       "<polyline clip-path=\"url(#clip142)\" style=\"stroke:#000000; stroke-linecap:round; stroke-linejoin:round; stroke-width:4; stroke-opacity:1; fill:none\" points=\"5821.76,849.873 5821.76,1423.18 5864.02,1423.18 5864.02,849.873 5821.76,849.873 \"/>\n",
       "<path clip-path=\"url(#clip142)\" d=\"M5864.02 1079.2 L5864.02 1423.18 L5906.27 1423.18 L5906.27 1079.2 L5864.02 1079.2 L5864.02 1079.2  Z\" fill=\"#009af9\" fill-rule=\"evenodd\" fill-opacity=\"1\"/>\n",
       "<polyline clip-path=\"url(#clip142)\" style=\"stroke:#000000; stroke-linecap:round; stroke-linejoin:round; stroke-width:4; stroke-opacity:1; fill:none\" points=\"5864.02,1079.2 5864.02,1423.18 5906.27,1423.18 5906.27,1079.2 5864.02,1079.2 \"/>\n",
       "<path clip-path=\"url(#clip142)\" d=\"M5906.27 735.212 L5906.27 1423.18 L5948.52 1423.18 L5948.52 735.212 L5906.27 735.212 L5906.27 735.212  Z\" fill=\"#009af9\" fill-rule=\"evenodd\" fill-opacity=\"1\"/>\n",
       "<polyline clip-path=\"url(#clip142)\" style=\"stroke:#000000; stroke-linecap:round; stroke-linejoin:round; stroke-width:4; stroke-opacity:1; fill:none\" points=\"5906.27,735.212 5906.27,1423.18 5948.52,1423.18 5948.52,735.212 5906.27,735.212 \"/>\n",
       "<path clip-path=\"url(#clip142)\" d=\"M5948.52 276.567 L5948.52 1423.18 L5990.77 1423.18 L5990.77 276.567 L5948.52 276.567 L5948.52 276.567  Z\" fill=\"#009af9\" fill-rule=\"evenodd\" fill-opacity=\"1\"/>\n",
       "<polyline clip-path=\"url(#clip142)\" style=\"stroke:#000000; stroke-linecap:round; stroke-linejoin:round; stroke-width:4; stroke-opacity:1; fill:none\" points=\"5948.52,276.567 5948.52,1423.18 5990.77,1423.18 5990.77,276.567 5948.52,276.567 \"/>\n",
       "<path clip-path=\"url(#clip142)\" d=\"M5990.77 1079.2 L5990.77 1423.18 L6033.02 1423.18 L6033.02 1079.2 L5990.77 1079.2 L5990.77 1079.2  Z\" fill=\"#009af9\" fill-rule=\"evenodd\" fill-opacity=\"1\"/>\n",
       "<polyline clip-path=\"url(#clip142)\" style=\"stroke:#000000; stroke-linecap:round; stroke-linejoin:round; stroke-width:4; stroke-opacity:1; fill:none\" points=\"5990.77,1079.2 5990.77,1423.18 6033.02,1423.18 6033.02,1079.2 5990.77,1079.2 \"/>\n",
       "<path clip-path=\"url(#clip142)\" d=\"M6033.02 1079.2 L6033.02 1423.18 L6075.28 1423.18 L6075.28 1079.2 L6033.02 1079.2 L6033.02 1079.2  Z\" fill=\"#009af9\" fill-rule=\"evenodd\" fill-opacity=\"1\"/>\n",
       "<polyline clip-path=\"url(#clip142)\" style=\"stroke:#000000; stroke-linecap:round; stroke-linejoin:round; stroke-width:4; stroke-opacity:1; fill:none\" points=\"6033.02,1079.2 6033.02,1423.18 6075.28,1423.18 6075.28,1079.2 6033.02,1079.2 \"/>\n",
       "<path clip-path=\"url(#clip142)\" d=\"M6075.28 735.212 L6075.28 1423.18 L6117.53 1423.18 L6117.53 735.212 L6075.28 735.212 L6075.28 735.212  Z\" fill=\"#009af9\" fill-rule=\"evenodd\" fill-opacity=\"1\"/>\n",
       "<polyline clip-path=\"url(#clip142)\" style=\"stroke:#000000; stroke-linecap:round; stroke-linejoin:round; stroke-width:4; stroke-opacity:1; fill:none\" points=\"6075.28,735.212 6075.28,1423.18 6117.53,1423.18 6117.53,735.212 6075.28,735.212 \"/>\n",
       "<path clip-path=\"url(#clip142)\" d=\"M6117.53 620.551 L6117.53 1423.18 L6159.78 1423.18 L6159.78 620.551 L6117.53 620.551 L6117.53 620.551  Z\" fill=\"#009af9\" fill-rule=\"evenodd\" fill-opacity=\"1\"/>\n",
       "<polyline clip-path=\"url(#clip142)\" style=\"stroke:#000000; stroke-linecap:round; stroke-linejoin:round; stroke-width:4; stroke-opacity:1; fill:none\" points=\"6117.53,620.551 6117.53,1423.18 6159.78,1423.18 6159.78,620.551 6117.53,620.551 \"/>\n",
       "<path clip-path=\"url(#clip142)\" d=\"M6159.78 735.212 L6159.78 1423.18 L6202.03 1423.18 L6202.03 735.212 L6159.78 735.212 L6159.78 735.212  Z\" fill=\"#009af9\" fill-rule=\"evenodd\" fill-opacity=\"1\"/>\n",
       "<polyline clip-path=\"url(#clip142)\" style=\"stroke:#000000; stroke-linecap:round; stroke-linejoin:round; stroke-width:4; stroke-opacity:1; fill:none\" points=\"6159.78,735.212 6159.78,1423.18 6202.03,1423.18 6202.03,735.212 6159.78,735.212 \"/>\n",
       "<path clip-path=\"url(#clip142)\" d=\"M6202.03 1193.86 L6202.03 1423.18 L6244.28 1423.18 L6244.28 1193.86 L6202.03 1193.86 L6202.03 1193.86  Z\" fill=\"#009af9\" fill-rule=\"evenodd\" fill-opacity=\"1\"/>\n",
       "<polyline clip-path=\"url(#clip142)\" style=\"stroke:#000000; stroke-linecap:round; stroke-linejoin:round; stroke-width:4; stroke-opacity:1; fill:none\" points=\"6202.03,1193.86 6202.03,1423.18 6244.28,1423.18 6244.28,1193.86 6202.03,1193.86 \"/>\n",
       "<path clip-path=\"url(#clip142)\" d=\"M6244.28 735.212 L6244.28 1423.18 L6286.54 1423.18 L6286.54 735.212 L6244.28 735.212 L6244.28 735.212  Z\" fill=\"#009af9\" fill-rule=\"evenodd\" fill-opacity=\"1\"/>\n",
       "<polyline clip-path=\"url(#clip142)\" style=\"stroke:#000000; stroke-linecap:round; stroke-linejoin:round; stroke-width:4; stroke-opacity:1; fill:none\" points=\"6244.28,735.212 6244.28,1423.18 6286.54,1423.18 6286.54,735.212 6244.28,735.212 \"/>\n",
       "<path clip-path=\"url(#clip142)\" d=\"M6286.54 1308.52 L6286.54 1423.18 L6328.79 1423.18 L6328.79 1308.52 L6286.54 1308.52 L6286.54 1308.52  Z\" fill=\"#009af9\" fill-rule=\"evenodd\" fill-opacity=\"1\"/>\n",
       "<polyline clip-path=\"url(#clip142)\" style=\"stroke:#000000; stroke-linecap:round; stroke-linejoin:round; stroke-width:4; stroke-opacity:1; fill:none\" points=\"6286.54,1308.52 6286.54,1423.18 6328.79,1423.18 6328.79,1308.52 6286.54,1308.52 \"/>\n",
       "<path clip-path=\"url(#clip142)\" d=\"M6328.79 1308.52 L6328.79 1423.18 L6371.04 1423.18 L6371.04 1308.52 L6328.79 1308.52 L6328.79 1308.52  Z\" fill=\"#009af9\" fill-rule=\"evenodd\" fill-opacity=\"1\"/>\n",
       "<polyline clip-path=\"url(#clip142)\" style=\"stroke:#000000; stroke-linecap:round; stroke-linejoin:round; stroke-width:4; stroke-opacity:1; fill:none\" points=\"6328.79,1308.52 6328.79,1423.18 6371.04,1423.18 6371.04,1308.52 6328.79,1308.52 \"/>\n",
       "<path clip-path=\"url(#clip142)\" d=\"M6371.04 620.551 L6371.04 1423.18 L6413.29 1423.18 L6413.29 620.551 L6371.04 620.551 L6371.04 620.551  Z\" fill=\"#009af9\" fill-rule=\"evenodd\" fill-opacity=\"1\"/>\n",
       "<polyline clip-path=\"url(#clip142)\" style=\"stroke:#000000; stroke-linecap:round; stroke-linejoin:round; stroke-width:4; stroke-opacity:1; fill:none\" points=\"6371.04,620.551 6371.04,1423.18 6413.29,1423.18 6413.29,620.551 6371.04,620.551 \"/>\n",
       "<path clip-path=\"url(#clip142)\" d=\"M6413.29 1193.86 L6413.29 1423.18 L6455.55 1423.18 L6455.55 1193.86 L6413.29 1193.86 L6413.29 1193.86  Z\" fill=\"#009af9\" fill-rule=\"evenodd\" fill-opacity=\"1\"/>\n",
       "<polyline clip-path=\"url(#clip142)\" style=\"stroke:#000000; stroke-linecap:round; stroke-linejoin:round; stroke-width:4; stroke-opacity:1; fill:none\" points=\"6413.29,1193.86 6413.29,1423.18 6455.55,1423.18 6455.55,1193.86 6413.29,1193.86 \"/>\n",
       "<path clip-path=\"url(#clip142)\" d=\"M6455.55 620.551 L6455.55 1423.18 L6497.8 1423.18 L6497.8 620.551 L6455.55 620.551 L6455.55 620.551  Z\" fill=\"#009af9\" fill-rule=\"evenodd\" fill-opacity=\"1\"/>\n",
       "<polyline clip-path=\"url(#clip142)\" style=\"stroke:#000000; stroke-linecap:round; stroke-linejoin:round; stroke-width:4; stroke-opacity:1; fill:none\" points=\"6455.55,620.551 6455.55,1423.18 6497.8,1423.18 6497.8,620.551 6455.55,620.551 \"/>\n",
       "<path clip-path=\"url(#clip142)\" d=\"M6497.8 849.873 L6497.8 1423.18 L6540.05 1423.18 L6540.05 849.873 L6497.8 849.873 L6497.8 849.873  Z\" fill=\"#009af9\" fill-rule=\"evenodd\" fill-opacity=\"1\"/>\n",
       "<polyline clip-path=\"url(#clip142)\" style=\"stroke:#000000; stroke-linecap:round; stroke-linejoin:round; stroke-width:4; stroke-opacity:1; fill:none\" points=\"6497.8,849.873 6497.8,1423.18 6540.05,1423.18 6540.05,849.873 6497.8,849.873 \"/>\n",
       "<path clip-path=\"url(#clip142)\" d=\"M6540.05 964.535 L6540.05 1423.18 L6582.3 1423.18 L6582.3 964.535 L6540.05 964.535 L6540.05 964.535  Z\" fill=\"#009af9\" fill-rule=\"evenodd\" fill-opacity=\"1\"/>\n",
       "<polyline clip-path=\"url(#clip142)\" style=\"stroke:#000000; stroke-linecap:round; stroke-linejoin:round; stroke-width:4; stroke-opacity:1; fill:none\" points=\"6540.05,964.535 6540.05,1423.18 6582.3,1423.18 6582.3,964.535 6540.05,964.535 \"/>\n",
       "<path clip-path=\"url(#clip142)\" d=\"M6582.3 964.535 L6582.3 1423.18 L6624.55 1423.18 L6624.55 964.535 L6582.3 964.535 L6582.3 964.535  Z\" fill=\"#009af9\" fill-rule=\"evenodd\" fill-opacity=\"1\"/>\n",
       "<polyline clip-path=\"url(#clip142)\" style=\"stroke:#000000; stroke-linecap:round; stroke-linejoin:round; stroke-width:4; stroke-opacity:1; fill:none\" points=\"6582.3,964.535 6582.3,1423.18 6624.55,1423.18 6624.55,964.535 6582.3,964.535 \"/>\n",
       "<path clip-path=\"url(#clip142)\" d=\"M6624.55 1079.2 L6624.55 1423.18 L6666.81 1423.18 L6666.81 1079.2 L6624.55 1079.2 L6624.55 1079.2  Z\" fill=\"#009af9\" fill-rule=\"evenodd\" fill-opacity=\"1\"/>\n",
       "<polyline clip-path=\"url(#clip142)\" style=\"stroke:#000000; stroke-linecap:round; stroke-linejoin:round; stroke-width:4; stroke-opacity:1; fill:none\" points=\"6624.55,1079.2 6624.55,1423.18 6666.81,1423.18 6666.81,1079.2 6624.55,1079.2 \"/>\n",
       "<path clip-path=\"url(#clip142)\" d=\"M6666.81 1308.52 L6666.81 1423.18 L6709.06 1423.18 L6709.06 1308.52 L6666.81 1308.52 L6666.81 1308.52  Z\" fill=\"#009af9\" fill-rule=\"evenodd\" fill-opacity=\"1\"/>\n",
       "<polyline clip-path=\"url(#clip142)\" style=\"stroke:#000000; stroke-linecap:round; stroke-linejoin:round; stroke-width:4; stroke-opacity:1; fill:none\" points=\"6666.81,1308.52 6666.81,1423.18 6709.06,1423.18 6709.06,1308.52 6666.81,1308.52 \"/>\n",
       "<path clip-path=\"url(#clip142)\" d=\"M6709.06 1308.52 L6709.06 1423.18 L6751.31 1423.18 L6751.31 1308.52 L6709.06 1308.52 L6709.06 1308.52  Z\" fill=\"#009af9\" fill-rule=\"evenodd\" fill-opacity=\"1\"/>\n",
       "<polyline clip-path=\"url(#clip142)\" style=\"stroke:#000000; stroke-linecap:round; stroke-linejoin:round; stroke-width:4; stroke-opacity:1; fill:none\" points=\"6709.06,1308.52 6709.06,1423.18 6751.31,1423.18 6751.31,1308.52 6709.06,1308.52 \"/>\n",
       "<path clip-path=\"url(#clip142)\" d=\"M6751.31 1308.52 L6751.31 1423.18 L6793.56 1423.18 L6793.56 1308.52 L6751.31 1308.52 L6751.31 1308.52  Z\" fill=\"#009af9\" fill-rule=\"evenodd\" fill-opacity=\"1\"/>\n",
       "<polyline clip-path=\"url(#clip142)\" style=\"stroke:#000000; stroke-linecap:round; stroke-linejoin:round; stroke-width:4; stroke-opacity:1; fill:none\" points=\"6751.31,1308.52 6751.31,1423.18 6793.56,1423.18 6793.56,1308.52 6751.31,1308.52 \"/>\n",
       "<path clip-path=\"url(#clip142)\" d=\"M6793.56 964.535 L6793.56 1423.18 L6835.81 1423.18 L6835.81 964.535 L6793.56 964.535 L6793.56 964.535  Z\" fill=\"#009af9\" fill-rule=\"evenodd\" fill-opacity=\"1\"/>\n",
       "<polyline clip-path=\"url(#clip142)\" style=\"stroke:#000000; stroke-linecap:round; stroke-linejoin:round; stroke-width:4; stroke-opacity:1; fill:none\" points=\"6793.56,964.535 6793.56,1423.18 6835.81,1423.18 6835.81,964.535 6793.56,964.535 \"/>\n",
       "<path clip-path=\"url(#clip142)\" d=\"M6835.81 1308.52 L6835.81 1423.18 L6878.07 1423.18 L6878.07 1308.52 L6835.81 1308.52 L6835.81 1308.52  Z\" fill=\"#009af9\" fill-rule=\"evenodd\" fill-opacity=\"1\"/>\n",
       "<polyline clip-path=\"url(#clip142)\" style=\"stroke:#000000; stroke-linecap:round; stroke-linejoin:round; stroke-width:4; stroke-opacity:1; fill:none\" points=\"6835.81,1308.52 6835.81,1423.18 6878.07,1423.18 6878.07,1308.52 6835.81,1308.52 \"/>\n",
       "<path clip-path=\"url(#clip142)\" d=\"M6878.07 1193.86 L6878.07 1423.18 L6920.32 1423.18 L6920.32 1193.86 L6878.07 1193.86 L6878.07 1193.86  Z\" fill=\"#009af9\" fill-rule=\"evenodd\" fill-opacity=\"1\"/>\n",
       "<polyline clip-path=\"url(#clip142)\" style=\"stroke:#000000; stroke-linecap:round; stroke-linejoin:round; stroke-width:4; stroke-opacity:1; fill:none\" points=\"6878.07,1193.86 6878.07,1423.18 6920.32,1423.18 6920.32,1193.86 6878.07,1193.86 \"/>\n",
       "<path clip-path=\"url(#clip142)\" d=\"M6920.32 849.873 L6920.32 1423.18 L6962.57 1423.18 L6962.57 849.873 L6920.32 849.873 L6920.32 849.873  Z\" fill=\"#009af9\" fill-rule=\"evenodd\" fill-opacity=\"1\"/>\n",
       "<polyline clip-path=\"url(#clip142)\" style=\"stroke:#000000; stroke-linecap:round; stroke-linejoin:round; stroke-width:4; stroke-opacity:1; fill:none\" points=\"6920.32,849.873 6920.32,1423.18 6962.57,1423.18 6962.57,849.873 6920.32,849.873 \"/>\n",
       "<path clip-path=\"url(#clip142)\" d=\"M6962.57 1079.2 L6962.57 1423.18 L7004.82 1423.18 L7004.82 1079.2 L6962.57 1079.2 L6962.57 1079.2  Z\" fill=\"#009af9\" fill-rule=\"evenodd\" fill-opacity=\"1\"/>\n",
       "<polyline clip-path=\"url(#clip142)\" style=\"stroke:#000000; stroke-linecap:round; stroke-linejoin:round; stroke-width:4; stroke-opacity:1; fill:none\" points=\"6962.57,1079.2 6962.57,1423.18 7004.82,1423.18 7004.82,1079.2 6962.57,1079.2 \"/>\n",
       "<path clip-path=\"url(#clip142)\" d=\"M7004.82 1079.2 L7004.82 1423.18 L7047.08 1423.18 L7047.08 1079.2 L7004.82 1079.2 L7004.82 1079.2  Z\" fill=\"#009af9\" fill-rule=\"evenodd\" fill-opacity=\"1\"/>\n",
       "<polyline clip-path=\"url(#clip142)\" style=\"stroke:#000000; stroke-linecap:round; stroke-linejoin:round; stroke-width:4; stroke-opacity:1; fill:none\" points=\"7004.82,1079.2 7004.82,1423.18 7047.08,1423.18 7047.08,1079.2 7004.82,1079.2 \"/>\n",
       "<path clip-path=\"url(#clip142)\" d=\"M7047.08 1423.18 L7047.08 1423.18 L7089.33 1423.18 L7089.33 1423.18 L7047.08 1423.18 L7047.08 1423.18  Z\" fill=\"#009af9\" fill-rule=\"evenodd\" fill-opacity=\"1\"/>\n",
       "<polyline clip-path=\"url(#clip142)\" style=\"stroke:#000000; stroke-linecap:round; stroke-linejoin:round; stroke-width:4; stroke-opacity:1; fill:none\" points=\"7047.08,1423.18 7047.08,1423.18 7089.33,1423.18 7047.08,1423.18 \"/>\n",
       "<path clip-path=\"url(#clip142)\" d=\"M7089.33 1308.52 L7089.33 1423.18 L7131.58 1423.18 L7131.58 1308.52 L7089.33 1308.52 L7089.33 1308.52  Z\" fill=\"#009af9\" fill-rule=\"evenodd\" fill-opacity=\"1\"/>\n",
       "<polyline clip-path=\"url(#clip142)\" style=\"stroke:#000000; stroke-linecap:round; stroke-linejoin:round; stroke-width:4; stroke-opacity:1; fill:none\" points=\"7089.33,1308.52 7089.33,1423.18 7131.58,1423.18 7131.58,1308.52 7089.33,1308.52 \"/>\n",
       "<path clip-path=\"url(#clip142)\" d=\"M7131.58 1308.52 L7131.58 1423.18 L7173.83 1423.18 L7173.83 1308.52 L7131.58 1308.52 L7131.58 1308.52  Z\" fill=\"#009af9\" fill-rule=\"evenodd\" fill-opacity=\"1\"/>\n",
       "<polyline clip-path=\"url(#clip142)\" style=\"stroke:#000000; stroke-linecap:round; stroke-linejoin:round; stroke-width:4; stroke-opacity:1; fill:none\" points=\"7131.58,1308.52 7131.58,1423.18 7173.83,1423.18 7173.83,1308.52 7131.58,1308.52 \"/>\n",
       "<path clip-path=\"url(#clip142)\" d=\"M7173.83 1193.86 L7173.83 1423.18 L7216.08 1423.18 L7216.08 1193.86 L7173.83 1193.86 L7173.83 1193.86  Z\" fill=\"#009af9\" fill-rule=\"evenodd\" fill-opacity=\"1\"/>\n",
       "<polyline clip-path=\"url(#clip142)\" style=\"stroke:#000000; stroke-linecap:round; stroke-linejoin:round; stroke-width:4; stroke-opacity:1; fill:none\" points=\"7173.83,1193.86 7173.83,1423.18 7216.08,1423.18 7216.08,1193.86 7173.83,1193.86 \"/>\n",
       "<path clip-path=\"url(#clip142)\" d=\"M7216.08 1308.52 L7216.08 1423.18 L7258.34 1423.18 L7258.34 1308.52 L7216.08 1308.52 L7216.08 1308.52  Z\" fill=\"#009af9\" fill-rule=\"evenodd\" fill-opacity=\"1\"/>\n",
       "<polyline clip-path=\"url(#clip142)\" style=\"stroke:#000000; stroke-linecap:round; stroke-linejoin:round; stroke-width:4; stroke-opacity:1; fill:none\" points=\"7216.08,1308.52 7216.08,1423.18 7258.34,1423.18 7258.34,1308.52 7216.08,1308.52 \"/>\n",
       "<path clip-path=\"url(#clip142)\" d=\"M7258.34 1308.52 L7258.34 1423.18 L7300.59 1423.18 L7300.59 1308.52 L7258.34 1308.52 L7258.34 1308.52  Z\" fill=\"#009af9\" fill-rule=\"evenodd\" fill-opacity=\"1\"/>\n",
       "<polyline clip-path=\"url(#clip142)\" style=\"stroke:#000000; stroke-linecap:round; stroke-linejoin:round; stroke-width:4; stroke-opacity:1; fill:none\" points=\"7258.34,1308.52 7258.34,1423.18 7300.59,1423.18 7300.59,1308.52 7258.34,1308.52 \"/>\n",
       "<path clip-path=\"url(#clip142)\" d=\"M7300.59 1079.2 L7300.59 1423.18 L7342.84 1423.18 L7342.84 1079.2 L7300.59 1079.2 L7300.59 1079.2  Z\" fill=\"#009af9\" fill-rule=\"evenodd\" fill-opacity=\"1\"/>\n",
       "<polyline clip-path=\"url(#clip142)\" style=\"stroke:#000000; stroke-linecap:round; stroke-linejoin:round; stroke-width:4; stroke-opacity:1; fill:none\" points=\"7300.59,1079.2 7300.59,1423.18 7342.84,1423.18 7342.84,1079.2 7300.59,1079.2 \"/>\n",
       "<path clip-path=\"url(#clip142)\" d=\"M7342.84 1308.52 L7342.84 1423.18 L7385.09 1423.18 L7385.09 1308.52 L7342.84 1308.52 L7342.84 1308.52  Z\" fill=\"#009af9\" fill-rule=\"evenodd\" fill-opacity=\"1\"/>\n",
       "<polyline clip-path=\"url(#clip142)\" style=\"stroke:#000000; stroke-linecap:round; stroke-linejoin:round; stroke-width:4; stroke-opacity:1; fill:none\" points=\"7342.84,1308.52 7342.84,1423.18 7385.09,1423.18 7385.09,1308.52 7342.84,1308.52 \"/>\n",
       "<path clip-path=\"url(#clip142)\" d=\"M7385.09 1193.86 L7385.09 1423.18 L7427.35 1423.18 L7427.35 1193.86 L7385.09 1193.86 L7385.09 1193.86  Z\" fill=\"#009af9\" fill-rule=\"evenodd\" fill-opacity=\"1\"/>\n",
       "<polyline clip-path=\"url(#clip142)\" style=\"stroke:#000000; stroke-linecap:round; stroke-linejoin:round; stroke-width:4; stroke-opacity:1; fill:none\" points=\"7385.09,1193.86 7385.09,1423.18 7427.35,1423.18 7427.35,1193.86 7385.09,1193.86 \"/>\n",
       "<path clip-path=\"url(#clip142)\" d=\"M7427.35 1423.18 L7427.35 1423.18 L7469.6 1423.18 L7469.6 1423.18 L7427.35 1423.18 L7427.35 1423.18  Z\" fill=\"#009af9\" fill-rule=\"evenodd\" fill-opacity=\"1\"/>\n",
       "<polyline clip-path=\"url(#clip142)\" style=\"stroke:#000000; stroke-linecap:round; stroke-linejoin:round; stroke-width:4; stroke-opacity:1; fill:none\" points=\"7427.35,1423.18 7427.35,1423.18 7469.6,1423.18 7427.35,1423.18 \"/>\n",
       "<path clip-path=\"url(#clip142)\" d=\"M7469.6 1079.2 L7469.6 1423.18 L7511.85 1423.18 L7511.85 1079.2 L7469.6 1079.2 L7469.6 1079.2  Z\" fill=\"#009af9\" fill-rule=\"evenodd\" fill-opacity=\"1\"/>\n",
       "<polyline clip-path=\"url(#clip142)\" style=\"stroke:#000000; stroke-linecap:round; stroke-linejoin:round; stroke-width:4; stroke-opacity:1; fill:none\" points=\"7469.6,1079.2 7469.6,1423.18 7511.85,1423.18 7511.85,1079.2 7469.6,1079.2 \"/>\n",
       "<path clip-path=\"url(#clip142)\" d=\"M7511.85 1308.52 L7511.85 1423.18 L7554.1 1423.18 L7554.1 1308.52 L7511.85 1308.52 L7511.85 1308.52  Z\" fill=\"#009af9\" fill-rule=\"evenodd\" fill-opacity=\"1\"/>\n",
       "<polyline clip-path=\"url(#clip142)\" style=\"stroke:#000000; stroke-linecap:round; stroke-linejoin:round; stroke-width:4; stroke-opacity:1; fill:none\" points=\"7511.85,1308.52 7511.85,1423.18 7554.1,1423.18 7554.1,1308.52 7511.85,1308.52 \"/>\n",
       "<path clip-path=\"url(#clip142)\" d=\"M7554.1 1308.52 L7554.1 1423.18 L7596.35 1423.18 L7596.35 1308.52 L7554.1 1308.52 L7554.1 1308.52  Z\" fill=\"#009af9\" fill-rule=\"evenodd\" fill-opacity=\"1\"/>\n",
       "<polyline clip-path=\"url(#clip142)\" style=\"stroke:#000000; stroke-linecap:round; stroke-linejoin:round; stroke-width:4; stroke-opacity:1; fill:none\" points=\"7554.1,1308.52 7554.1,1423.18 7596.35,1423.18 7596.35,1308.52 7554.1,1308.52 \"/>\n",
       "<path clip-path=\"url(#clip142)\" d=\"M7596.35 1423.18 L7596.35 1423.18 L7638.61 1423.18 L7638.61 1423.18 L7596.35 1423.18 L7596.35 1423.18  Z\" fill=\"#009af9\" fill-rule=\"evenodd\" fill-opacity=\"1\"/>\n",
       "<polyline clip-path=\"url(#clip142)\" style=\"stroke:#000000; stroke-linecap:round; stroke-linejoin:round; stroke-width:4; stroke-opacity:1; fill:none\" points=\"7596.35,1423.18 7596.35,1423.18 7638.61,1423.18 7596.35,1423.18 \"/>\n",
       "<path clip-path=\"url(#clip142)\" d=\"M7638.61 1423.18 L7638.61 1423.18 L7680.86 1423.18 L7680.86 1423.18 L7638.61 1423.18 L7638.61 1423.18  Z\" fill=\"#009af9\" fill-rule=\"evenodd\" fill-opacity=\"1\"/>\n",
       "<polyline clip-path=\"url(#clip142)\" style=\"stroke:#000000; stroke-linecap:round; stroke-linejoin:round; stroke-width:4; stroke-opacity:1; fill:none\" points=\"7638.61,1423.18 7638.61,1423.18 7680.86,1423.18 7638.61,1423.18 \"/>\n",
       "<path clip-path=\"url(#clip142)\" d=\"M7680.86 1423.18 L7680.86 1423.18 L7723.11 1423.18 L7723.11 1423.18 L7680.86 1423.18 L7680.86 1423.18  Z\" fill=\"#009af9\" fill-rule=\"evenodd\" fill-opacity=\"1\"/>\n",
       "<polyline clip-path=\"url(#clip142)\" style=\"stroke:#000000; stroke-linecap:round; stroke-linejoin:round; stroke-width:4; stroke-opacity:1; fill:none\" points=\"7680.86,1423.18 7680.86,1423.18 7723.11,1423.18 7680.86,1423.18 \"/>\n",
       "<path clip-path=\"url(#clip142)\" d=\"M7723.11 1423.18 L7723.11 1423.18 L7765.36 1423.18 L7765.36 1423.18 L7723.11 1423.18 L7723.11 1423.18  Z\" fill=\"#009af9\" fill-rule=\"evenodd\" fill-opacity=\"1\"/>\n",
       "<polyline clip-path=\"url(#clip142)\" style=\"stroke:#000000; stroke-linecap:round; stroke-linejoin:round; stroke-width:4; stroke-opacity:1; fill:none\" points=\"7723.11,1423.18 7723.11,1423.18 7765.36,1423.18 7723.11,1423.18 \"/>\n",
       "<path clip-path=\"url(#clip142)\" d=\"M7765.36 1423.18 L7765.36 1423.18 L7807.61 1423.18 L7807.61 1423.18 L7765.36 1423.18 L7765.36 1423.18  Z\" fill=\"#009af9\" fill-rule=\"evenodd\" fill-opacity=\"1\"/>\n",
       "<polyline clip-path=\"url(#clip142)\" style=\"stroke:#000000; stroke-linecap:round; stroke-linejoin:round; stroke-width:4; stroke-opacity:1; fill:none\" points=\"7765.36,1423.18 7765.36,1423.18 7807.61,1423.18 7765.36,1423.18 \"/>\n",
       "<path clip-path=\"url(#clip142)\" d=\"M7807.61 1423.18 L7807.61 1423.18 L7849.87 1423.18 L7849.87 1423.18 L7807.61 1423.18 L7807.61 1423.18  Z\" fill=\"#009af9\" fill-rule=\"evenodd\" fill-opacity=\"1\"/>\n",
       "<polyline clip-path=\"url(#clip142)\" style=\"stroke:#000000; stroke-linecap:round; stroke-linejoin:round; stroke-width:4; stroke-opacity:1; fill:none\" points=\"7807.61,1423.18 7807.61,1423.18 7849.87,1423.18 7807.61,1423.18 \"/>\n",
       "<path clip-path=\"url(#clip142)\" d=\"M7849.87 1423.18 L7849.87 1423.18 L7892.12 1423.18 L7892.12 1423.18 L7849.87 1423.18 L7849.87 1423.18  Z\" fill=\"#009af9\" fill-rule=\"evenodd\" fill-opacity=\"1\"/>\n",
       "<polyline clip-path=\"url(#clip142)\" style=\"stroke:#000000; stroke-linecap:round; stroke-linejoin:round; stroke-width:4; stroke-opacity:1; fill:none\" points=\"7849.87,1423.18 7849.87,1423.18 7892.12,1423.18 7849.87,1423.18 \"/>\n",
       "<path clip-path=\"url(#clip142)\" d=\"M7892.12 1423.18 L7892.12 1423.18 L7934.37 1423.18 L7934.37 1423.18 L7892.12 1423.18 L7892.12 1423.18  Z\" fill=\"#009af9\" fill-rule=\"evenodd\" fill-opacity=\"1\"/>\n",
       "<polyline clip-path=\"url(#clip142)\" style=\"stroke:#000000; stroke-linecap:round; stroke-linejoin:round; stroke-width:4; stroke-opacity:1; fill:none\" points=\"7892.12,1423.18 7892.12,1423.18 7934.37,1423.18 7892.12,1423.18 \"/>\n",
       "<path clip-path=\"url(#clip142)\" d=\"M7934.37 1423.18 L7934.37 1423.18 L7976.62 1423.18 L7976.62 1423.18 L7934.37 1423.18 L7934.37 1423.18  Z\" fill=\"#009af9\" fill-rule=\"evenodd\" fill-opacity=\"1\"/>\n",
       "<polyline clip-path=\"url(#clip142)\" style=\"stroke:#000000; stroke-linecap:round; stroke-linejoin:round; stroke-width:4; stroke-opacity:1; fill:none\" points=\"7934.37,1423.18 7934.37,1423.18 7976.62,1423.18 7934.37,1423.18 \"/>\n",
       "<path clip-path=\"url(#clip142)\" d=\"M7976.62 1308.52 L7976.62 1423.18 L8018.88 1423.18 L8018.88 1308.52 L7976.62 1308.52 L7976.62 1308.52  Z\" fill=\"#009af9\" fill-rule=\"evenodd\" fill-opacity=\"1\"/>\n",
       "<polyline clip-path=\"url(#clip142)\" style=\"stroke:#000000; stroke-linecap:round; stroke-linejoin:round; stroke-width:4; stroke-opacity:1; fill:none\" points=\"7976.62,1308.52 7976.62,1423.18 8018.88,1423.18 8018.88,1308.52 7976.62,1308.52 \"/>\n",
       "<path clip-path=\"url(#clip142)\" d=\"M8018.88 1423.18 L8018.88 1423.18 L8061.13 1423.18 L8061.13 1423.18 L8018.88 1423.18 L8018.88 1423.18  Z\" fill=\"#009af9\" fill-rule=\"evenodd\" fill-opacity=\"1\"/>\n",
       "<polyline clip-path=\"url(#clip142)\" style=\"stroke:#000000; stroke-linecap:round; stroke-linejoin:round; stroke-width:4; stroke-opacity:1; fill:none\" points=\"8018.88,1423.18 8018.88,1423.18 8061.13,1423.18 8018.88,1423.18 \"/>\n",
       "<path clip-path=\"url(#clip142)\" d=\"M8061.13 1308.52 L8061.13 1423.18 L8103.38 1423.18 L8103.38 1308.52 L8061.13 1308.52 L8061.13 1308.52  Z\" fill=\"#009af9\" fill-rule=\"evenodd\" fill-opacity=\"1\"/>\n",
       "<polyline clip-path=\"url(#clip142)\" style=\"stroke:#000000; stroke-linecap:round; stroke-linejoin:round; stroke-width:4; stroke-opacity:1; fill:none\" points=\"8061.13,1308.52 8061.13,1423.18 8103.38,1423.18 8103.38,1308.52 8061.13,1308.52 \"/>\n",
       "<path clip-path=\"url(#clip142)\" d=\"M8103.38 1423.18 L8103.38 1423.18 L8145.63 1423.18 L8145.63 1423.18 L8103.38 1423.18 L8103.38 1423.18  Z\" fill=\"#009af9\" fill-rule=\"evenodd\" fill-opacity=\"1\"/>\n",
       "<polyline clip-path=\"url(#clip142)\" style=\"stroke:#000000; stroke-linecap:round; stroke-linejoin:round; stroke-width:4; stroke-opacity:1; fill:none\" points=\"8103.38,1423.18 8103.38,1423.18 8145.63,1423.18 8103.38,1423.18 \"/>\n",
       "<path clip-path=\"url(#clip142)\" d=\"M8145.63 1308.52 L8145.63 1423.18 L8187.88 1423.18 L8187.88 1308.52 L8145.63 1308.52 L8145.63 1308.52  Z\" fill=\"#009af9\" fill-rule=\"evenodd\" fill-opacity=\"1\"/>\n",
       "<polyline clip-path=\"url(#clip142)\" style=\"stroke:#000000; stroke-linecap:round; stroke-linejoin:round; stroke-width:4; stroke-opacity:1; fill:none\" points=\"8145.63,1308.52 8145.63,1423.18 8187.88,1423.18 8187.88,1308.52 8145.63,1308.52 \"/>\n",
       "<path clip-path=\"url(#clip142)\" d=\"M8187.88 1423.18 L8187.88 1423.18 L8230.14 1423.18 L8230.14 1423.18 L8187.88 1423.18 L8187.88 1423.18  Z\" fill=\"#009af9\" fill-rule=\"evenodd\" fill-opacity=\"1\"/>\n",
       "<polyline clip-path=\"url(#clip142)\" style=\"stroke:#000000; stroke-linecap:round; stroke-linejoin:round; stroke-width:4; stroke-opacity:1; fill:none\" points=\"8187.88,1423.18 8187.88,1423.18 8230.14,1423.18 8187.88,1423.18 \"/>\n",
       "<path clip-path=\"url(#clip142)\" d=\"M8230.14 1423.18 L8230.14 1423.18 L8272.39 1423.18 L8272.39 1423.18 L8230.14 1423.18 L8230.14 1423.18  Z\" fill=\"#009af9\" fill-rule=\"evenodd\" fill-opacity=\"1\"/>\n",
       "<polyline clip-path=\"url(#clip142)\" style=\"stroke:#000000; stroke-linecap:round; stroke-linejoin:round; stroke-width:4; stroke-opacity:1; fill:none\" points=\"8230.14,1423.18 8230.14,1423.18 8272.39,1423.18 8230.14,1423.18 \"/>\n",
       "<path clip-path=\"url(#clip142)\" d=\"M8272.39 1423.18 L8272.39 1423.18 L8314.64 1423.18 L8314.64 1423.18 L8272.39 1423.18 L8272.39 1423.18  Z\" fill=\"#009af9\" fill-rule=\"evenodd\" fill-opacity=\"1\"/>\n",
       "<polyline clip-path=\"url(#clip142)\" style=\"stroke:#000000; stroke-linecap:round; stroke-linejoin:round; stroke-width:4; stroke-opacity:1; fill:none\" points=\"8272.39,1423.18 8272.39,1423.18 8314.64,1423.18 8272.39,1423.18 \"/>\n",
       "<path clip-path=\"url(#clip142)\" d=\"M8314.64 1423.18 L8314.64 1423.18 L8356.89 1423.18 L8356.89 1423.18 L8314.64 1423.18 L8314.64 1423.18  Z\" fill=\"#009af9\" fill-rule=\"evenodd\" fill-opacity=\"1\"/>\n",
       "<polyline clip-path=\"url(#clip142)\" style=\"stroke:#000000; stroke-linecap:round; stroke-linejoin:round; stroke-width:4; stroke-opacity:1; fill:none\" points=\"8314.64,1423.18 8314.64,1423.18 8356.89,1423.18 8314.64,1423.18 \"/>\n",
       "<path clip-path=\"url(#clip142)\" d=\"M8356.89 1423.18 L8356.89 1423.18 L8399.14 1423.18 L8399.14 1423.18 L8356.89 1423.18 L8356.89 1423.18  Z\" fill=\"#009af9\" fill-rule=\"evenodd\" fill-opacity=\"1\"/>\n",
       "<polyline clip-path=\"url(#clip142)\" style=\"stroke:#000000; stroke-linecap:round; stroke-linejoin:round; stroke-width:4; stroke-opacity:1; fill:none\" points=\"8356.89,1423.18 8356.89,1423.18 8399.14,1423.18 8356.89,1423.18 \"/>\n",
       "<path clip-path=\"url(#clip142)\" d=\"M8399.14 1423.18 L8399.14 1423.18 L8441.4 1423.18 L8441.4 1423.18 L8399.14 1423.18 L8399.14 1423.18  Z\" fill=\"#009af9\" fill-rule=\"evenodd\" fill-opacity=\"1\"/>\n",
       "<polyline clip-path=\"url(#clip142)\" style=\"stroke:#000000; stroke-linecap:round; stroke-linejoin:round; stroke-width:4; stroke-opacity:1; fill:none\" points=\"8399.14,1423.18 8399.14,1423.18 8441.4,1423.18 8399.14,1423.18 \"/>\n",
       "<path clip-path=\"url(#clip142)\" d=\"M8441.4 1423.18 L8441.4 1423.18 L8483.65 1423.18 L8483.65 1423.18 L8441.4 1423.18 L8441.4 1423.18  Z\" fill=\"#009af9\" fill-rule=\"evenodd\" fill-opacity=\"1\"/>\n",
       "<polyline clip-path=\"url(#clip142)\" style=\"stroke:#000000; stroke-linecap:round; stroke-linejoin:round; stroke-width:4; stroke-opacity:1; fill:none\" points=\"8441.4,1423.18 8441.4,1423.18 8483.65,1423.18 8441.4,1423.18 \"/>\n",
       "<path clip-path=\"url(#clip142)\" d=\"M8483.65 1423.18 L8483.65 1423.18 L8525.9 1423.18 L8525.9 1423.18 L8483.65 1423.18 L8483.65 1423.18  Z\" fill=\"#009af9\" fill-rule=\"evenodd\" fill-opacity=\"1\"/>\n",
       "<polyline clip-path=\"url(#clip142)\" style=\"stroke:#000000; stroke-linecap:round; stroke-linejoin:round; stroke-width:4; stroke-opacity:1; fill:none\" points=\"8483.65,1423.18 8483.65,1423.18 8525.9,1423.18 8483.65,1423.18 \"/>\n",
       "<path clip-path=\"url(#clip142)\" d=\"M8525.9 1308.52 L8525.9 1423.18 L8568.15 1423.18 L8568.15 1308.52 L8525.9 1308.52 L8525.9 1308.52  Z\" fill=\"#009af9\" fill-rule=\"evenodd\" fill-opacity=\"1\"/>\n",
       "<polyline clip-path=\"url(#clip142)\" style=\"stroke:#000000; stroke-linecap:round; stroke-linejoin:round; stroke-width:4; stroke-opacity:1; fill:none\" points=\"8525.9,1308.52 8525.9,1423.18 8568.15,1423.18 8568.15,1308.52 8525.9,1308.52 \"/>\n",
       "<path clip-path=\"url(#clip142)\" d=\"M8568.15 1423.18 L8568.15 1423.18 L8610.41 1423.18 L8610.41 1423.18 L8568.15 1423.18 L8568.15 1423.18  Z\" fill=\"#009af9\" fill-rule=\"evenodd\" fill-opacity=\"1\"/>\n",
       "<polyline clip-path=\"url(#clip142)\" style=\"stroke:#000000; stroke-linecap:round; stroke-linejoin:round; stroke-width:4; stroke-opacity:1; fill:none\" points=\"8568.15,1423.18 8568.15,1423.18 8610.41,1423.18 8568.15,1423.18 \"/>\n",
       "<path clip-path=\"url(#clip142)\" d=\"M8610.41 1423.18 L8610.41 1423.18 L8652.66 1423.18 L8652.66 1423.18 L8610.41 1423.18 L8610.41 1423.18  Z\" fill=\"#009af9\" fill-rule=\"evenodd\" fill-opacity=\"1\"/>\n",
       "<polyline clip-path=\"url(#clip142)\" style=\"stroke:#000000; stroke-linecap:round; stroke-linejoin:round; stroke-width:4; stroke-opacity:1; fill:none\" points=\"8610.41,1423.18 8610.41,1423.18 8652.66,1423.18 8610.41,1423.18 \"/>\n",
       "<path clip-path=\"url(#clip142)\" d=\"M8652.66 1423.18 L8652.66 1423.18 L8694.91 1423.18 L8694.91 1423.18 L8652.66 1423.18 L8652.66 1423.18  Z\" fill=\"#009af9\" fill-rule=\"evenodd\" fill-opacity=\"1\"/>\n",
       "<polyline clip-path=\"url(#clip142)\" style=\"stroke:#000000; stroke-linecap:round; stroke-linejoin:round; stroke-width:4; stroke-opacity:1; fill:none\" points=\"8652.66,1423.18 8652.66,1423.18 8694.91,1423.18 8652.66,1423.18 \"/>\n",
       "<path clip-path=\"url(#clip142)\" d=\"M8694.91 1423.18 L8694.91 1423.18 L8737.16 1423.18 L8737.16 1423.18 L8694.91 1423.18 L8694.91 1423.18  Z\" fill=\"#009af9\" fill-rule=\"evenodd\" fill-opacity=\"1\"/>\n",
       "<polyline clip-path=\"url(#clip142)\" style=\"stroke:#000000; stroke-linecap:round; stroke-linejoin:round; stroke-width:4; stroke-opacity:1; fill:none\" points=\"8694.91,1423.18 8694.91,1423.18 8737.16,1423.18 8694.91,1423.18 \"/>\n",
       "<path clip-path=\"url(#clip142)\" d=\"M8737.16 1423.18 L8737.16 1423.18 L8779.41 1423.18 L8779.41 1423.18 L8737.16 1423.18 L8737.16 1423.18  Z\" fill=\"#009af9\" fill-rule=\"evenodd\" fill-opacity=\"1\"/>\n",
       "<polyline clip-path=\"url(#clip142)\" style=\"stroke:#000000; stroke-linecap:round; stroke-linejoin:round; stroke-width:4; stroke-opacity:1; fill:none\" points=\"8737.16,1423.18 8737.16,1423.18 8779.41,1423.18 8737.16,1423.18 \"/>\n",
       "<path clip-path=\"url(#clip142)\" d=\"M8779.41 1423.18 L8779.41 1423.18 L8821.67 1423.18 L8821.67 1423.18 L8779.41 1423.18 L8779.41 1423.18  Z\" fill=\"#009af9\" fill-rule=\"evenodd\" fill-opacity=\"1\"/>\n",
       "<polyline clip-path=\"url(#clip142)\" style=\"stroke:#000000; stroke-linecap:round; stroke-linejoin:round; stroke-width:4; stroke-opacity:1; fill:none\" points=\"8779.41,1423.18 8779.41,1423.18 8821.67,1423.18 8779.41,1423.18 \"/>\n",
       "<path clip-path=\"url(#clip142)\" d=\"M8821.67 1423.18 L8821.67 1423.18 L8863.92 1423.18 L8863.92 1423.18 L8821.67 1423.18 L8821.67 1423.18  Z\" fill=\"#009af9\" fill-rule=\"evenodd\" fill-opacity=\"1\"/>\n",
       "<polyline clip-path=\"url(#clip142)\" style=\"stroke:#000000; stroke-linecap:round; stroke-linejoin:round; stroke-width:4; stroke-opacity:1; fill:none\" points=\"8821.67,1423.18 8821.67,1423.18 8863.92,1423.18 8821.67,1423.18 \"/>\n",
       "<path clip-path=\"url(#clip142)\" d=\"M8863.92 1423.18 L8863.92 1423.18 L8906.17 1423.18 L8906.17 1423.18 L8863.92 1423.18 L8863.92 1423.18  Z\" fill=\"#009af9\" fill-rule=\"evenodd\" fill-opacity=\"1\"/>\n",
       "<polyline clip-path=\"url(#clip142)\" style=\"stroke:#000000; stroke-linecap:round; stroke-linejoin:round; stroke-width:4; stroke-opacity:1; fill:none\" points=\"8863.92,1423.18 8863.92,1423.18 8906.17,1423.18 8863.92,1423.18 \"/>\n",
       "<path clip-path=\"url(#clip142)\" d=\"M8906.17 1423.18 L8906.17 1423.18 L8948.42 1423.18 L8948.42 1423.18 L8906.17 1423.18 L8906.17 1423.18  Z\" fill=\"#009af9\" fill-rule=\"evenodd\" fill-opacity=\"1\"/>\n",
       "<polyline clip-path=\"url(#clip142)\" style=\"stroke:#000000; stroke-linecap:round; stroke-linejoin:round; stroke-width:4; stroke-opacity:1; fill:none\" points=\"8906.17,1423.18 8906.17,1423.18 8948.42,1423.18 8906.17,1423.18 \"/>\n",
       "<path clip-path=\"url(#clip142)\" d=\"M8948.42 1423.18 L8948.42 1423.18 L8990.67 1423.18 L8990.67 1423.18 L8948.42 1423.18 L8948.42 1423.18  Z\" fill=\"#009af9\" fill-rule=\"evenodd\" fill-opacity=\"1\"/>\n",
       "<polyline clip-path=\"url(#clip142)\" style=\"stroke:#000000; stroke-linecap:round; stroke-linejoin:round; stroke-width:4; stroke-opacity:1; fill:none\" points=\"8948.42,1423.18 8948.42,1423.18 8990.67,1423.18 8948.42,1423.18 \"/>\n",
       "<path clip-path=\"url(#clip142)\" d=\"M8990.67 1308.52 L8990.67 1423.18 L9032.93 1423.18 L9032.93 1308.52 L8990.67 1308.52 L8990.67 1308.52  Z\" fill=\"#009af9\" fill-rule=\"evenodd\" fill-opacity=\"1\"/>\n",
       "<polyline clip-path=\"url(#clip142)\" style=\"stroke:#000000; stroke-linecap:round; stroke-linejoin:round; stroke-width:4; stroke-opacity:1; fill:none\" points=\"8990.67,1308.52 8990.67,1423.18 9032.93,1423.18 9032.93,1308.52 8990.67,1308.52 \"/>\n",
       "<path clip-path=\"url(#clip142)\" d=\"M9032.93 1308.52 L9032.93 1423.18 L9075.18 1423.18 L9075.18 1308.52 L9032.93 1308.52 L9032.93 1308.52  Z\" fill=\"#009af9\" fill-rule=\"evenodd\" fill-opacity=\"1\"/>\n",
       "<polyline clip-path=\"url(#clip142)\" style=\"stroke:#000000; stroke-linecap:round; stroke-linejoin:round; stroke-width:4; stroke-opacity:1; fill:none\" points=\"9032.93,1308.52 9032.93,1423.18 9075.18,1423.18 9075.18,1308.52 9032.93,1308.52 \"/>\n",
       "<path clip-path=\"url(#clip142)\" d=\"M9075.18 1423.18 L9075.18 1423.18 L9117.43 1423.18 L9117.43 1423.18 L9075.18 1423.18 L9075.18 1423.18  Z\" fill=\"#009af9\" fill-rule=\"evenodd\" fill-opacity=\"1\"/>\n",
       "<polyline clip-path=\"url(#clip142)\" style=\"stroke:#000000; stroke-linecap:round; stroke-linejoin:round; stroke-width:4; stroke-opacity:1; fill:none\" points=\"9075.18,1423.18 9075.18,1423.18 9117.43,1423.18 9075.18,1423.18 \"/>\n",
       "<path clip-path=\"url(#clip142)\" d=\"M9117.43 1423.18 L9117.43 1423.18 L9159.68 1423.18 L9159.68 1423.18 L9117.43 1423.18 L9117.43 1423.18  Z\" fill=\"#009af9\" fill-rule=\"evenodd\" fill-opacity=\"1\"/>\n",
       "<polyline clip-path=\"url(#clip142)\" style=\"stroke:#000000; stroke-linecap:round; stroke-linejoin:round; stroke-width:4; stroke-opacity:1; fill:none\" points=\"9117.43,1423.18 9117.43,1423.18 9159.68,1423.18 9117.43,1423.18 \"/>\n",
       "<path clip-path=\"url(#clip142)\" d=\"M9159.68 1423.18 L9159.68 1423.18 L9201.94 1423.18 L9201.94 1423.18 L9159.68 1423.18 L9159.68 1423.18  Z\" fill=\"#009af9\" fill-rule=\"evenodd\" fill-opacity=\"1\"/>\n",
       "<polyline clip-path=\"url(#clip142)\" style=\"stroke:#000000; stroke-linecap:round; stroke-linejoin:round; stroke-width:4; stroke-opacity:1; fill:none\" points=\"9159.68,1423.18 9159.68,1423.18 9201.94,1423.18 9159.68,1423.18 \"/>\n",
       "<path clip-path=\"url(#clip142)\" d=\"M9201.94 1423.18 L9201.94 1423.18 L9244.19 1423.18 L9244.19 1423.18 L9201.94 1423.18 L9201.94 1423.18  Z\" fill=\"#009af9\" fill-rule=\"evenodd\" fill-opacity=\"1\"/>\n",
       "<polyline clip-path=\"url(#clip142)\" style=\"stroke:#000000; stroke-linecap:round; stroke-linejoin:round; stroke-width:4; stroke-opacity:1; fill:none\" points=\"9201.94,1423.18 9201.94,1423.18 9244.19,1423.18 9201.94,1423.18 \"/>\n",
       "<path clip-path=\"url(#clip142)\" d=\"M9244.19 1423.18 L9244.19 1423.18 L9286.44 1423.18 L9286.44 1423.18 L9244.19 1423.18 L9244.19 1423.18  Z\" fill=\"#009af9\" fill-rule=\"evenodd\" fill-opacity=\"1\"/>\n",
       "<polyline clip-path=\"url(#clip142)\" style=\"stroke:#000000; stroke-linecap:round; stroke-linejoin:round; stroke-width:4; stroke-opacity:1; fill:none\" points=\"9244.19,1423.18 9244.19,1423.18 9286.44,1423.18 9244.19,1423.18 \"/>\n",
       "<path clip-path=\"url(#clip142)\" d=\"M9286.44 1193.86 L9286.44 1423.18 L9328.69 1423.18 L9328.69 1193.86 L9286.44 1193.86 L9286.44 1193.86  Z\" fill=\"#009af9\" fill-rule=\"evenodd\" fill-opacity=\"1\"/>\n",
       "<polyline clip-path=\"url(#clip142)\" style=\"stroke:#000000; stroke-linecap:round; stroke-linejoin:round; stroke-width:4; stroke-opacity:1; fill:none\" points=\"9286.44,1193.86 9286.44,1423.18 9328.69,1423.18 9328.69,1193.86 9286.44,1193.86 \"/>\n",
       "<path clip-path=\"url(#clip142)\" d=\"M9328.69 1423.18 L9328.69 1423.18 L9370.94 1423.18 L9370.94 1423.18 L9328.69 1423.18 L9328.69 1423.18  Z\" fill=\"#009af9\" fill-rule=\"evenodd\" fill-opacity=\"1\"/>\n",
       "<polyline clip-path=\"url(#clip142)\" style=\"stroke:#000000; stroke-linecap:round; stroke-linejoin:round; stroke-width:4; stroke-opacity:1; fill:none\" points=\"9328.69,1423.18 9328.69,1423.18 9370.94,1423.18 9328.69,1423.18 \"/>\n",
       "<path clip-path=\"url(#clip142)\" d=\"M9370.94 1423.18 L9370.94 1423.18 L9413.2 1423.18 L9413.2 1423.18 L9370.94 1423.18 L9370.94 1423.18  Z\" fill=\"#009af9\" fill-rule=\"evenodd\" fill-opacity=\"1\"/>\n",
       "<polyline clip-path=\"url(#clip142)\" style=\"stroke:#000000; stroke-linecap:round; stroke-linejoin:round; stroke-width:4; stroke-opacity:1; fill:none\" points=\"9370.94,1423.18 9370.94,1423.18 9413.2,1423.18 9370.94,1423.18 \"/>\n",
       "<path clip-path=\"url(#clip142)\" d=\"M9413.2 1423.18 L9413.2 1423.18 L9455.45 1423.18 L9455.45 1423.18 L9413.2 1423.18 L9413.2 1423.18  Z\" fill=\"#009af9\" fill-rule=\"evenodd\" fill-opacity=\"1\"/>\n",
       "<polyline clip-path=\"url(#clip142)\" style=\"stroke:#000000; stroke-linecap:round; stroke-linejoin:round; stroke-width:4; stroke-opacity:1; fill:none\" points=\"9413.2,1423.18 9413.2,1423.18 9455.45,1423.18 9413.2,1423.18 \"/>\n",
       "<path clip-path=\"url(#clip142)\" d=\"M9455.45 1423.18 L9455.45 1423.18 L9497.7 1423.18 L9497.7 1423.18 L9455.45 1423.18 L9455.45 1423.18  Z\" fill=\"#009af9\" fill-rule=\"evenodd\" fill-opacity=\"1\"/>\n",
       "<polyline clip-path=\"url(#clip142)\" style=\"stroke:#000000; stroke-linecap:round; stroke-linejoin:round; stroke-width:4; stroke-opacity:1; fill:none\" points=\"9455.45,1423.18 9455.45,1423.18 9497.7,1423.18 9455.45,1423.18 \"/>\n",
       "<path clip-path=\"url(#clip142)\" d=\"M9497.7 1423.18 L9497.7 1423.18 L9539.95 1423.18 L9539.95 1423.18 L9497.7 1423.18 L9497.7 1423.18  Z\" fill=\"#009af9\" fill-rule=\"evenodd\" fill-opacity=\"1\"/>\n",
       "<polyline clip-path=\"url(#clip142)\" style=\"stroke:#000000; stroke-linecap:round; stroke-linejoin:round; stroke-width:4; stroke-opacity:1; fill:none\" points=\"9497.7,1423.18 9497.7,1423.18 9539.95,1423.18 9497.7,1423.18 \"/>\n",
       "<path clip-path=\"url(#clip142)\" d=\"M9539.95 1308.52 L9539.95 1423.18 L9582.2 1423.18 L9582.2 1308.52 L9539.95 1308.52 L9539.95 1308.52  Z\" fill=\"#009af9\" fill-rule=\"evenodd\" fill-opacity=\"1\"/>\n",
       "<polyline clip-path=\"url(#clip142)\" style=\"stroke:#000000; stroke-linecap:round; stroke-linejoin:round; stroke-width:4; stroke-opacity:1; fill:none\" points=\"9539.95,1308.52 9539.95,1423.18 9582.2,1423.18 9582.2,1308.52 9539.95,1308.52 \"/>\n",
       "<path clip-path=\"url(#clip142)\" d=\"M9582.2 1423.18 L9582.2 1423.18 L9624.46 1423.18 L9624.46 1423.18 L9582.2 1423.18 L9582.2 1423.18  Z\" fill=\"#009af9\" fill-rule=\"evenodd\" fill-opacity=\"1\"/>\n",
       "<polyline clip-path=\"url(#clip142)\" style=\"stroke:#000000; stroke-linecap:round; stroke-linejoin:round; stroke-width:4; stroke-opacity:1; fill:none\" points=\"9582.2,1423.18 9582.2,1423.18 9624.46,1423.18 9582.2,1423.18 \"/>\n",
       "<path clip-path=\"url(#clip142)\" d=\"M9624.46 1423.18 L9624.46 1423.18 L9666.71 1423.18 L9666.71 1423.18 L9624.46 1423.18 L9624.46 1423.18  Z\" fill=\"#009af9\" fill-rule=\"evenodd\" fill-opacity=\"1\"/>\n",
       "<polyline clip-path=\"url(#clip142)\" style=\"stroke:#000000; stroke-linecap:round; stroke-linejoin:round; stroke-width:4; stroke-opacity:1; fill:none\" points=\"9624.46,1423.18 9624.46,1423.18 9666.71,1423.18 9624.46,1423.18 \"/>\n",
       "<path clip-path=\"url(#clip142)\" d=\"M9666.71 1423.18 L9666.71 1423.18 L9708.96 1423.18 L9708.96 1423.18 L9666.71 1423.18 L9666.71 1423.18  Z\" fill=\"#009af9\" fill-rule=\"evenodd\" fill-opacity=\"1\"/>\n",
       "<polyline clip-path=\"url(#clip142)\" style=\"stroke:#000000; stroke-linecap:round; stroke-linejoin:round; stroke-width:4; stroke-opacity:1; fill:none\" points=\"9666.71,1423.18 9666.71,1423.18 9708.96,1423.18 9666.71,1423.18 \"/>\n",
       "<path clip-path=\"url(#clip142)\" d=\"M9708.96 1423.18 L9708.96 1423.18 L9751.21 1423.18 L9751.21 1423.18 L9708.96 1423.18 L9708.96 1423.18  Z\" fill=\"#009af9\" fill-rule=\"evenodd\" fill-opacity=\"1\"/>\n",
       "<polyline clip-path=\"url(#clip142)\" style=\"stroke:#000000; stroke-linecap:round; stroke-linejoin:round; stroke-width:4; stroke-opacity:1; fill:none\" points=\"9708.96,1423.18 9708.96,1423.18 9751.21,1423.18 9708.96,1423.18 \"/>\n",
       "<path clip-path=\"url(#clip142)\" d=\"M9751.21 1423.18 L9751.21 1423.18 L9793.47 1423.18 L9793.47 1423.18 L9751.21 1423.18 L9751.21 1423.18  Z\" fill=\"#009af9\" fill-rule=\"evenodd\" fill-opacity=\"1\"/>\n",
       "<polyline clip-path=\"url(#clip142)\" style=\"stroke:#000000; stroke-linecap:round; stroke-linejoin:round; stroke-width:4; stroke-opacity:1; fill:none\" points=\"9751.21,1423.18 9751.21,1423.18 9793.47,1423.18 9751.21,1423.18 \"/>\n",
       "<path clip-path=\"url(#clip142)\" d=\"M9793.47 1423.18 L9793.47 1423.18 L9835.72 1423.18 L9835.72 1423.18 L9793.47 1423.18 L9793.47 1423.18  Z\" fill=\"#009af9\" fill-rule=\"evenodd\" fill-opacity=\"1\"/>\n",
       "<polyline clip-path=\"url(#clip142)\" style=\"stroke:#000000; stroke-linecap:round; stroke-linejoin:round; stroke-width:4; stroke-opacity:1; fill:none\" points=\"9793.47,1423.18 9793.47,1423.18 9835.72,1423.18 9793.47,1423.18 \"/>\n",
       "<path clip-path=\"url(#clip142)\" d=\"M9835.72 1423.18 L9835.72 1423.18 L9877.97 1423.18 L9877.97 1423.18 L9835.72 1423.18 L9835.72 1423.18  Z\" fill=\"#009af9\" fill-rule=\"evenodd\" fill-opacity=\"1\"/>\n",
       "<polyline clip-path=\"url(#clip142)\" style=\"stroke:#000000; stroke-linecap:round; stroke-linejoin:round; stroke-width:4; stroke-opacity:1; fill:none\" points=\"9835.72,1423.18 9835.72,1423.18 9877.97,1423.18 9835.72,1423.18 \"/>\n",
       "<path clip-path=\"url(#clip142)\" d=\"M9877.97 1423.18 L9877.97 1423.18 L9920.22 1423.18 L9920.22 1423.18 L9877.97 1423.18 L9877.97 1423.18  Z\" fill=\"#009af9\" fill-rule=\"evenodd\" fill-opacity=\"1\"/>\n",
       "<polyline clip-path=\"url(#clip142)\" style=\"stroke:#000000; stroke-linecap:round; stroke-linejoin:round; stroke-width:4; stroke-opacity:1; fill:none\" points=\"9877.97,1423.18 9877.97,1423.18 9920.22,1423.18 9877.97,1423.18 \"/>\n",
       "<path clip-path=\"url(#clip142)\" d=\"M9920.22 1423.18 L9920.22 1423.18 L9962.47 1423.18 L9962.47 1423.18 L9920.22 1423.18 L9920.22 1423.18  Z\" fill=\"#009af9\" fill-rule=\"evenodd\" fill-opacity=\"1\"/>\n",
       "<polyline clip-path=\"url(#clip142)\" style=\"stroke:#000000; stroke-linecap:round; stroke-linejoin:round; stroke-width:4; stroke-opacity:1; fill:none\" points=\"9920.22,1423.18 9920.22,1423.18 9962.47,1423.18 9920.22,1423.18 \"/>\n",
       "<path clip-path=\"url(#clip142)\" d=\"M9962.47 1423.18 L9962.47 1423.18 L10004.7 1423.18 L10004.7 1423.18 L9962.47 1423.18 L9962.47 1423.18  Z\" fill=\"#009af9\" fill-rule=\"evenodd\" fill-opacity=\"1\"/>\n",
       "<polyline clip-path=\"url(#clip142)\" style=\"stroke:#000000; stroke-linecap:round; stroke-linejoin:round; stroke-width:4; stroke-opacity:1; fill:none\" points=\"9962.47,1423.18 9962.47,1423.18 10004.7,1423.18 9962.47,1423.18 \"/>\n",
       "<path clip-path=\"url(#clip142)\" d=\"M10004.7 1423.18 L10004.7 1423.18 L10047 1423.18 L10047 1423.18 L10004.7 1423.18 L10004.7 1423.18  Z\" fill=\"#009af9\" fill-rule=\"evenodd\" fill-opacity=\"1\"/>\n",
       "<polyline clip-path=\"url(#clip142)\" style=\"stroke:#000000; stroke-linecap:round; stroke-linejoin:round; stroke-width:4; stroke-opacity:1; fill:none\" points=\"10004.7,1423.18 10004.7,1423.18 10047,1423.18 10004.7,1423.18 \"/>\n",
       "<path clip-path=\"url(#clip142)\" d=\"M10047 1423.18 L10047 1423.18 L10089.2 1423.18 L10089.2 1423.18 L10047 1423.18 L10047 1423.18  Z\" fill=\"#009af9\" fill-rule=\"evenodd\" fill-opacity=\"1\"/>\n",
       "<polyline clip-path=\"url(#clip142)\" style=\"stroke:#000000; stroke-linecap:round; stroke-linejoin:round; stroke-width:4; stroke-opacity:1; fill:none\" points=\"10047,1423.18 10047,1423.18 10089.2,1423.18 10047,1423.18 \"/>\n",
       "<path clip-path=\"url(#clip142)\" d=\"M10089.2 1423.18 L10089.2 1423.18 L10131.5 1423.18 L10131.5 1423.18 L10089.2 1423.18 L10089.2 1423.18  Z\" fill=\"#009af9\" fill-rule=\"evenodd\" fill-opacity=\"1\"/>\n",
       "<polyline clip-path=\"url(#clip142)\" style=\"stroke:#000000; stroke-linecap:round; stroke-linejoin:round; stroke-width:4; stroke-opacity:1; fill:none\" points=\"10089.2,1423.18 10089.2,1423.18 10131.5,1423.18 10089.2,1423.18 \"/>\n",
       "<path clip-path=\"url(#clip142)\" d=\"M10131.5 1423.18 L10131.5 1423.18 L10173.7 1423.18 L10173.7 1423.18 L10131.5 1423.18 L10131.5 1423.18  Z\" fill=\"#009af9\" fill-rule=\"evenodd\" fill-opacity=\"1\"/>\n",
       "<polyline clip-path=\"url(#clip142)\" style=\"stroke:#000000; stroke-linecap:round; stroke-linejoin:round; stroke-width:4; stroke-opacity:1; fill:none\" points=\"10131.5,1423.18 10131.5,1423.18 10173.7,1423.18 10131.5,1423.18 \"/>\n",
       "<path clip-path=\"url(#clip142)\" d=\"M10173.7 1423.18 L10173.7 1423.18 L10216 1423.18 L10216 1423.18 L10173.7 1423.18 L10173.7 1423.18  Z\" fill=\"#009af9\" fill-rule=\"evenodd\" fill-opacity=\"1\"/>\n",
       "<polyline clip-path=\"url(#clip142)\" style=\"stroke:#000000; stroke-linecap:round; stroke-linejoin:round; stroke-width:4; stroke-opacity:1; fill:none\" points=\"10173.7,1423.18 10173.7,1423.18 10216,1423.18 10173.7,1423.18 \"/>\n",
       "<path clip-path=\"url(#clip142)\" d=\"M10216 1423.18 L10216 1423.18 L10258.2 1423.18 L10258.2 1423.18 L10216 1423.18 L10216 1423.18  Z\" fill=\"#009af9\" fill-rule=\"evenodd\" fill-opacity=\"1\"/>\n",
       "<polyline clip-path=\"url(#clip142)\" style=\"stroke:#000000; stroke-linecap:round; stroke-linejoin:round; stroke-width:4; stroke-opacity:1; fill:none\" points=\"10216,1423.18 10216,1423.18 10258.2,1423.18 10216,1423.18 \"/>\n",
       "<path clip-path=\"url(#clip142)\" d=\"M10258.2 1423.18 L10258.2 1423.18 L10300.5 1423.18 L10300.5 1423.18 L10258.2 1423.18 L10258.2 1423.18  Z\" fill=\"#009af9\" fill-rule=\"evenodd\" fill-opacity=\"1\"/>\n",
       "<polyline clip-path=\"url(#clip142)\" style=\"stroke:#000000; stroke-linecap:round; stroke-linejoin:round; stroke-width:4; stroke-opacity:1; fill:none\" points=\"10258.2,1423.18 10258.2,1423.18 10300.5,1423.18 10258.2,1423.18 \"/>\n",
       "<path clip-path=\"url(#clip142)\" d=\"M10300.5 1423.18 L10300.5 1423.18 L10342.7 1423.18 L10342.7 1423.18 L10300.5 1423.18 L10300.5 1423.18  Z\" fill=\"#009af9\" fill-rule=\"evenodd\" fill-opacity=\"1\"/>\n",
       "<polyline clip-path=\"url(#clip142)\" style=\"stroke:#000000; stroke-linecap:round; stroke-linejoin:round; stroke-width:4; stroke-opacity:1; fill:none\" points=\"10300.5,1423.18 10300.5,1423.18 10342.7,1423.18 10300.5,1423.18 \"/>\n",
       "<path clip-path=\"url(#clip142)\" d=\"M10342.7 1423.18 L10342.7 1423.18 L10385 1423.18 L10385 1423.18 L10342.7 1423.18 L10342.7 1423.18  Z\" fill=\"#009af9\" fill-rule=\"evenodd\" fill-opacity=\"1\"/>\n",
       "<polyline clip-path=\"url(#clip142)\" style=\"stroke:#000000; stroke-linecap:round; stroke-linejoin:round; stroke-width:4; stroke-opacity:1; fill:none\" points=\"10342.7,1423.18 10342.7,1423.18 10385,1423.18 10342.7,1423.18 \"/>\n",
       "<path clip-path=\"url(#clip142)\" d=\"M10385 1423.18 L10385 1423.18 L10427.2 1423.18 L10427.2 1423.18 L10385 1423.18 L10385 1423.18  Z\" fill=\"#009af9\" fill-rule=\"evenodd\" fill-opacity=\"1\"/>\n",
       "<polyline clip-path=\"url(#clip142)\" style=\"stroke:#000000; stroke-linecap:round; stroke-linejoin:round; stroke-width:4; stroke-opacity:1; fill:none\" points=\"10385,1423.18 10385,1423.18 10427.2,1423.18 10385,1423.18 \"/>\n",
       "<path clip-path=\"url(#clip142)\" d=\"M10427.2 1423.18 L10427.2 1423.18 L10469.5 1423.18 L10469.5 1423.18 L10427.2 1423.18 L10427.2 1423.18  Z\" fill=\"#009af9\" fill-rule=\"evenodd\" fill-opacity=\"1\"/>\n",
       "<polyline clip-path=\"url(#clip142)\" style=\"stroke:#000000; stroke-linecap:round; stroke-linejoin:round; stroke-width:4; stroke-opacity:1; fill:none\" points=\"10427.2,1423.18 10427.2,1423.18 10469.5,1423.18 10427.2,1423.18 \"/>\n",
       "<path clip-path=\"url(#clip142)\" d=\"M10469.5 1423.18 L10469.5 1423.18 L10511.8 1423.18 L10511.8 1423.18 L10469.5 1423.18 L10469.5 1423.18  Z\" fill=\"#009af9\" fill-rule=\"evenodd\" fill-opacity=\"1\"/>\n",
       "<polyline clip-path=\"url(#clip142)\" style=\"stroke:#000000; stroke-linecap:round; stroke-linejoin:round; stroke-width:4; stroke-opacity:1; fill:none\" points=\"10469.5,1423.18 10469.5,1423.18 10511.8,1423.18 10469.5,1423.18 \"/>\n",
       "<path clip-path=\"url(#clip142)\" d=\"M10511.8 1423.18 L10511.8 1423.18 L10554 1423.18 L10554 1423.18 L10511.8 1423.18 L10511.8 1423.18  Z\" fill=\"#009af9\" fill-rule=\"evenodd\" fill-opacity=\"1\"/>\n",
       "<polyline clip-path=\"url(#clip142)\" style=\"stroke:#000000; stroke-linecap:round; stroke-linejoin:round; stroke-width:4; stroke-opacity:1; fill:none\" points=\"10511.8,1423.18 10511.8,1423.18 10554,1423.18 10511.8,1423.18 \"/>\n",
       "<path clip-path=\"url(#clip142)\" d=\"M10554 1423.18 L10554 1423.18 L10596.3 1423.18 L10596.3 1423.18 L10554 1423.18 L10554 1423.18  Z\" fill=\"#009af9\" fill-rule=\"evenodd\" fill-opacity=\"1\"/>\n",
       "<polyline clip-path=\"url(#clip142)\" style=\"stroke:#000000; stroke-linecap:round; stroke-linejoin:round; stroke-width:4; stroke-opacity:1; fill:none\" points=\"10554,1423.18 10554,1423.18 10596.3,1423.18 10554,1423.18 \"/>\n",
       "<path clip-path=\"url(#clip142)\" d=\"M10596.3 1423.18 L10596.3 1423.18 L10638.5 1423.18 L10638.5 1423.18 L10596.3 1423.18 L10596.3 1423.18  Z\" fill=\"#009af9\" fill-rule=\"evenodd\" fill-opacity=\"1\"/>\n",
       "<polyline clip-path=\"url(#clip142)\" style=\"stroke:#000000; stroke-linecap:round; stroke-linejoin:round; stroke-width:4; stroke-opacity:1; fill:none\" points=\"10596.3,1423.18 10596.3,1423.18 10638.5,1423.18 10596.3,1423.18 \"/>\n",
       "<path clip-path=\"url(#clip142)\" d=\"M10638.5 1423.18 L10638.5 1423.18 L10680.8 1423.18 L10680.8 1423.18 L10638.5 1423.18 L10638.5 1423.18  Z\" fill=\"#009af9\" fill-rule=\"evenodd\" fill-opacity=\"1\"/>\n",
       "<polyline clip-path=\"url(#clip142)\" style=\"stroke:#000000; stroke-linecap:round; stroke-linejoin:round; stroke-width:4; stroke-opacity:1; fill:none\" points=\"10638.5,1423.18 10638.5,1423.18 10680.8,1423.18 10638.5,1423.18 \"/>\n",
       "<path clip-path=\"url(#clip142)\" d=\"M10680.8 1423.18 L10680.8 1423.18 L10723 1423.18 L10723 1423.18 L10680.8 1423.18 L10680.8 1423.18  Z\" fill=\"#009af9\" fill-rule=\"evenodd\" fill-opacity=\"1\"/>\n",
       "<polyline clip-path=\"url(#clip142)\" style=\"stroke:#000000; stroke-linecap:round; stroke-linejoin:round; stroke-width:4; stroke-opacity:1; fill:none\" points=\"10680.8,1423.18 10680.8,1423.18 10723,1423.18 10680.8,1423.18 \"/>\n",
       "<path clip-path=\"url(#clip142)\" d=\"M10723 1423.18 L10723 1423.18 L10765.3 1423.18 L10765.3 1423.18 L10723 1423.18 L10723 1423.18  Z\" fill=\"#009af9\" fill-rule=\"evenodd\" fill-opacity=\"1\"/>\n",
       "<polyline clip-path=\"url(#clip142)\" style=\"stroke:#000000; stroke-linecap:round; stroke-linejoin:round; stroke-width:4; stroke-opacity:1; fill:none\" points=\"10723,1423.18 10723,1423.18 10765.3,1423.18 10723,1423.18 \"/>\n",
       "<path clip-path=\"url(#clip142)\" d=\"M10765.3 1423.18 L10765.3 1423.18 L10807.5 1423.18 L10807.5 1423.18 L10765.3 1423.18 L10765.3 1423.18  Z\" fill=\"#009af9\" fill-rule=\"evenodd\" fill-opacity=\"1\"/>\n",
       "<polyline clip-path=\"url(#clip142)\" style=\"stroke:#000000; stroke-linecap:round; stroke-linejoin:round; stroke-width:4; stroke-opacity:1; fill:none\" points=\"10765.3,1423.18 10765.3,1423.18 10807.5,1423.18 10765.3,1423.18 \"/>\n",
       "<path clip-path=\"url(#clip142)\" d=\"M10807.5 1423.18 L10807.5 1423.18 L10849.8 1423.18 L10849.8 1423.18 L10807.5 1423.18 L10807.5 1423.18  Z\" fill=\"#009af9\" fill-rule=\"evenodd\" fill-opacity=\"1\"/>\n",
       "<polyline clip-path=\"url(#clip142)\" style=\"stroke:#000000; stroke-linecap:round; stroke-linejoin:round; stroke-width:4; stroke-opacity:1; fill:none\" points=\"10807.5,1423.18 10807.5,1423.18 10849.8,1423.18 10807.5,1423.18 \"/>\n",
       "<path clip-path=\"url(#clip142)\" d=\"M10849.8 1423.18 L10849.8 1423.18 L10892 1423.18 L10892 1423.18 L10849.8 1423.18 L10849.8 1423.18  Z\" fill=\"#009af9\" fill-rule=\"evenodd\" fill-opacity=\"1\"/>\n",
       "<polyline clip-path=\"url(#clip142)\" style=\"stroke:#000000; stroke-linecap:round; stroke-linejoin:round; stroke-width:4; stroke-opacity:1; fill:none\" points=\"10849.8,1423.18 10849.8,1423.18 10892,1423.18 10849.8,1423.18 \"/>\n",
       "<path clip-path=\"url(#clip142)\" d=\"M10892 1423.18 L10892 1423.18 L10934.3 1423.18 L10934.3 1423.18 L10892 1423.18 L10892 1423.18  Z\" fill=\"#009af9\" fill-rule=\"evenodd\" fill-opacity=\"1\"/>\n",
       "<polyline clip-path=\"url(#clip142)\" style=\"stroke:#000000; stroke-linecap:round; stroke-linejoin:round; stroke-width:4; stroke-opacity:1; fill:none\" points=\"10892,1423.18 10892,1423.18 10934.3,1423.18 10892,1423.18 \"/>\n",
       "<path clip-path=\"url(#clip142)\" d=\"M10934.3 1423.18 L10934.3 1423.18 L10976.5 1423.18 L10976.5 1423.18 L10934.3 1423.18 L10934.3 1423.18  Z\" fill=\"#009af9\" fill-rule=\"evenodd\" fill-opacity=\"1\"/>\n",
       "<polyline clip-path=\"url(#clip142)\" style=\"stroke:#000000; stroke-linecap:round; stroke-linejoin:round; stroke-width:4; stroke-opacity:1; fill:none\" points=\"10934.3,1423.18 10934.3,1423.18 10976.5,1423.18 10934.3,1423.18 \"/>\n",
       "<path clip-path=\"url(#clip142)\" d=\"M10976.5 1423.18 L10976.5 1423.18 L11018.8 1423.18 L11018.8 1423.18 L10976.5 1423.18 L10976.5 1423.18  Z\" fill=\"#009af9\" fill-rule=\"evenodd\" fill-opacity=\"1\"/>\n",
       "<polyline clip-path=\"url(#clip142)\" style=\"stroke:#000000; stroke-linecap:round; stroke-linejoin:round; stroke-width:4; stroke-opacity:1; fill:none\" points=\"10976.5,1423.18 10976.5,1423.18 11018.8,1423.18 10976.5,1423.18 \"/>\n",
       "<path clip-path=\"url(#clip142)\" d=\"M11018.8 1423.18 L11018.8 1423.18 L11061 1423.18 L11061 1423.18 L11018.8 1423.18 L11018.8 1423.18  Z\" fill=\"#009af9\" fill-rule=\"evenodd\" fill-opacity=\"1\"/>\n",
       "<polyline clip-path=\"url(#clip142)\" style=\"stroke:#000000; stroke-linecap:round; stroke-linejoin:round; stroke-width:4; stroke-opacity:1; fill:none\" points=\"11018.8,1423.18 11018.8,1423.18 11061,1423.18 11018.8,1423.18 \"/>\n",
       "<path clip-path=\"url(#clip142)\" d=\"M11061 1423.18 L11061 1423.18 L11103.3 1423.18 L11103.3 1423.18 L11061 1423.18 L11061 1423.18  Z\" fill=\"#009af9\" fill-rule=\"evenodd\" fill-opacity=\"1\"/>\n",
       "<polyline clip-path=\"url(#clip142)\" style=\"stroke:#000000; stroke-linecap:round; stroke-linejoin:round; stroke-width:4; stroke-opacity:1; fill:none\" points=\"11061,1423.18 11061,1423.18 11103.3,1423.18 11061,1423.18 \"/>\n",
       "<path clip-path=\"url(#clip142)\" d=\"M11103.3 1423.18 L11103.3 1423.18 L11145.5 1423.18 L11145.5 1423.18 L11103.3 1423.18 L11103.3 1423.18  Z\" fill=\"#009af9\" fill-rule=\"evenodd\" fill-opacity=\"1\"/>\n",
       "<polyline clip-path=\"url(#clip142)\" style=\"stroke:#000000; stroke-linecap:round; stroke-linejoin:round; stroke-width:4; stroke-opacity:1; fill:none\" points=\"11103.3,1423.18 11103.3,1423.18 11145.5,1423.18 11103.3,1423.18 \"/>\n",
       "<path clip-path=\"url(#clip142)\" d=\"M11145.5 1423.18 L11145.5 1423.18 L11187.8 1423.18 L11187.8 1423.18 L11145.5 1423.18 L11145.5 1423.18  Z\" fill=\"#009af9\" fill-rule=\"evenodd\" fill-opacity=\"1\"/>\n",
       "<polyline clip-path=\"url(#clip142)\" style=\"stroke:#000000; stroke-linecap:round; stroke-linejoin:round; stroke-width:4; stroke-opacity:1; fill:none\" points=\"11145.5,1423.18 11145.5,1423.18 11187.8,1423.18 11145.5,1423.18 \"/>\n",
       "<path clip-path=\"url(#clip142)\" d=\"M11187.8 1423.18 L11187.8 1423.18 L11230 1423.18 L11230 1423.18 L11187.8 1423.18 L11187.8 1423.18  Z\" fill=\"#009af9\" fill-rule=\"evenodd\" fill-opacity=\"1\"/>\n",
       "<polyline clip-path=\"url(#clip142)\" style=\"stroke:#000000; stroke-linecap:round; stroke-linejoin:round; stroke-width:4; stroke-opacity:1; fill:none\" points=\"11187.8,1423.18 11187.8,1423.18 11230,1423.18 11187.8,1423.18 \"/>\n",
       "<path clip-path=\"url(#clip142)\" d=\"M11230 1423.18 L11230 1423.18 L11272.3 1423.18 L11272.3 1423.18 L11230 1423.18 L11230 1423.18  Z\" fill=\"#009af9\" fill-rule=\"evenodd\" fill-opacity=\"1\"/>\n",
       "<polyline clip-path=\"url(#clip142)\" style=\"stroke:#000000; stroke-linecap:round; stroke-linejoin:round; stroke-width:4; stroke-opacity:1; fill:none\" points=\"11230,1423.18 11230,1423.18 11272.3,1423.18 11230,1423.18 \"/>\n",
       "<path clip-path=\"url(#clip142)\" d=\"M11272.3 1423.18 L11272.3 1423.18 L11314.5 1423.18 L11314.5 1423.18 L11272.3 1423.18 L11272.3 1423.18  Z\" fill=\"#009af9\" fill-rule=\"evenodd\" fill-opacity=\"1\"/>\n",
       "<polyline clip-path=\"url(#clip142)\" style=\"stroke:#000000; stroke-linecap:round; stroke-linejoin:round; stroke-width:4; stroke-opacity:1; fill:none\" points=\"11272.3,1423.18 11272.3,1423.18 11314.5,1423.18 11272.3,1423.18 \"/>\n",
       "<path clip-path=\"url(#clip142)\" d=\"M11314.5 1423.18 L11314.5 1423.18 L11356.8 1423.18 L11356.8 1423.18 L11314.5 1423.18 L11314.5 1423.18  Z\" fill=\"#009af9\" fill-rule=\"evenodd\" fill-opacity=\"1\"/>\n",
       "<polyline clip-path=\"url(#clip142)\" style=\"stroke:#000000; stroke-linecap:round; stroke-linejoin:round; stroke-width:4; stroke-opacity:1; fill:none\" points=\"11314.5,1423.18 11314.5,1423.18 11356.8,1423.18 11314.5,1423.18 \"/>\n",
       "<path clip-path=\"url(#clip142)\" d=\"M11356.8 1423.18 L11356.8 1423.18 L11399 1423.18 L11399 1423.18 L11356.8 1423.18 L11356.8 1423.18  Z\" fill=\"#009af9\" fill-rule=\"evenodd\" fill-opacity=\"1\"/>\n",
       "<polyline clip-path=\"url(#clip142)\" style=\"stroke:#000000; stroke-linecap:round; stroke-linejoin:round; stroke-width:4; stroke-opacity:1; fill:none\" points=\"11356.8,1423.18 11356.8,1423.18 11399,1423.18 11356.8,1423.18 \"/>\n",
       "<path clip-path=\"url(#clip142)\" d=\"M11399 1423.18 L11399 1423.18 L11441.3 1423.18 L11441.3 1423.18 L11399 1423.18 L11399 1423.18  Z\" fill=\"#009af9\" fill-rule=\"evenodd\" fill-opacity=\"1\"/>\n",
       "<polyline clip-path=\"url(#clip142)\" style=\"stroke:#000000; stroke-linecap:round; stroke-linejoin:round; stroke-width:4; stroke-opacity:1; fill:none\" points=\"11399,1423.18 11399,1423.18 11441.3,1423.18 11399,1423.18 \"/>\n",
       "<path clip-path=\"url(#clip142)\" d=\"M11441.3 1423.18 L11441.3 1423.18 L11483.6 1423.18 L11483.6 1423.18 L11441.3 1423.18 L11441.3 1423.18  Z\" fill=\"#009af9\" fill-rule=\"evenodd\" fill-opacity=\"1\"/>\n",
       "<polyline clip-path=\"url(#clip142)\" style=\"stroke:#000000; stroke-linecap:round; stroke-linejoin:round; stroke-width:4; stroke-opacity:1; fill:none\" points=\"11441.3,1423.18 11441.3,1423.18 11483.6,1423.18 11441.3,1423.18 \"/>\n",
       "<path clip-path=\"url(#clip142)\" d=\"M11483.6 1423.18 L11483.6 1423.18 L11525.8 1423.18 L11525.8 1423.18 L11483.6 1423.18 L11483.6 1423.18  Z\" fill=\"#009af9\" fill-rule=\"evenodd\" fill-opacity=\"1\"/>\n",
       "<polyline clip-path=\"url(#clip142)\" style=\"stroke:#000000; stroke-linecap:round; stroke-linejoin:round; stroke-width:4; stroke-opacity:1; fill:none\" points=\"11483.6,1423.18 11483.6,1423.18 11525.8,1423.18 11483.6,1423.18 \"/>\n",
       "<path clip-path=\"url(#clip142)\" d=\"M11525.8 1423.18 L11525.8 1423.18 L11568.1 1423.18 L11568.1 1423.18 L11525.8 1423.18 L11525.8 1423.18  Z\" fill=\"#009af9\" fill-rule=\"evenodd\" fill-opacity=\"1\"/>\n",
       "<polyline clip-path=\"url(#clip142)\" style=\"stroke:#000000; stroke-linecap:round; stroke-linejoin:round; stroke-width:4; stroke-opacity:1; fill:none\" points=\"11525.8,1423.18 11525.8,1423.18 11568.1,1423.18 11525.8,1423.18 \"/>\n",
       "<path clip-path=\"url(#clip142)\" d=\"M11568.1 1423.18 L11568.1 1423.18 L11610.3 1423.18 L11610.3 1423.18 L11568.1 1423.18 L11568.1 1423.18  Z\" fill=\"#009af9\" fill-rule=\"evenodd\" fill-opacity=\"1\"/>\n",
       "<polyline clip-path=\"url(#clip142)\" style=\"stroke:#000000; stroke-linecap:round; stroke-linejoin:round; stroke-width:4; stroke-opacity:1; fill:none\" points=\"11568.1,1423.18 11568.1,1423.18 11610.3,1423.18 11568.1,1423.18 \"/>\n",
       "<path clip-path=\"url(#clip142)\" d=\"M11610.3 1423.18 L11610.3 1423.18 L11652.6 1423.18 L11652.6 1423.18 L11610.3 1423.18 L11610.3 1423.18  Z\" fill=\"#009af9\" fill-rule=\"evenodd\" fill-opacity=\"1\"/>\n",
       "<polyline clip-path=\"url(#clip142)\" style=\"stroke:#000000; stroke-linecap:round; stroke-linejoin:round; stroke-width:4; stroke-opacity:1; fill:none\" points=\"11610.3,1423.18 11610.3,1423.18 11652.6,1423.18 11610.3,1423.18 \"/>\n",
       "<path clip-path=\"url(#clip142)\" d=\"M11652.6 1423.18 L11652.6 1423.18 L11694.8 1423.18 L11694.8 1423.18 L11652.6 1423.18 L11652.6 1423.18  Z\" fill=\"#009af9\" fill-rule=\"evenodd\" fill-opacity=\"1\"/>\n",
       "<polyline clip-path=\"url(#clip142)\" style=\"stroke:#000000; stroke-linecap:round; stroke-linejoin:round; stroke-width:4; stroke-opacity:1; fill:none\" points=\"11652.6,1423.18 11652.6,1423.18 11694.8,1423.18 11652.6,1423.18 \"/>\n",
       "<path clip-path=\"url(#clip142)\" d=\"M11694.8 1423.18 L11694.8 1423.18 L11737.1 1423.18 L11737.1 1423.18 L11694.8 1423.18 L11694.8 1423.18  Z\" fill=\"#009af9\" fill-rule=\"evenodd\" fill-opacity=\"1\"/>\n",
       "<polyline clip-path=\"url(#clip142)\" style=\"stroke:#000000; stroke-linecap:round; stroke-linejoin:round; stroke-width:4; stroke-opacity:1; fill:none\" points=\"11694.8,1423.18 11694.8,1423.18 11737.1,1423.18 11694.8,1423.18 \"/>\n",
       "<path clip-path=\"url(#clip142)\" d=\"M11737.1 1423.18 L11737.1 1423.18 L11779.3 1423.18 L11779.3 1423.18 L11737.1 1423.18 L11737.1 1423.18  Z\" fill=\"#009af9\" fill-rule=\"evenodd\" fill-opacity=\"1\"/>\n",
       "<polyline clip-path=\"url(#clip142)\" style=\"stroke:#000000; stroke-linecap:round; stroke-linejoin:round; stroke-width:4; stroke-opacity:1; fill:none\" points=\"11737.1,1423.18 11737.1,1423.18 11779.3,1423.18 11737.1,1423.18 \"/>\n",
       "<path clip-path=\"url(#clip142)\" d=\"M11779.3 1423.18 L11779.3 1423.18 L11821.6 1423.18 L11821.6 1423.18 L11779.3 1423.18 L11779.3 1423.18  Z\" fill=\"#009af9\" fill-rule=\"evenodd\" fill-opacity=\"1\"/>\n",
       "<polyline clip-path=\"url(#clip142)\" style=\"stroke:#000000; stroke-linecap:round; stroke-linejoin:round; stroke-width:4; stroke-opacity:1; fill:none\" points=\"11779.3,1423.18 11779.3,1423.18 11821.6,1423.18 11779.3,1423.18 \"/>\n",
       "<path clip-path=\"url(#clip142)\" d=\"M11821.6 1423.18 L11821.6 1423.18 L11863.8 1423.18 L11863.8 1423.18 L11821.6 1423.18 L11821.6 1423.18  Z\" fill=\"#009af9\" fill-rule=\"evenodd\" fill-opacity=\"1\"/>\n",
       "<polyline clip-path=\"url(#clip142)\" style=\"stroke:#000000; stroke-linecap:round; stroke-linejoin:round; stroke-width:4; stroke-opacity:1; fill:none\" points=\"11821.6,1423.18 11821.6,1423.18 11863.8,1423.18 11821.6,1423.18 \"/>\n",
       "<path clip-path=\"url(#clip142)\" d=\"M11863.8 1308.52 L11863.8 1423.18 L11906.1 1423.18 L11906.1 1308.52 L11863.8 1308.52 L11863.8 1308.52  Z\" fill=\"#009af9\" fill-rule=\"evenodd\" fill-opacity=\"1\"/>\n",
       "<polyline clip-path=\"url(#clip142)\" style=\"stroke:#000000; stroke-linecap:round; stroke-linejoin:round; stroke-width:4; stroke-opacity:1; fill:none\" points=\"11863.8,1308.52 11863.8,1423.18 11906.1,1423.18 11906.1,1308.52 11863.8,1308.52 \"/>\n",
       "<circle clip-path=\"url(#clip142)\" style=\"fill:#009af9; stroke:none; fill-opacity:0\" cx=\"223.354\" cy=\"1193.86\" r=\"2\"/>\n",
       "<circle clip-path=\"url(#clip142)\" style=\"fill:#009af9; stroke:none; fill-opacity:0\" cx=\"265.606\" cy=\"849.873\" r=\"2\"/>\n",
       "<circle clip-path=\"url(#clip142)\" style=\"fill:#009af9; stroke:none; fill-opacity:0\" cx=\"307.858\" cy=\"1193.86\" r=\"2\"/>\n",
       "<circle clip-path=\"url(#clip142)\" style=\"fill:#009af9; stroke:none; fill-opacity:0\" cx=\"350.11\" cy=\"1193.86\" r=\"2\"/>\n",
       "<circle clip-path=\"url(#clip142)\" style=\"fill:#009af9; stroke:none; fill-opacity:0\" cx=\"392.362\" cy=\"1193.86\" r=\"2\"/>\n",
       "<circle clip-path=\"url(#clip142)\" style=\"fill:#009af9; stroke:none; fill-opacity:0\" cx=\"434.614\" cy=\"1423.18\" r=\"2\"/>\n",
       "<circle clip-path=\"url(#clip142)\" style=\"fill:#009af9; stroke:none; fill-opacity:0\" cx=\"476.866\" cy=\"1308.52\" r=\"2\"/>\n",
       "<circle clip-path=\"url(#clip142)\" style=\"fill:#009af9; stroke:none; fill-opacity:0\" cx=\"519.119\" cy=\"964.535\" r=\"2\"/>\n",
       "<circle clip-path=\"url(#clip142)\" style=\"fill:#009af9; stroke:none; fill-opacity:0\" cx=\"561.371\" cy=\"1193.86\" r=\"2\"/>\n",
       "<circle clip-path=\"url(#clip142)\" style=\"fill:#009af9; stroke:none; fill-opacity:0\" cx=\"603.623\" cy=\"964.535\" r=\"2\"/>\n",
       "<circle clip-path=\"url(#clip142)\" style=\"fill:#009af9; stroke:none; fill-opacity:0\" cx=\"645.875\" cy=\"1308.52\" r=\"2\"/>\n",
       "<circle clip-path=\"url(#clip142)\" style=\"fill:#009af9; stroke:none; fill-opacity:0\" cx=\"688.127\" cy=\"1079.2\" r=\"2\"/>\n",
       "<circle clip-path=\"url(#clip142)\" style=\"fill:#009af9; stroke:none; fill-opacity:0\" cx=\"730.379\" cy=\"1423.18\" r=\"2\"/>\n",
       "<circle clip-path=\"url(#clip142)\" style=\"fill:#009af9; stroke:none; fill-opacity:0\" cx=\"772.631\" cy=\"1193.86\" r=\"2\"/>\n",
       "<circle clip-path=\"url(#clip142)\" style=\"fill:#009af9; stroke:none; fill-opacity:0\" cx=\"814.884\" cy=\"1079.2\" r=\"2\"/>\n",
       "<circle clip-path=\"url(#clip142)\" style=\"fill:#009af9; stroke:none; fill-opacity:0\" cx=\"857.136\" cy=\"1308.52\" r=\"2\"/>\n",
       "<circle clip-path=\"url(#clip142)\" style=\"fill:#009af9; stroke:none; fill-opacity:0\" cx=\"899.388\" cy=\"1193.86\" r=\"2\"/>\n",
       "<circle clip-path=\"url(#clip142)\" style=\"fill:#009af9; stroke:none; fill-opacity:0\" cx=\"941.64\" cy=\"1079.2\" r=\"2\"/>\n",
       "<circle clip-path=\"url(#clip142)\" style=\"fill:#009af9; stroke:none; fill-opacity:0\" cx=\"983.892\" cy=\"1423.18\" r=\"2\"/>\n",
       "<circle clip-path=\"url(#clip142)\" style=\"fill:#009af9; stroke:none; fill-opacity:0\" cx=\"1026.14\" cy=\"1423.18\" r=\"2\"/>\n",
       "<circle clip-path=\"url(#clip142)\" style=\"fill:#009af9; stroke:none; fill-opacity:0\" cx=\"1068.4\" cy=\"1193.86\" r=\"2\"/>\n",
       "<circle clip-path=\"url(#clip142)\" style=\"fill:#009af9; stroke:none; fill-opacity:0\" cx=\"1110.65\" cy=\"1423.18\" r=\"2\"/>\n",
       "<circle clip-path=\"url(#clip142)\" style=\"fill:#009af9; stroke:none; fill-opacity:0\" cx=\"1152.9\" cy=\"1423.18\" r=\"2\"/>\n",
       "<circle clip-path=\"url(#clip142)\" style=\"fill:#009af9; stroke:none; fill-opacity:0\" cx=\"1195.15\" cy=\"1079.2\" r=\"2\"/>\n",
       "<circle clip-path=\"url(#clip142)\" style=\"fill:#009af9; stroke:none; fill-opacity:0\" cx=\"1237.41\" cy=\"1423.18\" r=\"2\"/>\n",
       "<circle clip-path=\"url(#clip142)\" style=\"fill:#009af9; stroke:none; fill-opacity:0\" cx=\"1279.66\" cy=\"1308.52\" r=\"2\"/>\n",
       "<circle clip-path=\"url(#clip142)\" style=\"fill:#009af9; stroke:none; fill-opacity:0\" cx=\"1321.91\" cy=\"1423.18\" r=\"2\"/>\n",
       "<circle clip-path=\"url(#clip142)\" style=\"fill:#009af9; stroke:none; fill-opacity:0\" cx=\"1364.16\" cy=\"1308.52\" r=\"2\"/>\n",
       "<circle clip-path=\"url(#clip142)\" style=\"fill:#009af9; stroke:none; fill-opacity:0\" cx=\"1406.41\" cy=\"1423.18\" r=\"2\"/>\n",
       "<circle clip-path=\"url(#clip142)\" style=\"fill:#009af9; stroke:none; fill-opacity:0\" cx=\"1448.67\" cy=\"1308.52\" r=\"2\"/>\n",
       "<circle clip-path=\"url(#clip142)\" style=\"fill:#009af9; stroke:none; fill-opacity:0\" cx=\"1490.92\" cy=\"1308.52\" r=\"2\"/>\n",
       "<circle clip-path=\"url(#clip142)\" style=\"fill:#009af9; stroke:none; fill-opacity:0\" cx=\"1533.17\" cy=\"1308.52\" r=\"2\"/>\n",
       "<circle clip-path=\"url(#clip142)\" style=\"fill:#009af9; stroke:none; fill-opacity:0\" cx=\"1575.42\" cy=\"1308.52\" r=\"2\"/>\n",
       "<circle clip-path=\"url(#clip142)\" style=\"fill:#009af9; stroke:none; fill-opacity:0\" cx=\"1617.67\" cy=\"1193.86\" r=\"2\"/>\n",
       "<circle clip-path=\"url(#clip142)\" style=\"fill:#009af9; stroke:none; fill-opacity:0\" cx=\"1659.93\" cy=\"1423.18\" r=\"2\"/>\n",
       "<circle clip-path=\"url(#clip142)\" style=\"fill:#009af9; stroke:none; fill-opacity:0\" cx=\"1702.18\" cy=\"1308.52\" r=\"2\"/>\n",
       "<circle clip-path=\"url(#clip142)\" style=\"fill:#009af9; stroke:none; fill-opacity:0\" cx=\"1744.43\" cy=\"1193.86\" r=\"2\"/>\n",
       "<circle clip-path=\"url(#clip142)\" style=\"fill:#009af9; stroke:none; fill-opacity:0\" cx=\"1786.68\" cy=\"1423.18\" r=\"2\"/>\n",
       "<circle clip-path=\"url(#clip142)\" style=\"fill:#009af9; stroke:none; fill-opacity:0\" cx=\"1828.94\" cy=\"1423.18\" r=\"2\"/>\n",
       "<circle clip-path=\"url(#clip142)\" style=\"fill:#009af9; stroke:none; fill-opacity:0\" cx=\"1871.19\" cy=\"1423.18\" r=\"2\"/>\n",
       "<circle clip-path=\"url(#clip142)\" style=\"fill:#009af9; stroke:none; fill-opacity:0\" cx=\"1913.44\" cy=\"1308.52\" r=\"2\"/>\n",
       "<circle clip-path=\"url(#clip142)\" style=\"fill:#009af9; stroke:none; fill-opacity:0\" cx=\"1955.69\" cy=\"1423.18\" r=\"2\"/>\n",
       "<circle clip-path=\"url(#clip142)\" style=\"fill:#009af9; stroke:none; fill-opacity:0\" cx=\"1997.94\" cy=\"1308.52\" r=\"2\"/>\n",
       "<circle clip-path=\"url(#clip142)\" style=\"fill:#009af9; stroke:none; fill-opacity:0\" cx=\"2040.2\" cy=\"1193.86\" r=\"2\"/>\n",
       "<circle clip-path=\"url(#clip142)\" style=\"fill:#009af9; stroke:none; fill-opacity:0\" cx=\"2082.45\" cy=\"1423.18\" r=\"2\"/>\n",
       "<circle clip-path=\"url(#clip142)\" style=\"fill:#009af9; stroke:none; fill-opacity:0\" cx=\"2124.7\" cy=\"1423.18\" r=\"2\"/>\n",
       "<circle clip-path=\"url(#clip142)\" style=\"fill:#009af9; stroke:none; fill-opacity:0\" cx=\"2166.95\" cy=\"1193.86\" r=\"2\"/>\n",
       "<circle clip-path=\"url(#clip142)\" style=\"fill:#009af9; stroke:none; fill-opacity:0\" cx=\"2209.2\" cy=\"1423.18\" r=\"2\"/>\n",
       "<circle clip-path=\"url(#clip142)\" style=\"fill:#009af9; stroke:none; fill-opacity:0\" cx=\"2251.46\" cy=\"1308.52\" r=\"2\"/>\n",
       "<circle clip-path=\"url(#clip142)\" style=\"fill:#009af9; stroke:none; fill-opacity:0\" cx=\"2293.71\" cy=\"1423.18\" r=\"2\"/>\n",
       "<circle clip-path=\"url(#clip142)\" style=\"fill:#009af9; stroke:none; fill-opacity:0\" cx=\"2335.96\" cy=\"1423.18\" r=\"2\"/>\n",
       "</svg>\n"
      ]
     },
     "metadata": {},
     "output_type": "display_data"
    }
   ],
   "source": [
    "using Statistics # bring in statistical support for standard deviations\n",
    "t = c_bench.times / 1e6 # times in milliseconds\n",
    "m, σ = minimum(t), std(t)\n",
    "\n",
    "histogram(t, bins=500,\n",
    "    xlim=(m - 0.01, m + σ),\n",
    "    xlabel=\"milliseconds\", ylabel=\"count\", label=\"\")"
   ]
  },
  {
   "cell_type": "markdown",
   "id": "8892d38e",
   "metadata": {},
   "source": [
    "### 2. C with -ffast-math\n",
    "If we allow C to re-arrange the floating point operations, then it'll vectorize with SIMD \n",
    "(single instruction, multiple data) instructions."
   ]
  },
  {
   "cell_type": "code",
   "execution_count": 14,
   "id": "d94cca20",
   "metadata": {},
   "outputs": [
    {
     "data": {
      "text/plain": [
       "c_sum_fastmath (generic function with 1 method)"
      ]
     },
     "metadata": {},
     "output_type": "display_data"
    }
   ],
   "source": [
    "const Clib_fastmath = tempname()   # make a temporary file\n",
    "\n",
    "# The same as above but with a -ffast-math flag added\n",
    "open(`gcc -fPIC -O3 -msse3 -xc -shared -ffast-math -o $(Clib_fastmath * \".\" * Libdl.dlext) -`, \"w\") do f\n",
    "    print(f, C_code) \n",
    "end\n",
    "\n",
    "# define a Julia function that calls the C function:\n",
    "c_sum_fastmath(X::Array{Float64}) = ccall((\"c_sum\", Clib_fastmath), Float64, (Csize_t, Ptr{Float64}), length(X), X)"
   ]
  },
  {
   "cell_type": "code",
   "execution_count": 15,
   "id": "27a99cea",
   "metadata": {},
   "outputs": [
    {
     "data": {
      "text/plain": [
       "BenchmarkTools.Trial: 664 samples with 1 evaluation per sample.\n",
       " Range \u001b[90m(\u001b[39m\u001b[36m\u001b[1mmin\u001b[22m\u001b[39m … \u001b[35mmax\u001b[39m\u001b[90m):  \u001b[39m\u001b[36m\u001b[1m6.207 ms\u001b[22m\u001b[39m … \u001b[35m12.232 ms\u001b[39m  \u001b[90m┊\u001b[39m GC \u001b[90m(\u001b[39mmin … max\u001b[90m): \u001b[39m0.00% … 0.00%\n",
       " Time  \u001b[90m(\u001b[39m\u001b[34m\u001b[1mmedian\u001b[22m\u001b[39m\u001b[90m):     \u001b[39m\u001b[34m\u001b[1m6.524 ms              \u001b[22m\u001b[39m\u001b[90m┊\u001b[39m GC \u001b[90m(\u001b[39mmedian\u001b[90m):    \u001b[39m0.00%\n",
       " Time  \u001b[90m(\u001b[39m\u001b[32m\u001b[1mmean\u001b[22m\u001b[39m ± \u001b[32mσ\u001b[39m\u001b[90m):   \u001b[39m\u001b[32m\u001b[1m7.522 ms\u001b[22m\u001b[39m ± \u001b[32m 1.379 ms\u001b[39m  \u001b[90m┊\u001b[39m GC \u001b[90m(\u001b[39mmean ± σ\u001b[90m):  \u001b[39m0.00% ± 0.00%\n",
       "\n",
       "  \u001b[39m█\u001b[39m▃\u001b[39m▁\u001b[39m▁\u001b[39m \u001b[34m \u001b[39m\u001b[39m \u001b[39m \u001b[39m \u001b[39m \u001b[39m \u001b[39m \u001b[39m \u001b[39m \u001b[39m \u001b[39m \u001b[39m \u001b[39m \u001b[39m \u001b[39m \u001b[32m \u001b[39m\u001b[39m \u001b[39m \u001b[39m \u001b[39m \u001b[39m \u001b[39m \u001b[39m \u001b[39m \u001b[39m \u001b[39m \u001b[39m \u001b[39m \u001b[39m \u001b[39m \u001b[39m▁\u001b[39m▂\u001b[39m▂\u001b[39m▃\u001b[39m▁\u001b[39m▃\u001b[39m▂\u001b[39m▁\u001b[39m▁\u001b[39m▁\u001b[39m \u001b[39m \u001b[39m \u001b[39m \u001b[39m \u001b[39m \u001b[39m \u001b[39m \u001b[39m \u001b[39m \u001b[39m \u001b[39m \u001b[39m \u001b[39m \u001b[39m \n",
       "  \u001b[39m█\u001b[39m█\u001b[39m█\u001b[39m█\u001b[39m█\u001b[34m▇\u001b[39m\u001b[39m▇\u001b[39m█\u001b[39m▄\u001b[39m▄\u001b[39m▆\u001b[39m▄\u001b[39m▄\u001b[39m▄\u001b[39m▁\u001b[39m▁\u001b[39m▁\u001b[39m▁\u001b[39m▁\u001b[39m▁\u001b[32m▁\u001b[39m\u001b[39m▁\u001b[39m▁\u001b[39m▄\u001b[39m▁\u001b[39m▁\u001b[39m▁\u001b[39m▁\u001b[39m▁\u001b[39m▄\u001b[39m▁\u001b[39m▅\u001b[39m▄\u001b[39m▇\u001b[39m█\u001b[39m█\u001b[39m█\u001b[39m█\u001b[39m█\u001b[39m█\u001b[39m█\u001b[39m█\u001b[39m█\u001b[39m█\u001b[39m█\u001b[39m█\u001b[39m█\u001b[39m▇\u001b[39m▇\u001b[39m▆\u001b[39m▇\u001b[39m▄\u001b[39m▅\u001b[39m▇\u001b[39m▅\u001b[39m▅\u001b[39m▇\u001b[39m▄\u001b[39m \u001b[39m▇\n",
       "  6.21 ms\u001b[90m      \u001b[39m\u001b[90mHistogram: \u001b[39m\u001b[90m\u001b[1mlog(\u001b[22m\u001b[39m\u001b[90mfrequency\u001b[39m\u001b[90m\u001b[1m)\u001b[22m\u001b[39m\u001b[90m by time\u001b[39m       10 ms \u001b[0m\u001b[1m<\u001b[22m\n",
       "\n",
       " Memory estimate\u001b[90m: \u001b[39m\u001b[33m0 bytes\u001b[39m, allocs estimate\u001b[90m: \u001b[39m\u001b[33m0\u001b[39m."
      ]
     },
     "metadata": {},
     "output_type": "display_data"
    }
   ],
   "source": [
    "c_fastmath_bench = @benchmark $c_sum_fastmath($a)"
   ]
  },
  {
   "cell_type": "code",
   "execution_count": 16,
   "id": "dcf09b9a",
   "metadata": {},
   "outputs": [
    {
     "data": {
      "text/plain": [
       "Dict{Any, Any} with 2 entries:\n",
       "  \"C\"             => 12.07\n",
       "  \"C -ffast-math\" => 6.2075"
      ]
     },
     "metadata": {},
     "output_type": "display_data"
    }
   ],
   "source": [
    "d[\"C -ffast-math\"] = minimum(c_fastmath_bench.times) / 1e6  # in milliseconds\n",
    "d"
   ]
  },
  {
   "cell_type": "markdown",
   "id": "45632c76",
   "metadata": {},
   "source": [
    "### 3. Python's built in sum\n",
    "\n",
    "The PyCall package provides a Julia interface to Python:"
   ]
  },
  {
   "cell_type": "code",
   "execution_count": 17,
   "id": "34a5f3cb",
   "metadata": {},
   "outputs": [],
   "source": [
    "# import Pkg; Pkg.add(\"PyCall\")"
   ]
  },
  {
   "cell_type": "code",
   "execution_count": 18,
   "id": "0eb411e7",
   "metadata": {},
   "outputs": [],
   "source": [
    "using PyCall"
   ]
  },
  {
   "cell_type": "code",
   "execution_count": 19,
   "id": "6ed08729",
   "metadata": {},
   "outputs": [
    {
     "data": {
      "text/plain": [
       "PyObject <built-in function sum>"
      ]
     },
     "metadata": {},
     "output_type": "display_data"
    }
   ],
   "source": [
    "# get the Python built-in \"sum\" function:\n",
    "\n",
    "pysum = pybuiltin(\"sum\")"
   ]
  },
  {
   "cell_type": "code",
   "execution_count": 20,
   "id": "f4104947",
   "metadata": {},
   "outputs": [
    {
     "data": {
      "text/plain": [
       "true"
      ]
     },
     "metadata": {},
     "output_type": "display_data"
    }
   ],
   "source": [
    "pysum(a) ≈ sum(a)"
   ]
  },
  {
   "cell_type": "code",
   "execution_count": 21,
   "id": "a61d4aeb",
   "metadata": {},
   "outputs": [
    {
     "data": {
      "text/plain": [
       "BenchmarkTools.Trial: 7 samples with 1 evaluation per sample.\n",
       " Range \u001b[90m(\u001b[39m\u001b[36m\u001b[1mmin\u001b[22m\u001b[39m … \u001b[35mmax\u001b[39m\u001b[90m):  \u001b[39m\u001b[36m\u001b[1m736.089 ms\u001b[22m\u001b[39m … \u001b[35m860.106 ms\u001b[39m  \u001b[90m┊\u001b[39m GC \u001b[90m(\u001b[39mmin … max\u001b[90m): \u001b[39m0.00% … 0.00%\n",
       " Time  \u001b[90m(\u001b[39m\u001b[34m\u001b[1mmedian\u001b[22m\u001b[39m\u001b[90m):     \u001b[39m\u001b[34m\u001b[1m748.459 ms               \u001b[22m\u001b[39m\u001b[90m┊\u001b[39m GC \u001b[90m(\u001b[39mmedian\u001b[90m):    \u001b[39m0.00%\n",
       " Time  \u001b[90m(\u001b[39m\u001b[32m\u001b[1mmean\u001b[22m\u001b[39m ± \u001b[32mσ\u001b[39m\u001b[90m):   \u001b[39m\u001b[32m\u001b[1m775.624 ms\u001b[22m\u001b[39m ± \u001b[32m 47.601 ms\u001b[39m  \u001b[90m┊\u001b[39m GC \u001b[90m(\u001b[39mmean ± σ\u001b[90m):  \u001b[39m0.00% ± 0.00%\n",
       "\n",
       "  \u001b[39m█\u001b[39m█\u001b[39m \u001b[39m█\u001b[34m \u001b[39m\u001b[39m \u001b[39m█\u001b[39m \u001b[39m \u001b[39m \u001b[39m \u001b[39m \u001b[39m \u001b[39m \u001b[39m \u001b[39m \u001b[39m \u001b[39m \u001b[39m \u001b[32m \u001b[39m\u001b[39m \u001b[39m \u001b[39m \u001b[39m█\u001b[39m \u001b[39m \u001b[39m \u001b[39m \u001b[39m \u001b[39m \u001b[39m \u001b[39m \u001b[39m \u001b[39m \u001b[39m \u001b[39m \u001b[39m \u001b[39m \u001b[39m \u001b[39m█\u001b[39m \u001b[39m \u001b[39m \u001b[39m \u001b[39m \u001b[39m \u001b[39m \u001b[39m \u001b[39m \u001b[39m \u001b[39m \u001b[39m \u001b[39m \u001b[39m \u001b[39m \u001b[39m \u001b[39m \u001b[39m \u001b[39m \u001b[39m \u001b[39m█\u001b[39m \u001b[39m \n",
       "  \u001b[39m█\u001b[39m█\u001b[39m▁\u001b[39m█\u001b[34m▁\u001b[39m\u001b[39m▁\u001b[39m█\u001b[39m▁\u001b[39m▁\u001b[39m▁\u001b[39m▁\u001b[39m▁\u001b[39m▁\u001b[39m▁\u001b[39m▁\u001b[39m▁\u001b[39m▁\u001b[39m▁\u001b[39m▁\u001b[32m▁\u001b[39m\u001b[39m▁\u001b[39m▁\u001b[39m▁\u001b[39m█\u001b[39m▁\u001b[39m▁\u001b[39m▁\u001b[39m▁\u001b[39m▁\u001b[39m▁\u001b[39m▁\u001b[39m▁\u001b[39m▁\u001b[39m▁\u001b[39m▁\u001b[39m▁\u001b[39m▁\u001b[39m▁\u001b[39m▁\u001b[39m█\u001b[39m▁\u001b[39m▁\u001b[39m▁\u001b[39m▁\u001b[39m▁\u001b[39m▁\u001b[39m▁\u001b[39m▁\u001b[39m▁\u001b[39m▁\u001b[39m▁\u001b[39m▁\u001b[39m▁\u001b[39m▁\u001b[39m▁\u001b[39m▁\u001b[39m▁\u001b[39m▁\u001b[39m▁\u001b[39m▁\u001b[39m█\u001b[39m \u001b[39m▁\n",
       "  736 ms\u001b[90m           Histogram: frequency by time\u001b[39m          860 ms \u001b[0m\u001b[1m<\u001b[22m\n",
       "\n",
       " Memory estimate\u001b[90m: \u001b[39m\u001b[33m208 bytes\u001b[39m, allocs estimate\u001b[90m: \u001b[39m\u001b[33m8\u001b[39m."
      ]
     },
     "metadata": {},
     "output_type": "display_data"
    }
   ],
   "source": [
    "py_list_bench = @benchmark $pysum($a)"
   ]
  },
  {
   "cell_type": "code",
   "execution_count": 22,
   "id": "d76791fa",
   "metadata": {},
   "outputs": [
    {
     "data": {
      "text/plain": [
       "Dict{Any, Any} with 3 entries:\n",
       "  \"C\"               => 12.07\n",
       "  \"Python built-in\" => 736.089\n",
       "  \"C -ffast-math\"   => 6.2075"
      ]
     },
     "metadata": {},
     "output_type": "display_data"
    }
   ],
   "source": [
    "d[\"Python built-in\"] = minimum(py_list_bench.times) / 1e6\n",
    "d"
   ]
  },
  {
   "cell_type": "markdown",
   "id": "8c805a67",
   "metadata": {},
   "source": [
    "### 4. Python: numpy\n",
    "Takes advantage of hardware \"SIMD\", but only works when it works.\n",
    "\n",
    "**numpy** is an optimized C library, callable from Python. It may be installed within Julia as follows:"
   ]
  },
  {
   "cell_type": "code",
   "execution_count": 23,
   "id": "b7dfe38f",
   "metadata": {},
   "outputs": [],
   "source": [
    "# import Pkg; Pkg.add(\"Conda\")\n",
    "using Conda"
   ]
  },
  {
   "cell_type": "code",
   "execution_count": 24,
   "id": "18bd9564",
   "metadata": {},
   "outputs": [
    {
     "data": {
      "text/plain": [
       "BenchmarkTools.Trial: 596 samples with 1 evaluation per sample.\n",
       " Range \u001b[90m(\u001b[39m\u001b[36m\u001b[1mmin\u001b[22m\u001b[39m … \u001b[35mmax\u001b[39m\u001b[90m):  \u001b[39m\u001b[36m\u001b[1m7.108 ms\u001b[22m\u001b[39m … \u001b[35m16.007 ms\u001b[39m  \u001b[90m┊\u001b[39m GC \u001b[90m(\u001b[39mmin … max\u001b[90m): \u001b[39m0.00% … 0.00%\n",
       " Time  \u001b[90m(\u001b[39m\u001b[34m\u001b[1mmedian\u001b[22m\u001b[39m\u001b[90m):     \u001b[39m\u001b[34m\u001b[1m7.969 ms              \u001b[22m\u001b[39m\u001b[90m┊\u001b[39m GC \u001b[90m(\u001b[39mmedian\u001b[90m):    \u001b[39m0.00%\n",
       " Time  \u001b[90m(\u001b[39m\u001b[32m\u001b[1mmean\u001b[22m\u001b[39m ± \u001b[32mσ\u001b[39m\u001b[90m):   \u001b[39m\u001b[32m\u001b[1m8.356 ms\u001b[22m\u001b[39m ± \u001b[32m 1.300 ms\u001b[39m  \u001b[90m┊\u001b[39m GC \u001b[90m(\u001b[39mmean ± σ\u001b[90m):  \u001b[39m0.00% ± 0.00%\n",
       "\n",
       "  \u001b[39m▂\u001b[39m█\u001b[39m \u001b[39m \u001b[39m \u001b[39m \u001b[39m \u001b[39m \u001b[39m \u001b[39m \u001b[39m \u001b[34m \u001b[39m\u001b[39m \u001b[39m \u001b[39m \u001b[39m \u001b[32m \u001b[39m\u001b[39m \u001b[39m \u001b[39m \u001b[39m \u001b[39m \u001b[39m \u001b[39m \u001b[39m \u001b[39m \u001b[39m \u001b[39m \u001b[39m \u001b[39m \u001b[39m \u001b[39m \u001b[39m \u001b[39m \u001b[39m \u001b[39m \u001b[39m \u001b[39m \u001b[39m \u001b[39m \u001b[39m \u001b[39m \u001b[39m \u001b[39m \u001b[39m \u001b[39m \u001b[39m \u001b[39m \u001b[39m \u001b[39m \u001b[39m \u001b[39m \u001b[39m \u001b[39m \u001b[39m \u001b[39m \u001b[39m \u001b[39m \u001b[39m \u001b[39m \n",
       "  \u001b[39m█\u001b[39m█\u001b[39m▅\u001b[39m▅\u001b[39m▄\u001b[39m▄\u001b[39m▃\u001b[39m▃\u001b[39m▃\u001b[39m▃\u001b[39m▃\u001b[34m▃\u001b[39m\u001b[39m▂\u001b[39m▃\u001b[39m▄\u001b[39m▄\u001b[32m▆\u001b[39m\u001b[39m▄\u001b[39m▄\u001b[39m▃\u001b[39m▃\u001b[39m▃\u001b[39m▂\u001b[39m▂\u001b[39m▃\u001b[39m▂\u001b[39m▂\u001b[39m▁\u001b[39m▂\u001b[39m▂\u001b[39m▁\u001b[39m▃\u001b[39m▃\u001b[39m▃\u001b[39m▃\u001b[39m▃\u001b[39m▄\u001b[39m▄\u001b[39m▃\u001b[39m▃\u001b[39m▂\u001b[39m▃\u001b[39m▂\u001b[39m▂\u001b[39m▃\u001b[39m▂\u001b[39m▂\u001b[39m▂\u001b[39m▂\u001b[39m▂\u001b[39m▂\u001b[39m▂\u001b[39m▂\u001b[39m▁\u001b[39m▁\u001b[39m▂\u001b[39m▁\u001b[39m▂\u001b[39m \u001b[39m▃\n",
       "  7.11 ms\u001b[90m        Histogram: frequency by time\u001b[39m        11.6 ms \u001b[0m\u001b[1m<\u001b[22m\n",
       "\n",
       " Memory estimate\u001b[90m: \u001b[39m\u001b[33m32 bytes\u001b[39m, allocs estimate\u001b[90m: \u001b[39m\u001b[33m2\u001b[39m."
      ]
     },
     "metadata": {},
     "output_type": "display_data"
    }
   ],
   "source": [
    "numpy_sum = pyimport(\"numpy\")[\"sum\"]\n",
    "a̅ = PyObject(a)\n",
    "\n",
    "py_numpy_bench = @benchmark $numpy_sum($a̅)"
   ]
  },
  {
   "cell_type": "code",
   "execution_count": 25,
   "id": "0eba2309",
   "metadata": {},
   "outputs": [
    {
     "data": {
      "text/plain": [
       "5.000300805748647e6"
      ]
     },
     "metadata": {},
     "output_type": "display_data"
    }
   ],
   "source": [
    "numpy_sum(a)"
   ]
  },
  {
   "cell_type": "code",
   "execution_count": 26,
   "id": "df7142fd",
   "metadata": {},
   "outputs": [
    {
     "data": {
      "text/plain": [
       "true"
      ]
     },
     "metadata": {},
     "output_type": "display_data"
    }
   ],
   "source": [
    "numpy_sum(a) ≈ sum(a)"
   ]
  },
  {
   "cell_type": "code",
   "execution_count": 27,
   "id": "fdc68426",
   "metadata": {},
   "outputs": [
    {
     "data": {
      "text/plain": [
       "Dict{Any, Any} with 4 entries:\n",
       "  \"C\"               => 12.07\n",
       "  \"Python numpy\"    => 7.1077\n",
       "  \"Python built-in\" => 736.089\n",
       "  \"C -ffast-math\"   => 6.2075"
      ]
     },
     "metadata": {},
     "output_type": "display_data"
    }
   ],
   "source": [
    "d[\"Python numpy\"] = minimum(py_numpy_bench.times) / 1e6\n",
    "d"
   ]
  },
  {
   "cell_type": "markdown",
   "id": "af578714",
   "metadata": {},
   "source": [
    "### 5. Python, hand-written"
   ]
  },
  {
   "cell_type": "code",
   "execution_count": 28,
   "id": "881ef200",
   "metadata": {},
   "outputs": [
    {
     "data": {
      "text/plain": [
       "PyObject <function py_sum at 0x000002342E429300>"
      ]
     },
     "metadata": {},
     "output_type": "display_data"
    }
   ],
   "source": [
    "py\"\"\"\n",
    "def py_sum(A):\n",
    "    s = 0.0\n",
    "    for a in A:\n",
    "        s += a\n",
    "    return s\n",
    "\"\"\"\n",
    "\n",
    "sum_py = py\"py_sum\""
   ]
  },
  {
   "cell_type": "code",
   "execution_count": 29,
   "id": "9b769811",
   "metadata": {},
   "outputs": [
    {
     "data": {
      "text/plain": [
       "BenchmarkTools.Trial: 6 samples with 1 evaluation per sample.\n",
       " Range \u001b[90m(\u001b[39m\u001b[36m\u001b[1mmin\u001b[22m\u001b[39m … \u001b[35mmax\u001b[39m\u001b[90m):  \u001b[39m\u001b[36m\u001b[1m919.366 ms\u001b[22m\u001b[39m … \u001b[35m971.452 ms\u001b[39m  \u001b[90m┊\u001b[39m GC \u001b[90m(\u001b[39mmin … max\u001b[90m): \u001b[39m0.00% … 0.00%\n",
       " Time  \u001b[90m(\u001b[39m\u001b[34m\u001b[1mmedian\u001b[22m\u001b[39m\u001b[90m):     \u001b[39m\u001b[34m\u001b[1m945.335 ms               \u001b[22m\u001b[39m\u001b[90m┊\u001b[39m GC \u001b[90m(\u001b[39mmedian\u001b[90m):    \u001b[39m0.00%\n",
       " Time  \u001b[90m(\u001b[39m\u001b[32m\u001b[1mmean\u001b[22m\u001b[39m ± \u001b[32mσ\u001b[39m\u001b[90m):   \u001b[39m\u001b[32m\u001b[1m945.261 ms\u001b[22m\u001b[39m ± \u001b[32m 23.526 ms\u001b[39m  \u001b[90m┊\u001b[39m GC \u001b[90m(\u001b[39mmean ± σ\u001b[90m):  \u001b[39m0.00% ± 0.00%\n",
       "\n",
       "  \u001b[39m█\u001b[39m \u001b[39m█\u001b[39m \u001b[39m \u001b[39m \u001b[39m \u001b[39m \u001b[39m \u001b[39m \u001b[39m \u001b[39m \u001b[39m \u001b[39m \u001b[39m \u001b[39m \u001b[39m█\u001b[34m \u001b[39m\u001b[39m \u001b[39m \u001b[39m \u001b[39m \u001b[39m \u001b[39m \u001b[39m \u001b[39m \u001b[39m \u001b[39m \u001b[39m \u001b[39m \u001b[32m \u001b[39m\u001b[39m \u001b[39m \u001b[39m \u001b[39m \u001b[39m \u001b[39m \u001b[39m \u001b[39m \u001b[39m \u001b[39m \u001b[39m \u001b[39m \u001b[39m█\u001b[39m \u001b[39m \u001b[39m \u001b[39m \u001b[39m \u001b[39m \u001b[39m \u001b[39m \u001b[39m \u001b[39m \u001b[39m \u001b[39m \u001b[39m \u001b[39m \u001b[39m█\u001b[39m \u001b[39m█\u001b[39m \u001b[39m \n",
       "  \u001b[39m█\u001b[39m▁\u001b[39m█\u001b[39m▁\u001b[39m▁\u001b[39m▁\u001b[39m▁\u001b[39m▁\u001b[39m▁\u001b[39m▁\u001b[39m▁\u001b[39m▁\u001b[39m▁\u001b[39m▁\u001b[39m▁\u001b[39m▁\u001b[39m█\u001b[34m▁\u001b[39m\u001b[39m▁\u001b[39m▁\u001b[39m▁\u001b[39m▁\u001b[39m▁\u001b[39m▁\u001b[39m▁\u001b[39m▁\u001b[39m▁\u001b[39m▁\u001b[39m▁\u001b[39m▁\u001b[32m▁\u001b[39m\u001b[39m▁\u001b[39m▁\u001b[39m▁\u001b[39m▁\u001b[39m▁\u001b[39m▁\u001b[39m▁\u001b[39m▁\u001b[39m▁\u001b[39m▁\u001b[39m▁\u001b[39m▁\u001b[39m█\u001b[39m▁\u001b[39m▁\u001b[39m▁\u001b[39m▁\u001b[39m▁\u001b[39m▁\u001b[39m▁\u001b[39m▁\u001b[39m▁\u001b[39m▁\u001b[39m▁\u001b[39m▁\u001b[39m▁\u001b[39m▁\u001b[39m█\u001b[39m▁\u001b[39m█\u001b[39m \u001b[39m▁\n",
       "  919 ms\u001b[90m           Histogram: frequency by time\u001b[39m          971 ms \u001b[0m\u001b[1m<\u001b[22m\n",
       "\n",
       " Memory estimate\u001b[90m: \u001b[39m\u001b[33m208 bytes\u001b[39m, allocs estimate\u001b[90m: \u001b[39m\u001b[33m8\u001b[39m."
      ]
     },
     "metadata": {},
     "output_type": "display_data"
    }
   ],
   "source": [
    "py_hand = @benchmark $sum_py($a)"
   ]
  },
  {
   "cell_type": "code",
   "execution_count": 30,
   "id": "067715eb",
   "metadata": {},
   "outputs": [
    {
     "data": {
      "text/plain": [
       "5.000300805749172e6"
      ]
     },
     "metadata": {},
     "output_type": "display_data"
    }
   ],
   "source": [
    "sum_py(a)"
   ]
  },
  {
   "cell_type": "code",
   "execution_count": 31,
   "id": "d4b39a68",
   "metadata": {},
   "outputs": [
    {
     "data": {
      "text/plain": [
       "true"
      ]
     },
     "metadata": {},
     "output_type": "display_data"
    }
   ],
   "source": [
    "sum_py(a) ≈ sum(a)"
   ]
  },
  {
   "cell_type": "code",
   "execution_count": 32,
   "id": "70d790fa",
   "metadata": {},
   "outputs": [
    {
     "data": {
      "text/plain": [
       "Dict{Any, Any} with 5 entries:\n",
       "  \"C\"                   => 12.07\n",
       "  \"Python numpy\"        => 7.1077\n",
       "  \"Python hand-written\" => 919.366\n",
       "  \"Python built-in\"     => 736.089\n",
       "  \"C -ffast-math\"       => 6.2075"
      ]
     },
     "metadata": {},
     "output_type": "display_data"
    }
   ],
   "source": [
    "d[\"Python hand-written\"] = minimum(py_hand.times) / 1e6\n",
    "d"
   ]
  },
  {
   "cell_type": "markdown",
   "id": "96421761",
   "metadata": {},
   "source": [
    "### 6. Julia (built-in)\n",
    "Written directly in Julia, not in C!"
   ]
  },
  {
   "cell_type": "code",
   "execution_count": 33,
   "id": "6c3a5e75",
   "metadata": {},
   "outputs": [
    {
     "data": {
      "text/html": [
       "sum(a::<b>AbstractArray</b>; <i>dims, kw...</i>) in Base at <a href=\"https://github.com/JuliaLang/julia/tree/9615af0f269df4d371b8010e9507ed5bae86103b/base/reducedim.jl#L982\" target=\"_blank\">reducedim.jl:982</a>"
      ],
      "text/plain": [
       "sum(\u001b[90ma\u001b[39m::\u001b[1mAbstractArray\u001b[22m; dims, kw...)\n",
       "\u001b[90m     @\u001b[39m \u001b[90mBase\u001b[39m \u001b[90m\u001b[4mreducedim.jl:982\u001b[24m\u001b[39m"
      ]
     },
     "metadata": {},
     "output_type": "display_data"
    }
   ],
   "source": [
    "@which sum(a)"
   ]
  },
  {
   "cell_type": "code",
   "execution_count": 34,
   "id": "e550f4c6",
   "metadata": {},
   "outputs": [
    {
     "data": {
      "text/plain": [
       "BenchmarkTools.Trial: 1045 samples with 1 evaluation per sample.\n",
       " Range \u001b[90m(\u001b[39m\u001b[36m\u001b[1mmin\u001b[22m\u001b[39m … \u001b[35mmax\u001b[39m\u001b[90m):  \u001b[39m\u001b[36m\u001b[1m3.896 ms\u001b[22m\u001b[39m … \u001b[35m9.428 ms\u001b[39m  \u001b[90m┊\u001b[39m GC \u001b[90m(\u001b[39mmin … max\u001b[90m): \u001b[39m0.00% … 0.00%\n",
       " Time  \u001b[90m(\u001b[39m\u001b[34m\u001b[1mmedian\u001b[22m\u001b[39m\u001b[90m):     \u001b[39m\u001b[34m\u001b[1m3.987 ms             \u001b[22m\u001b[39m\u001b[90m┊\u001b[39m GC \u001b[90m(\u001b[39mmedian\u001b[90m):    \u001b[39m0.00%\n",
       " Time  \u001b[90m(\u001b[39m\u001b[32m\u001b[1mmean\u001b[22m\u001b[39m ± \u001b[32mσ\u001b[39m\u001b[90m):   \u001b[39m\u001b[32m\u001b[1m4.759 ms\u001b[22m\u001b[39m ± \u001b[32m1.232 ms\u001b[39m  \u001b[90m┊\u001b[39m GC \u001b[90m(\u001b[39mmean ± σ\u001b[90m):  \u001b[39m0.00% ± 0.00%\n",
       "\n",
       "  \u001b[39m█\u001b[34m▅\u001b[39m\u001b[39m▂\u001b[39m▁\u001b[39m \u001b[39m \u001b[39m \u001b[39m \u001b[39m \u001b[39m \u001b[39m \u001b[39m \u001b[32m \u001b[39m\u001b[39m \u001b[39m \u001b[39m \u001b[39m \u001b[39m \u001b[39m \u001b[39m \u001b[39m \u001b[39m \u001b[39m \u001b[39m \u001b[39m \u001b[39m \u001b[39m \u001b[39m \u001b[39m \u001b[39m \u001b[39m \u001b[39m \u001b[39m \u001b[39m \u001b[39m \u001b[39m \u001b[39m▁\u001b[39m \u001b[39m \u001b[39m▁\u001b[39m▁\u001b[39m▁\u001b[39m \u001b[39m \u001b[39m \u001b[39m \u001b[39m \u001b[39m \u001b[39m \u001b[39m \u001b[39m \u001b[39m \u001b[39m \u001b[39m \u001b[39m \u001b[39m \u001b[39m \u001b[39m \u001b[39m \n",
       "  \u001b[39m█\u001b[34m█\u001b[39m\u001b[39m█\u001b[39m█\u001b[39m█\u001b[39m█\u001b[39m█\u001b[39m█\u001b[39m█\u001b[39m█\u001b[39m▇\u001b[39m█\u001b[32m▆\u001b[39m\u001b[39m▇\u001b[39m▆\u001b[39m▆\u001b[39m▅\u001b[39m▆\u001b[39m▆\u001b[39m▇\u001b[39m▆\u001b[39m▇\u001b[39m▅\u001b[39m▅\u001b[39m▅\u001b[39m▁\u001b[39m▅\u001b[39m▁\u001b[39m▅\u001b[39m▄\u001b[39m▅\u001b[39m▄\u001b[39m▆\u001b[39m▅\u001b[39m█\u001b[39m█\u001b[39m█\u001b[39m█\u001b[39m█\u001b[39m█\u001b[39m█\u001b[39m█\u001b[39m█\u001b[39m█\u001b[39m▆\u001b[39m▆\u001b[39m▆\u001b[39m▇\u001b[39m▆\u001b[39m▇\u001b[39m▆\u001b[39m▆\u001b[39m▁\u001b[39m▅\u001b[39m▅\u001b[39m▅\u001b[39m▅\u001b[39m \u001b[39m▇\n",
       "  3.9 ms\u001b[90m      \u001b[39m\u001b[90mHistogram: \u001b[39m\u001b[90m\u001b[1mlog(\u001b[22m\u001b[39m\u001b[90mfrequency\u001b[39m\u001b[90m\u001b[1m)\u001b[22m\u001b[39m\u001b[90m by time\u001b[39m      7.9 ms \u001b[0m\u001b[1m<\u001b[22m\n",
       "\n",
       " Memory estimate\u001b[90m: \u001b[39m\u001b[33m0 bytes\u001b[39m, allocs estimate\u001b[90m: \u001b[39m\u001b[33m0\u001b[39m."
      ]
     },
     "metadata": {},
     "output_type": "display_data"
    }
   ],
   "source": [
    "j_bench = @benchmark sum($a)"
   ]
  },
  {
   "cell_type": "code",
   "execution_count": 35,
   "id": "0025b49c",
   "metadata": {},
   "outputs": [
    {
     "data": {
      "text/plain": [
       "Dict{Any, Any} with 6 entries:\n",
       "  \"C\"                   => 12.07\n",
       "  \"Python numpy\"        => 7.1077\n",
       "  \"Python hand-written\" => 919.366\n",
       "  \"Python built-in\"     => 736.089\n",
       "  \"Julia built-in\"      => 3.8963\n",
       "  \"C -ffast-math\"       => 6.2075"
      ]
     },
     "metadata": {},
     "output_type": "display_data"
    }
   ],
   "source": [
    "d[\"Julia built-in\"] = minimum(j_bench.times) / 1e6\n",
    "d"
   ]
  },
  {
   "cell_type": "markdown",
   "id": "fd4522a2",
   "metadata": {},
   "source": [
    "### 7. Julia (hand-written)"
   ]
  },
  {
   "cell_type": "code",
   "execution_count": 36,
   "id": "73661b18",
   "metadata": {},
   "outputs": [
    {
     "data": {
      "text/plain": [
       "mysum (generic function with 1 method)"
      ]
     },
     "metadata": {},
     "output_type": "display_data"
    }
   ],
   "source": [
    "function mysum(A)   \n",
    "    s = 0.0 # s = zero(eltype(a))\n",
    "    for a in A\n",
    "        s += a\n",
    "    end\n",
    "    s\n",
    "end"
   ]
  },
  {
   "cell_type": "code",
   "execution_count": 37,
   "id": "dc9c652b",
   "metadata": {},
   "outputs": [
    {
     "data": {
      "text/plain": [
       "BenchmarkTools.Trial: 368 samples with 1 evaluation per sample.\n",
       " Range \u001b[90m(\u001b[39m\u001b[36m\u001b[1mmin\u001b[22m\u001b[39m … \u001b[35mmax\u001b[39m\u001b[90m):  \u001b[39m\u001b[36m\u001b[1m12.133 ms\u001b[22m\u001b[39m … \u001b[35m18.041 ms\u001b[39m  \u001b[90m┊\u001b[39m GC \u001b[90m(\u001b[39mmin … max\u001b[90m): \u001b[39m0.00% … 0.00%\n",
       " Time  \u001b[90m(\u001b[39m\u001b[34m\u001b[1mmedian\u001b[22m\u001b[39m\u001b[90m):     \u001b[39m\u001b[34m\u001b[1m12.953 ms              \u001b[22m\u001b[39m\u001b[90m┊\u001b[39m GC \u001b[90m(\u001b[39mmedian\u001b[90m):    \u001b[39m0.00%\n",
       " Time  \u001b[90m(\u001b[39m\u001b[32m\u001b[1mmean\u001b[22m\u001b[39m ± \u001b[32mσ\u001b[39m\u001b[90m):   \u001b[39m\u001b[32m\u001b[1m13.535 ms\u001b[22m\u001b[39m ± \u001b[32m 1.109 ms\u001b[39m  \u001b[90m┊\u001b[39m GC \u001b[90m(\u001b[39mmean ± σ\u001b[90m):  \u001b[39m0.00% ± 0.00%\n",
       "\n",
       "  \u001b[39m \u001b[39m \u001b[39m \u001b[39m \u001b[39m \u001b[39m \u001b[39m \u001b[39m▁\u001b[39m▁\u001b[39m█\u001b[39m█\u001b[39m▃\u001b[34m \u001b[39m\u001b[39m \u001b[39m \u001b[39m \u001b[39m \u001b[39m \u001b[39m \u001b[39m \u001b[32m \u001b[39m\u001b[39m \u001b[39m \u001b[39m \u001b[39m \u001b[39m \u001b[39m \u001b[39m \u001b[39m \u001b[39m \u001b[39m \u001b[39m \u001b[39m \u001b[39m \u001b[39m \u001b[39m \u001b[39m \u001b[39m \u001b[39m \u001b[39m \u001b[39m \u001b[39m \u001b[39m \u001b[39m \u001b[39m \u001b[39m \u001b[39m \u001b[39m \u001b[39m \u001b[39m \u001b[39m \u001b[39m \u001b[39m \u001b[39m \u001b[39m \u001b[39m \u001b[39m \u001b[39m \u001b[39m \u001b[39m \u001b[39m \n",
       "  \u001b[39m█\u001b[39m█\u001b[39m▄\u001b[39m▇\u001b[39m▇\u001b[39m▅\u001b[39m▆\u001b[39m█\u001b[39m█\u001b[39m█\u001b[39m█\u001b[39m█\u001b[34m▆\u001b[39m\u001b[39m▇\u001b[39m▂\u001b[39m▃\u001b[39m▂\u001b[39m▃\u001b[39m▃\u001b[39m▃\u001b[32m▃\u001b[39m\u001b[39m▁\u001b[39m▂\u001b[39m▂\u001b[39m▂\u001b[39m▁\u001b[39m▁\u001b[39m▃\u001b[39m▄\u001b[39m▄\u001b[39m▅\u001b[39m▆\u001b[39m█\u001b[39m▆\u001b[39m▆\u001b[39m▃\u001b[39m▆\u001b[39m▆\u001b[39m▆\u001b[39m▆\u001b[39m▅\u001b[39m▃\u001b[39m▅\u001b[39m▂\u001b[39m▄\u001b[39m▃\u001b[39m▂\u001b[39m▄\u001b[39m▁\u001b[39m▂\u001b[39m▁\u001b[39m▃\u001b[39m▁\u001b[39m▁\u001b[39m▁\u001b[39m▁\u001b[39m▂\u001b[39m▂\u001b[39m▂\u001b[39m \u001b[39m▃\n",
       "  12.1 ms\u001b[90m         Histogram: frequency by time\u001b[39m        16.3 ms \u001b[0m\u001b[1m<\u001b[22m\n",
       "\n",
       " Memory estimate\u001b[90m: \u001b[39m\u001b[33m0 bytes\u001b[39m, allocs estimate\u001b[90m: \u001b[39m\u001b[33m0\u001b[39m."
      ]
     },
     "metadata": {},
     "output_type": "display_data"
    }
   ],
   "source": [
    "j_bench_hand = @benchmark mysum($a)"
   ]
  },
  {
   "cell_type": "code",
   "execution_count": 38,
   "id": "8c8b2ffd",
   "metadata": {},
   "outputs": [
    {
     "data": {
      "text/plain": [
       "Dict{Any, Any} with 7 entries:\n",
       "  \"C\"                   => 12.07\n",
       "  \"Python numpy\"        => 7.1077\n",
       "  \"Julia hand-written\"  => 12.1325\n",
       "  \"Python hand-written\" => 919.366\n",
       "  \"Python built-in\"     => 736.089\n",
       "  \"Julia built-in\"      => 3.8963\n",
       "  \"C -ffast-math\"       => 6.2075"
      ]
     },
     "metadata": {},
     "output_type": "display_data"
    }
   ],
   "source": [
    "d[\"Julia hand-written\"] = minimum(j_bench_hand.times) / 1e6\n",
    "d"
   ]
  },
  {
   "cell_type": "markdown",
   "id": "fcdb82f4",
   "metadata": {},
   "source": [
    "### 8. Julia (hand-written w. simd)"
   ]
  },
  {
   "cell_type": "code",
   "execution_count": 39,
   "id": "4df29f84",
   "metadata": {},
   "outputs": [
    {
     "data": {
      "text/plain": [
       "mysum_simd (generic function with 1 method)"
      ]
     },
     "metadata": {},
     "output_type": "display_data"
    }
   ],
   "source": [
    "function mysum_simd(A)   \n",
    "    s = 0.0 # s = zero(eltype(A))\n",
    "    @simd for a in A\n",
    "        s += a\n",
    "    end\n",
    "    s\n",
    "end"
   ]
  },
  {
   "cell_type": "code",
   "execution_count": 40,
   "id": "3bbf4ecb",
   "metadata": {},
   "outputs": [
    {
     "data": {
      "text/plain": [
       "BenchmarkTools.Trial: 1042 samples with 1 evaluation per sample.\n",
       " Range \u001b[90m(\u001b[39m\u001b[36m\u001b[1mmin\u001b[22m\u001b[39m … \u001b[35mmax\u001b[39m\u001b[90m):  \u001b[39m\u001b[36m\u001b[1m4.025 ms\u001b[22m\u001b[39m … \u001b[35m12.996 ms\u001b[39m  \u001b[90m┊\u001b[39m GC \u001b[90m(\u001b[39mmin … max\u001b[90m): \u001b[39m0.00% … 0.00%\n",
       " Time  \u001b[90m(\u001b[39m\u001b[34m\u001b[1mmedian\u001b[22m\u001b[39m\u001b[90m):     \u001b[39m\u001b[34m\u001b[1m4.145 ms              \u001b[22m\u001b[39m\u001b[90m┊\u001b[39m GC \u001b[90m(\u001b[39mmedian\u001b[90m):    \u001b[39m0.00%\n",
       " Time  \u001b[90m(\u001b[39m\u001b[32m\u001b[1mmean\u001b[22m\u001b[39m ± \u001b[32mσ\u001b[39m\u001b[90m):   \u001b[39m\u001b[32m\u001b[1m4.793 ms\u001b[22m\u001b[39m ± \u001b[32m 1.126 ms\u001b[39m  \u001b[90m┊\u001b[39m GC \u001b[90m(\u001b[39mmean ± σ\u001b[90m):  \u001b[39m0.00% ± 0.00%\n",
       "\n",
       "  \u001b[39m█\u001b[39m▅\u001b[34m▁\u001b[39m\u001b[39m▂\u001b[39m▁\u001b[39m▁\u001b[39m▁\u001b[39m▁\u001b[39m \u001b[39m▁\u001b[39m \u001b[32m \u001b[39m\u001b[39m \u001b[39m \u001b[39m \u001b[39m▁\u001b[39m▁\u001b[39m \u001b[39m▁\u001b[39m \u001b[39m▁\u001b[39m \u001b[39m \u001b[39m \u001b[39m \u001b[39m \u001b[39m \u001b[39m \u001b[39m \u001b[39m \u001b[39m \u001b[39m \u001b[39m \u001b[39m \u001b[39m \u001b[39m \u001b[39m \u001b[39m \u001b[39m \u001b[39m \u001b[39m \u001b[39m \u001b[39m \u001b[39m \u001b[39m \u001b[39m \u001b[39m \u001b[39m \u001b[39m \u001b[39m \u001b[39m \u001b[39m \u001b[39m \u001b[39m \u001b[39m \u001b[39m \u001b[39m \u001b[39m \u001b[39m \u001b[39m \n",
       "  \u001b[39m█\u001b[39m█\u001b[34m█\u001b[39m\u001b[39m█\u001b[39m█\u001b[39m█\u001b[39m█\u001b[39m█\u001b[39m▇\u001b[39m█\u001b[39m█\u001b[32m█\u001b[39m\u001b[39m█\u001b[39m▇\u001b[39m▇\u001b[39m█\u001b[39m█\u001b[39m█\u001b[39m█\u001b[39m█\u001b[39m█\u001b[39m█\u001b[39m▇\u001b[39m▆\u001b[39m▆\u001b[39m▅\u001b[39m▄\u001b[39m▅\u001b[39m▄\u001b[39m▅\u001b[39m▄\u001b[39m▄\u001b[39m▆\u001b[39m▆\u001b[39m▇\u001b[39m▅\u001b[39m▆\u001b[39m▇\u001b[39m▇\u001b[39m█\u001b[39m▇\u001b[39m▇\u001b[39m▇\u001b[39m▇\u001b[39m▅\u001b[39m▆\u001b[39m▇\u001b[39m▇\u001b[39m▅\u001b[39m▆\u001b[39m▆\u001b[39m▁\u001b[39m▄\u001b[39m▅\u001b[39m▄\u001b[39m▅\u001b[39m▄\u001b[39m▅\u001b[39m \u001b[39m█\n",
       "  4.02 ms\u001b[90m      \u001b[39m\u001b[90mHistogram: \u001b[39m\u001b[90m\u001b[1mlog(\u001b[22m\u001b[39m\u001b[90mfrequency\u001b[39m\u001b[90m\u001b[1m)\u001b[22m\u001b[39m\u001b[90m by time\u001b[39m     8.19 ms \u001b[0m\u001b[1m<\u001b[22m\n",
       "\n",
       " Memory estimate\u001b[90m: \u001b[39m\u001b[33m0 bytes\u001b[39m, allocs estimate\u001b[90m: \u001b[39m\u001b[33m0\u001b[39m."
      ]
     },
     "metadata": {},
     "output_type": "display_data"
    }
   ],
   "source": [
    "j_bench_hand_simd = @benchmark mysum_simd($a)"
   ]
  },
  {
   "cell_type": "code",
   "execution_count": 41,
   "id": "c2026b20",
   "metadata": {},
   "outputs": [
    {
     "data": {
      "text/plain": [
       "5.000300805748624e6"
      ]
     },
     "metadata": {},
     "output_type": "display_data"
    }
   ],
   "source": [
    "mysum_simd(a)"
   ]
  },
  {
   "cell_type": "code",
   "execution_count": 42,
   "id": "e6b7465b",
   "metadata": {},
   "outputs": [
    {
     "data": {
      "text/plain": [
       "Dict{Any, Any} with 8 entries:\n",
       "  \"Julia hand-written simd\" => 4.0249\n",
       "  \"C\"                       => 12.07\n",
       "  \"Python numpy\"            => 7.1077\n",
       "  \"Julia hand-written\"      => 12.1325\n",
       "  \"Python hand-written\"     => 919.366\n",
       "  \"Python built-in\"         => 736.089\n",
       "  \"Julia built-in\"          => 3.8963\n",
       "  \"C -ffast-math\"           => 6.2075"
      ]
     },
     "metadata": {},
     "output_type": "display_data"
    }
   ],
   "source": [
    "d[\"Julia hand-written simd\"] = minimum(j_bench_hand_simd.times) / 1e6\n",
    "d"
   ]
  },
  {
   "cell_type": "markdown",
   "id": "cc4b1e55",
   "metadata": {},
   "source": [
    "## Summary"
   ]
  },
  {
   "cell_type": "code",
   "execution_count": 43,
   "id": "5e5e9f56",
   "metadata": {},
   "outputs": [
    {
     "name": "stdout",
     "output_type": "stream",
     "text": [
      "Julia built-in..............3.9\n",
      "Julia hand-written simd.....4.0\n",
      "C -ffast-math...............6.2\n",
      "Python numpy................7.1\n",
      "C..........................12.1\n",
      "Julia hand-written.........12.1\n",
      "Python built-in...........736.1\n",
      "Python hand-written.......919.4\n"
     ]
    }
   ],
   "source": [
    "for (key, value) in sort(collect(d), by=last)\n",
    "    println(rpad(key, 25, \".\"), lpad(round(value; digits=1), 6, \".\"))\n",
    "end"
   ]
  },
  {
   "cell_type": "markdown",
   "id": "7b395372",
   "metadata": {},
   "source": [
    "## Performance Tips"
   ]
  },
  {
   "cell_type": "markdown",
   "id": "96e081ef",
   "metadata": {},
   "source": [
    "#### Benchmarking tips\n",
    "We saw the package BenchmarkTools and used its @benchmark macro.\n",
    "\n",
    "Explore the importance of \"interpolating\" global variables when benchmarking functions.\n",
    "\n",
    "We interpolate a global variable by throwing a $ in front of it. For example, \n",
    "\n",
    "**@benchmark sum($a)**\n",
    "not\n",
    "\n",
    "**@benchmark sum(a)**\n",
    "    \n",
    "Let's see if this can make a difference by examining the ratio in execution times of sum($a) and sum(a) \n",
    "            for differently sized arrays a."
   ]
  },
  {
   "cell_type": "code",
   "execution_count": 44,
   "id": "33c6cdbe",
   "metadata": {},
   "outputs": [
    {
     "data": {
      "text/plain": [
       "310000.0"
      ]
     },
     "metadata": {},
     "output_type": "display_data"
    }
   ],
   "source": [
    "foo1 = rand(10^6)\n",
    "foo1timeWithDollar = @benchmark sum($foo1)\n",
    "minimum(foo1timeWithDollar.times)"
   ]
  },
  {
   "cell_type": "code",
   "execution_count": 45,
   "id": "41f130bb",
   "metadata": {},
   "outputs": [
    {
     "data": {
      "text/plain": [
       "311800.0"
      ]
     },
     "metadata": {},
     "output_type": "display_data"
    }
   ],
   "source": [
    "foo1timeNoDollar = @benchmark sum(foo1)\n",
    "minimum(foo1timeNoDollar.times)"
   ]
  },
  {
   "cell_type": "code",
   "execution_count": 46,
   "id": "08f6061a",
   "metadata": {},
   "outputs": [
    {
     "data": {
      "text/plain": [
       "1030.0"
      ]
     },
     "metadata": {},
     "output_type": "display_data"
    }
   ],
   "source": [
    "foo2 = rand(10^4)\n",
    "foo2timeWithDollar = @benchmark sum($foo2)\n",
    "minimum(foo2timeWithDollar.times)"
   ]
  },
  {
   "cell_type": "code",
   "execution_count": 47,
   "id": "d0f81f23",
   "metadata": {},
   "outputs": [
    {
     "data": {
      "text/plain": [
       "1060.0"
      ]
     },
     "metadata": {},
     "output_type": "display_data"
    }
   ],
   "source": [
    "foo2timeNoDollar = @benchmark sum(foo2)\n",
    "minimum(foo2timeNoDollar.times)"
   ]
  },
  {
   "cell_type": "code",
   "execution_count": 48,
   "id": "f7ef2f32",
   "metadata": {},
   "outputs": [
    {
     "data": {
      "text/plain": [
       "22.14428857715431"
      ]
     },
     "metadata": {},
     "output_type": "display_data"
    }
   ],
   "source": [
    "foo3 = rand(10^2)\n",
    "foo3timeWithDollar = @benchmark sum($foo3)\n",
    "minimum(foo3timeWithDollar.times)"
   ]
  },
  {
   "cell_type": "code",
   "execution_count": 49,
   "id": "26c20591",
   "metadata": {},
   "outputs": [
    {
     "data": {
      "text/plain": [
       "36.49193548387097"
      ]
     },
     "metadata": {},
     "output_type": "display_data"
    }
   ],
   "source": [
    "foo3timeNoDollar = @benchmark sum(foo3)\n",
    "minimum(foo3timeNoDollar.times)"
   ]
  },
  {
   "cell_type": "markdown",
   "id": "6289abe9",
   "metadata": {},
   "source": [
    "#### Performance tips -- type stability\n",
    "\n",
    "One way to optimize code in Julia is to ensure **type stability**. \n",
    "If the type(s) of some variables in a function are subject to change or ambiguity,\n",
    "the compiler cannot reason as well about those variables, and performance will take a hit. \n",
    "\n",
    "Conversely, we allow the compiler to optimize and generate more efficient machine code when \n",
    "we declare variables so that their types will be fixed throughout the function body.\n",
    "\n",
    "For example, let's say we had functions called baz and bar with the following definitions"
   ]
  },
  {
   "cell_type": "code",
   "execution_count": 50,
   "id": "bdd1db25",
   "metadata": {},
   "outputs": [
    {
     "data": {
      "text/plain": [
       "baz (generic function with 1 method)"
      ]
     },
     "metadata": {},
     "output_type": "display_data"
    }
   ],
   "source": [
    "function baz()\n",
    "    s = rand()\n",
    "    if s > 2/3\n",
    "        return .666667\n",
    "    elseif s > 1/3\n",
    "        return 1//3    \n",
    "    else\n",
    "        return 0    \n",
    "    end\n",
    "end"
   ]
  },
  {
   "cell_type": "code",
   "execution_count": 51,
   "id": "70ff751a",
   "metadata": {},
   "outputs": [
    {
     "data": {
      "text/plain": [
       "bar (generic function with 1 method)"
      ]
     },
     "metadata": {},
     "output_type": "display_data"
    }
   ],
   "source": [
    "function bar()\n",
    "    s = rand()\n",
    "    if s > 2/3\n",
    "        return .666667\n",
    "    elseif s > 1/3\n",
    "        return .3333333    \n",
    "    else\n",
    "        return 0.0    \n",
    "    end\n",
    "end"
   ]
  },
  {
   "cell_type": "code",
   "execution_count": 52,
   "id": "4ba7d19c",
   "metadata": {},
   "outputs": [
    {
     "data": {
      "text/plain": [
       "Dict{Any, Any} with 2 entries:\n",
       "  \"baz run time \" => 12.4124\n",
       "  \"bar run time \" => 3.8"
      ]
     },
     "metadata": {},
     "output_type": "display_data"
    }
   ],
   "source": [
    "using BenchmarkTools\n",
    "bazBenchmark = @benchmark baz()\n",
    "bazRunTime = minimum(bazBenchmark.times)\n",
    "dRun = Dict()\n",
    "dRun[\"baz run time \"] = bazRunTime\n",
    "barBenchmark = @benchmark bar()\n",
    "barRunTime = minimum(barBenchmark.times)\n",
    "dRun[\"bar run time \"] = barRunTime\n",
    "dRun"
   ]
  },
  {
   "cell_type": "markdown",
   "id": "4c4eeb4e",
   "metadata": {},
   "source": [
    "#### Exerice on type stability"
   ]
  },
  {
   "cell_type": "code",
   "execution_count": 53,
   "id": "a9028fab",
   "metadata": {},
   "outputs": [
    {
     "data": {
      "text/plain": [
       "my_sum1 (generic function with 1 method)"
      ]
     },
     "metadata": {},
     "output_type": "display_data"
    }
   ],
   "source": [
    "function my_sum1(A)\n",
    "    output = 0\n",
    "    for x in A\n",
    "        output += x\n",
    "    end\n",
    "    return output\n",
    "end"
   ]
  },
  {
   "cell_type": "code",
   "execution_count": 54,
   "id": "cc9697d1",
   "metadata": {},
   "outputs": [
    {
     "data": {
      "text/plain": [
       "my_sum2 (generic function with 1 method)"
      ]
     },
     "metadata": {},
     "output_type": "display_data"
    }
   ],
   "source": [
    "function my_sum2(A)\n",
    "    output = 0.0\n",
    "    for x in A\n",
    "        output += x\n",
    "    end\n",
    "    return output\n",
    "end"
   ]
  },
  {
   "cell_type": "code",
   "execution_count": 55,
   "id": "0d551bc7",
   "metadata": {},
   "outputs": [],
   "source": [
    "A = rand(10^3);"
   ]
  },
  {
   "cell_type": "code",
   "execution_count": 56,
   "id": "1b5e7edb",
   "metadata": {},
   "outputs": [
    {
     "data": {
      "text/plain": [
       "1140.0"
      ]
     },
     "metadata": {},
     "output_type": "display_data"
    }
   ],
   "source": [
    "using BenchmarkTools\n",
    "mysum1Benchmark = @benchmark my_sum1($A)\n",
    "mysum1RunTime = minimum(mysum1Benchmark.times)"
   ]
  },
  {
   "cell_type": "code",
   "execution_count": 57,
   "id": "1c32d413",
   "metadata": {},
   "outputs": [
    {
     "data": {
      "text/plain": [
       "Dict{Any, Any} with 2 entries:\n",
       "  \"sum2 run time \" => 1100.0\n",
       "  \"sum1 run time \" => 1140.0"
      ]
     },
     "metadata": {},
     "output_type": "display_data"
    }
   ],
   "source": [
    "sumRun = Dict()\n",
    "sumRun[\"sum1 run time \"] = mysum1RunTime\n",
    "mysum2Benchmark = @benchmark my_sum2($A)\n",
    "mysum2RunTime = minimum(mysum2Benchmark.times)\n",
    "sumRun[\"sum2 run time \"] = mysum2RunTime\n",
    "sumRun"
   ]
  },
  {
   "cell_type": "markdown",
   "id": "479d0805",
   "metadata": {},
   "source": [
    "#### Exercise on type stability"
   ]
  },
  {
   "cell_type": "code",
   "execution_count": 58,
   "id": "4ebf2dd0",
   "metadata": {},
   "outputs": [
    {
     "data": {
      "text/plain": [
       "my_sqrt1 (generic function with 1 method)"
      ]
     },
     "metadata": {},
     "output_type": "display_data"
    }
   ],
   "source": [
    "# The type unstable version\n",
    "function my_sqrt1(x)\n",
    "    output = 1\n",
    "    for i in 1:1000\n",
    "        output = .5 * (output + x/output)\n",
    "    end\n",
    "    output\n",
    "end"
   ]
  },
  {
   "cell_type": "code",
   "execution_count": 59,
   "id": "73a0777b",
   "metadata": {},
   "outputs": [
    {
     "data": {
      "text/plain": [
       "my_sqrt2 (generic function with 1 method)"
      ]
     },
     "metadata": {},
     "output_type": "display_data"
    }
   ],
   "source": [
    "# The type stable version, where `output` is always a floating point number.\n",
    "function my_sqrt2(x)\n",
    "    output = 1.0\n",
    "    for i in 1:1000\n",
    "        output = .5 * (output + x/output)\n",
    "    end\n",
    "    output\n",
    "end"
   ]
  },
  {
   "cell_type": "code",
   "execution_count": 60,
   "id": "b7ad9895",
   "metadata": {},
   "outputs": [
    {
     "data": {
      "text/plain": [
       "6480.0"
      ]
     },
     "metadata": {},
     "output_type": "display_data"
    }
   ],
   "source": [
    "using BenchmarkTools\n",
    "mysqrt1Benchmark = @benchmark my_sqrt1($1000)\n",
    "mysqrt1RunTime = minimum(mysqrt1Benchmark.times)"
   ]
  },
  {
   "cell_type": "code",
   "execution_count": 61,
   "id": "2f08b42a",
   "metadata": {},
   "outputs": [
    {
     "data": {
      "text/plain": [
       "6480.0"
      ]
     },
     "metadata": {},
     "output_type": "display_data"
    }
   ],
   "source": [
    "mysqrt2Benchmark = @benchmark my_sqrt2($1000)\n",
    "mysqrt2RunTime = minimum(mysqrt2Benchmark.times)"
   ]
  },
  {
   "cell_type": "markdown",
   "id": "e1d1122d",
   "metadata": {},
   "source": [
    "### More Examples"
   ]
  },
  {
   "cell_type": "markdown",
   "id": "b0d958bf",
   "metadata": {},
   "source": [
    "#### Row and Colum major"
   ]
  },
  {
   "cell_type": "code",
   "execution_count": 62,
   "id": "b2494492",
   "metadata": {},
   "outputs": [
    {
     "data": {
      "text/plain": [
       "row_major (generic function with 1 method)"
      ]
     },
     "metadata": {},
     "output_type": "display_data"
    }
   ],
   "source": [
    "function row_major(A::Array{Float64})\n",
    "     m,n = size(A)\n",
    "     for i in 1:m\n",
    "        for j in 1:n\n",
    "           A[i,j] = 1\n",
    "        end\n",
    "    end\n",
    "end"
   ]
  },
  {
   "cell_type": "code",
   "execution_count": 63,
   "id": "0bcf4918",
   "metadata": {},
   "outputs": [
    {
     "data": {
      "text/plain": [
       "col_major (generic function with 1 method)"
      ]
     },
     "metadata": {},
     "output_type": "display_data"
    }
   ],
   "source": [
    "function col_major(A::Array{Float64})\n",
    "     m,n = size(A)\n",
    "     for j in 1:n\n",
    "        for i in 1:m\n",
    "           A[i,j] = 1\n",
    "        end\n",
    "    end\n",
    "end"
   ]
  },
  {
   "cell_type": "code",
   "execution_count": 64,
   "id": "6ce105a0",
   "metadata": {},
   "outputs": [
    {
     "data": {
      "text/plain": [
       "BenchmarkTools.Trial: 10000 samples with 988 evaluations per sample.\n",
       " Range \u001b[90m(\u001b[39m\u001b[36m\u001b[1mmin\u001b[22m\u001b[39m … \u001b[35mmax\u001b[39m\u001b[90m):  \u001b[39m\u001b[36m\u001b[1m47.874 ns\u001b[22m\u001b[39m … \u001b[35m  3.854 μs\u001b[39m  \u001b[90m┊\u001b[39m GC \u001b[90m(\u001b[39mmin … max\u001b[90m): \u001b[39m0.00% … 0.00%\n",
       " Time  \u001b[90m(\u001b[39m\u001b[34m\u001b[1mmedian\u001b[22m\u001b[39m\u001b[90m):     \u001b[39m\u001b[34m\u001b[1m48.785 ns               \u001b[22m\u001b[39m\u001b[90m┊\u001b[39m GC \u001b[90m(\u001b[39mmedian\u001b[90m):    \u001b[39m0.00%\n",
       " Time  \u001b[90m(\u001b[39m\u001b[32m\u001b[1mmean\u001b[22m\u001b[39m ± \u001b[32mσ\u001b[39m\u001b[90m):   \u001b[39m\u001b[32m\u001b[1m63.166 ns\u001b[22m\u001b[39m ± \u001b[32m113.995 ns\u001b[39m  \u001b[90m┊\u001b[39m GC \u001b[90m(\u001b[39mmean ± σ\u001b[90m):  \u001b[39m0.00% ± 0.00%\n",
       "\n",
       "  \u001b[34m█\u001b[39m\u001b[39m▆\u001b[39m▂\u001b[39m▂\u001b[39m▁\u001b[32m \u001b[39m\u001b[39m \u001b[39m \u001b[39m \u001b[39m▂\u001b[39m▂\u001b[39m▁\u001b[39m \u001b[39m \u001b[39m \u001b[39m \u001b[39m \u001b[39m \u001b[39m \u001b[39m \u001b[39m \u001b[39m \u001b[39m \u001b[39m \u001b[39m \u001b[39m \u001b[39m \u001b[39m \u001b[39m \u001b[39m \u001b[39m \u001b[39m \u001b[39m \u001b[39m \u001b[39m \u001b[39m \u001b[39m \u001b[39m \u001b[39m \u001b[39m \u001b[39m \u001b[39m \u001b[39m \u001b[39m \u001b[39m \u001b[39m \u001b[39m \u001b[39m \u001b[39m \u001b[39m \u001b[39m \u001b[39m \u001b[39m \u001b[39m \u001b[39m \u001b[39m \u001b[39m \u001b[39m \u001b[39m \u001b[39m \u001b[39m \u001b[39m▁\n",
       "  \u001b[34m█\u001b[39m\u001b[39m█\u001b[39m█\u001b[39m█\u001b[39m█\u001b[32m█\u001b[39m\u001b[39m█\u001b[39m█\u001b[39m█\u001b[39m█\u001b[39m█\u001b[39m█\u001b[39m█\u001b[39m█\u001b[39m█\u001b[39m▇\u001b[39m▇\u001b[39m▇\u001b[39m▇\u001b[39m▇\u001b[39m▆\u001b[39m▅\u001b[39m▅\u001b[39m▅\u001b[39m▆\u001b[39m▆\u001b[39m▅\u001b[39m▆\u001b[39m▆\u001b[39m▅\u001b[39m▆\u001b[39m▅\u001b[39m▄\u001b[39m▄\u001b[39m▅\u001b[39m▅\u001b[39m▅\u001b[39m▆\u001b[39m▅\u001b[39m▅\u001b[39m▄\u001b[39m▃\u001b[39m▄\u001b[39m▄\u001b[39m▄\u001b[39m▄\u001b[39m▄\u001b[39m▁\u001b[39m▄\u001b[39m▅\u001b[39m▅\u001b[39m▁\u001b[39m▁\u001b[39m▄\u001b[39m▄\u001b[39m▁\u001b[39m▁\u001b[39m▄\u001b[39m▃\u001b[39m▄\u001b[39m \u001b[39m█\n",
       "  47.9 ns\u001b[90m       \u001b[39m\u001b[90mHistogram: \u001b[39m\u001b[90m\u001b[1mlog(\u001b[22m\u001b[39m\u001b[90mfrequency\u001b[39m\u001b[90m\u001b[1m)\u001b[22m\u001b[39m\u001b[90m by time\u001b[39m       246 ns \u001b[0m\u001b[1m<\u001b[22m\n",
       "\n",
       " Memory estimate\u001b[90m: \u001b[39m\u001b[33m0 bytes\u001b[39m, allocs estimate\u001b[90m: \u001b[39m\u001b[33m0\u001b[39m."
      ]
     },
     "metadata": {},
     "output_type": "display_data"
    }
   ],
   "source": [
    "n = 10\n",
    "A = rand(n,n)\n",
    "\n",
    "using BenchmarkTools\n",
    "rowMajBenchmark = @benchmark row_major($A)"
   ]
  },
  {
   "cell_type": "code",
   "execution_count": 65,
   "id": "5ce3353a",
   "metadata": {},
   "outputs": [
    {
     "data": {
      "text/plain": [
       "BenchmarkTools.Trial: 10000 samples with 988 evaluations per sample.\n",
       " Range \u001b[90m(\u001b[39m\u001b[36m\u001b[1mmin\u001b[22m\u001b[39m … \u001b[35mmax\u001b[39m\u001b[90m):  \u001b[39m\u001b[36m\u001b[1m44.332 ns\u001b[22m\u001b[39m … \u001b[35m  5.750 μs\u001b[39m  \u001b[90m┊\u001b[39m GC \u001b[90m(\u001b[39mmin … max\u001b[90m): \u001b[39m0.00% … 0.00%\n",
       " Time  \u001b[90m(\u001b[39m\u001b[34m\u001b[1mmedian\u001b[22m\u001b[39m\u001b[90m):     \u001b[39m\u001b[34m\u001b[1m55.263 ns               \u001b[22m\u001b[39m\u001b[90m┊\u001b[39m GC \u001b[90m(\u001b[39mmedian\u001b[90m):    \u001b[39m0.00%\n",
       " Time  \u001b[90m(\u001b[39m\u001b[32m\u001b[1mmean\u001b[22m\u001b[39m ± \u001b[32mσ\u001b[39m\u001b[90m):   \u001b[39m\u001b[32m\u001b[1m79.049 ns\u001b[22m\u001b[39m ± \u001b[32m169.320 ns\u001b[39m  \u001b[90m┊\u001b[39m GC \u001b[90m(\u001b[39mmean ± σ\u001b[90m):  \u001b[39m0.00% ± 0.00%\n",
       "\n",
       "  \u001b[39m \u001b[39m█\u001b[34m \u001b[39m\u001b[39m \u001b[39m \u001b[39m \u001b[39m \u001b[32m \u001b[39m\u001b[39m \u001b[39m \u001b[39m \u001b[39m \u001b[39m \u001b[39m \u001b[39m \u001b[39m \u001b[39m \u001b[39m \u001b[39m \u001b[39m \u001b[39m \u001b[39m \u001b[39m \u001b[39m \u001b[39m \u001b[39m \u001b[39m \u001b[39m \u001b[39m \u001b[39m \u001b[39m \u001b[39m \u001b[39m \u001b[39m \u001b[39m \u001b[39m \u001b[39m \u001b[39m \u001b[39m \u001b[39m \u001b[39m \u001b[39m \u001b[39m \u001b[39m \u001b[39m \u001b[39m \u001b[39m \u001b[39m \u001b[39m \u001b[39m \u001b[39m \u001b[39m \u001b[39m \u001b[39m \u001b[39m \u001b[39m \u001b[39m \u001b[39m \u001b[39m \u001b[39m \u001b[39m \u001b[39m \n",
       "  \u001b[39m▃\u001b[39m█\u001b[34m▅\u001b[39m\u001b[39m▄\u001b[39m▃\u001b[39m▃\u001b[39m▄\u001b[32m▄\u001b[39m\u001b[39m▄\u001b[39m▃\u001b[39m▃\u001b[39m▃\u001b[39m▂\u001b[39m▂\u001b[39m▂\u001b[39m▂\u001b[39m▂\u001b[39m▂\u001b[39m▂\u001b[39m▂\u001b[39m▂\u001b[39m▂\u001b[39m▂\u001b[39m▂\u001b[39m▂\u001b[39m▂\u001b[39m▂\u001b[39m▂\u001b[39m▂\u001b[39m▂\u001b[39m▂\u001b[39m▂\u001b[39m▂\u001b[39m▂\u001b[39m▁\u001b[39m▂\u001b[39m▂\u001b[39m▂\u001b[39m▂\u001b[39m▂\u001b[39m▂\u001b[39m▂\u001b[39m▂\u001b[39m▂\u001b[39m▂\u001b[39m▂\u001b[39m▂\u001b[39m▂\u001b[39m▂\u001b[39m▂\u001b[39m▂\u001b[39m▁\u001b[39m▂\u001b[39m▂\u001b[39m▂\u001b[39m▂\u001b[39m▁\u001b[39m▁\u001b[39m▂\u001b[39m▂\u001b[39m \u001b[39m▂\n",
       "  44.3 ns\u001b[90m         Histogram: frequency by time\u001b[39m          326 ns \u001b[0m\u001b[1m<\u001b[22m\n",
       "\n",
       " Memory estimate\u001b[90m: \u001b[39m\u001b[33m0 bytes\u001b[39m, allocs estimate\u001b[90m: \u001b[39m\u001b[33m0\u001b[39m."
      ]
     },
     "metadata": {},
     "output_type": "display_data"
    }
   ],
   "source": [
    "colMajBenchmark = @benchmark col_major($A)"
   ]
  },
  {
   "cell_type": "markdown",
   "id": "a26d171d",
   "metadata": {},
   "source": [
    "#### Appending vs Preallocation"
   ]
  },
  {
   "cell_type": "code",
   "execution_count": 66,
   "id": "ee56d4ae",
   "metadata": {},
   "outputs": [
    {
     "data": {
      "text/plain": [
       "my_append (generic function with 1 method)"
      ]
     },
     "metadata": {},
     "output_type": "display_data"
    }
   ],
   "source": [
    "function my_append()\n",
    "    v = []\n",
    "    for i in 1:10000\n",
    "       push!(v,5)\n",
    "    end\n",
    "end"
   ]
  },
  {
   "cell_type": "code",
   "execution_count": 67,
   "id": "6ffb8874",
   "metadata": {},
   "outputs": [
    {
     "data": {
      "text/plain": [
       "my_prealloc (generic function with 1 method)"
      ]
     },
     "metadata": {},
     "output_type": "display_data"
    }
   ],
   "source": [
    "function my_prealloc()\n",
    "    v = Vector{Int64}(undef,10000)\n",
    "    for i in 1:10000\n",
    "       v[i] = 5\n",
    "    end\n",
    "end"
   ]
  },
  {
   "cell_type": "code",
   "execution_count": 68,
   "id": "0fe55460",
   "metadata": {},
   "outputs": [
    {
     "data": {
      "text/plain": [
       "BenchmarkTools.Trial: 10000 samples with 1 evaluation per sample.\n",
       " Range \u001b[90m(\u001b[39m\u001b[36m\u001b[1mmin\u001b[22m\u001b[39m … \u001b[35mmax\u001b[39m\u001b[90m):  \u001b[39m\u001b[36m\u001b[1m 29.100 μs\u001b[22m\u001b[39m … \u001b[35m 38.339 ms\u001b[39m  \u001b[90m┊\u001b[39m GC \u001b[90m(\u001b[39mmin … max\u001b[90m): \u001b[39m 0.00% … 99.42%\n",
       " Time  \u001b[90m(\u001b[39m\u001b[34m\u001b[1mmedian\u001b[22m\u001b[39m\u001b[90m):     \u001b[39m\u001b[34m\u001b[1m 40.600 μs               \u001b[22m\u001b[39m\u001b[90m┊\u001b[39m GC \u001b[90m(\u001b[39mmedian\u001b[90m):    \u001b[39m 0.00%\n",
       " Time  \u001b[90m(\u001b[39m\u001b[32m\u001b[1mmean\u001b[22m\u001b[39m ± \u001b[32mσ\u001b[39m\u001b[90m):   \u001b[39m\u001b[32m\u001b[1m105.515 μs\u001b[22m\u001b[39m ± \u001b[32m699.066 μs\u001b[39m  \u001b[90m┊\u001b[39m GC \u001b[90m(\u001b[39mmean ± σ\u001b[90m):  \u001b[39m24.76% ±  6.34%\n",
       "\n",
       "  \u001b[39m█\u001b[34m▅\u001b[39m\u001b[39m▂\u001b[39m▁\u001b[39m▁\u001b[39m▄\u001b[32m▆\u001b[39m\u001b[39m▅\u001b[39m▃\u001b[39m▂\u001b[39m▁\u001b[39m▁\u001b[39m▁\u001b[39m \u001b[39m \u001b[39m \u001b[39m \u001b[39m \u001b[39m \u001b[39m \u001b[39m \u001b[39m \u001b[39m \u001b[39m \u001b[39m \u001b[39m \u001b[39m \u001b[39m \u001b[39m \u001b[39m \u001b[39m \u001b[39m \u001b[39m \u001b[39m \u001b[39m \u001b[39m \u001b[39m \u001b[39m \u001b[39m \u001b[39m \u001b[39m \u001b[39m \u001b[39m \u001b[39m \u001b[39m \u001b[39m \u001b[39m \u001b[39m \u001b[39m \u001b[39m \u001b[39m \u001b[39m \u001b[39m \u001b[39m \u001b[39m \u001b[39m \u001b[39m \u001b[39m \u001b[39m \u001b[39m \u001b[39m \u001b[39m \u001b[39m▂\n",
       "  \u001b[39m█\u001b[34m█\u001b[39m\u001b[39m█\u001b[39m█\u001b[39m█\u001b[39m█\u001b[32m█\u001b[39m\u001b[39m█\u001b[39m█\u001b[39m█\u001b[39m█\u001b[39m█\u001b[39m█\u001b[39m█\u001b[39m█\u001b[39m▆\u001b[39m▇\u001b[39m▆\u001b[39m▆\u001b[39m▆\u001b[39m▅\u001b[39m▄\u001b[39m▅\u001b[39m▅\u001b[39m▃\u001b[39m▄\u001b[39m▄\u001b[39m▄\u001b[39m▅\u001b[39m▄\u001b[39m▄\u001b[39m▃\u001b[39m▄\u001b[39m▁\u001b[39m▃\u001b[39m▄\u001b[39m▄\u001b[39m▃\u001b[39m▃\u001b[39m▁\u001b[39m▁\u001b[39m▃\u001b[39m▁\u001b[39m▃\u001b[39m▃\u001b[39m▁\u001b[39m▁\u001b[39m▃\u001b[39m▁\u001b[39m▄\u001b[39m▃\u001b[39m▃\u001b[39m▁\u001b[39m▁\u001b[39m▁\u001b[39m▁\u001b[39m▁\u001b[39m▁\u001b[39m▁\u001b[39m▁\u001b[39m▃\u001b[39m \u001b[39m█\n",
       "  29.1 μs\u001b[90m       \u001b[39m\u001b[90mHistogram: \u001b[39m\u001b[90m\u001b[1mlog(\u001b[22m\u001b[39m\u001b[90mfrequency\u001b[39m\u001b[90m\u001b[1m)\u001b[22m\u001b[39m\u001b[90m by time\u001b[39m        785 μs \u001b[0m\u001b[1m<\u001b[22m\n",
       "\n",
       " Memory estimate\u001b[90m: \u001b[39m\u001b[33m326.46 KiB\u001b[39m, allocs estimate\u001b[90m: \u001b[39m\u001b[33m14\u001b[39m."
      ]
     },
     "metadata": {},
     "output_type": "display_data"
    }
   ],
   "source": [
    "@benchmark my_append()"
   ]
  },
  {
   "cell_type": "code",
   "execution_count": 69,
   "id": "c7223fa1",
   "metadata": {},
   "outputs": [
    {
     "data": {
      "text/plain": [
       "BenchmarkTools.Trial: 10000 samples with 4 evaluations per sample.\n",
       " Range \u001b[90m(\u001b[39m\u001b[36m\u001b[1mmin\u001b[22m\u001b[39m … \u001b[35mmax\u001b[39m\u001b[90m):  \u001b[39m\u001b[36m\u001b[1m 6.350 μs\u001b[22m\u001b[39m … \u001b[35m 10.286 ms\u001b[39m  \u001b[90m┊\u001b[39m GC \u001b[90m(\u001b[39mmin … max\u001b[90m): \u001b[39m 0.00% … 99.68%\n",
       " Time  \u001b[90m(\u001b[39m\u001b[34m\u001b[1mmedian\u001b[22m\u001b[39m\u001b[90m):     \u001b[39m\u001b[34m\u001b[1m 8.925 μs               \u001b[22m\u001b[39m\u001b[90m┊\u001b[39m GC \u001b[90m(\u001b[39mmedian\u001b[90m):    \u001b[39m 0.00%\n",
       " Time  \u001b[90m(\u001b[39m\u001b[32m\u001b[1mmean\u001b[22m\u001b[39m ± \u001b[32mσ\u001b[39m\u001b[90m):   \u001b[39m\u001b[32m\u001b[1m21.927 μs\u001b[22m\u001b[39m ± \u001b[32m172.710 μs\u001b[39m  \u001b[90m┊\u001b[39m GC \u001b[90m(\u001b[39mmean ± σ\u001b[90m):  \u001b[39m28.20% ±  6.67%\n",
       "\n",
       "  \u001b[39m▃\u001b[39m█\u001b[34m█\u001b[39m\u001b[39m▄\u001b[39m▃\u001b[39m▂\u001b[39m▂\u001b[39m \u001b[39m \u001b[39m \u001b[39m \u001b[39m \u001b[39m \u001b[39m \u001b[39m \u001b[32m \u001b[39m\u001b[39m▃\u001b[39m▄\u001b[39m▅\u001b[39m▄\u001b[39m▄\u001b[39m▃\u001b[39m▃\u001b[39m▃\u001b[39m▂\u001b[39m▂\u001b[39m▁\u001b[39m \u001b[39m \u001b[39m \u001b[39m \u001b[39m \u001b[39m \u001b[39m \u001b[39m \u001b[39m \u001b[39m \u001b[39m \u001b[39m \u001b[39m \u001b[39m \u001b[39m \u001b[39m \u001b[39m \u001b[39m \u001b[39m \u001b[39m \u001b[39m \u001b[39m \u001b[39m \u001b[39m \u001b[39m \u001b[39m \u001b[39m \u001b[39m \u001b[39m \u001b[39m \u001b[39m \u001b[39m \u001b[39m \u001b[39m \u001b[39m▂\n",
       "  \u001b[39m█\u001b[39m█\u001b[34m█\u001b[39m\u001b[39m█\u001b[39m█\u001b[39m█\u001b[39m█\u001b[39m█\u001b[39m█\u001b[39m▇\u001b[39m▇\u001b[39m▇\u001b[39m▆\u001b[39m▆\u001b[39m▅\u001b[32m█\u001b[39m\u001b[39m█\u001b[39m█\u001b[39m█\u001b[39m█\u001b[39m█\u001b[39m█\u001b[39m█\u001b[39m█\u001b[39m█\u001b[39m█\u001b[39m█\u001b[39m█\u001b[39m█\u001b[39m▇\u001b[39m█\u001b[39m▇\u001b[39m▇\u001b[39m▇\u001b[39m▇\u001b[39m▇\u001b[39m▆\u001b[39m▇\u001b[39m▆\u001b[39m▆\u001b[39m▆\u001b[39m▅\u001b[39m▅\u001b[39m▆\u001b[39m▄\u001b[39m▆\u001b[39m▅\u001b[39m▅\u001b[39m▆\u001b[39m▅\u001b[39m▆\u001b[39m▆\u001b[39m▆\u001b[39m▅\u001b[39m▆\u001b[39m▄\u001b[39m▅\u001b[39m▅\u001b[39m▁\u001b[39m▄\u001b[39m \u001b[39m█\n",
       "  6.35 μs\u001b[90m       \u001b[39m\u001b[90mHistogram: \u001b[39m\u001b[90m\u001b[1mlog(\u001b[22m\u001b[39m\u001b[90mfrequency\u001b[39m\u001b[90m\u001b[1m)\u001b[22m\u001b[39m\u001b[90m by time\u001b[39m      70.3 μs \u001b[0m\u001b[1m<\u001b[22m\n",
       "\n",
       " Memory estimate\u001b[90m: \u001b[39m\u001b[33m78.17 KiB\u001b[39m, allocs estimate\u001b[90m: \u001b[39m\u001b[33m2\u001b[39m."
      ]
     },
     "metadata": {},
     "output_type": "display_data"
    }
   ],
   "source": [
    "@benchmark my_prealloc()"
   ]
  },
  {
   "cell_type": "markdown",
   "id": "dddfadd3",
   "metadata": {},
   "source": [
    "#### Dot operation in a function"
   ]
  },
  {
   "cell_type": "code",
   "execution_count": 70,
   "id": "8458a255",
   "metadata": {},
   "outputs": [
    {
     "data": {
      "text/plain": [
       "fdot (generic function with 1 method)"
      ]
     },
     "metadata": {},
     "output_type": "display_data"
    }
   ],
   "source": [
    "f(x) = 3x.^2 + 4x + 7x.^3\n",
    "fdot(x) = 3 .*x.^2 .+ 4 .*x .+ 7 .*x.^3"
   ]
  },
  {
   "cell_type": "code",
   "execution_count": 71,
   "id": "27dcbd13",
   "metadata": {},
   "outputs": [
    {
     "data": {
      "text/plain": [
       "BenchmarkTools.Trial: 10000 samples with 1 evaluation per sample.\n",
       " Range \u001b[90m(\u001b[39m\u001b[36m\u001b[1mmin\u001b[22m\u001b[39m … \u001b[35mmax\u001b[39m\u001b[90m):  \u001b[39m\u001b[36m\u001b[1m 44.800 μs\u001b[22m\u001b[39m … \u001b[35m 53.316 ms\u001b[39m  \u001b[90m┊\u001b[39m GC \u001b[90m(\u001b[39mmin … max\u001b[90m): \u001b[39m 0.00% … 99.59%\n",
       " Time  \u001b[90m(\u001b[39m\u001b[34m\u001b[1mmedian\u001b[22m\u001b[39m\u001b[90m):     \u001b[39m\u001b[34m\u001b[1m 58.300 μs               \u001b[22m\u001b[39m\u001b[90m┊\u001b[39m GC \u001b[90m(\u001b[39mmedian\u001b[90m):    \u001b[39m 0.00%\n",
       " Time  \u001b[90m(\u001b[39m\u001b[32m\u001b[1mmean\u001b[22m\u001b[39m ± \u001b[32mσ\u001b[39m\u001b[90m):   \u001b[39m\u001b[32m\u001b[1m138.100 μs\u001b[22m\u001b[39m ± \u001b[32m846.646 μs\u001b[39m  \u001b[90m┊\u001b[39m GC \u001b[90m(\u001b[39mmean ± σ\u001b[90m):  \u001b[39m28.56% ±  9.15%\n",
       "\n",
       "  \u001b[34m█\u001b[39m\u001b[39m▃\u001b[39m \u001b[32m▅\u001b[39m\u001b[39m▄\u001b[39m▃\u001b[39m▁\u001b[39m \u001b[39m \u001b[39m \u001b[39m \u001b[39m \u001b[39m \u001b[39m \u001b[39m \u001b[39m \u001b[39m \u001b[39m \u001b[39m \u001b[39m \u001b[39m \u001b[39m \u001b[39m \u001b[39m \u001b[39m \u001b[39m \u001b[39m \u001b[39m \u001b[39m \u001b[39m \u001b[39m \u001b[39m \u001b[39m \u001b[39m \u001b[39m \u001b[39m \u001b[39m \u001b[39m \u001b[39m \u001b[39m \u001b[39m \u001b[39m \u001b[39m \u001b[39m \u001b[39m \u001b[39m \u001b[39m \u001b[39m \u001b[39m \u001b[39m \u001b[39m \u001b[39m \u001b[39m \u001b[39m \u001b[39m \u001b[39m \u001b[39m \u001b[39m \u001b[39m \u001b[39m \u001b[39m \u001b[39m \u001b[39m▁\n",
       "  \u001b[34m█\u001b[39m\u001b[39m█\u001b[39m█\u001b[32m█\u001b[39m\u001b[39m█\u001b[39m█\u001b[39m█\u001b[39m█\u001b[39m▇\u001b[39m▆\u001b[39m▆\u001b[39m▄\u001b[39m▄\u001b[39m▄\u001b[39m▄\u001b[39m▄\u001b[39m▅\u001b[39m▄\u001b[39m▅\u001b[39m▅\u001b[39m▅\u001b[39m▃\u001b[39m▁\u001b[39m▃\u001b[39m▄\u001b[39m▄\u001b[39m▄\u001b[39m▃\u001b[39m▅\u001b[39m▃\u001b[39m▄\u001b[39m▁\u001b[39m▃\u001b[39m▁\u001b[39m▃\u001b[39m▁\u001b[39m▁\u001b[39m▁\u001b[39m▁\u001b[39m▄\u001b[39m▃\u001b[39m▄\u001b[39m▁\u001b[39m▁\u001b[39m▄\u001b[39m▁\u001b[39m▄\u001b[39m▁\u001b[39m▃\u001b[39m▄\u001b[39m▁\u001b[39m▃\u001b[39m▁\u001b[39m▁\u001b[39m▃\u001b[39m▄\u001b[39m▃\u001b[39m▄\u001b[39m▃\u001b[39m▁\u001b[39m▆\u001b[39m \u001b[39m█\n",
       "  44.8 μs\u001b[90m       \u001b[39m\u001b[90mHistogram: \u001b[39m\u001b[90m\u001b[1mlog(\u001b[22m\u001b[39m\u001b[90mfrequency\u001b[39m\u001b[90m\u001b[1m)\u001b[22m\u001b[39m\u001b[90m by time\u001b[39m       2.05 ms \u001b[0m\u001b[1m<\u001b[22m\n",
       "\n",
       " Memory estimate\u001b[90m: \u001b[39m\u001b[33m469.20 KiB\u001b[39m, allocs estimate\u001b[90m: \u001b[39m\u001b[33m18\u001b[39m."
      ]
     },
     "metadata": {},
     "output_type": "display_data"
    }
   ],
   "source": [
    "x = randn(10000)\n",
    "@benchmark f($x)"
   ]
  },
  {
   "cell_type": "code",
   "execution_count": 72,
   "id": "b0478c9f",
   "metadata": {},
   "outputs": [
    {
     "data": {
      "text/plain": [
       "BenchmarkTools.Trial: 10000 samples with 4 evaluations per sample.\n",
       " Range \u001b[90m(\u001b[39m\u001b[36m\u001b[1mmin\u001b[22m\u001b[39m … \u001b[35mmax\u001b[39m\u001b[90m):  \u001b[39m\u001b[36m\u001b[1m 6.775 μs\u001b[22m\u001b[39m … \u001b[35m 11.025 ms\u001b[39m  \u001b[90m┊\u001b[39m GC \u001b[90m(\u001b[39mmin … max\u001b[90m): \u001b[39m 0.00% … 99.63%\n",
       " Time  \u001b[90m(\u001b[39m\u001b[34m\u001b[1mmedian\u001b[22m\u001b[39m\u001b[90m):     \u001b[39m\u001b[34m\u001b[1m 9.725 μs               \u001b[22m\u001b[39m\u001b[90m┊\u001b[39m GC \u001b[90m(\u001b[39mmedian\u001b[90m):    \u001b[39m 0.00%\n",
       " Time  \u001b[90m(\u001b[39m\u001b[32m\u001b[1mmean\u001b[22m\u001b[39m ± \u001b[32mσ\u001b[39m\u001b[90m):   \u001b[39m\u001b[32m\u001b[1m24.999 μs\u001b[22m\u001b[39m ± \u001b[32m184.798 μs\u001b[39m  \u001b[90m┊\u001b[39m GC \u001b[90m(\u001b[39mmean ± σ\u001b[90m):  \u001b[39m26.58% ±  6.75%\n",
       "\n",
       "  \u001b[39m█\u001b[34m▆\u001b[39m\u001b[39m▃\u001b[39m \u001b[39m \u001b[39m \u001b[39m▃\u001b[32m▆\u001b[39m\u001b[39m▅\u001b[39m▃\u001b[39m▂\u001b[39m▁\u001b[39m \u001b[39m \u001b[39m \u001b[39m \u001b[39m \u001b[39m \u001b[39m \u001b[39m \u001b[39m \u001b[39m \u001b[39m \u001b[39m \u001b[39m \u001b[39m \u001b[39m \u001b[39m \u001b[39m \u001b[39m \u001b[39m \u001b[39m \u001b[39m \u001b[39m \u001b[39m \u001b[39m \u001b[39m \u001b[39m \u001b[39m \u001b[39m \u001b[39m \u001b[39m \u001b[39m \u001b[39m \u001b[39m \u001b[39m \u001b[39m \u001b[39m \u001b[39m \u001b[39m \u001b[39m \u001b[39m \u001b[39m \u001b[39m \u001b[39m \u001b[39m \u001b[39m \u001b[39m \u001b[39m \u001b[39m \u001b[39m \u001b[39m▂\n",
       "  \u001b[39m█\u001b[34m█\u001b[39m\u001b[39m█\u001b[39m█\u001b[39m█\u001b[39m█\u001b[39m█\u001b[32m█\u001b[39m\u001b[39m█\u001b[39m█\u001b[39m█\u001b[39m█\u001b[39m█\u001b[39m█\u001b[39m█\u001b[39m█\u001b[39m▇\u001b[39m▇\u001b[39m▆\u001b[39m▆\u001b[39m▆\u001b[39m▆\u001b[39m▅\u001b[39m▄\u001b[39m▅\u001b[39m▅\u001b[39m▃\u001b[39m▃\u001b[39m▁\u001b[39m▃\u001b[39m▄\u001b[39m▄\u001b[39m▁\u001b[39m▃\u001b[39m▄\u001b[39m▄\u001b[39m▁\u001b[39m▁\u001b[39m▁\u001b[39m▁\u001b[39m▁\u001b[39m▄\u001b[39m▃\u001b[39m▁\u001b[39m▁\u001b[39m▄\u001b[39m▃\u001b[39m▃\u001b[39m▃\u001b[39m▁\u001b[39m▁\u001b[39m▁\u001b[39m▃\u001b[39m▁\u001b[39m▄\u001b[39m▁\u001b[39m▁\u001b[39m▅\u001b[39m▁\u001b[39m▃\u001b[39m \u001b[39m█\n",
       "  6.78 μs\u001b[90m       \u001b[39m\u001b[90mHistogram: \u001b[39m\u001b[90m\u001b[1mlog(\u001b[22m\u001b[39m\u001b[90mfrequency\u001b[39m\u001b[90m\u001b[1m)\u001b[22m\u001b[39m\u001b[90m by time\u001b[39m       170 μs \u001b[0m\u001b[1m<\u001b[22m\n",
       "\n",
       " Memory estimate\u001b[90m: \u001b[39m\u001b[33m78.20 KiB\u001b[39m, allocs estimate\u001b[90m: \u001b[39m\u001b[33m3\u001b[39m."
      ]
     },
     "metadata": {},
     "output_type": "display_data"
    }
   ],
   "source": [
    "@benchmark fdot($x)"
   ]
  },
  {
   "cell_type": "code",
   "execution_count": 73,
   "id": "3e510000",
   "metadata": {},
   "outputs": [
    {
     "data": {
      "text/plain": [
       "BenchmarkTools.Trial: 10000 samples with 4 evaluations per sample.\n",
       " Range \u001b[90m(\u001b[39m\u001b[36m\u001b[1mmin\u001b[22m\u001b[39m … \u001b[35mmax\u001b[39m\u001b[90m):  \u001b[39m\u001b[36m\u001b[1m 7.000 μs\u001b[22m\u001b[39m … \u001b[35m 10.083 ms\u001b[39m  \u001b[90m┊\u001b[39m GC \u001b[90m(\u001b[39mmin … max\u001b[90m): \u001b[39m 0.00% … 99.64%\n",
       " Time  \u001b[90m(\u001b[39m\u001b[34m\u001b[1mmedian\u001b[22m\u001b[39m\u001b[90m):     \u001b[39m\u001b[34m\u001b[1m10.525 μs               \u001b[22m\u001b[39m\u001b[90m┊\u001b[39m GC \u001b[90m(\u001b[39mmedian\u001b[90m):    \u001b[39m 0.00%\n",
       " Time  \u001b[90m(\u001b[39m\u001b[32m\u001b[1mmean\u001b[22m\u001b[39m ± \u001b[32mσ\u001b[39m\u001b[90m):   \u001b[39m\u001b[32m\u001b[1m26.895 μs\u001b[22m\u001b[39m ± \u001b[32m172.281 μs\u001b[39m  \u001b[90m┊\u001b[39m GC \u001b[90m(\u001b[39mmean ± σ\u001b[90m):  \u001b[39m24.40% ±  6.77%\n",
       "\n",
       "  \u001b[39m█\u001b[34m▇\u001b[39m\u001b[39m▅\u001b[39m▃\u001b[39m▁\u001b[39m▁\u001b[39m▁\u001b[39m▃\u001b[32m▅\u001b[39m\u001b[39m▅\u001b[39m▄\u001b[39m▄\u001b[39m▃\u001b[39m▂\u001b[39m▁\u001b[39m▁\u001b[39m \u001b[39m▁\u001b[39m \u001b[39m \u001b[39m \u001b[39m \u001b[39m \u001b[39m \u001b[39m \u001b[39m \u001b[39m \u001b[39m \u001b[39m \u001b[39m \u001b[39m \u001b[39m \u001b[39m \u001b[39m \u001b[39m \u001b[39m \u001b[39m \u001b[39m \u001b[39m \u001b[39m \u001b[39m \u001b[39m \u001b[39m \u001b[39m \u001b[39m \u001b[39m \u001b[39m \u001b[39m \u001b[39m \u001b[39m \u001b[39m \u001b[39m \u001b[39m \u001b[39m \u001b[39m \u001b[39m \u001b[39m \u001b[39m \u001b[39m \u001b[39m \u001b[39m \u001b[39m▂\n",
       "  \u001b[39m█\u001b[34m█\u001b[39m\u001b[39m█\u001b[39m█\u001b[39m█\u001b[39m█\u001b[39m█\u001b[39m█\u001b[32m█\u001b[39m\u001b[39m█\u001b[39m█\u001b[39m█\u001b[39m█\u001b[39m█\u001b[39m█\u001b[39m█\u001b[39m█\u001b[39m█\u001b[39m█\u001b[39m▇\u001b[39m▇\u001b[39m▇\u001b[39m▇\u001b[39m▆\u001b[39m▆\u001b[39m▆\u001b[39m▇\u001b[39m▆\u001b[39m▆\u001b[39m▆\u001b[39m▆\u001b[39m▆\u001b[39m▄\u001b[39m▅\u001b[39m▄\u001b[39m▅\u001b[39m▆\u001b[39m▄\u001b[39m▄\u001b[39m▃\u001b[39m▁\u001b[39m▃\u001b[39m▄\u001b[39m▄\u001b[39m▅\u001b[39m▃\u001b[39m▄\u001b[39m▃\u001b[39m▄\u001b[39m▄\u001b[39m▄\u001b[39m▃\u001b[39m▁\u001b[39m▁\u001b[39m▃\u001b[39m▁\u001b[39m▃\u001b[39m▃\u001b[39m▃\u001b[39m▄\u001b[39m \u001b[39m█\n",
       "  7 μs\u001b[90m          \u001b[39m\u001b[90mHistogram: \u001b[39m\u001b[90m\u001b[1mlog(\u001b[22m\u001b[39m\u001b[90mfrequency\u001b[39m\u001b[90m\u001b[1m)\u001b[22m\u001b[39m\u001b[90m by time\u001b[39m       156 μs \u001b[0m\u001b[1m<\u001b[22m\n",
       "\n",
       " Memory estimate\u001b[90m: \u001b[39m\u001b[33m78.20 KiB\u001b[39m, allocs estimate\u001b[90m: \u001b[39m\u001b[33m3\u001b[39m."
      ]
     },
     "metadata": {},
     "output_type": "display_data"
    }
   ],
   "source": [
    "@benchmark f.($x)"
   ]
  }
 ],
 "metadata": {
  "kernelspec": {
   "display_name": "Julia 1.11.6",
   "language": "julia",
   "name": "julia-1.11"
  },
  "language_info": {
   "file_extension": ".jl",
   "mimetype": "application/julia",
   "name": "julia",
   "version": "1.11.6"
  }
 },
 "nbformat": 4,
 "nbformat_minor": 5
}
