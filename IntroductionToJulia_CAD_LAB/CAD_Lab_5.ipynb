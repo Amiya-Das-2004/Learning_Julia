{
 "cells": [
  {
   "cell_type": "markdown",
   "id": "5bc697e2-35e1-4352-86ba-275196592a1c",
   "metadata": {},
   "source": [
    "# Introduction to Julia by Dr. Mohammad Masiur Rahaman (masiurr@iitbbs.ac.in)"
   ]
  },
  {
   "cell_type": "markdown",
   "id": "f01bed05",
   "metadata": {},
   "source": [
    "## Tensors"
   ]
  },
  {
   "cell_type": "code",
   "execution_count": null,
   "id": "2ca9af78",
   "metadata": {},
   "outputs": [],
   "source": [
    "using Tensors\n",
    "import Tensors: LinearAlgebra"
   ]
  },
  {
   "cell_type": "code",
   "execution_count": null,
   "id": "39129783",
   "metadata": {},
   "outputs": [],
   "source": [
    "σ = SymmetricTensor{2,2,Float64}((1.0, 2.0, 3.0))"
   ]
  },
  {
   "cell_type": "code",
   "execution_count": null,
   "id": "475ed9eb",
   "metadata": {},
   "outputs": [],
   "source": [
    "LinearAlgebra.eigvals(σ)"
   ]
  },
  {
   "cell_type": "code",
   "execution_count": null,
   "id": "ad42ac33",
   "metadata": {},
   "outputs": [],
   "source": [
    "EigVec1 = LinearAlgebra.eigvecs(σ)[:,1]"
   ]
  },
  {
   "cell_type": "code",
   "execution_count": null,
   "id": "90dad5b2",
   "metadata": {},
   "outputs": [],
   "source": [
    "EigVec2 = LinearAlgebra.eigvecs(σ)[:,2]"
   ]
  },
  {
   "cell_type": "code",
   "execution_count": null,
   "id": "29cb2a04",
   "metadata": {},
   "outputs": [],
   "source": [
    "Tensor{1,2}([1.0,2.0])"
   ]
  },
  {
   "cell_type": "markdown",
   "id": "13ed27f6",
   "metadata": {},
   "source": [
    "Basis Vector"
   ]
  },
  {
   "cell_type": "code",
   "execution_count": null,
   "id": "3889fc77",
   "metadata": {},
   "outputs": [],
   "source": [
    "e₁ = eᵢ(Vec{3, Float64}, 1)"
   ]
  },
  {
   "cell_type": "code",
   "execution_count": null,
   "id": "a92c880a",
   "metadata": {},
   "outputs": [],
   "source": [
    "e₂ = eᵢ(Vec{3, Float64}, 2)"
   ]
  },
  {
   "cell_type": "code",
   "execution_count": null,
   "id": "de01342e",
   "metadata": {},
   "outputs": [],
   "source": [
    "e₃ = eᵢ(Vec{3, Float64}, 3)"
   ]
  },
  {
   "cell_type": "code",
   "execution_count": null,
   "id": "17cd0226",
   "metadata": {},
   "outputs": [],
   "source": [
    "δ₁₂ = e₁⋅e₂"
   ]
  },
  {
   "cell_type": "code",
   "execution_count": null,
   "id": "222e8e24",
   "metadata": {},
   "outputs": [],
   "source": [
    "ϵ₁₂₃ = e₁⋅(e₂×e₃)"
   ]
  },
  {
   "cell_type": "markdown",
   "id": "15c76df4-748e-42ba-9aa4-0c9611804ec8",
   "metadata": {},
   "source": [
    "## Probelm No. 1: Generate triangular mesh for a rectangle of length L and height H using Gmsh package in Julia"
   ]
  },
  {
   "cell_type": "code",
   "execution_count": 1,
   "id": "e649def1-6523-4ba4-863c-7d36946ac456",
   "metadata": {},
   "outputs": [],
   "source": [
    "# input parameters\n",
    "L = 2;\n",
    "H = 1;\n",
    "h = 0.25;"
   ]
  },
  {
   "cell_type": "code",
   "execution_count": 2,
   "id": "4de21a4f-5c93-4dd4-923a-0d72e9e9b4b8",
   "metadata": {},
   "outputs": [
    {
     "name": "stdout",
     "output_type": "stream",
     "text": [
      "Info    : Meshing 1D...\n",
      "Info    : [  0%] Meshing curve 1 (Line)\n",
      "Info    : [ 30%] Meshing curve 2 (Line)\n",
      "Info    : [ 60%] Meshing curve 3 (Line)\n",
      "Info    : [ 80%] Meshing curve 4 (Line)\n",
      "Info    : Done meshing 1D (Wall 0.003721s, CPU 0s)\n",
      "Info    : Meshing 2D...\n",
      "Info    : Meshing surface 1 (Plane, Frontal-Delaunay)\n",
      "Info    : Done meshing 2D (Wall 0.0189369s, CPU 0.015625s)\n",
      "Info    : 56 nodes 114 elements\n",
      "Info    : Writing './Model\\rectangle.msh'...\n",
      "Info    : Done writing './Model\\rectangle.msh'\n",
      "-------------------------------------------------------\n",
      "Version       : 4.13.1\n",
      "License       : GNU General Public License\n",
      "Build OS      : Windows64-sdk\n",
      "Build date    : 19700101\n",
      "Build host    : amdci7.julia.csail.mit.edu\n",
      "Build options : 64Bit ALGLIB[contrib] ANN[contrib] Bamg Blossom Cairo DIntegration DomHex Eigen[contrib] Fltk GMP Gmm[contrib] Hxt Jpeg Kbipack MathEx[contrib] Mesh Metis[contrib] Mmg Mpeg Netgen Nii2mesh NoSocklenT ONELAB ONELABMetamodel OpenCASCADE OpenCASCADE-CAF OpenGL OpenMP OptHom Parser Plugins Png Post QuadMeshingTools QuadTri Solver TetGen/BR TinyXML2[contrib] Untangle Voro++[contrib] WinslowUntangler Zlib\n",
      "FLTK version  : 1.3.8\n",
      "OCC version   : 7.7.2\n",
      "Packaged by   : root\n",
      "Web site      : https://gmsh.info\n",
      "Issue tracker : https://gitlab.onelab.info/gmsh/gmsh/issues\n",
      "-------------------------------------------------------\n"
     ]
    },
    {
     "name": "stderr",
     "output_type": "stream",
     "text": [
      "Warning : Unknown entity of dimension 2 and tag 1 in physical group 10\n",
      "Warning : Unknown entity of dimension 1 and tag 1 in physical group 1\n",
      "Warning : Unknown entity of dimension 1 and tag 2 in physical group 2\n",
      "Warning : Unknown entity of dimension 1 and tag 3 in physical group 3\n",
      "Warning : Unknown entity of dimension 1 and tag 4 in physical group 4\n"
     ]
    }
   ],
   "source": [
    "import Gmsh: gmsh\n",
    "\n",
    "# Initializing Gmsh (Initialize the Gmsh API)\n",
    "gmsh.initialize()\n",
    "# Create a Model (For example, let's create a rectangle of length L and height H)\n",
    "gmsh.model.add(\"Rectangle\")\n",
    "\n",
    "# Define points\n",
    "p1 = gmsh.model.geo.addPoint(0, 0, 0, h)\n",
    "p2 = gmsh.model.geo.addPoint(L, 0, 0, h)\n",
    "p3 = gmsh.model.geo.addPoint(L, H, 0, h)\n",
    "p4 = gmsh.model.geo.addPoint(0, H, 0, h)\n",
    "\n",
    "# Add lines\n",
    "l1 = gmsh.model.geo.addLine(p1, p2)\n",
    "l2 = gmsh.model.geo.addLine(p2, p3)\n",
    "l3 = gmsh.model.geo.addLine(p3, p4)\n",
    "l4 = gmsh.model.geo.addLine(p4, p1)\n",
    "\n",
    "# Create a curve loop and surface\n",
    "cl = gmsh.model.geo.addCurveLoop([l1, l2, l3, l4])\n",
    "s = gmsh.model.geo.addPlaneSurface([cl])\n",
    "\n",
    "# Create physical group for domain\n",
    "gmsh.model.addPhysicalGroup(2, [s], 10, \"Domain\")\n",
    "\n",
    "# Create physical groups for boundaries\n",
    "gmsh.model.addPhysicalGroup(1, [l1], 1, \"Bottom\")\n",
    "gmsh.model.addPhysicalGroup(1, [l2], 2, \"Right\")\n",
    "gmsh.model.addPhysicalGroup(1, [l3], 3, \"Top\")\n",
    "gmsh.model.addPhysicalGroup(1, [l4], 4, \"Left\")\n",
    "\n",
    "# Synchronize and Mesh (Synchronize the CAD model and generate a mesh:)\n",
    "gmsh.model.geo.synchronize()\n",
    "gmsh.model.mesh.generate(2)\n",
    "\n",
    "# Create the folder (if it doesn't exist)\n",
    "write_dir = \"./Model\"\n",
    "isdir(write_dir) || mkpath(write_dir)  # creates the folder if missing\n",
    "\n",
    "# Write mesh to file\n",
    "gmsh.write(joinpath(write_dir, \"rectangle.msh\"))\n",
    "\n",
    "#Launch GUI or Finalize (Launch the GUI to visualize the mesh or finalize the Gmsh API:)\n",
    "gmsh.fltk.run()  # Launch GUI\n",
    "# or \n",
    "gmsh.finalize() # Finalize Gmsh API"
   ]
  },
  {
   "cell_type": "markdown",
   "id": "4f343917-fe4a-44e1-ae53-22cf903fb7e3",
   "metadata": {},
   "source": [
    "### To see the mesh file in paraview "
   ]
  },
  {
   "cell_type": "code",
   "execution_count": null,
   "id": "9be9c721-f202-4577-9630-54726ea86de7",
   "metadata": {},
   "outputs": [],
   "source": [
    "using Gridap\n",
    "using GridapGmsh"
   ]
  },
  {
   "cell_type": "code",
   "execution_count": null,
   "id": "98b7d8f1-b2d3-4a5a-b3ae-739e15aff0b2",
   "metadata": {},
   "outputs": [],
   "source": [
    "# Create the folder (if it doesn't exist)\n",
    "write_dir = \"./Model\"\n",
    "isdir(write_dir) || mkpath(write_dir)  # creates the folder if missing\n",
    "\n",
    "model = DiscreteModelFromFile(\"rectangle.msh\")\n",
    "\n",
    "# Write VTU file into the folder\n",
    "writevtk(model, joinpath(write_dir, \"Model\"))  # creates ./Result/model2D.vtu"
   ]
  },
  {
   "cell_type": "markdown",
   "id": "4e98ae5e-eb6f-4520-a3c6-183432515690",
   "metadata": {},
   "source": [
    "## Probelm No. 2: Generate rectangular mesh for a rectangle of length L and height H using GridapGmsh package in Julia"
   ]
  },
  {
   "cell_type": "code",
   "execution_count": null,
   "id": "47f03597-dd27-427f-95b6-8da106ac59ba",
   "metadata": {},
   "outputs": [],
   "source": [
    "using Gridap\n",
    "using GridapGmsh\n",
    "\n",
    "domain = (0,L,0,H)\n",
    "partition = (10,5)\n",
    "model = CartesianDiscreteModel(domain,partition)\n",
    "\n",
    "#Define new boundaries\n",
    "labels = get_face_labeling(model)\n",
    "add_tag_from_tags!(labels,\"Left\",[1,3,7]);\n",
    "add_tag_from_tags!(labels,\"Right\",[2,4,8]);\n",
    "add_tag_from_tags!(labels,\"Top\",[3,4,6]);\n",
    "add_tag_from_tags!(labels,\"Bottom\",[1,2,5]);"
   ]
  },
  {
   "cell_type": "code",
   "execution_count": null,
   "id": "a7cbeb1d-77d7-4366-96a6-702483b55dff",
   "metadata": {},
   "outputs": [],
   "source": [
    "writevtk(model,\"modelRectEle\")"
   ]
  },
  {
   "cell_type": "markdown",
   "id": "22590210-0792-44e5-aede-868f640276e5",
   "metadata": {},
   "source": [
    "## Probelm No. 3: Generate triangular mesh for a Brick"
   ]
  },
  {
   "cell_type": "code",
   "execution_count": 4,
   "id": "6a6ac388-5773-450e-9589-9d87f7418773",
   "metadata": {},
   "outputs": [],
   "source": [
    "# Define brick dimensions\n",
    "L, W, H = 2.0, 1.0, 0.5;\n",
    "h = 0.1;"
   ]
  },
  {
   "cell_type": "code",
   "execution_count": null,
   "id": "dc86ac24-72d9-4a02-8024-471a130d3cb4",
   "metadata": {},
   "outputs": [
    {
     "name": "stdout",
     "output_type": "stream",
     "text": [
      "Info    : Meshing 1D...\n",
      "Info    : [  0%] Meshing curve 1 (Line)\n",
      "Info    : [ 10%] Meshing curve 2 (Line)\n",
      "Info    : [ 20%] Meshing curve 3 (Line)\n",
      "Info    : [ 30%] Meshing curve 4 (Line)\n",
      "Info    : [ 40%] Meshing curve 6 (Line)\n",
      "Info    : [ 50%] Meshing curve 7 (Line)\n",
      "Info    : [ 60%] Meshing curve 8 (Line)\n",
      "Info    : [ 60%] Meshing curve 9 (Line)\n",
      "Info    : [ 70%] Meshing curve 11 (Line)\n",
      "Info    : [ 80%] Meshing curve 12 (Line)\n",
      "Info    : [ 90%] Meshing curve 16 (Line)\n",
      "Info    : [100%] Meshing curve 20 (Line)\n",
      "Info    : Done meshing 1D (Wall 0.000742912s, CPU 0.015625s)\n",
      "Info    : Meshing 2D...\n",
      "Info    : [  0%] Meshing surface 1 (Plane, Frontal-Delaunay)\n",
      "Info    : [ 20%] Meshing surface 13 (Surface, Frontal-Delaunay)\n",
      "Info    : [ 40%] Meshing surface 17 (Surface, Frontal-Delaunay)\n",
      "Info    : [ 60%] Meshing surface 21 (Surface, Frontal-Delaunay)\n",
      "Info    : [ 70%] Meshing surface 25 (Surface, Frontal-Delaunay)\n",
      "Info    : [ 90%] Meshing surface 26 (Plane, Frontal-Delaunay)\n",
      "Info    : Done meshing 2D (Wall 0.0367608s, CPU 0.03125s)\n",
      "Info    : Meshing 3D...\n",
      "Info    : 3D Meshing 1 volume with 1 connected component\n",
      "Info    : Tetrahedrizing 864 nodes...\n",
      "Info    : Done tetrahedrizing 872 nodes (Wall 0.013633s, CPU 0.015625s)\n",
      "Info    : Reconstructing mesh...\n",
      "Info    :  - Creating surface mesh\n",
      "Info    :  - Identifying boundary edges\n",
      "Info    :  - Recovering boundary\n",
      "Info    : Done reconstructing mesh (Wall 0.0317349s, CPU 0.03125s)\n",
      "Info    : Found volume 1\n",
      "Info    : It. 0 - 0 nodes created - worst tet radius 2.67295 (nodes removed 0 0)\n",
      "Info    : 3D refinement terminated (1271 nodes total):\n",
      "Info    :  - 0 Delaunay cavities modified for star shapeness\n",
      "Info    :  - 0 nodes could not be inserted\n",
      "Info    :  - 5100 tetrahedra created in 0.0289979 sec. (175874 tets/s)\n",
      "Info    : 0 node relocations\n",
      "Info    : Done meshing 3D (Wall 0.0988731s, CPU 0.09375s)\n",
      "Info    : Optimizing mesh...\n",
      "Info    : Optimizing volume 1\n",
      "Info    : Optimization starts (volume = 1) with worst = 0.011185 / average = 0.764512:\n",
      "Info    : 0.00 < quality < 0.10 :        13 elements\n",
      "Info    : 0.10 < quality < 0.20 :        41 elements\n",
      "Info    : 0.20 < quality < 0.30 :        62 elements\n",
      "Info    : 0.30 < quality < 0.40 :        84 elements\n",
      "Info    : 0.40 < quality < 0.50 :       127 elements\n",
      "Info    : 0.50 < quality < 0.60 :       221 elements\n",
      "Info    : 0.60 < quality < 0.70 :       722 elements\n",
      "Info    : 0.70 < quality < 0.80 :      1383 elements\n",
      "Info    : 0.80 < quality < 0.90 :      1664 elements\n",
      "Info    : 0.90 < quality < 1.00 :       779 elements\n",
      "Info    : 116 edge swaps, 3 node relocations (volume = 1): worst = 0.301775 / average = 0.779499 (Wall 0.00231409s, CPU 0s)\n",
      "Info    : No ill-shaped tets in the mesh :-)\n",
      "Info    : 0.00 < quality < 0.10 :         0 elements\n",
      "Info    : 0.10 < quality < 0.20 :         0 elements\n",
      "Info    : 0.20 < quality < 0.30 :         0 elements\n",
      "Info    : 0.30 < quality < 0.40 :        82 elements\n",
      "Info    : 0.40 < quality < 0.50 :       118 elements\n",
      "Info    : 0.50 < quality < 0.60 :       211 elements\n",
      "Info    : 0.60 < quality < 0.70 :       714 elements\n",
      "Info    : 0.70 < quality < 0.80 :      1389 elements\n",
      "Info    : 0.80 < quality < 0.90 :      1696 elements\n",
      "Info    : 0.90 < quality < 1.00 :       777 elements\n",
      "Info    : Done optimizing mesh (Wall 0.00851202s, CPU 0.015625s)\n",
      "Info    : 1271 nodes 6863 elements\n",
      "Info    : Writing './Model\\brick.msh'...\n",
      "Info    : Done writing './Model\\brick.msh'\n",
      "-------------------------------------------------------\n",
      "Version       : 4.13.1\n",
      "License       : GNU General Public License\n",
      "Build OS      : Windows64-sdk\n",
      "Build date    : 19700101\n",
      "Build host    : amdci7.julia.csail.mit.edu\n",
      "Build options : 64Bit ALGLIB[contrib] ANN[contrib] Bamg Blossom Cairo DIntegration DomHex Eigen[contrib] Fltk GMP Gmm[contrib] Hxt Jpeg Kbipack MathEx[contrib] Mesh Metis[contrib] Mmg Mpeg Netgen Nii2mesh NoSocklenT ONELAB ONELABMetamodel OpenCASCADE OpenCASCADE-CAF OpenGL OpenMP OptHom Parser Plugins Png Post QuadMeshingTools QuadTri Solver TetGen/BR TinyXML2[contrib] Untangle Voro++[contrib] WinslowUntangler Zlib\n",
      "FLTK version  : 1.3.8\n",
      "OCC version   : 7.7.2\n",
      "Packaged by   : root\n",
      "Web site      : https://gmsh.info\n",
      "Issue tracker : https://gitlab.onelab.info/gmsh/gmsh/issues\n",
      "-------------------------------------------------------\n"
     ]
    },
    {
     "name": "stderr",
     "output_type": "stream",
     "text": [
      "Warning : Gmsh has aleady been initialized\n"
     ]
    }
   ],
   "source": [
    "using Gmsh\n",
    "\n",
    "# Initialize Gmsh\n",
    "gmsh.initialize()\n",
    "\n",
    "# Create a new model\n",
    "gmsh.model.add(\"brick\")\n",
    "\n",
    "# Define corner points\n",
    "p1 = gmsh.model.geo.addPoint(0, 0, 0, h)\n",
    "p2 = gmsh.model.geo.addPoint(L, 0, 0, h)\n",
    "p3 = gmsh.model.geo.addPoint(L, W, 0, h)\n",
    "p4 = gmsh.model.geo.addPoint(0, W, 0, h)\n",
    "\n",
    "# Bottom face lines\n",
    "l1 = gmsh.model.geo.addLine(p1, p2)\n",
    "l2 = gmsh.model.geo.addLine(p2, p3)\n",
    "l3 = gmsh.model.geo.addLine(p3, p4)\n",
    "l4 = gmsh.model.geo.addLine(p4, p1)\n",
    "\n",
    "# Curve loop and plane surface for bottom\n",
    "cl = gmsh.model.geo.addCurveLoop([l1, l2, l3, l4])\n",
    "s = gmsh.model.geo.addPlaneSurface([cl])\n",
    "\n",
    "# Extrude to create 3D brick\n",
    "ext = gmsh.model.geo.extrude([(p2, s)], 0, 0, H)\n",
    "\n",
    "# Synchronize geometry\n",
    "gmsh.model.geo.synchronize()\n",
    "\n",
    "# Generate 3D mesh\n",
    "gmsh.model.mesh.generate(3)\n",
    "\n",
    "# Create the folder (if it doesn't exist)\n",
    "write_dir = \"./Model\"\n",
    "isdir(write_dir) || mkpath(write_dir)  # creates the folder if missing\n",
    "\n",
    "# Save mesh\n",
    "gmsh.write(joinpath(write_dir, \"brick.msh\"))\n",
    "\n",
    "#Launch GUI or Finalize (Launch the GUI to visualize the mesh or finalize the Gmsh API:)\n",
    "# Launch GUI\n",
    "gmsh.fltk.run()  \n",
    "\n",
    "# Finalize Gmsh\n",
    "gmsh.finalize()"
   ]
  },
  {
   "cell_type": "code",
   "execution_count": null,
   "id": "ea7b1d67-4347-4513-9b07-43a05461dbc8",
   "metadata": {},
   "outputs": [],
   "source": [
    "using Gridap\n",
    "using GridapGmsh\n",
    "model = DiscreteModelFromFile(\"brick.msh\")\n",
    "\n",
    "writevtk(model,\"model3Dbrick\")"
   ]
  },
  {
   "cell_type": "markdown",
   "id": "5b8e6c46-6018-48b4-aab2-5afcb7509b41",
   "metadata": {},
   "source": [
    "## Probelm No. 4: Generate triangular mesh for anular ring"
   ]
  },
  {
   "cell_type": "code",
   "execution_count": 10,
   "id": "2a652bbf-f22a-47b5-b9d1-1eefc1d621a9",
   "metadata": {},
   "outputs": [
    {
     "data": {
      "text/plain": [
       "0.2"
      ]
     },
     "metadata": {},
     "output_type": "display_data"
    }
   ],
   "source": [
    "# Define parameters\n",
    "inner_radius = 1.0\n",
    "outer_radius = 2.0\n",
    "h = 0.2"
   ]
  },
  {
   "cell_type": "code",
   "execution_count": 15,
   "id": "90bbf6c7-ca12-4a86-b334-9c07725899b4",
   "metadata": {},
   "outputs": [
    {
     "name": "stdout",
     "output_type": "stream",
     "text": [
      "Info    : Meshing 1D...\n",
      "Info    : [  0%] Meshing curve 1 (Circle)\n",
      "Info    : [ 30%] Meshing curve 2 (Circle)\n",
      "Info    : [ 60%] Meshing curve 3 (Circle)\n",
      "Info    : [ 80%] Meshing curve 4 (Circle)\n",
      "Info    : Done meshing 1D (Wall 0.00107431s, CPU 0s)\n",
      "Info    : Meshing 2D...\n",
      "Info    : Meshing surface 1 (Plane, Frontal-Delaunay)\n",
      "Info    : Done meshing 2D (Wall 0.015702s, CPU 0.015625s)\n",
      "Info    : 353 nodes 709 elements\n",
      "Info    : Meshing order 2 (curvilinear on)...\n",
      "Info    : [  0%] Meshing curve 1 order 2\n",
      "Info    : [ 30%] Meshing curve 2 order 2\n",
      "Info    : [ 50%] Meshing curve 3 order 2\n",
      "Info    : [ 70%] Meshing curve 4 order 2\n",
      "Info    : [ 90%] Meshing surface 1 order 2\n",
      "Info    : Surface mesh: worst distortion = 0.886002 (0 elements in ]0, 0.2]); worst gamma = 0.854794\n",
      "Info    : Done meshing order 2 (Wall 0.00337505s, CPU 0s)\n",
      "Info    : Writing './Model\\annular_ring.msh'...\n",
      "Info    : Done writing './Model\\annular_ring.msh'\n",
      "-------------------------------------------------------\n",
      "Version       : 4.13.1\n",
      "License       : GNU General Public License\n",
      "Build OS      : Windows64-sdk\n",
      "Build date    : 19700101\n",
      "Build host    : amdci7.julia.csail.mit.edu\n",
      "Build options : 64Bit ALGLIB[contrib] ANN[contrib] Bamg Blossom Cairo DIntegration DomHex Eigen[contrib] Fltk GMP Gmm[contrib] Hxt Jpeg Kbipack MathEx[contrib] Mesh Metis[contrib] Mmg Mpeg Netgen Nii2mesh NoSocklenT ONELAB ONELABMetamodel OpenCASCADE OpenCASCADE-CAF OpenGL OpenMP OptHom Parser Plugins Png Post QuadMeshingTools QuadTri Solver TetGen/BR TinyXML2[contrib] Untangle Voro++[contrib] WinslowUntangler Zlib\n",
      "FLTK version  : 1.3.8\n",
      "OCC version   : 7.7.2\n",
      "Packaged by   : root\n",
      "Web site      : https://gmsh.info\n",
      "Issue tracker : https://gitlab.onelab.info/gmsh/gmsh/issues\n",
      "-------------------------------------------------------\n"
     ]
    }
   ],
   "source": [
    "import Gmsh: gmsh\n",
    "\n",
    "# Initialize Gmsh\n",
    "gmsh.initialize()\n",
    "gmsh.option.setNumber(\"General.Terminal\", 1)\n",
    "\n",
    "# Create a new model\n",
    "gmsh.model.add(\"AnnularRing\")\n",
    "\n",
    "# Define points\n",
    "p1 = gmsh.model.geo.addPoint(0, 0, 0, h)\n",
    "p2 = gmsh.model.geo.addPoint(inner_radius, 0, 0, h)\n",
    "p3 = gmsh.model.geo.addPoint(-inner_radius, 0, 0 ,h)\n",
    "\n",
    "p4 = gmsh.model.geo.addPoint(outer_radius, 0, 0, h)\n",
    "p5 = gmsh.model.geo.addPoint(-outer_radius, 0, 0, h)\n",
    "\n",
    "# Create circle arcs\n",
    "c1 = gmsh.model.geo.addCircleArc(p2, p1, p3)\n",
    "c2 = gmsh.model.geo.addCircleArc(p3, p1, p2)\n",
    "\n",
    "c3 = gmsh.model.geo.addCircleArc(p4, p1, p5)\n",
    "c4 = gmsh.model.geo.addCircleArc(p5, p1, p4)\n",
    "\n",
    "# Create curve loops\n",
    "inner_curve_loop = gmsh.model.geo.addCurveLoop([c1, c2])\n",
    "outer_curve_loop = gmsh.model.geo.addCurveLoop([c3, c4])\n",
    "\n",
    "# Create plane surface\n",
    "surface = gmsh.model.geo.addPlaneSurface([outer_curve_loop, -inner_curve_loop])\n",
    "\n",
    "# Synchronize the geometry\n",
    "gmsh.model.geo.synchronize()\n",
    "\n",
    "# Generate the mesh\n",
    "gmsh.model.mesh.generate(2)  # 2D mesh\n",
    "\n",
    "#Set Element Order (Set the order of the mesh elements:)\n",
    "element_order = 2\n",
    "gmsh.model.mesh.setOrder(element_order)\n",
    "\n",
    "# Create the folder (if it doesn't exist)\n",
    "write_dir = \"./Model\"\n",
    "isdir(write_dir) || mkpath(write_dir)  # creates the folder if missing\n",
    "\n",
    "# Save mesh\n",
    "gmsh.write(joinpath(write_dir, \"annular_ring.msh\"))\n",
    "\n",
    "#Launch GUI or Finalize (Launch the GUI to visualize the mesh or finalize the Gmsh API:)\n",
    "gmsh.fltk.run()  # Launch GUI\n",
    "\n",
    "# Finalize Gmsh\n",
    "gmsh.finalize()"
   ]
  },
  {
   "cell_type": "code",
   "execution_count": null,
   "id": "f0974c67-34c2-474f-9dd9-5ce3947bf7e1",
   "metadata": {},
   "outputs": [
    {
     "name": "stdout",
     "output_type": "stream",
     "text": [
      "Info    : Reading 'annular_ring.msh'...\n",
      "Info    : 10 entities\n",
      "Info    : 4803 nodes\n",
      "Info    : 2501 elements\n",
      "Info    : Done reading 'annular_ring.msh'\n"
     ]
    },
    {
     "ename": "LoadError",
     "evalue": "BoundsError: attempt to access 1249-element Vector{Int32} at index [0]",
     "output_type": "error",
     "traceback": [
      "BoundsError: attempt to access 1249-element Vector{Int32} at index [0]",
      "",
      "Stacktrace:",
      "  [1] \u001b[0m\u001b[1mthrow_boundserror\u001b[22m\u001b[0m\u001b[1m(\u001b[22m\u001b[90mA\u001b[39m::\u001b[0mVector\u001b[90m{Int32}\u001b[39m, \u001b[90mI\u001b[39m::\u001b[0mTuple\u001b[90m{Int64}\u001b[39m\u001b[0m\u001b[1m)\u001b[22m",
      "\u001b[90m    @\u001b[39m \u001b[90mBase\u001b[39m \u001b[90m.\\\u001b[39m\u001b[90m\u001b[4messentials.jl:14\u001b[24m\u001b[39m",
      "  [2] \u001b[0m\u001b[1mgetindex\u001b[22m",
      "\u001b[90m    @\u001b[39m \u001b[90m.\\\u001b[39m\u001b[90m\u001b[4messentials.jl:916\u001b[24m\u001b[39m\u001b[90m [inlined]\u001b[39m",
      "  [3] \u001b[0m\u001b[1mgetindex\u001b[22m",
      "\u001b[90m    @\u001b[39m \u001b[90m.\\\u001b[39m\u001b[90m\u001b[4mabstractarray.jl:1315\u001b[24m\u001b[39m\u001b[90m [inlined]\u001b[39m",
      "  [4] \u001b[0m\u001b[1m_fill_cells_around_scratch!\u001b[22m\u001b[0m\u001b[1m(\u001b[22m\u001b[90mcells_around_scratch\u001b[39m::\u001b[0mVector\u001b[90m{Int64}\u001b[39m, \u001b[90mvertex\u001b[39m::\u001b[0mInt32, \u001b[90mvertex_to_cells_data\u001b[39m::\u001b[0mVector\u001b[90m{Int32}\u001b[39m, \u001b[90mvertex_to_cells_ptrs\u001b[39m::\u001b[0mVector\u001b[90m{Int32}\u001b[39m\u001b[0m\u001b[1m)\u001b[22m",
      "\u001b[90m    @\u001b[39m \u001b[35mGridap.Geometry\u001b[39m \u001b[90mC:\\Users\\IIT BBSR\\.julia\\packages\\Gridap\\YCiNd\\src\\Geometry\\\u001b[39m\u001b[90m\u001b[4mGridTopologies.jl:1236\u001b[24m\u001b[39m",
      "  [5] \u001b[0m\u001b[1m_fill_gface_to_face!\u001b[22m\u001b[0m\u001b[1m(\u001b[22m\u001b[90mgface_to_face\u001b[39m::\u001b[0mVector\u001b[90m{Int32}\u001b[39m, \u001b[90mnode_to_vertex\u001b[39m::\u001b[0mVector\u001b[90m{Int32}\u001b[39m, \u001b[90mface_to_nodes_data\u001b[39m::\u001b[0mVector\u001b[90m{Int32}\u001b[39m, \u001b[90mface_to_nodes_ptrs\u001b[39m::\u001b[0mVector\u001b[90m{Int32}\u001b[39m, \u001b[90mnode_to_faces_data\u001b[39m::\u001b[0mVector\u001b[90m{Int32}\u001b[39m, \u001b[90mnode_to_faces_ptrs\u001b[39m::\u001b[0mVector\u001b[90m{Int32}\u001b[39m, \u001b[90mgface_to_nodes_data\u001b[39m::\u001b[0mVector\u001b[90m{Int64}\u001b[39m, \u001b[90mgface_to_nodes_ptrs\u001b[39m::\u001b[0mVector\u001b[90m{Int32}\u001b[39m, \u001b[90mfaces_around\u001b[39m::\u001b[0mVector\u001b[90m{Int64}\u001b[39m, \u001b[90mfaces_around_scratch\u001b[39m::\u001b[0mVector\u001b[90m{Int64}\u001b[39m\u001b[0m\u001b[1m)\u001b[22m",
      "\u001b[90m    @\u001b[39m \u001b[36mGridapGmsh\u001b[39m \u001b[90mC:\\Users\\IIT BBSR\\.julia\\packages\\GridapGmsh\\Iih5l\\src\\\u001b[39m\u001b[90m\u001b[4mGmshDiscreteModels.jl:861\u001b[24m\u001b[39m",
      "  [6] \u001b[0m\u001b[1m_find_gface_to_face\u001b[22m\u001b[0m\u001b[1m(\u001b[22m\u001b[90mnode_to_vertex\u001b[39m::\u001b[0mVector\u001b[90m{Int32}\u001b[39m, \u001b[90mface_to_nodes_data\u001b[39m::\u001b[0mVector\u001b[90m{Int32}\u001b[39m, \u001b[90mface_to_nodes_ptrs\u001b[39m::\u001b[0mVector\u001b[90m{Int32}\u001b[39m, \u001b[90mnode_to_faces_data\u001b[39m::\u001b[0mVector\u001b[90m{Int32}\u001b[39m, \u001b[90mnode_to_faces_ptrs\u001b[39m::\u001b[0mVector\u001b[90m{Int32}\u001b[39m, \u001b[90mgface_to_nodes_data\u001b[39m::\u001b[0mVector\u001b[90m{Int64}\u001b[39m, \u001b[90mgface_to_nodes_ptrs\u001b[39m::\u001b[0mVector\u001b[90m{Int32}\u001b[39m\u001b[0m\u001b[1m)\u001b[22m",
      "\u001b[90m    @\u001b[39m \u001b[36mGridapGmsh\u001b[39m \u001b[90mC:\\Users\\IIT BBSR\\.julia\\packages\\GridapGmsh\\Iih5l\\src\\\u001b[39m\u001b[90m\u001b[4mGmshDiscreteModels.jl:818\u001b[24m\u001b[39m",
      "  [7] \u001b[0m\u001b[1m_setup_gface_to_face\u001b[22m\u001b[0m\u001b[1m(\u001b[22m\u001b[90mnode_to_vertex\u001b[39m::\u001b[0mVector\u001b[90m{Int32}\u001b[39m, \u001b[90mface_to_nodes\u001b[39m::\u001b[0mGridap.Arrays.Table\u001b[90m{Int32, Vector{Int32}, Vector{Int32}}\u001b[39m, \u001b[90mnode_to_faces\u001b[39m::\u001b[0mGridap.Arrays.Table\u001b[90m{Int32, Vector{Int32}, Vector{Int32}}\u001b[39m, \u001b[90mgface_to_nodes\u001b[39m::\u001b[0mGridap.Arrays.Table\u001b[90m{Int64, Vector{Int64}, Vector{Int32}}\u001b[39m\u001b[0m\u001b[1m)\u001b[22m",
      "\u001b[90m    @\u001b[39m \u001b[36mGridapGmsh\u001b[39m \u001b[90mC:\\Users\\IIT BBSR\\.julia\\packages\\GridapGmsh\\Iih5l\\src\\\u001b[39m\u001b[90m\u001b[4mGmshDiscreteModels.jl:790\u001b[24m\u001b[39m",
      "  [8] \u001b[0m\u001b[1m_fill_dim_to_face_to_label!\u001b[22m\u001b[0m\u001b[1m(\u001b[22m\u001b[90mnode_to_vertex\u001b[39m::\u001b[0mVector\u001b[90m{Int32}\u001b[39m, \u001b[90mdim_to_face_to_label\u001b[39m::\u001b[0mVector\u001b[90m{Vector{Int64}}\u001b[39m, \u001b[90mgrid_topology\u001b[39m::\u001b[0mGridap.Geometry.UnstructuredGridTopology\u001b[90m{2, 2, Float64, Gridap.Geometry.Oriented}\u001b[39m, \u001b[90mdim_to_gface_to_nodes\u001b[39m::\u001b[0mVector\u001b[90m{Any}\u001b[39m, \u001b[90mdim_gface_to_entity\u001b[39m::\u001b[0mVector\u001b[90m{Any}\u001b[39m, \u001b[90mdim_to_offset\u001b[39m::\u001b[0mVector\u001b[90m{Int64}\u001b[39m\u001b[0m\u001b[1m)\u001b[22m",
      "\u001b[90m    @\u001b[39m \u001b[36mGridapGmsh\u001b[39m \u001b[90mC:\\Users\\IIT BBSR\\.julia\\packages\\GridapGmsh\\Iih5l\\src\\\u001b[39m\u001b[90m\u001b[4mGmshDiscreteModels.jl:744\u001b[24m\u001b[39m",
      "  [9] \u001b[0m\u001b[1m_setup_face_labels\u001b[22m\u001b[0m\u001b[1m(\u001b[22m\u001b[90mvertex_to_node\u001b[39m::\u001b[0mVector\u001b[90m{Int32}\u001b[39m, \u001b[90mnode_to_vertex\u001b[39m::\u001b[0mVector\u001b[90m{Int32}\u001b[39m, \u001b[90mgrid_topology\u001b[39m::\u001b[0mGridap.Geometry.UnstructuredGridTopology\u001b[90m{2, 2, Float64, Gridap.Geometry.Oriented}\u001b[39m, \u001b[90mdim_to_gface_to_nodes\u001b[39m::\u001b[0mVector\u001b[90m{Any}\u001b[39m, \u001b[90mdim_gface_to_entity\u001b[39m::\u001b[0mVector\u001b[90m{Any}\u001b[39m, \u001b[90mdim_to_offset\u001b[39m::\u001b[0mVector\u001b[90m{Int64}\u001b[39m, \u001b[90mdim_to_group_to_entities\u001b[39m::\u001b[0mVector\u001b[90m{Vector{Vector{Int64}}}\u001b[39m, \u001b[90mdim_to_group_to_name\u001b[39m::\u001b[0mVector\u001b[90m{Vector{String}}\u001b[39m, \u001b[90mnode_to_label\u001b[39m::\u001b[0mVector\u001b[90m{Int64}\u001b[39m\u001b[0m\u001b[1m)\u001b[22m",
      "\u001b[90m    @\u001b[39m \u001b[36mGridapGmsh\u001b[39m \u001b[90mC:\\Users\\IIT BBSR\\.julia\\packages\\GridapGmsh\\Iih5l\\src\\\u001b[39m\u001b[90m\u001b[4mGmshDiscreteModels.jl:707\u001b[24m\u001b[39m",
      " [10] \u001b[0m\u001b[1m_setup_labeling\u001b[22m\u001b[0m\u001b[1m(\u001b[22m\u001b[90mgmsh\u001b[39m::\u001b[0mModule, \u001b[90mgrid\u001b[39m::\u001b[0mGridap.Geometry.UnstructuredGrid\u001b[90m{2, 2, Float64, Gridap.Geometry.Oriented, Nothing}\u001b[39m, \u001b[90mgrid_topology\u001b[39m::\u001b[0mGridap.Geometry.UnstructuredGridTopology\u001b[90m{2, 2, Float64, Gridap.Geometry.Oriented}\u001b[39m, \u001b[90mcell_to_entity\u001b[39m::\u001b[0mVector\u001b[90m{Int64}\u001b[39m, \u001b[90mvertex_to_node\u001b[39m::\u001b[0mVector\u001b[90m{Int32}\u001b[39m, \u001b[90mnode_to_vertex\u001b[39m::\u001b[0mVector\u001b[90m{Int32}\u001b[39m\u001b[0m\u001b[1m)\u001b[22m",
      "\u001b[90m    @\u001b[39m \u001b[36mGridapGmsh\u001b[39m \u001b[90mC:\\Users\\IIT BBSR\\.julia\\packages\\GridapGmsh\\Iih5l\\src\\\u001b[39m\u001b[90m\u001b[4mGmshDiscreteModels.jl:590\u001b[24m\u001b[39m",
      " [11] \u001b[0m\u001b[1mGmshDiscreteModel\u001b[22m\u001b[0m\u001b[1m(\u001b[22m\u001b[90mgmsh\u001b[39m::\u001b[0mModule; \u001b[90mhas_affine_map\u001b[39m::\u001b[0mNothing, \u001b[90morient_if_simplex\u001b[39m::\u001b[0mNothing\u001b[0m\u001b[1m)\u001b[22m",
      "\u001b[90m    @\u001b[39m \u001b[36mGridapGmsh\u001b[39m \u001b[90mC:\\Users\\IIT BBSR\\.julia\\packages\\GridapGmsh\\Iih5l\\src\\\u001b[39m\u001b[90m\u001b[4mGmshDiscreteModels.jl:39\u001b[24m\u001b[39m",
      " [12] \u001b[0m\u001b[1mGmshDiscreteModel\u001b[22m",
      "\u001b[90m    @\u001b[39m \u001b[90mC:\\Users\\IIT BBSR\\.julia\\packages\\GridapGmsh\\Iih5l\\src\\\u001b[39m\u001b[90m\u001b[4mGmshDiscreteModels.jl:30\u001b[24m\u001b[39m\u001b[90m [inlined]\u001b[39m",
      " [13] \u001b[0m\u001b[1mGmshDiscreteModel\u001b[22m\u001b[0m\u001b[1m(\u001b[22m\u001b[90mmshfile\u001b[39m::\u001b[0mString; \u001b[90mrenumber\u001b[39m::\u001b[0mBool, \u001b[90mhas_affine_map\u001b[39m::\u001b[0mNothing, \u001b[90morient_if_simplex\u001b[39m::\u001b[0mNothing\u001b[0m\u001b[1m)\u001b[22m",
      "\u001b[90m    @\u001b[39m \u001b[36mGridapGmsh\u001b[39m \u001b[90mC:\\Users\\IIT BBSR\\.julia\\packages\\GridapGmsh\\Iih5l\\src\\\u001b[39m\u001b[90m\u001b[4mGmshDiscreteModels.jl:25\u001b[24m\u001b[39m",
      " [14] \u001b[0m\u001b[1mGmshDiscreteModel\u001b[22m",
      "\u001b[90m    @\u001b[39m \u001b[90mC:\\Users\\IIT BBSR\\.julia\\packages\\GridapGmsh\\Iih5l\\src\\\u001b[39m\u001b[90m\u001b[4mGmshDiscreteModels.jl:12\u001b[24m\u001b[39m\u001b[90m [inlined]\u001b[39m",
      " [15] \u001b[0m\u001b[1mDiscreteModelFromFile\u001b[22m",
      "\u001b[90m    @\u001b[39m \u001b[90mC:\\Users\\IIT BBSR\\.julia\\packages\\GridapGmsh\\Iih5l\\src\\\u001b[39m\u001b[90m\u001b[4mGmshDiscreteModels.jl:992\u001b[24m\u001b[39m\u001b[90m [inlined]\u001b[39m",
      " [16] \u001b[0m\u001b[1mDiscreteModelFromFile\u001b[22m\u001b[0m\u001b[1m(\u001b[22m\u001b[90mfilename\u001b[39m::\u001b[0mString\u001b[0m\u001b[1m)\u001b[22m",
      "\u001b[90m    @\u001b[39m \u001b[35mGridap.Geometry\u001b[39m \u001b[90mC:\\Users\\IIT BBSR\\.julia\\packages\\Gridap\\YCiNd\\src\\Geometry\\\u001b[39m\u001b[90m\u001b[4mDiscreteModels.jl:414\u001b[24m\u001b[39m",
      " [17] top-level scope",
      "\u001b[90m    @\u001b[39m \u001b[90m\u001b[4mIn[4]:3\u001b[24m\u001b[39m"
     ]
    }
   ],
   "source": [
    "using Gridap\n",
    "using GridapGmsh\n",
    "\n",
    "\n",
    "model = DiscreteModelFromFile(\"annular_ring.msh\")\n",
    "\n",
    "writevtk(model,\"modelAnnular_ring\")"
   ]
  },
  {
   "cell_type": "markdown",
   "id": "eaacb7a3-67aa-43f7-be6a-a0062c6745b3",
   "metadata": {},
   "source": [
    "## Probelm No. 5: Notched Plate with Hole"
   ]
  },
  {
   "cell_type": "code",
   "execution_count": 17,
   "id": "6d083bc2-3387-464f-b526-c043ca1cb174",
   "metadata": {},
   "outputs": [],
   "source": [
    "L = 65      #Length\n",
    "H = 120      #Height\n",
    "Lh = 10     #notch length\n",
    "ls = 0.45\n",
    "CP = 55      #center height  \n",
    "CH = H/40    #Crack height\n",
    "Lu = 28.5      #offset of hole from right end\n",
    "Ld = 51      #offset of hole from bottom end\n",
    "hfc = ls/50\n",
    "hf = ls/5   #finer mesh size\n",
    "h = 100*hf     #coarser mesh size\n",
    "di = 20      # Diameter of hole\n",
    "FMR = 7*ls;"
   ]
  },
  {
   "cell_type": "code",
   "execution_count": 18,
   "id": "3664e2f9-f350-4ada-ba11-6de5298cd78b",
   "metadata": {},
   "outputs": [
    {
     "name": "stdout",
     "output_type": "stream",
     "text": [
      "Info    : Meshing 1D...\n",
      "Info    : [  0%] Meshing curve 1 (Line)\n",
      "Info    : [ 10%] Meshing curve 2 (Line)\n",
      "Info    : [ 20%] Meshing curve 3 (Line)\n",
      "Info    : [ 30%] Meshing curve 4 (Line)\n",
      "Info    : [ 40%] Meshing curve 5 (Line)\n",
      "Info    : [ 50%] Meshing curve 6 (Line)\n",
      "Info    : [ 60%] Meshing curve 7 (Line)\n",
      "Info    : [ 60%] Meshing curve 8 (Line)\n",
      "Info    : [ 70%] Meshing curve 9 (Line)\n",
      "Info    : [ 80%] Meshing curve 10 (Line)\n",
      "Info    : [ 90%] Meshing curve 11 (Circle)\n",
      "Info    : [100%] Meshing curve 12 (Circle)\n",
      "Info    : Done meshing 1D (Wall 0.0509481s, CPU 0.0625s)\n",
      "Info    : Meshing 2D...\n",
      "Info    : Meshing surface 1 (Plane, Frontal-Delaunay)\n",
      "Info    : Done meshing 2D (Wall 2.68146s, CPU 2.5625s)\n",
      "Info    : 45313 nodes 90235 elements\n",
      "Info    : Writing './Model\\NotchedPlateWithHole.msh'...\n",
      "Info    : Done writing './Model\\NotchedPlateWithHole.msh'\n",
      "-------------------------------------------------------\n",
      "Version       : 4.13.1\n",
      "License       : GNU General Public License\n",
      "Build OS      : Windows64-sdk\n",
      "Build date    : 19700101\n",
      "Build host    : amdci7.julia.csail.mit.edu\n",
      "Build options : 64Bit ALGLIB[contrib] ANN[contrib] Bamg Blossom Cairo DIntegration DomHex Eigen[contrib] Fltk GMP Gmm[contrib] Hxt Jpeg Kbipack MathEx[contrib] Mesh Metis[contrib] Mmg Mpeg Netgen Nii2mesh NoSocklenT ONELAB ONELABMetamodel OpenCASCADE OpenCASCADE-CAF OpenGL OpenMP OptHom Parser Plugins Png Post QuadMeshingTools QuadTri Solver TetGen/BR TinyXML2[contrib] Untangle Voro++[contrib] WinslowUntangler Zlib\n",
      "FLTK version  : 1.3.8\n",
      "OCC version   : 7.7.2\n",
      "Packaged by   : root\n",
      "Web site      : https://gmsh.info\n",
      "Issue tracker : https://gitlab.onelab.info/gmsh/gmsh/issues\n",
      "-------------------------------------------------------\n"
     ]
    },
    {
     "name": "stderr",
     "output_type": "stream",
     "text": [
      "Warning : Unknown entity of dimension 2 and tag 1 in physical group 1\n",
      "Warning : Unknown entity of dimension 1 and tag 1 in physical group 2\n",
      "Warning : Unknown entity of dimension 1 and tag 3 in physical group 3\n"
     ]
    }
   ],
   "source": [
    "import Gmsh: gmsh\n",
    "\n",
    "gmsh.initialize()\n",
    "gmsh.option.setNumber(\"General.Terminal\", 1)\n",
    "p1 = gmsh.model.geo.addPoint(0.0, 0.0, 0.0, h)   \n",
    "p2 = gmsh.model.geo.addPoint(L, 0, 0.0, h) \n",
    "p3 = gmsh.model.geo.addPoint(L, H, 0.0, h)\n",
    "p4 = gmsh.model.geo.addPoint(0, H, 0.0, h)\n",
    "p5 = gmsh.model.geo.addPoint(0, H-CP, 0.0, h)\n",
    "p6 = gmsh.model.geo.addPoint(Lh, H-CP, 0.0, hfc)\n",
    "p7 = gmsh.model.geo.addPoint(Lh, H-CP-0.5*CH, 0.0, hfc)\n",
    "p8 = gmsh.model.geo.addPoint(0, H-CP-0.5*CH, 0.0, h)\n",
    "\n",
    "p9 = gmsh.model.geo.addPoint(L-Lu-0.5*di, Ld, 0.0, h)\n",
    "p10 = gmsh.model.geo.addPoint(L-Lu, Ld, 0.0, h)\n",
    "p11 = gmsh.model.geo.addPoint(L-Lu+0.5*di, Ld, 0.0, h)\n",
    "\n",
    "p12 = gmsh.model.geo.addPoint(L-Lu, Ld+0.5*di, 0.0, h)\n",
    "\n",
    "l1 = gmsh.model.geo.addLine(p1, p2)\n",
    "l2 = gmsh.model.geo.addLine(p2, p3)\n",
    "l3 = gmsh.model.geo.addLine(p3, p4)\n",
    "l4 = gmsh.model.geo.addLine(p4, p5)\n",
    "l5 = gmsh.model.geo.addLine(p5, p6)\n",
    "l6 = gmsh.model.geo.addLine(p6, p7)\n",
    "l7 = gmsh.model.geo.addLine(p7, p8)\n",
    "l8 = gmsh.model.geo.addLine(p8, p1)\n",
    "\n",
    "l9 = gmsh.model.geo.addLine(p7, p9)\n",
    "l10 = gmsh.model.geo.addLine(p7, p12)\n",
    "\n",
    "c1 = gmsh.model.geo.addCircleArc(p9,p10,p11)\n",
    "c2 = gmsh.model.geo.addCircleArc(p11,p10,p9)\n",
    "\n",
    "cl1 = gmsh.model.geo.addCurveLoop([l1,l2,l3,l4,l5,l6,l7,l8])\n",
    "cl2 = gmsh.model.geo.addCurveLoop([c1,c2])\n",
    "\n",
    "ps1 = gmsh.model.geo.addPlaneSurface([cl1,-cl2])\n",
    "\n",
    "pg1 = gmsh.model.addPhysicalGroup(2, [ps1])\n",
    "pg2 = gmsh.model.addPhysicalGroup(1, [l1])\n",
    "pg3 = gmsh.model.addPhysicalGroup(1, [l3])\n",
    "\n",
    "gmsh.model.setPhysicalName(2, pg1, \"Domain\")\n",
    "gmsh.model.setPhysicalName(1, pg2, \"DirichletBot\")\n",
    "gmsh.model.setPhysicalName(1, pg3, \"DirichletTop\")\n",
    "\n",
    "\n",
    "gmsh.model.mesh.field.add(\"Box\", 11)\n",
    "gmsh.model.mesh.field.setNumber(11, \"VIn\", hf)\n",
    "gmsh.model.mesh.field.setNumber(11, \"VOut\", h)\n",
    "gmsh.model.mesh.field.setNumber(11, \"XMin\", L-Lu+0.45*di)\n",
    "gmsh.model.mesh.field.setNumber(11, \"XMax\", L)\n",
    "gmsh.model.mesh.field.setNumber(11, \"YMin\", Ld-FMR)\n",
    "gmsh.model.mesh.field.setNumber(11, \"YMax\", Ld+FMR)\n",
    "\n",
    "gmsh.model.mesh.field.add(\"Distance\", 1)\n",
    "gmsh.model.mesh.field.setNumbers(1, \"EdgesList\", [l10])\n",
    "\n",
    "gmsh.model.mesh.field.add(\"Threshold\", 2)\n",
    "gmsh.model.mesh.field.setNumber(2, \"IField\", 1)\n",
    "gmsh.model.mesh.field.setNumber(2, \"LcMin\", hf)\n",
    "gmsh.model.mesh.field.setNumber(2, \"LcMax\", h)\n",
    "gmsh.model.mesh.field.setNumber(2, \"DistMin\", FMR)\n",
    "gmsh.model.mesh.field.setNumber(2, \"DistMax\", 0.50*H)\n",
    "\n",
    "gmsh.model.mesh.field.add(\"Min\", 7)\n",
    "gmsh.model.mesh.field.setNumbers(7, \"FieldsList\", [11,2])\n",
    "\n",
    "gmsh.model.mesh.field.setAsBackgroundMesh(7)\n",
    "\n",
    "gmsh.model.geo.synchronize()\n",
    "gmsh.model.mesh.generate(2)\n",
    "\n",
    "# Create the folder (if it doesn't exist)\n",
    "write_dir = \"./Model\"\n",
    "isdir(write_dir) || mkpath(write_dir)  # creates the folder if missing\n",
    "\n",
    "# Save mesh\n",
    "gmsh.write(joinpath(write_dir, \"NotchedPlateWithHole.msh\"))\n",
    "\n",
    "#Launch GUI or Finalize (Launch the GUI to visualize the mesh or finalize the Gmsh API:)\n",
    "gmsh.fltk.run()  # Launch GUI\n",
    "gmsh.finalize()"
   ]
  },
  {
   "cell_type": "code",
   "execution_count": null,
   "id": "4e9fb7d5-4f1b-4b49-9cc1-577d559e4b37",
   "metadata": {},
   "outputs": [],
   "source": [
    "using Gridap\n",
    "using GridapGmsh\n",
    "model = DiscreteModelFromFile(\"NotchedPlateWithHole.msh\")\n",
    "\n",
    "writevtk(model,\"modelNotchedPlateWithHole\")"
   ]
  }
 ],
 "metadata": {
  "kernelspec": {
   "display_name": "Julia 1.11.6",
   "language": "julia",
   "name": "julia-1.11"
  },
  "language_info": {
   "file_extension": ".jl",
   "mimetype": "application/julia",
   "name": "julia",
   "version": "1.11.6"
  }
 },
 "nbformat": 4,
 "nbformat_minor": 5
}
