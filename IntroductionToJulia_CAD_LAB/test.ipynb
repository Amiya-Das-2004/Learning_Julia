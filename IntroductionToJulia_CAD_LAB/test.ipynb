{
 "cells": [
  {
   "cell_type": "code",
   "execution_count": 2,
   "id": "ab2cae58",
   "metadata": {},
   "outputs": [],
   "source": [
    "using Symbolics"
   ]
  },
  {
   "cell_type": "code",
   "execution_count": 3,
   "id": "ae1b45ed",
   "metadata": {},
   "outputs": [
    {
     "data": {
      "text/plain": [
       "5-element Vector{Symbol}:\n",
       " :DP\n",
       " :RewriteHelpers\n",
       " :Rewriters\n",
       " :SymbolicUtils\n",
       " :Symbolics"
      ]
     },
     "metadata": {},
     "output_type": "display_data"
    }
   ],
   "source": [
    "syms = names(Symbolics, all=true)\n",
    "\n",
    "[sub for sub in syms if getproperty(Symbolics, sub) isa Module]"
   ]
  },
  {
   "cell_type": "code",
   "execution_count": 4,
   "id": "b8a9326c",
   "metadata": {},
   "outputs": [
    {
     "name": "stdout",
     "output_type": "stream",
     "text": [
      "@acrule\n",
      "@arrayop\n",
      "@makearray\n",
      "@register_array_symbolic\n",
      "@register_discontinuity\n",
      "@register_inverse\n",
      "@register_symbolic\n",
      "@rule\n",
      "@setview\n",
      "@setview!\n",
      "@symbolic_wrap\n",
      "@syms\n",
      "@variables\n",
      "@wrapped\n",
      "Arr\n",
      "ArrayMaker\n",
      "CallWithMetadata\n",
      "ConstrainedEquation\n",
      "Difference\n",
      "Differential\n",
      "DiscreteUpdate\n",
      "Equation\n",
      "Inequality\n",
      "Integral\n",
      "LiteralReal\n",
      "NAMESPACE_SEPARATOR\n",
      "Num\n",
      "PolyForm\n",
      "Rewriters\n",
      "RuleSet\n",
      "SafeReal\n",
      "SymbolicLinearODE\n",
      "SymbolicUtils\n",
      "Symbolics\n",
      "SymbolicsSparsityDetector\n",
      "Unknown\n",
      "Variable\n",
      "VariableDefaultValue\n",
      "VariableSource\n",
      "_parse_vars\n",
      "arguments\n",
      "build_function\n",
      "derivative\n",
      "expand\n",
      "expand_derivatives\n",
      "factors\n",
      "flatten_fractions\n",
      "get_differential_vars\n",
      "get_variables\n",
      "get_variables!\n",
      "getmetadata\n",
      "getparent\n",
      "gradient\n",
      "groebner_basis\n",
      "has_inverse\n",
      "has_left_inverse\n",
      "has_right_inverse\n",
      "hasmetadata\n",
      "hessian\n",
      "infimum\n",
      "inverse\n",
      "is_derivative\n",
      "is_groebner_basis\n",
      "iscall\n",
      "istree\n",
      "jacobian\n",
      "left_continuous_function\n",
      "left_inverse\n",
      "limit\n",
      "operation\n",
      "option_to_metadata_type\n",
      "parse_expr_to_symbolic\n",
      "polynomial_coeffs\n",
      "quick_cancel\n",
      "right_continuous_function\n",
      "right_inverse\n",
      "rootfunction\n",
      "scalarize\n",
      "semilinear_form\n",
      "semipolynomial_form\n",
      "semiquadratic_form\n",
      "series\n",
      "setmetadata\n",
      "shape\n",
      "showraw\n",
      "simplify\n",
      "simplify_fractions\n",
      "solve_for\n",
      "solve_linear_ode_system\n",
      "solve_symbolic_IVP\n",
      "sorted_arguments\n",
      "sparsehessian\n",
      "sparsejacobian\n",
      "substitute\n",
      "supremum\n",
      "symbolic_linear_solve\n",
      "symbolic_solve\n",
      "symbolic_solve_ode\n",
      "symbolics_to_sympy\n",
      "symbolics_to_sympy_pythoncall\n",
      "sympy_algebraic_solve\n",
      "sympy_integrate\n",
      "sympy_limit\n",
      "sympy_linear_solve\n",
      "sympy_ode_solve\n",
      "sympy_pythoncall_algebraic_solve\n",
      "sympy_pythoncall_integrate\n",
      "sympy_pythoncall_limit\n",
      "sympy_pythoncall_linear_solve\n",
      "sympy_pythoncall_ode_solve\n",
      "sympy_pythoncall_simplify\n",
      "sympy_pythoncall_to_symbolics\n",
      "sympy_simplify\n",
      "sympy_to_symbolics\n",
      "taylor\n",
      "taylor_coeff\n",
      "term\n",
      "terms\n",
      "tosymbol\n",
      "unsorted_arguments\n",
      "unwrap\n",
      "variable\n",
      "wrap\n",
      "≲\n",
      "≳\n"
     ]
    }
   ],
   "source": [
    "foreach(println, names(Symbolics))  # To view all the functions Of a Package"
   ]
  },
  {
   "cell_type": "code",
   "execution_count": 6,
   "id": "40572964",
   "metadata": {},
   "outputs": [
    {
     "data": {
      "text/latex": [
       "$$ \\begin{equation}\n",
       "\\left[\n",
       "\\begin{array}{c}\n",
       "x \\\\\n",
       "y \\\\\n",
       "t \\\\\n",
       "\\end{array}\n",
       "\\right]\n",
       "\\end{equation}\n",
       " $$"
      ],
      "text/plain": [
       "3-element Vector{Num}:\n",
       " x\n",
       " y\n",
       " t"
      ]
     },
     "metadata": {},
     "output_type": "display_data"
    }
   ],
   "source": [
    "@variables x y t"
   ]
  },
  {
   "cell_type": "code",
   "execution_count": 7,
   "id": "684df49b",
   "metadata": {},
   "outputs": [
    {
     "data": {
      "text/latex": [
       "$$ \\begin{equation}\n",
       "\\left[\n",
       "\\begin{array}{cc}\n",
       "x + y^{2} & t y \\\\\n",
       "x & y \\\\\n",
       "\\end{array}\n",
       "\\right]\n",
       "\\end{equation}\n",
       " $$"
      ],
      "text/plain": [
       "2×2 Matrix{Num}:\n",
       " x + y^2  t*y\n",
       "       x    y"
      ]
     },
     "metadata": {},
     "output_type": "display_data"
    }
   ],
   "source": [
    "C = simplify.([x+y^2 t*y; \n",
    "                x y])"
   ]
  },
  {
   "cell_type": "code",
   "execution_count": 15,
   "id": "0c58b25e",
   "metadata": {},
   "outputs": [],
   "source": [
    "@variables x₁ x₂ y₁ y₂\n",
    "@variables γ₁ γ₂\n",
    "@variables a₀ a₁ a₂ a₃;\n",
    "@variables b₀ b₁ b₂ b₃;"
   ]
  },
  {
   "cell_type": "code",
   "execution_count": 16,
   "id": "37ab91d7",
   "metadata": {},
   "outputs": [
    {
     "data": {
      "text/latex": [
       "$$ \\begin{equation}\n",
       "\\mathtt{a{_0}} + \\mathtt{a{_1}} \\mathtt{x{_1}} + \\mathtt{a{_2}} \\mathtt{x{_2}} + \\mathtt{a{_3}} \\mathtt{x{_1}} \\mathtt{x{_2}}\n",
       "\\end{equation}\n",
       " $$"
      ],
      "text/plain": [
       "a₀ + a₁*x₁ + a₂*x₂ + a₃*x₁*x₂"
      ]
     },
     "metadata": {},
     "output_type": "display_data"
    }
   ],
   "source": [
    "y₁ = a₀ + a₁*x₁ + a₂*x₂ + a₃*x₁*x₂"
   ]
  },
  {
   "cell_type": "code",
   "execution_count": 25,
   "id": "36246295",
   "metadata": {},
   "outputs": [
    {
     "data": {
      "text/plain": [
       "(a₀, a₀ + a₁, a₀ + a₂, a₀ + a₁ + a₂ + a₃)"
      ]
     },
     "metadata": {},
     "output_type": "display_data"
    }
   ],
   "source": [
    "eq1 = substitute.(y₁, (Dict(x₁ => 0, x₂ => 0),Dict(x₁ => 1, x₂ => 0),Dict(x₁ => 0, x₂ => 1),Dict(x₁ => 1, x₂ => 1)))"
   ]
  },
  {
   "cell_type": "code",
   "execution_count": 27,
   "id": "2ba807a8",
   "metadata": {},
   "outputs": [
    {
     "data": {
      "text/latex": [
       "$$ \\begin{align}\n",
       "\\mathtt{a{_0}} &= 0 \\\\\n",
       "\\mathtt{a{_0}} + \\mathtt{a{_1}} &= 1 \\\\\n",
       "\\mathtt{a{_0}} + \\mathtt{a{_2}} &= 0 \\\\\n",
       "\\mathtt{a{_0}} + \\mathtt{a{_1}} + \\mathtt{a{_2}} + \\mathtt{a{_3}} &= 1 + \\mathtt{\\gamma{_1}}\n",
       "\\end{align}\n",
       " $$"
      ],
      "text/plain": [
       "4-element Vector{Equation}:\n",
       " a₀ ~ 0\n",
       " a₀ + a₁ ~ 1\n",
       " a₀ + a₂ ~ 0\n",
       " a₀ + a₁ + a₂ + a₃ ~ 1 + γ₁"
      ]
     },
     "metadata": {},
     "output_type": "display_data"
    }
   ],
   "source": [
    "EqVec1 = [eq1[1]~0, eq1[2]~1, eq1[3]~0, eq1[4]~1+γ₁]"
   ]
  },
  {
   "cell_type": "code",
   "execution_count": null,
   "id": "1d4c926f",
   "metadata": {},
   "outputs": [
    {
     "data": {
      "text/plain": [
       "4-element Vector{Any}:\n",
       " -0.0\n",
       "  1.0\n",
       " -0.0\n",
       "   γ₁"
      ]
     },
     "metadata": {},
     "output_type": "display_data"
    }
   ],
   "source": [
    "aVecVal = Symbolics.solve_for(EqVec1,[a₀, a₁, a₂, a₃])"
   ]
  },
  {
   "cell_type": "code",
   "execution_count": 31,
   "id": "818ec969",
   "metadata": {},
   "outputs": [
    {
     "data": {
      "text/latex": [
       "$$ \\begin{equation}\n",
       "\\mathtt{x{_1}} + \\mathtt{x{_1}} \\mathtt{x{_2}} \\mathtt{\\gamma{_1}}\n",
       "\\end{equation}\n",
       " $$"
      ],
      "text/plain": [
       "x₁ + x₁*x₂*γ₁"
      ]
     },
     "metadata": {},
     "output_type": "display_data"
    }
   ],
   "source": [
    "y₁ = aVecVal[1] + aVecVal[2]*x₁ + aVecVal[3]*x₂ + aVecVal[4]*x₁*x₂"
   ]
  },
  {
   "cell_type": "code",
   "execution_count": 21,
   "id": "47a2abd3",
   "metadata": {},
   "outputs": [
    {
     "data": {
      "text/latex": [
       "$$ \\begin{equation}\n",
       "\\mathtt{b{_0}} + \\mathtt{b{_1}} \\mathtt{x{_1}} + \\mathtt{b{_2}} \\mathtt{x{_2}} + \\mathtt{b{_3}} \\mathtt{x{_1}} \\mathtt{x{_2}}\n",
       "\\end{equation}\n",
       " $$"
      ],
      "text/plain": [
       "b₀ + b₁*x₁ + b₂*x₂ + b₃*x₁*x₂"
      ]
     },
     "metadata": {},
     "output_type": "display_data"
    }
   ],
   "source": [
    "y₂ =b₀ + b₁*x₁ + b₂*x₂ + b₃*x₁*x₂"
   ]
  },
  {
   "cell_type": "code",
   "execution_count": 23,
   "id": "2fccbf08",
   "metadata": {},
   "outputs": [
    {
     "data": {
      "text/plain": [
       "(b₀, b₀ + b₁, b₀ + b₂, b₀ + b₁ + b₂ + b₃)"
      ]
     },
     "metadata": {},
     "output_type": "display_data"
    }
   ],
   "source": [
    "eq2 = substitute.(y₂, (Dict(x₁ => 0, x₂ => 0),Dict(x₁ => 1, x₂ => 0),Dict(x₁ => 0, x₂ => 1),Dict(x₁ => 1, x₂ => 1)))"
   ]
  },
  {
   "cell_type": "code",
   "execution_count": 33,
   "id": "0c596f07",
   "metadata": {},
   "outputs": [
    {
     "data": {
      "text/latex": [
       "$$ \\begin{align}\n",
       "\\mathtt{b{_0}} &= 0 \\\\\n",
       "\\mathtt{b{_0}} + \\mathtt{b{_1}} &= 0 \\\\\n",
       "\\mathtt{b{_0}} + \\mathtt{b{_2}} &= 1 \\\\\n",
       "\\mathtt{b{_0}} + \\mathtt{b{_1}} + \\mathtt{b{_2}} + \\mathtt{b{_3}} &= 1 + \\mathtt{\\gamma{_2}}\n",
       "\\end{align}\n",
       " $$"
      ],
      "text/plain": [
       "4-element Vector{Equation}:\n",
       " b₀ ~ 0\n",
       " b₀ + b₁ ~ 0\n",
       " b₀ + b₂ ~ 1\n",
       " b₀ + b₁ + b₂ + b₃ ~ 1 + γ₂"
      ]
     },
     "metadata": {},
     "output_type": "display_data"
    }
   ],
   "source": [
    "EqVec2 = [eq2[1]~0, eq2[2]~0, eq2[3]~1, eq2[4]~1+γ₂]"
   ]
  },
  {
   "cell_type": "code",
   "execution_count": 34,
   "id": "cf22f869",
   "metadata": {},
   "outputs": [
    {
     "data": {
      "text/plain": [
       "4-element Vector{Any}:\n",
       " -0.0\n",
       " -0.0\n",
       "  1.0\n",
       "   γ₂"
      ]
     },
     "metadata": {},
     "output_type": "display_data"
    }
   ],
   "source": [
    "bVecVal = Symbolics.solve_for(EqVec2,[b₀, b₁, b₂, b₃])"
   ]
  },
  {
   "cell_type": "code",
   "execution_count": 35,
   "id": "fedc5de4",
   "metadata": {},
   "outputs": [
    {
     "data": {
      "text/latex": [
       "$$ \\begin{equation}\n",
       "\\mathtt{x{_2}} + \\mathtt{x{_1}} \\mathtt{x{_2}} \\mathtt{\\gamma{_2}}\n",
       "\\end{equation}\n",
       " $$"
      ],
      "text/plain": [
       "x₂ + x₁*x₂*γ₂"
      ]
     },
     "metadata": {},
     "output_type": "display_data"
    }
   ],
   "source": [
    "y₂ = bVecVal[1] + bVecVal[2]*x₁ + bVecVal[3]*x₂ + bVecVal[4]*x₁*x₂"
   ]
  },
  {
   "cell_type": "code",
   "execution_count": 40,
   "id": "0a16d022",
   "metadata": {},
   "outputs": [
    {
     "data": {
      "text/latex": [
       "$$ \\begin{equation}\n",
       "\\left[\n",
       "\\begin{array}{c}\n",
       "\\mathtt{x{_1}} + \\mathtt{x{_1}} \\mathtt{x{_2}} \\mathtt{\\gamma{_1}} \\\\\n",
       "\\mathtt{x{_2}} + \\mathtt{x{_1}} \\mathtt{x{_2}} \\mathtt{\\gamma{_2}} \\\\\n",
       "\\end{array}\n",
       "\\right]\n",
       "\\end{equation}\n",
       " $$"
      ],
      "text/plain": [
       "2-element Vector{Num}:\n",
       " x₁ + x₁*x₂*γ₁\n",
       " x₂ + x₁*x₂*γ₂"
      ]
     },
     "metadata": {},
     "output_type": "display_data"
    }
   ],
   "source": [
    "χ = ([y₁, y₂])"
   ]
  },
  {
   "cell_type": "code",
   "execution_count": null,
   "id": "eafb49ae",
   "metadata": {},
   "outputs": [],
   "source": []
  }
 ],
 "metadata": {
  "kernelspec": {
   "display_name": "Julia 1.11.6",
   "language": "julia",
   "name": "julia-1.11"
  },
  "language_info": {
   "file_extension": ".jl",
   "mimetype": "application/julia",
   "name": "julia",
   "version": "1.11.6"
  }
 },
 "nbformat": 4,
 "nbformat_minor": 5
}
