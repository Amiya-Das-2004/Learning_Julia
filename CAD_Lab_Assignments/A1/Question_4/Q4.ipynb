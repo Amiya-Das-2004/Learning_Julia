{
 "cells": [
  {
   "cell_type": "markdown",
   "id": "b0c585a3",
   "metadata": {},
   "source": []
  },
  {
   "cell_type": "code",
   "execution_count": null,
   "id": "213407dd",
   "metadata": {
    "vscode": {
     "languageId": "plaintext"
    }
   },
   "outputs": [],
   "source": [
    "using Plots\n",
    "\n",
    "# Function to compute reactions, shear and moment for given l and q\n",
    "function beam_solution(l, q)\n",
    "    # Total length\n",
    "    L = 1.245 * l\n",
    "\n",
    "    # Reactions (from static equilibrium)\n",
    "    W = q * L\n",
    "    R_B = q * 0.775 * l\n",
    "    R_A = W - R_B\n",
    "\n",
    "    # Shear force function V(x)\n",
    "    function V(x)\n",
    "        if 0 <= x <= l\n",
    "            return R_A - q * x\n",
    "        elseif l < x <= L\n",
    "            return R_A - q * x + R_B\n",
    "        else\n",
    "            error(\"x out of beam range\")\n",
    "        end\n",
    "    end\n",
    "\n",
    "    # Bending moment function M(x)\n",
    "    function M(x)\n",
    "        if 0 <= x <= l\n",
    "            return R_A * x - q * x^2 / 2\n",
    "        elseif l < x <= L\n",
    "            return R_A * x - q * x^2 / 2 - R_B * (x - l)\n",
    "        else\n",
    "            error(\"x out of beam range\")\n",
    "        end\n",
    "    end\n",
    "\n",
    "    return R_A, R_B, V, M, L\n",
    "end\n",
    "\n",
    "# Parameters (you can change these!)\n",
    "l = 10.0   # length between supports in meters\n",
    "q = 5.0    # UDL in kN/m\n",
    "\n",
    "# Get beam results\n",
    "R_A, R_B, V, M, L = beam_solution(l, q)\n",
    "\n",
    "# Prepare points along the beam for plotting\n",
    "xs = range(0, stop=L, length=500)\n",
    "Vs = [V(x) for x in xs]\n",
    "Ms = [M(x) for x in xs]\n",
    "\n",
    "# Plot Shear Force Diagram (SFD)\n",
    "p1 = plot(xs, Vs,\n",
    "    xlabel=\"Length along beam (m)\",\n",
    "    ylabel=\"Shear Force V(x) (kN)\",\n",
    "    title=\"Shear Force Diagram\",\n",
    "    legend=false,\n",
    "    lw=2,\n",
    "    grid=true)\n",
    "\n",
    "# Plot Bending Moment Diagram (BMD)\n",
    "p2 = plot(xs, Ms,\n",
    "    xlabel=\"Length along beam (m)\",\n",
    "    ylabel=\"Bending Moment M(x) (kN·m)\",\n",
    "    title=\"Bending Moment Diagram\",\n",
    "    legend=false,\n",
    "    lw=2,\n",
    "    grid=true)\n",
    "\n",
    "# Show both plots vertically stacked\n",
    "plot(p1, p2, layout=(2,1), size=(800,600))\n"
   ]
  }
 ],
 "metadata": {
  "language_info": {
   "name": "python"
  }
 },
 "nbformat": 4,
 "nbformat_minor": 5
}
