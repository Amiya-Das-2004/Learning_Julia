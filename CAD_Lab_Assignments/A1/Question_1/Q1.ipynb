{
 "cells": [
  {
   "cell_type": "code",
   "execution_count": 8,
   "id": "616451e3",
   "metadata": {},
   "outputs": [
    {
     "data": {
      "text/plain": [
       "\"c:\\\\Users\\\\IIT BBSR\\\\Desktop\\\\Amiya\\\\CA_Lab_Assignments\\\\A1\\\\Question_1\\\\contour(a).png\""
      ]
     },
     "metadata": {},
     "output_type": "display_data"
    }
   ],
   "source": [
    "using Plots\n",
    "using LaTeXStrings\n",
    "using Symbolics\n",
    "\n",
    "# Plots.GRBackend()\n",
    "gr()\n",
    "\n",
    "# Initializing the equation\n",
    "h(x,y) = 200 - (x^2) - (2*(y^2))\n",
    "h(v) = h(v...)\n",
    "\n",
    "# Data range\n",
    "x = -15:0.1:15\n",
    "y = -15:0.1:15;\n",
    "\n",
    "# Data value for the Plot\n",
    "z = [h(xi, yi) for yi in y, xi in x];\n",
    "\n",
    "# Surface plot\n",
    "S = surface(x, y, z, \n",
    "    xlabel=\"x\", ylabel=\"y\", zlabel=\"h(x,y)\",\n",
    "    title=L\"3D\\ Surface:\\ h(x,y) = 200 - x^2 - 2y^2\",\n",
    "    color=:viridis)\n",
    "\n",
    "# Contour plot\n",
    "C = contour(x, y, z,\n",
    "    xlabel=\"x\", ylabel=\"y\",\n",
    "    title=L\"2D Contour Plot of h(x,y)\",\n",
    "    color=:viridis)\n",
    "\n",
    "# Saving as png\n",
    "savefig(S, \"surface(a).png\")\n",
    "savefig(C, \"contour(a).png\")\n"
   ]
  },
  {
   "cell_type": "code",
   "execution_count": 9,
   "id": "015a7136",
   "metadata": {},
   "outputs": [
    {
     "data": {
      "text/plain": [
       "\"c:\\\\Users\\\\IIT BBSR\\\\Desktop\\\\Amiya\\\\CA_Lab_Assignments\\\\A1\\\\Question_1\\\\Field(b).png\""
      ]
     },
     "metadata": {},
     "output_type": "display_data"
    }
   ],
   "source": [
    "using Plots\n",
    "using LaTeXStrings\n",
    "using Symbolics\n",
    "using CalculusWithJulia\n",
    "\n",
    "# Plots.GRBackend()\n",
    "gr()\n",
    "\n",
    "# Initializing the equation\n",
    "h(x,y) = 200 - (x^2) - (2*(y^2))\n",
    "h(v) = h(v...)\n",
    "\n",
    "# Automatic gradient calculation\n",
    "vs = gradient(h).(ps)\n",
    "\n",
    "# Defining the points\n",
    "xs = -10:2:10\n",
    "ys = -10:2:10\n",
    "ps = [[x,y] for x in xs for y in ys];  \n",
    "\n",
    "# Calculating the Gradient vector\n",
    "vs = gradient_h.(ps)\n",
    "\n",
    "# scaling down the vector\n",
    "λ =0.045\n",
    "vx, vy = unzip(vs)\n",
    "vx_scaled = λ .* vx\n",
    "vy_scaled = λ .* vy\n",
    "\n",
    "# Plotting the vector field\n",
    "Qb = quiver(unzip(ps)..., quiver=(vx_scaled, vy_scaled),\n",
    "        xlabel=\"x\", ylabel=\"y\",\n",
    "        title=\"Gradient Of Scalar Field\")\n",
    "\n",
    "savefig(Qb, \"Field(b).png\")"
   ]
  },
  {
   "cell_type": "code",
   "execution_count": 10,
   "id": "876ffccf",
   "metadata": {},
   "outputs": [
    {
     "data": {
      "text/plain": [
       "\"c:\\\\Users\\\\IIT BBSR\\\\Desktop\\\\Amiya\\\\CA_Lab_Assignments\\\\A1\\\\Question_1\\\\Field(c).png\""
      ]
     },
     "metadata": {},
     "output_type": "display_data"
    }
   ],
   "source": [
    "using Plots\n",
    "using LaTeXStrings\n",
    "using Symbolics\n",
    "using CalculusWithJulia\n",
    "\n",
    "# Plots.GRBackend()\n",
    "gr()\n",
    "\n",
    "# Initializing the equation\n",
    "h(x,y) = 200 - (x^2) - (2*(y^2))\n",
    "h(v) = h(v...)\n",
    "\n",
    "# Manually estimating the gradient function\n",
    "gradient_h(x,y) = (-2x,-4y)\n",
    "gradient_h(v) = gradient_h(v...)\n",
    "\n",
    "# Defining the points\n",
    "xs = -10:2:10\n",
    "ys = -10:2:10\n",
    "ps = [[x,y] for x in xs for y in ys];  \n",
    "\n",
    "# Calculating the Gradient vector\n",
    "vs = gradient_h.(ps)\n",
    "\n",
    "# scaling down the vector\n",
    "λ =0.045\n",
    "vx, vy = unzip(vs)\n",
    "vx_scaled = λ .* vx\n",
    "vy_scaled = λ .* vy\n",
    "\n",
    "# Plotting the vector field\n",
    "Qc = quiver(unzip(ps)..., quiver=(vx_scaled, vy_scaled),\n",
    "        xlabel=\"x\", ylabel=\"y\",\n",
    "        title=\"Gradient Vector Field\")\n",
    "\n",
    "savefig(Qc, \"Field(c).png\")"
   ]
  }
 ],
 "metadata": {
  "kernelspec": {
   "display_name": "Julia 1.11.6",
   "language": "julia",
   "name": "julia-1.11"
  },
  "language_info": {
   "file_extension": ".jl",
   "mimetype": "application/julia",
   "name": "julia",
   "version": "1.11.6"
  }
 },
 "nbformat": 4,
 "nbformat_minor": 5
}
